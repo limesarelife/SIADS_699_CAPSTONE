{
 "cells": [
  {
   "cell_type": "code",
   "execution_count": 15,
   "id": "6135557f",
   "metadata": {},
   "outputs": [],
   "source": [
    "import pandas as pd\n",
    "import numpy as np\n",
    "import matplotlib.pyplot as plt\n",
    "from wordcloud import WordCloud, STOPWORDS\n",
    "import seaborn as sns\n",
    "from matplotlib import pyplot as plt\n",
    "import plotly.express as px"
   ]
  },
  {
   "cell_type": "code",
   "execution_count": 16,
   "id": "b0c30081",
   "metadata": {},
   "outputs": [],
   "source": [
    "pd.set_option('display.max_rows', None)"
   ]
  },
  {
   "cell_type": "code",
   "execution_count": 17,
   "id": "1e8fdaf8",
   "metadata": {},
   "outputs": [],
   "source": [
    "final_villagers= pd.read_csv('villagers_acnh_votes_combined.csv')"
   ]
  },
  {
   "cell_type": "code",
   "execution_count": 18,
   "id": "19f799e4",
   "metadata": {},
   "outputs": [
    {
     "data": {
      "text/html": [
       "<div>\n",
       "<style scoped>\n",
       "    .dataframe tbody tr th:only-of-type {\n",
       "        vertical-align: middle;\n",
       "    }\n",
       "\n",
       "    .dataframe tbody tr th {\n",
       "        vertical-align: top;\n",
       "    }\n",
       "\n",
       "    .dataframe thead th {\n",
       "        text-align: right;\n",
       "    }\n",
       "</style>\n",
       "<table border=\"1\" class=\"dataframe\">\n",
       "  <thead>\n",
       "    <tr style=\"text-align: right;\">\n",
       "      <th></th>\n",
       "      <th>Name</th>\n",
       "      <th>Species</th>\n",
       "      <th>Gender</th>\n",
       "      <th>Personality</th>\n",
       "      <th>Hobby</th>\n",
       "      <th>Birthday</th>\n",
       "      <th>Catchphrase</th>\n",
       "      <th>Favorite Song</th>\n",
       "      <th>Style 1</th>\n",
       "      <th>Style 2</th>\n",
       "      <th>Color 1</th>\n",
       "      <th>Color 2</th>\n",
       "      <th>Wallpaper</th>\n",
       "      <th>Flooring</th>\n",
       "      <th>Furniture List</th>\n",
       "      <th>Filename</th>\n",
       "      <th>Unique Entry ID</th>\n",
       "      <th>Total_Google_Searches</th>\n",
       "      <th>Poll_Results</th>\n",
       "      <th>Overall_Popularity</th>\n",
       "    </tr>\n",
       "  </thead>\n",
       "  <tbody>\n",
       "    <tr>\n",
       "      <th>0</th>\n",
       "      <td>Admiral</td>\n",
       "      <td>Bird</td>\n",
       "      <td>Male</td>\n",
       "      <td>Cranky</td>\n",
       "      <td>Nature</td>\n",
       "      <td>27-Jan</td>\n",
       "      <td>aye aye</td>\n",
       "      <td>Steep Hill</td>\n",
       "      <td>Cool</td>\n",
       "      <td>Cool</td>\n",
       "      <td>Black</td>\n",
       "      <td>Blue</td>\n",
       "      <td>dirt-clod wall</td>\n",
       "      <td>tatami</td>\n",
       "      <td>717;1849;7047;2736;787;5970;3449;3622;3802;410...</td>\n",
       "      <td>brd06</td>\n",
       "      <td>B3RyfNEqwGmcccRC3</td>\n",
       "      <td>2417200.0</td>\n",
       "      <td>632.0</td>\n",
       "      <td>2417832.0</td>\n",
       "    </tr>\n",
       "    <tr>\n",
       "      <th>1</th>\n",
       "      <td>Agent S</td>\n",
       "      <td>Squirrel</td>\n",
       "      <td>Female</td>\n",
       "      <td>Peppy</td>\n",
       "      <td>Fitness</td>\n",
       "      <td>2-Jul</td>\n",
       "      <td>sidekick</td>\n",
       "      <td>Go K.K. Rider</td>\n",
       "      <td>Active</td>\n",
       "      <td>Simple</td>\n",
       "      <td>Blue</td>\n",
       "      <td>Black</td>\n",
       "      <td>concrete wall</td>\n",
       "      <td>colorful tile flooring</td>\n",
       "      <td>7845;7150;3468;4080;290;3971;3449;1708;4756;25...</td>\n",
       "      <td>squ05</td>\n",
       "      <td>SGMdki6dzpDZyXAw5</td>\n",
       "      <td>2664010.0</td>\n",
       "      <td>1225.0</td>\n",
       "      <td>2665235.0</td>\n",
       "    </tr>\n",
       "    <tr>\n",
       "      <th>2</th>\n",
       "      <td>Agnes</td>\n",
       "      <td>Pig</td>\n",
       "      <td>Female</td>\n",
       "      <td>Big Sister</td>\n",
       "      <td>Play</td>\n",
       "      <td>21-Apr</td>\n",
       "      <td>snuffle</td>\n",
       "      <td>K.K. House</td>\n",
       "      <td>Simple</td>\n",
       "      <td>Elegant</td>\n",
       "      <td>Pink</td>\n",
       "      <td>White</td>\n",
       "      <td>gray molded-panel wall</td>\n",
       "      <td>arabesque flooring</td>\n",
       "      <td>4129;7236;7235;7802;896;3428;4027;7325;3958;71...</td>\n",
       "      <td>pig17</td>\n",
       "      <td>jzWCiDPm9MqtCfecP</td>\n",
       "      <td>4731450.0</td>\n",
       "      <td>2535.0</td>\n",
       "      <td>4733985.0</td>\n",
       "    </tr>\n",
       "    <tr>\n",
       "      <th>3</th>\n",
       "      <td>Al</td>\n",
       "      <td>Gorilla</td>\n",
       "      <td>Male</td>\n",
       "      <td>Lazy</td>\n",
       "      <td>Fitness</td>\n",
       "      <td>18-Oct</td>\n",
       "      <td>ayyyeee</td>\n",
       "      <td>Go K.K. Rider</td>\n",
       "      <td>Active</td>\n",
       "      <td>Active</td>\n",
       "      <td>Red</td>\n",
       "      <td>White</td>\n",
       "      <td>concrete wall</td>\n",
       "      <td>green rubber flooring</td>\n",
       "      <td>1452;4078;4013;833;4116;3697;7845;3307;3946;39...</td>\n",
       "      <td>gor08</td>\n",
       "      <td>LBifxETQJGEaLhBjC</td>\n",
       "      <td>1618750.0</td>\n",
       "      <td>600.0</td>\n",
       "      <td>1619350.0</td>\n",
       "    </tr>\n",
       "    <tr>\n",
       "      <th>4</th>\n",
       "      <td>Alfonso</td>\n",
       "      <td>Alligator</td>\n",
       "      <td>Male</td>\n",
       "      <td>Lazy</td>\n",
       "      <td>Play</td>\n",
       "      <td>9-Jun</td>\n",
       "      <td>it'sa me</td>\n",
       "      <td>Forest Life</td>\n",
       "      <td>Simple</td>\n",
       "      <td>Simple</td>\n",
       "      <td>Red</td>\n",
       "      <td>Blue</td>\n",
       "      <td>yellow playroom wall</td>\n",
       "      <td>green honeycomb tile</td>\n",
       "      <td>4763;3205;3701;1557;3623;85;3208;3584;4761;121...</td>\n",
       "      <td>crd00</td>\n",
       "      <td>REpd8KxB8p9aGBRSE</td>\n",
       "      <td>913600.0</td>\n",
       "      <td>1230.0</td>\n",
       "      <td>914830.0</td>\n",
       "    </tr>\n",
       "  </tbody>\n",
       "</table>\n",
       "</div>"
      ],
      "text/plain": [
       "      Name    Species  Gender Personality    Hobby Birthday Catchphrase  \\\n",
       "0  Admiral       Bird    Male      Cranky   Nature   27-Jan     aye aye   \n",
       "1  Agent S   Squirrel  Female       Peppy  Fitness    2-Jul    sidekick   \n",
       "2    Agnes        Pig  Female  Big Sister     Play   21-Apr     snuffle   \n",
       "3       Al    Gorilla    Male        Lazy  Fitness   18-Oct     ayyyeee   \n",
       "4  Alfonso  Alligator    Male        Lazy     Play    9-Jun    it'sa me   \n",
       "\n",
       "   Favorite Song Style 1  Style 2 Color 1 Color 2               Wallpaper  \\\n",
       "0     Steep Hill    Cool     Cool   Black    Blue          dirt-clod wall   \n",
       "1  Go K.K. Rider  Active   Simple    Blue   Black           concrete wall   \n",
       "2     K.K. House  Simple  Elegant    Pink   White  gray molded-panel wall   \n",
       "3  Go K.K. Rider  Active   Active     Red   White           concrete wall   \n",
       "4    Forest Life  Simple   Simple     Red    Blue    yellow playroom wall   \n",
       "\n",
       "                 Flooring                                     Furniture List  \\\n",
       "0                  tatami  717;1849;7047;2736;787;5970;3449;3622;3802;410...   \n",
       "1  colorful tile flooring  7845;7150;3468;4080;290;3971;3449;1708;4756;25...   \n",
       "2      arabesque flooring  4129;7236;7235;7802;896;3428;4027;7325;3958;71...   \n",
       "3   green rubber flooring  1452;4078;4013;833;4116;3697;7845;3307;3946;39...   \n",
       "4    green honeycomb tile  4763;3205;3701;1557;3623;85;3208;3584;4761;121...   \n",
       "\n",
       "  Filename    Unique Entry ID  Total_Google_Searches  Poll_Results  \\\n",
       "0    brd06  B3RyfNEqwGmcccRC3              2417200.0         632.0   \n",
       "1    squ05  SGMdki6dzpDZyXAw5              2664010.0        1225.0   \n",
       "2    pig17  jzWCiDPm9MqtCfecP              4731450.0        2535.0   \n",
       "3    gor08  LBifxETQJGEaLhBjC              1618750.0         600.0   \n",
       "4    crd00  REpd8KxB8p9aGBRSE               913600.0        1230.0   \n",
       "\n",
       "   Overall_Popularity  \n",
       "0           2417832.0  \n",
       "1           2665235.0  \n",
       "2           4733985.0  \n",
       "3           1619350.0  \n",
       "4            914830.0  "
      ]
     },
     "execution_count": 18,
     "metadata": {},
     "output_type": "execute_result"
    }
   ],
   "source": [
    "final_villagers.head()"
   ]
  },
  {
   "cell_type": "code",
   "execution_count": 19,
   "id": "9ac71195",
   "metadata": {},
   "outputs": [
    {
     "data": {
      "text/plain": [
       "array(['Cranky', 'Peppy', 'Big Sister', 'Lazy', 'Normal', 'Snooty',\n",
       "       'Jock', 'Smug'], dtype=object)"
      ]
     },
     "execution_count": 19,
     "metadata": {},
     "output_type": "execute_result"
    }
   ],
   "source": [
    "final_villagers.Personality.unique()"
   ]
  },
  {
   "cell_type": "code",
   "execution_count": 8,
   "id": "e0a0bef5",
   "metadata": {},
   "outputs": [],
   "source": [
    "gender_personality = final_villagers.groupby(['Gender','Personality']).size().reset_index(name = 'count')"
   ]
  },
  {
   "cell_type": "code",
   "execution_count": 20,
   "id": "13a7735f",
   "metadata": {},
   "outputs": [
    {
     "data": {
      "text/html": [
       "<div>\n",
       "<style scoped>\n",
       "    .dataframe tbody tr th:only-of-type {\n",
       "        vertical-align: middle;\n",
       "    }\n",
       "\n",
       "    .dataframe tbody tr th {\n",
       "        vertical-align: top;\n",
       "    }\n",
       "\n",
       "    .dataframe thead th {\n",
       "        text-align: right;\n",
       "    }\n",
       "</style>\n",
       "<table border=\"1\" class=\"dataframe\">\n",
       "  <thead>\n",
       "    <tr style=\"text-align: right;\">\n",
       "      <th></th>\n",
       "      <th>Gender</th>\n",
       "      <th>Personality</th>\n",
       "      <th>count</th>\n",
       "    </tr>\n",
       "  </thead>\n",
       "  <tbody>\n",
       "    <tr>\n",
       "      <th>0</th>\n",
       "      <td>Female</td>\n",
       "      <td>Big Sister</td>\n",
       "      <td>24</td>\n",
       "    </tr>\n",
       "    <tr>\n",
       "      <th>1</th>\n",
       "      <td>Female</td>\n",
       "      <td>Normal</td>\n",
       "      <td>59</td>\n",
       "    </tr>\n",
       "    <tr>\n",
       "      <th>2</th>\n",
       "      <td>Female</td>\n",
       "      <td>Peppy</td>\n",
       "      <td>49</td>\n",
       "    </tr>\n",
       "    <tr>\n",
       "      <th>3</th>\n",
       "      <td>Female</td>\n",
       "      <td>Snooty</td>\n",
       "      <td>55</td>\n",
       "    </tr>\n",
       "    <tr>\n",
       "      <th>4</th>\n",
       "      <td>Male</td>\n",
       "      <td>Cranky</td>\n",
       "      <td>55</td>\n",
       "    </tr>\n",
       "    <tr>\n",
       "      <th>5</th>\n",
       "      <td>Male</td>\n",
       "      <td>Jock</td>\n",
       "      <td>55</td>\n",
       "    </tr>\n",
       "    <tr>\n",
       "      <th>6</th>\n",
       "      <td>Male</td>\n",
       "      <td>Lazy</td>\n",
       "      <td>60</td>\n",
       "    </tr>\n",
       "    <tr>\n",
       "      <th>7</th>\n",
       "      <td>Male</td>\n",
       "      <td>Smug</td>\n",
       "      <td>34</td>\n",
       "    </tr>\n",
       "  </tbody>\n",
       "</table>\n",
       "</div>"
      ],
      "text/plain": [
       "   Gender Personality  count\n",
       "0  Female  Big Sister     24\n",
       "1  Female      Normal     59\n",
       "2  Female       Peppy     49\n",
       "3  Female      Snooty     55\n",
       "4    Male      Cranky     55\n",
       "5    Male        Jock     55\n",
       "6    Male        Lazy     60\n",
       "7    Male        Smug     34"
      ]
     },
     "execution_count": 20,
     "metadata": {},
     "output_type": "execute_result"
    }
   ],
   "source": [
    "gender_personality"
   ]
  },
  {
   "cell_type": "code",
   "execution_count": 21,
   "id": "b6d7a5c7",
   "metadata": {},
   "outputs": [],
   "source": [
    "#Word Cloud for popular personality traits:\n",
    "#Gender variable [nominal variable as color of word]\n",
    "#Personality trait variable [as quantitative sum + size of word]\n"
   ]
  },
  {
   "cell_type": "code",
   "execution_count": 23,
   "id": "d2ab1426",
   "metadata": {},
   "outputs": [
    {
     "data": {
      "image/png": "[encoded data removed]",
      "text/plain": [
       "<Figure size 432x288 with 1 Axes>"
      ]
     },
     "metadata": {
      "needs_background": "light"
     },
     "output_type": "display_data"
    }
   ],
   "source": [
    "text = final_villagers['Personality'].values \n",
    "\n",
    "wordcloud = WordCloud().generate(str(text))\n",
    "\n",
    "plt.imshow(wordcloud)\n",
    "plt.axis(\"off\")\n",
    "plt.show()"
   ]
  },
  {
   "cell_type": "code",
   "execution_count": 24,
   "id": "3f3d4280",
   "metadata": {},
   "outputs": [
    {
     "data": {
      "image/png": "[encoded data removed]",
      "text/plain": [
       "<Figure size 432x288 with 1 Axes>"
      ]
     },
     "metadata": {
      "needs_background": "light"
     },
     "output_type": "display_data"
    }
   ],
   "source": [
    "text2 = final_villagers['Catchphrase'].values \n",
    "\n",
    "wordcloud = WordCloud().generate(str(text2))\n",
    "\n",
    "plt.imshow(wordcloud)\n",
    "plt.axis(\"off\")\n",
    "plt.show()"
   ]
  },
  {
   "cell_type": "code",
   "execution_count": 25,
   "id": "2a2d98f4",
   "metadata": {},
   "outputs": [],
   "source": [
    "top15overall=final_villagers.sort_values(by =['Overall_Popularity'], ascending = False)[0:14]"
   ]
  },
  {
   "cell_type": "code",
   "execution_count": 26,
   "id": "f01ce6e4",
   "metadata": {},
   "outputs": [
    {
     "data": {
      "text/html": [
       "<div>\n",
       "<style scoped>\n",
       "    .dataframe tbody tr th:only-of-type {\n",
       "        vertical-align: middle;\n",
       "    }\n",
       "\n",
       "    .dataframe tbody tr th {\n",
       "        vertical-align: top;\n",
       "    }\n",
       "\n",
       "    .dataframe thead th {\n",
       "        text-align: right;\n",
       "    }\n",
       "</style>\n",
       "<table border=\"1\" class=\"dataframe\">\n",
       "  <thead>\n",
       "    <tr style=\"text-align: right;\">\n",
       "      <th></th>\n",
       "      <th>Name</th>\n",
       "      <th>Species</th>\n",
       "      <th>Gender</th>\n",
       "      <th>Personality</th>\n",
       "      <th>Hobby</th>\n",
       "      <th>Birthday</th>\n",
       "      <th>Catchphrase</th>\n",
       "      <th>Favorite Song</th>\n",
       "      <th>Style 1</th>\n",
       "      <th>Style 2</th>\n",
       "      <th>Color 1</th>\n",
       "      <th>Color 2</th>\n",
       "      <th>Wallpaper</th>\n",
       "      <th>Flooring</th>\n",
       "      <th>Furniture List</th>\n",
       "      <th>Filename</th>\n",
       "      <th>Unique Entry ID</th>\n",
       "      <th>Total_Google_Searches</th>\n",
       "      <th>Poll_Results</th>\n",
       "      <th>Overall_Popularity</th>\n",
       "    </tr>\n",
       "  </thead>\n",
       "  <tbody>\n",
       "    <tr>\n",
       "      <th>87</th>\n",
       "      <td>Clay</td>\n",
       "      <td>Hamster</td>\n",
       "      <td>Male</td>\n",
       "      <td>Lazy</td>\n",
       "      <td>Nature</td>\n",
       "      <td>19-Oct</td>\n",
       "      <td>thump</td>\n",
       "      <td>K.K. Safari</td>\n",
       "      <td>Elegant</td>\n",
       "      <td>Simple</td>\n",
       "      <td>Beige</td>\n",
       "      <td>Brown</td>\n",
       "      <td>dig-site wall</td>\n",
       "      <td>dig-site flooring</td>\n",
       "      <td>3675;343;343;1430;295;3398;303;4073;7393;3398;...</td>\n",
       "      <td>ham05</td>\n",
       "      <td>K9s2bvx54sfHw8mZ8</td>\n",
       "      <td>19218150.0</td>\n",
       "      <td>3425.0</td>\n",
       "      <td>19221575.0</td>\n",
       "    </tr>\n",
       "    <tr>\n",
       "      <th>256</th>\n",
       "      <td>Olive</td>\n",
       "      <td>Cub</td>\n",
       "      <td>Female</td>\n",
       "      <td>Normal</td>\n",
       "      <td>Nature</td>\n",
       "      <td>12-Jul</td>\n",
       "      <td>sweet pea</td>\n",
       "      <td>Neapolitan</td>\n",
       "      <td>Simple</td>\n",
       "      <td>Simple</td>\n",
       "      <td>Brown</td>\n",
       "      <td>Yellow</td>\n",
       "      <td>white simple-cloth wall</td>\n",
       "      <td>mint dot flooring</td>\n",
       "      <td>2605;4125;3490;1783;7134;3584;8826;7329;3438;2...</td>\n",
       "      <td>cbr09</td>\n",
       "      <td>7ZynzrsbeH5fMqvLu</td>\n",
       "      <td>12937100.0</td>\n",
       "      <td>751.0</td>\n",
       "      <td>12937851.0</td>\n",
       "    </tr>\n",
       "    <tr>\n",
       "      <th>12</th>\n",
       "      <td>Ankha</td>\n",
       "      <td>Cat</td>\n",
       "      <td>Female</td>\n",
       "      <td>Snooty</td>\n",
       "      <td>Nature</td>\n",
       "      <td>22-Sep</td>\n",
       "      <td>me meow</td>\n",
       "      <td>K.K. Bazaar</td>\n",
       "      <td>Gorgeous</td>\n",
       "      <td>Simple</td>\n",
       "      <td>Colorful</td>\n",
       "      <td>Brown</td>\n",
       "      <td>ancient wall</td>\n",
       "      <td>pyramid tile</td>\n",
       "      <td>3472;8608;5165;8825;3774;8825;8825;3065;3810</td>\n",
       "      <td>cat19</td>\n",
       "      <td>AWdRRws22EGTxC7vc</td>\n",
       "      <td>7264000.0</td>\n",
       "      <td>13038.0</td>\n",
       "      <td>7277038.0</td>\n",
       "    </tr>\n",
       "    <tr>\n",
       "      <th>121</th>\n",
       "      <td>Drift</td>\n",
       "      <td>Frog</td>\n",
       "      <td>Male</td>\n",
       "      <td>Jock</td>\n",
       "      <td>Fitness</td>\n",
       "      <td>9-Oct</td>\n",
       "      <td>dribbit</td>\n",
       "      <td>K.K. Metal</td>\n",
       "      <td>Simple</td>\n",
       "      <td>Active</td>\n",
       "      <td>Orange</td>\n",
       "      <td>Red</td>\n",
       "      <td>gray shanty wall</td>\n",
       "      <td>skull-print flooring</td>\n",
       "      <td>941;3563;8417;3943;3200;3194;3196;132;4757;1288</td>\n",
       "      <td>flg04</td>\n",
       "      <td>gf6jM4si5zSEFjf9w</td>\n",
       "      <td>6695950.0</td>\n",
       "      <td>525.0</td>\n",
       "      <td>6696475.0</td>\n",
       "    </tr>\n",
       "    <tr>\n",
       "      <th>309</th>\n",
       "      <td>Rocket</td>\n",
       "      <td>Gorilla</td>\n",
       "      <td>Female</td>\n",
       "      <td>Big Sister</td>\n",
       "      <td>Fitness</td>\n",
       "      <td>14-Apr</td>\n",
       "      <td>vroom</td>\n",
       "      <td>K.K. Adventure</td>\n",
       "      <td>Active</td>\n",
       "      <td>Cool</td>\n",
       "      <td>Pink</td>\n",
       "      <td>Red</td>\n",
       "      <td>skyscraper wall</td>\n",
       "      <td>monochromatic tile flooring</td>\n",
       "      <td>7845;4013;7348;7348;7235;1241;1598;7133;7535;7...</td>\n",
       "      <td>gor09</td>\n",
       "      <td>eJNBB5SYzfj5DaWjx</td>\n",
       "      <td>6068350.0</td>\n",
       "      <td>329.0</td>\n",
       "      <td>6068679.0</td>\n",
       "    </tr>\n",
       "  </tbody>\n",
       "</table>\n",
       "</div>"
      ],
      "text/plain": [
       "       Name  Species  Gender Personality    Hobby Birthday Catchphrase  \\\n",
       "87     Clay  Hamster    Male        Lazy   Nature   19-Oct       thump   \n",
       "256   Olive      Cub  Female      Normal   Nature   12-Jul   sweet pea   \n",
       "12    Ankha      Cat  Female      Snooty   Nature   22-Sep     me meow   \n",
       "121   Drift     Frog    Male        Jock  Fitness    9-Oct     dribbit   \n",
       "309  Rocket  Gorilla  Female  Big Sister  Fitness   14-Apr       vroom   \n",
       "\n",
       "      Favorite Song   Style 1 Style 2   Color 1 Color 2  \\\n",
       "87      K.K. Safari   Elegant  Simple     Beige   Brown   \n",
       "256      Neapolitan    Simple  Simple     Brown  Yellow   \n",
       "12      K.K. Bazaar  Gorgeous  Simple  Colorful   Brown   \n",
       "121      K.K. Metal    Simple  Active    Orange     Red   \n",
       "309  K.K. Adventure    Active    Cool      Pink     Red   \n",
       "\n",
       "                   Wallpaper                     Flooring  \\\n",
       "87             dig-site wall            dig-site flooring   \n",
       "256  white simple-cloth wall            mint dot flooring   \n",
       "12              ancient wall                 pyramid tile   \n",
       "121         gray shanty wall         skull-print flooring   \n",
       "309          skyscraper wall  monochromatic tile flooring   \n",
       "\n",
       "                                        Furniture List Filename  \\\n",
       "87   3675;343;343;1430;295;3398;303;4073;7393;3398;...    ham05   \n",
       "256  2605;4125;3490;1783;7134;3584;8826;7329;3438;2...    cbr09   \n",
       "12        3472;8608;5165;8825;3774;8825;8825;3065;3810    cat19   \n",
       "121    941;3563;8417;3943;3200;3194;3196;132;4757;1288    flg04   \n",
       "309  7845;4013;7348;7348;7235;1241;1598;7133;7535;7...    gor09   \n",
       "\n",
       "       Unique Entry ID  Total_Google_Searches  Poll_Results  \\\n",
       "87   K9s2bvx54sfHw8mZ8             19218150.0        3425.0   \n",
       "256  7ZynzrsbeH5fMqvLu             12937100.0         751.0   \n",
       "12   AWdRRws22EGTxC7vc              7264000.0       13038.0   \n",
       "121  gf6jM4si5zSEFjf9w              6695950.0         525.0   \n",
       "309  eJNBB5SYzfj5DaWjx              6068350.0         329.0   \n",
       "\n",
       "     Overall_Popularity  \n",
       "87           19221575.0  \n",
       "256          12937851.0  \n",
       "12            7277038.0  \n",
       "121           6696475.0  \n",
       "309           6068679.0  "
      ]
     },
     "execution_count": 26,
     "metadata": {},
     "output_type": "execute_result"
    }
   ],
   "source": [
    "top15overall.head()"
   ]
  },
  {
   "cell_type": "code",
   "execution_count": 27,
   "id": "57c1cd50",
   "metadata": {},
   "outputs": [],
   "source": [
    "top15ACPPoll=final_villagers.sort_values(by =['Poll_Results'], ascending = False)[0:14]"
   ]
  },
  {
   "cell_type": "code",
   "execution_count": 28,
   "id": "cf662c19",
   "metadata": {},
   "outputs": [
    {
     "data": {
      "text/html": [
       "<div>\n",
       "<style scoped>\n",
       "    .dataframe tbody tr th:only-of-type {\n",
       "        vertical-align: middle;\n",
       "    }\n",
       "\n",
       "    .dataframe tbody tr th {\n",
       "        vertical-align: top;\n",
       "    }\n",
       "\n",
       "    .dataframe thead th {\n",
       "        text-align: right;\n",
       "    }\n",
       "</style>\n",
       "<table border=\"1\" class=\"dataframe\">\n",
       "  <thead>\n",
       "    <tr style=\"text-align: right;\">\n",
       "      <th></th>\n",
       "      <th>Name</th>\n",
       "      <th>Species</th>\n",
       "      <th>Gender</th>\n",
       "      <th>Personality</th>\n",
       "      <th>Hobby</th>\n",
       "      <th>Birthday</th>\n",
       "      <th>Catchphrase</th>\n",
       "      <th>Favorite Song</th>\n",
       "      <th>Style 1</th>\n",
       "      <th>Style 2</th>\n",
       "      <th>Color 1</th>\n",
       "      <th>Color 2</th>\n",
       "      <th>Wallpaper</th>\n",
       "      <th>Flooring</th>\n",
       "      <th>Furniture List</th>\n",
       "      <th>Filename</th>\n",
       "      <th>Unique Entry ID</th>\n",
       "      <th>Total_Google_Searches</th>\n",
       "      <th>Poll_Results</th>\n",
       "      <th>Overall_Popularity</th>\n",
       "    </tr>\n",
       "  </thead>\n",
       "  <tbody>\n",
       "    <tr>\n",
       "      <th>228</th>\n",
       "      <td>Marshal</td>\n",
       "      <td>Squirrel</td>\n",
       "      <td>Male</td>\n",
       "      <td>Smug</td>\n",
       "      <td>Music</td>\n",
       "      <td>29-Sep</td>\n",
       "      <td>sulky</td>\n",
       "      <td>K.K. Bossa</td>\n",
       "      <td>Elegant</td>\n",
       "      <td>Cool</td>\n",
       "      <td>Light blue</td>\n",
       "      <td>Blue</td>\n",
       "      <td>blue delicate-blooms wall</td>\n",
       "      <td>modern wood flooring</td>\n",
       "      <td>2554;1081;3681;9766;1161;3615;1845;8394;3271;3...</td>\n",
       "      <td>squ17</td>\n",
       "      <td>ZZJJbE5zFrcDXfLEF</td>\n",
       "      <td>1136850.0</td>\n",
       "      <td>29787.0</td>\n",
       "      <td>1166637.0</td>\n",
       "    </tr>\n",
       "    <tr>\n",
       "      <th>298</th>\n",
       "      <td>Raymond</td>\n",
       "      <td>Cat</td>\n",
       "      <td>Male</td>\n",
       "      <td>Smug</td>\n",
       "      <td>Nature</td>\n",
       "      <td>1-Oct</td>\n",
       "      <td>crisp</td>\n",
       "      <td>K.K. Cruisin'</td>\n",
       "      <td>Elegant</td>\n",
       "      <td>Cool</td>\n",
       "      <td>Black</td>\n",
       "      <td>Gray</td>\n",
       "      <td>office wall</td>\n",
       "      <td>monochromatic tile flooring</td>\n",
       "      <td>840;4116;1750;3590;1232;832;3560;839;3784;1744...</td>\n",
       "      <td>cat23</td>\n",
       "      <td>2nbzgWsuDBSN2LeEj</td>\n",
       "      <td>4906350.0</td>\n",
       "      <td>27778.0</td>\n",
       "      <td>4934128.0</td>\n",
       "    </tr>\n",
       "    <tr>\n",
       "      <th>329</th>\n",
       "      <td>Sherb</td>\n",
       "      <td>Goat</td>\n",
       "      <td>Male</td>\n",
       "      <td>Lazy</td>\n",
       "      <td>Nature</td>\n",
       "      <td>18-Jan</td>\n",
       "      <td>bawwww</td>\n",
       "      <td>Hypno K.K.</td>\n",
       "      <td>Simple</td>\n",
       "      <td>Cute</td>\n",
       "      <td>Gray</td>\n",
       "      <td>Blue</td>\n",
       "      <td>purple desert-tile wall</td>\n",
       "      <td>simple purple flooring</td>\n",
       "      <td>3995;4002;7133;3998;3624;3997;4000;4003;4111</td>\n",
       "      <td>goa09</td>\n",
       "      <td>XaaDkAfHynrEY2YS4</td>\n",
       "      <td>5608850.0</td>\n",
       "      <td>19883.0</td>\n",
       "      <td>5628733.0</td>\n",
       "    </tr>\n",
       "    <tr>\n",
       "      <th>390</th>\n",
       "      <td>Zucker</td>\n",
       "      <td>Octopus</td>\n",
       "      <td>Male</td>\n",
       "      <td>Lazy</td>\n",
       "      <td>Nature</td>\n",
       "      <td>8-Mar</td>\n",
       "      <td>bloop</td>\n",
       "      <td>Spring Blossoms</td>\n",
       "      <td>Simple</td>\n",
       "      <td>Cute</td>\n",
       "      <td>Blue</td>\n",
       "      <td>Yellow</td>\n",
       "      <td>chain-link fence</td>\n",
       "      <td>backyard lawn</td>\n",
       "      <td>4042;4412;7526;4077;4077;3064;4077;3946;3617;3...</td>\n",
       "      <td>ocp02</td>\n",
       "      <td>2F5tipHqgmWvWXTLC</td>\n",
       "      <td>2512500.0</td>\n",
       "      <td>17442.0</td>\n",
       "      <td>2529942.0</td>\n",
       "    </tr>\n",
       "    <tr>\n",
       "      <th>186</th>\n",
       "      <td>Judy</td>\n",
       "      <td>Cub</td>\n",
       "      <td>Female</td>\n",
       "      <td>Snooty</td>\n",
       "      <td>Music</td>\n",
       "      <td>10-Mar</td>\n",
       "      <td>myohmy</td>\n",
       "      <td>K.K. Lullaby</td>\n",
       "      <td>Cute</td>\n",
       "      <td>Elegant</td>\n",
       "      <td>Pink</td>\n",
       "      <td>White</td>\n",
       "      <td>starry wall</td>\n",
       "      <td>blue dot flooring</td>\n",
       "      <td>6827;6827;6827;6827;1557;6827;6827;1565;6827;3...</td>\n",
       "      <td>cbr19</td>\n",
       "      <td>nEbMBNS4EztR8Ysxv</td>\n",
       "      <td>4686500.0</td>\n",
       "      <td>14741.0</td>\n",
       "      <td>4701241.0</td>\n",
       "    </tr>\n",
       "  </tbody>\n",
       "</table>\n",
       "</div>"
      ],
      "text/plain": [
       "        Name   Species  Gender Personality   Hobby Birthday Catchphrase  \\\n",
       "228  Marshal  Squirrel    Male        Smug   Music   29-Sep       sulky   \n",
       "298  Raymond       Cat    Male        Smug  Nature    1-Oct       crisp   \n",
       "329    Sherb      Goat    Male        Lazy  Nature   18-Jan      bawwww   \n",
       "390   Zucker   Octopus    Male        Lazy  Nature    8-Mar       bloop   \n",
       "186     Judy       Cub  Female      Snooty   Music   10-Mar      myohmy   \n",
       "\n",
       "       Favorite Song  Style 1  Style 2     Color 1 Color 2  \\\n",
       "228       K.K. Bossa  Elegant     Cool  Light blue    Blue   \n",
       "298    K.K. Cruisin'  Elegant     Cool       Black    Gray   \n",
       "329       Hypno K.K.   Simple     Cute        Gray    Blue   \n",
       "390  Spring Blossoms   Simple     Cute        Blue  Yellow   \n",
       "186     K.K. Lullaby     Cute  Elegant        Pink   White   \n",
       "\n",
       "                     Wallpaper                     Flooring  \\\n",
       "228  blue delicate-blooms wall         modern wood flooring   \n",
       "298                office wall  monochromatic tile flooring   \n",
       "329    purple desert-tile wall       simple purple flooring   \n",
       "390           chain-link fence                backyard lawn   \n",
       "186                starry wall            blue dot flooring   \n",
       "\n",
       "                                        Furniture List Filename  \\\n",
       "228  2554;1081;3681;9766;1161;3615;1845;8394;3271;3...    squ17   \n",
       "298  840;4116;1750;3590;1232;832;3560;839;3784;1744...    cat23   \n",
       "329       3995;4002;7133;3998;3624;3997;4000;4003;4111    goa09   \n",
       "390  4042;4412;7526;4077;4077;3064;4077;3946;3617;3...    ocp02   \n",
       "186  6827;6827;6827;6827;1557;6827;6827;1565;6827;3...    cbr19   \n",
       "\n",
       "       Unique Entry ID  Total_Google_Searches  Poll_Results  \\\n",
       "228  ZZJJbE5zFrcDXfLEF              1136850.0       29787.0   \n",
       "298  2nbzgWsuDBSN2LeEj              4906350.0       27778.0   \n",
       "329  XaaDkAfHynrEY2YS4              5608850.0       19883.0   \n",
       "390  2F5tipHqgmWvWXTLC              2512500.0       17442.0   \n",
       "186  nEbMBNS4EztR8Ysxv              4686500.0       14741.0   \n",
       "\n",
       "     Overall_Popularity  \n",
       "228           1166637.0  \n",
       "298           4934128.0  \n",
       "329           5628733.0  \n",
       "390           2529942.0  \n",
       "186           4701241.0  "
      ]
     },
     "execution_count": 28,
     "metadata": {},
     "output_type": "execute_result"
    }
   ],
   "source": [
    "top15ACPPoll.head()"
   ]
  },
  {
   "cell_type": "code",
   "execution_count": 29,
   "id": "5677d022",
   "metadata": {},
   "outputs": [],
   "source": [
    "fin_vil2 = final_villagers.drop(columns=['Wallpaper', 'Flooring',\n",
    "                                                        'Furniture List','Filename',\n",
    "                                                        'Unique Entry ID','Style 2','Color 2'])"
   ]
  },
  {
   "cell_type": "code",
   "execution_count": 30,
   "id": "513f42ad",
   "metadata": {},
   "outputs": [
    {
     "data": {
      "text/html": [
       "<div>\n",
       "<style scoped>\n",
       "    .dataframe tbody tr th:only-of-type {\n",
       "        vertical-align: middle;\n",
       "    }\n",
       "\n",
       "    .dataframe tbody tr th {\n",
       "        vertical-align: top;\n",
       "    }\n",
       "\n",
       "    .dataframe thead th {\n",
       "        text-align: right;\n",
       "    }\n",
       "</style>\n",
       "<table border=\"1\" class=\"dataframe\">\n",
       "  <thead>\n",
       "    <tr style=\"text-align: right;\">\n",
       "      <th></th>\n",
       "      <th>Name</th>\n",
       "      <th>Species</th>\n",
       "      <th>Gender</th>\n",
       "      <th>Personality</th>\n",
       "      <th>Hobby</th>\n",
       "      <th>Birthday</th>\n",
       "      <th>Catchphrase</th>\n",
       "      <th>Favorite Song</th>\n",
       "      <th>Style 1</th>\n",
       "      <th>Color 1</th>\n",
       "      <th>Total_Google_Searches</th>\n",
       "      <th>Poll_Results</th>\n",
       "      <th>Overall_Popularity</th>\n",
       "    </tr>\n",
       "  </thead>\n",
       "  <tbody>\n",
       "    <tr>\n",
       "      <th>0</th>\n",
       "      <td>Admiral</td>\n",
       "      <td>Bird</td>\n",
       "      <td>Male</td>\n",
       "      <td>Cranky</td>\n",
       "      <td>Nature</td>\n",
       "      <td>27-Jan</td>\n",
       "      <td>aye aye</td>\n",
       "      <td>Steep Hill</td>\n",
       "      <td>Cool</td>\n",
       "      <td>Black</td>\n",
       "      <td>2417200.0</td>\n",
       "      <td>632.0</td>\n",
       "      <td>2417832.0</td>\n",
       "    </tr>\n",
       "    <tr>\n",
       "      <th>1</th>\n",
       "      <td>Agent S</td>\n",
       "      <td>Squirrel</td>\n",
       "      <td>Female</td>\n",
       "      <td>Peppy</td>\n",
       "      <td>Fitness</td>\n",
       "      <td>2-Jul</td>\n",
       "      <td>sidekick</td>\n",
       "      <td>Go K.K. Rider</td>\n",
       "      <td>Active</td>\n",
       "      <td>Blue</td>\n",
       "      <td>2664010.0</td>\n",
       "      <td>1225.0</td>\n",
       "      <td>2665235.0</td>\n",
       "    </tr>\n",
       "    <tr>\n",
       "      <th>2</th>\n",
       "      <td>Agnes</td>\n",
       "      <td>Pig</td>\n",
       "      <td>Female</td>\n",
       "      <td>Big Sister</td>\n",
       "      <td>Play</td>\n",
       "      <td>21-Apr</td>\n",
       "      <td>snuffle</td>\n",
       "      <td>K.K. House</td>\n",
       "      <td>Simple</td>\n",
       "      <td>Pink</td>\n",
       "      <td>4731450.0</td>\n",
       "      <td>2535.0</td>\n",
       "      <td>4733985.0</td>\n",
       "    </tr>\n",
       "    <tr>\n",
       "      <th>3</th>\n",
       "      <td>Al</td>\n",
       "      <td>Gorilla</td>\n",
       "      <td>Male</td>\n",
       "      <td>Lazy</td>\n",
       "      <td>Fitness</td>\n",
       "      <td>18-Oct</td>\n",
       "      <td>ayyyeee</td>\n",
       "      <td>Go K.K. Rider</td>\n",
       "      <td>Active</td>\n",
       "      <td>Red</td>\n",
       "      <td>1618750.0</td>\n",
       "      <td>600.0</td>\n",
       "      <td>1619350.0</td>\n",
       "    </tr>\n",
       "    <tr>\n",
       "      <th>4</th>\n",
       "      <td>Alfonso</td>\n",
       "      <td>Alligator</td>\n",
       "      <td>Male</td>\n",
       "      <td>Lazy</td>\n",
       "      <td>Play</td>\n",
       "      <td>9-Jun</td>\n",
       "      <td>it'sa me</td>\n",
       "      <td>Forest Life</td>\n",
       "      <td>Simple</td>\n",
       "      <td>Red</td>\n",
       "      <td>913600.0</td>\n",
       "      <td>1230.0</td>\n",
       "      <td>914830.0</td>\n",
       "    </tr>\n",
       "  </tbody>\n",
       "</table>\n",
       "</div>"
      ],
      "text/plain": [
       "      Name    Species  Gender Personality    Hobby Birthday Catchphrase  \\\n",
       "0  Admiral       Bird    Male      Cranky   Nature   27-Jan     aye aye   \n",
       "1  Agent S   Squirrel  Female       Peppy  Fitness    2-Jul    sidekick   \n",
       "2    Agnes        Pig  Female  Big Sister     Play   21-Apr     snuffle   \n",
       "3       Al    Gorilla    Male        Lazy  Fitness   18-Oct     ayyyeee   \n",
       "4  Alfonso  Alligator    Male        Lazy     Play    9-Jun    it'sa me   \n",
       "\n",
       "   Favorite Song Style 1 Color 1  Total_Google_Searches  Poll_Results  \\\n",
       "0     Steep Hill    Cool   Black              2417200.0         632.0   \n",
       "1  Go K.K. Rider  Active    Blue              2664010.0        1225.0   \n",
       "2     K.K. House  Simple    Pink              4731450.0        2535.0   \n",
       "3  Go K.K. Rider  Active     Red              1618750.0         600.0   \n",
       "4    Forest Life  Simple     Red               913600.0        1230.0   \n",
       "\n",
       "   Overall_Popularity  \n",
       "0           2417832.0  \n",
       "1           2665235.0  \n",
       "2           4733985.0  \n",
       "3           1619350.0  \n",
       "4            914830.0  "
      ]
     },
     "execution_count": 30,
     "metadata": {},
     "output_type": "execute_result"
    }
   ],
   "source": [
    "fin_vil2.head()"
   ]
  },
  {
   "cell_type": "code",
   "execution_count": 31,
   "id": "08e28e08",
   "metadata": {},
   "outputs": [
    {
     "data": {
      "text/plain": [
       "<AxesSubplot:xlabel='Poll_Results', ylabel='Total_Google_Searches'>"
      ]
     },
     "execution_count": 31,
     "metadata": {},
     "output_type": "execute_result"
    },
    {
     "data": {
      "image/png": "[encoded data removed]",
      "text/plain": [
       "<Figure size 432x288 with 1 Axes>"
      ]
     },
     "metadata": {
      "needs_background": "light"
     },
     "output_type": "display_data"
    }
   ],
   "source": [
    "#sns.pairplot(FinVillagers_ACNH2)\n",
    "sns.regplot(y=fin_vil2[\"Total_Google_Searches\"], x=fin_vil2[\"Poll_Results\"],\n",
    "           color='#c48d3f',fit_reg=False)\n",
    "#sns.plt.show()"
   ]
  },
  {
   "cell_type": "code",
   "execution_count": 32,
   "id": "4668d1b9",
   "metadata": {},
   "outputs": [],
   "source": [
    "personality_species = final_villagers.groupby(['Species', 'Personality'])['Overall_Popularity'].sum().unstack().fillna(0)"
   ]
  },
  {
   "cell_type": "code",
   "execution_count": 33,
   "id": "a9488c06",
   "metadata": {},
   "outputs": [
    {
     "data": {
      "text/html": [
       "<div>\n",
       "<style scoped>\n",
       "    .dataframe tbody tr th:only-of-type {\n",
       "        vertical-align: middle;\n",
       "    }\n",
       "\n",
       "    .dataframe tbody tr th {\n",
       "        vertical-align: top;\n",
       "    }\n",
       "\n",
       "    .dataframe thead th {\n",
       "        text-align: right;\n",
       "    }\n",
       "</style>\n",
       "<table border=\"1\" class=\"dataframe\">\n",
       "  <thead>\n",
       "    <tr style=\"text-align: right;\">\n",
       "      <th>Personality</th>\n",
       "      <th>Big Sister</th>\n",
       "      <th>Cranky</th>\n",
       "      <th>Jock</th>\n",
       "      <th>Lazy</th>\n",
       "      <th>Normal</th>\n",
       "      <th>Peppy</th>\n",
       "      <th>Smug</th>\n",
       "      <th>Snooty</th>\n",
       "    </tr>\n",
       "    <tr>\n",
       "      <th>Species</th>\n",
       "      <th></th>\n",
       "      <th></th>\n",
       "      <th></th>\n",
       "      <th></th>\n",
       "      <th></th>\n",
       "      <th></th>\n",
       "      <th></th>\n",
       "      <th></th>\n",
       "    </tr>\n",
       "  </thead>\n",
       "  <tbody>\n",
       "    <tr>\n",
       "      <th>Alligator</th>\n",
       "      <td>0.0</td>\n",
       "      <td>1086648.0</td>\n",
       "      <td>3717833.0</td>\n",
       "      <td>4059309.0</td>\n",
       "      <td>1807134.0</td>\n",
       "      <td>0.0</td>\n",
       "      <td>0.0</td>\n",
       "      <td>2022403.0</td>\n",
       "    </tr>\n",
       "    <tr>\n",
       "      <th>Anteater</th>\n",
       "      <td>0.0</td>\n",
       "      <td>1769126.0</td>\n",
       "      <td>526085.0</td>\n",
       "      <td>0.0</td>\n",
       "      <td>2080636.0</td>\n",
       "      <td>5012798.0</td>\n",
       "      <td>1944223.0</td>\n",
       "      <td>2994871.0</td>\n",
       "    </tr>\n",
       "    <tr>\n",
       "      <th>Bear</th>\n",
       "      <td>4624252.0</td>\n",
       "      <td>8637966.0</td>\n",
       "      <td>1813437.0</td>\n",
       "      <td>2225242.0</td>\n",
       "      <td>2786335.0</td>\n",
       "      <td>3494773.0</td>\n",
       "      <td>1928902.0</td>\n",
       "      <td>0.0</td>\n",
       "    </tr>\n",
       "    <tr>\n",
       "      <th>Bird</th>\n",
       "      <td>0.0</td>\n",
       "      <td>2417832.0</td>\n",
       "      <td>4009982.0</td>\n",
       "      <td>6410224.0</td>\n",
       "      <td>1738875.0</td>\n",
       "      <td>3683394.0</td>\n",
       "      <td>2921832.0</td>\n",
       "      <td>78828.0</td>\n",
       "    </tr>\n",
       "    <tr>\n",
       "      <th>Bull</th>\n",
       "      <td>0.0</td>\n",
       "      <td>3852603.0</td>\n",
       "      <td>1879055.0</td>\n",
       "      <td>3175378.0</td>\n",
       "      <td>0.0</td>\n",
       "      <td>0.0</td>\n",
       "      <td>0.0</td>\n",
       "      <td>0.0</td>\n",
       "    </tr>\n",
       "    <tr>\n",
       "      <th>Cat</th>\n",
       "      <td>2303274.0</td>\n",
       "      <td>6755173.0</td>\n",
       "      <td>3263189.0</td>\n",
       "      <td>2810488.0</td>\n",
       "      <td>5523681.0</td>\n",
       "      <td>7368853.0</td>\n",
       "      <td>4934128.0</td>\n",
       "      <td>15259796.0</td>\n",
       "    </tr>\n",
       "    <tr>\n",
       "      <th>Chicken</th>\n",
       "      <td>4198743.0</td>\n",
       "      <td>773626.0</td>\n",
       "      <td>502220.0</td>\n",
       "      <td>3575690.0</td>\n",
       "      <td>2590344.0</td>\n",
       "      <td>0.0</td>\n",
       "      <td>568193.0</td>\n",
       "      <td>2612342.0</td>\n",
       "    </tr>\n",
       "    <tr>\n",
       "      <th>Cow</th>\n",
       "      <td>0.0</td>\n",
       "      <td>0.0</td>\n",
       "      <td>0.0</td>\n",
       "      <td>0.0</td>\n",
       "      <td>2524662.0</td>\n",
       "      <td>2598255.0</td>\n",
       "      <td>0.0</td>\n",
       "      <td>4669423.0</td>\n",
       "    </tr>\n",
       "    <tr>\n",
       "      <th>Cub</th>\n",
       "      <td>3006443.0</td>\n",
       "      <td>3375015.0</td>\n",
       "      <td>2420770.0</td>\n",
       "      <td>7889166.0</td>\n",
       "      <td>18096684.0</td>\n",
       "      <td>3016630.0</td>\n",
       "      <td>0.0</td>\n",
       "      <td>4701241.0</td>\n",
       "    </tr>\n",
       "    <tr>\n",
       "      <th>Deer</th>\n",
       "      <td>4982639.0</td>\n",
       "      <td>2372675.0</td>\n",
       "      <td>958633.0</td>\n",
       "      <td>3696305.0</td>\n",
       "      <td>2433578.0</td>\n",
       "      <td>0.0</td>\n",
       "      <td>2697423.0</td>\n",
       "      <td>1350294.0</td>\n",
       "    </tr>\n",
       "    <tr>\n",
       "      <th>Dog</th>\n",
       "      <td>518395.0</td>\n",
       "      <td>566735.0</td>\n",
       "      <td>1183514.0</td>\n",
       "      <td>11188574.0</td>\n",
       "      <td>5437909.0</td>\n",
       "      <td>7177938.0</td>\n",
       "      <td>2449341.0</td>\n",
       "      <td>181026.0</td>\n",
       "    </tr>\n",
       "    <tr>\n",
       "      <th>Duck</th>\n",
       "      <td>0.0</td>\n",
       "      <td>0.0</td>\n",
       "      <td>4952694.0</td>\n",
       "      <td>4130768.0</td>\n",
       "      <td>3361852.0</td>\n",
       "      <td>5274879.0</td>\n",
       "      <td>1499097.0</td>\n",
       "      <td>8376014.0</td>\n",
       "    </tr>\n",
       "    <tr>\n",
       "      <th>Eagle</th>\n",
       "      <td>0.0</td>\n",
       "      <td>4422642.0</td>\n",
       "      <td>5570959.0</td>\n",
       "      <td>0.0</td>\n",
       "      <td>1364200.0</td>\n",
       "      <td>0.0</td>\n",
       "      <td>1988848.0</td>\n",
       "      <td>2263554.0</td>\n",
       "    </tr>\n",
       "    <tr>\n",
       "      <th>Elephant</th>\n",
       "      <td>0.0</td>\n",
       "      <td>1988656.0</td>\n",
       "      <td>1610355.0</td>\n",
       "      <td>6765771.0</td>\n",
       "      <td>7060592.0</td>\n",
       "      <td>0.0</td>\n",
       "      <td>0.0</td>\n",
       "      <td>2135358.0</td>\n",
       "    </tr>\n",
       "    <tr>\n",
       "      <th>Frog</th>\n",
       "      <td>899624.0</td>\n",
       "      <td>2671725.0</td>\n",
       "      <td>16884039.0</td>\n",
       "      <td>5575300.0</td>\n",
       "      <td>1850410.0</td>\n",
       "      <td>2264187.0</td>\n",
       "      <td>3675920.0</td>\n",
       "      <td>1946177.0</td>\n",
       "    </tr>\n",
       "    <tr>\n",
       "      <th>Goat</th>\n",
       "      <td>4167954.0</td>\n",
       "      <td>2008999.0</td>\n",
       "      <td>1008960.0</td>\n",
       "      <td>5628733.0</td>\n",
       "      <td>5024366.0</td>\n",
       "      <td>0.0</td>\n",
       "      <td>125267.0</td>\n",
       "      <td>1968082.0</td>\n",
       "    </tr>\n",
       "    <tr>\n",
       "      <th>Gorilla</th>\n",
       "      <td>6068679.0</td>\n",
       "      <td>4051328.0</td>\n",
       "      <td>1614683.0</td>\n",
       "      <td>1619350.0</td>\n",
       "      <td>0.0</td>\n",
       "      <td>0.0</td>\n",
       "      <td>1503179.0</td>\n",
       "      <td>876877.0</td>\n",
       "    </tr>\n",
       "    <tr>\n",
       "      <th>Hamster</th>\n",
       "      <td>0.0</td>\n",
       "      <td>1887477.0</td>\n",
       "      <td>1112026.0</td>\n",
       "      <td>19221575.0</td>\n",
       "      <td>1945888.0</td>\n",
       "      <td>1340949.0</td>\n",
       "      <td>4335226.0</td>\n",
       "      <td>2555811.0</td>\n",
       "    </tr>\n",
       "    <tr>\n",
       "      <th>Hippo</th>\n",
       "      <td>0.0</td>\n",
       "      <td>3029697.0</td>\n",
       "      <td>3926531.0</td>\n",
       "      <td>0.0</td>\n",
       "      <td>2139767.0</td>\n",
       "      <td>6043230.0</td>\n",
       "      <td>2365383.0</td>\n",
       "      <td>1841762.0</td>\n",
       "    </tr>\n",
       "    <tr>\n",
       "      <th>Horse</th>\n",
       "      <td>1866542.0</td>\n",
       "      <td>2383181.0</td>\n",
       "      <td>588050.0</td>\n",
       "      <td>5631344.0</td>\n",
       "      <td>4098888.0</td>\n",
       "      <td>3991487.0</td>\n",
       "      <td>6761003.0</td>\n",
       "      <td>921420.0</td>\n",
       "    </tr>\n",
       "    <tr>\n",
       "      <th>Kangaroo</th>\n",
       "      <td>2438194.0</td>\n",
       "      <td>2449952.0</td>\n",
       "      <td>0.0</td>\n",
       "      <td>0.0</td>\n",
       "      <td>3278475.0</td>\n",
       "      <td>0.0</td>\n",
       "      <td>0.0</td>\n",
       "      <td>2658104.0</td>\n",
       "    </tr>\n",
       "    <tr>\n",
       "      <th>Koala</th>\n",
       "      <td>849411.0</td>\n",
       "      <td>3879721.0</td>\n",
       "      <td>1420.0</td>\n",
       "      <td>1652809.0</td>\n",
       "      <td>4985369.0</td>\n",
       "      <td>0.0</td>\n",
       "      <td>815579.0</td>\n",
       "      <td>2017601.0</td>\n",
       "    </tr>\n",
       "    <tr>\n",
       "      <th>Lion</th>\n",
       "      <td>0.0</td>\n",
       "      <td>2780477.0</td>\n",
       "      <td>2653456.0</td>\n",
       "      <td>2597175.0</td>\n",
       "      <td>0.0</td>\n",
       "      <td>0.0</td>\n",
       "      <td>3465459.0</td>\n",
       "      <td>0.0</td>\n",
       "    </tr>\n",
       "    <tr>\n",
       "      <th>Monkey</th>\n",
       "      <td>2601650.0</td>\n",
       "      <td>2150116.0</td>\n",
       "      <td>1380446.0</td>\n",
       "      <td>4957134.0</td>\n",
       "      <td>936129.0</td>\n",
       "      <td>2288496.0</td>\n",
       "      <td>0.0</td>\n",
       "      <td>1618414.0</td>\n",
       "    </tr>\n",
       "    <tr>\n",
       "      <th>Mouse</th>\n",
       "      <td>0.0</td>\n",
       "      <td>1169686.0</td>\n",
       "      <td>6817127.0</td>\n",
       "      <td>3635346.0</td>\n",
       "      <td>3986366.0</td>\n",
       "      <td>6967533.0</td>\n",
       "      <td>2027197.0</td>\n",
       "      <td>4049234.0</td>\n",
       "    </tr>\n",
       "    <tr>\n",
       "      <th>Octopus</th>\n",
       "      <td>0.0</td>\n",
       "      <td>2838334.0</td>\n",
       "      <td>0.0</td>\n",
       "      <td>2529942.0</td>\n",
       "      <td>3063629.0</td>\n",
       "      <td>0.0</td>\n",
       "      <td>0.0</td>\n",
       "      <td>0.0</td>\n",
       "    </tr>\n",
       "    <tr>\n",
       "      <th>Ostrich</th>\n",
       "      <td>2200949.0</td>\n",
       "      <td>0.0</td>\n",
       "      <td>2280779.0</td>\n",
       "      <td>2916268.0</td>\n",
       "      <td>3725786.0</td>\n",
       "      <td>2786348.0</td>\n",
       "      <td>2703620.0</td>\n",
       "      <td>2550549.0</td>\n",
       "    </tr>\n",
       "    <tr>\n",
       "      <th>Penguin</th>\n",
       "      <td>3058311.0</td>\n",
       "      <td>1467157.0</td>\n",
       "      <td>4380923.0</td>\n",
       "      <td>3377246.0</td>\n",
       "      <td>2839626.0</td>\n",
       "      <td>2067821.0</td>\n",
       "      <td>2620492.0</td>\n",
       "      <td>2480342.0</td>\n",
       "    </tr>\n",
       "    <tr>\n",
       "      <th>Pig</th>\n",
       "      <td>4733985.0</td>\n",
       "      <td>2712324.0</td>\n",
       "      <td>4563411.0</td>\n",
       "      <td>4450928.0</td>\n",
       "      <td>6073075.0</td>\n",
       "      <td>2460170.0</td>\n",
       "      <td>1565752.0</td>\n",
       "      <td>1954944.0</td>\n",
       "    </tr>\n",
       "    <tr>\n",
       "      <th>Rabbit</th>\n",
       "      <td>1902276.0</td>\n",
       "      <td>1063129.0</td>\n",
       "      <td>3174898.0</td>\n",
       "      <td>7541841.0</td>\n",
       "      <td>1980713.0</td>\n",
       "      <td>9894530.0</td>\n",
       "      <td>847.0</td>\n",
       "      <td>3626603.0</td>\n",
       "    </tr>\n",
       "    <tr>\n",
       "      <th>Rhino</th>\n",
       "      <td>645.0</td>\n",
       "      <td>2437956.0</td>\n",
       "      <td>1633189.0</td>\n",
       "      <td>1509516.0</td>\n",
       "      <td>3984518.0</td>\n",
       "      <td>0.0</td>\n",
       "      <td>0.0</td>\n",
       "      <td>0.0</td>\n",
       "    </tr>\n",
       "    <tr>\n",
       "      <th>Sheep</th>\n",
       "      <td>2892619.0</td>\n",
       "      <td>0.0</td>\n",
       "      <td>4468975.0</td>\n",
       "      <td>0.0</td>\n",
       "      <td>4599553.0</td>\n",
       "      <td>1056690.0</td>\n",
       "      <td>1655053.0</td>\n",
       "      <td>4839732.0</td>\n",
       "    </tr>\n",
       "    <tr>\n",
       "      <th>Squirrel</th>\n",
       "      <td>2151554.0</td>\n",
       "      <td>1197366.0</td>\n",
       "      <td>2371707.0</td>\n",
       "      <td>1814104.0</td>\n",
       "      <td>7411604.0</td>\n",
       "      <td>4779416.0</td>\n",
       "      <td>1166637.0</td>\n",
       "      <td>4397655.0</td>\n",
       "    </tr>\n",
       "    <tr>\n",
       "      <th>Tiger</th>\n",
       "      <td>0.0</td>\n",
       "      <td>2054095.0</td>\n",
       "      <td>8372612.0</td>\n",
       "      <td>0.0</td>\n",
       "      <td>0.0</td>\n",
       "      <td>3139035.0</td>\n",
       "      <td>0.0</td>\n",
       "      <td>2038880.0</td>\n",
       "    </tr>\n",
       "    <tr>\n",
       "      <th>Wolf</th>\n",
       "      <td>0.0</td>\n",
       "      <td>11511029.0</td>\n",
       "      <td>0.0</td>\n",
       "      <td>0.0</td>\n",
       "      <td>3746877.0</td>\n",
       "      <td>4923192.0</td>\n",
       "      <td>686634.0</td>\n",
       "      <td>5518779.0</td>\n",
       "    </tr>\n",
       "  </tbody>\n",
       "</table>\n",
       "</div>"
      ],
      "text/plain": [
       "Personality  Big Sister      Cranky        Jock        Lazy      Normal  \\\n",
       "Species                                                                   \n",
       "Alligator           0.0   1086648.0   3717833.0   4059309.0   1807134.0   \n",
       "Anteater            0.0   1769126.0    526085.0         0.0   2080636.0   \n",
       "Bear          4624252.0   8637966.0   1813437.0   2225242.0   2786335.0   \n",
       "Bird                0.0   2417832.0   4009982.0   6410224.0   1738875.0   \n",
       "Bull                0.0   3852603.0   1879055.0   3175378.0         0.0   \n",
       "Cat           2303274.0   6755173.0   3263189.0   2810488.0   5523681.0   \n",
       "Chicken       4198743.0    773626.0    502220.0   3575690.0   2590344.0   \n",
       "Cow                 0.0         0.0         0.0         0.0   2524662.0   \n",
       "Cub           3006443.0   3375015.0   2420770.0   7889166.0  18096684.0   \n",
       "Deer          4982639.0   2372675.0    958633.0   3696305.0   2433578.0   \n",
       "Dog            518395.0    566735.0   1183514.0  11188574.0   5437909.0   \n",
       "Duck                0.0         0.0   4952694.0   4130768.0   3361852.0   \n",
       "Eagle               0.0   4422642.0   5570959.0         0.0   1364200.0   \n",
       "Elephant            0.0   1988656.0   1610355.0   6765771.0   7060592.0   \n",
       "Frog           899624.0   2671725.0  16884039.0   5575300.0   1850410.0   \n",
       "Goat          4167954.0   2008999.0   1008960.0   5628733.0   5024366.0   \n",
       "Gorilla       6068679.0   4051328.0   1614683.0   1619350.0         0.0   \n",
       "Hamster             0.0   1887477.0   1112026.0  19221575.0   1945888.0   \n",
       "Hippo               0.0   3029697.0   3926531.0         0.0   2139767.0   \n",
       "Horse         1866542.0   2383181.0    588050.0   5631344.0   4098888.0   \n",
       "Kangaroo      2438194.0   2449952.0         0.0         0.0   3278475.0   \n",
       "Koala          849411.0   3879721.0      1420.0   1652809.0   4985369.0   \n",
       "Lion                0.0   2780477.0   2653456.0   2597175.0         0.0   \n",
       "Monkey        2601650.0   2150116.0   1380446.0   4957134.0    936129.0   \n",
       "Mouse               0.0   1169686.0   6817127.0   3635346.0   3986366.0   \n",
       "Octopus             0.0   2838334.0         0.0   2529942.0   3063629.0   \n",
       "Ostrich       2200949.0         0.0   2280779.0   2916268.0   3725786.0   \n",
       "Penguin       3058311.0   1467157.0   4380923.0   3377246.0   2839626.0   \n",
       "Pig           4733985.0   2712324.0   4563411.0   4450928.0   6073075.0   \n",
       "Rabbit        1902276.0   1063129.0   3174898.0   7541841.0   1980713.0   \n",
       "Rhino             645.0   2437956.0   1633189.0   1509516.0   3984518.0   \n",
       "Sheep         2892619.0         0.0   4468975.0         0.0   4599553.0   \n",
       "Squirrel      2151554.0   1197366.0   2371707.0   1814104.0   7411604.0   \n",
       "Tiger               0.0   2054095.0   8372612.0         0.0         0.0   \n",
       "Wolf                0.0  11511029.0         0.0         0.0   3746877.0   \n",
       "\n",
       "Personality      Peppy       Smug      Snooty  \n",
       "Species                                        \n",
       "Alligator          0.0        0.0   2022403.0  \n",
       "Anteater     5012798.0  1944223.0   2994871.0  \n",
       "Bear         3494773.0  1928902.0         0.0  \n",
       "Bird         3683394.0  2921832.0     78828.0  \n",
       "Bull               0.0        0.0         0.0  \n",
       "Cat          7368853.0  4934128.0  15259796.0  \n",
       "Chicken            0.0   568193.0   2612342.0  \n",
       "Cow          2598255.0        0.0   4669423.0  \n",
       "Cub          3016630.0        0.0   4701241.0  \n",
       "Deer               0.0  2697423.0   1350294.0  \n",
       "Dog          7177938.0  2449341.0    181026.0  \n",
       "Duck         5274879.0  1499097.0   8376014.0  \n",
       "Eagle              0.0  1988848.0   2263554.0  \n",
       "Elephant           0.0        0.0   2135358.0  \n",
       "Frog         2264187.0  3675920.0   1946177.0  \n",
       "Goat               0.0   125267.0   1968082.0  \n",
       "Gorilla            0.0  1503179.0    876877.0  \n",
       "Hamster      1340949.0  4335226.0   2555811.0  \n",
       "Hippo        6043230.0  2365383.0   1841762.0  \n",
       "Horse        3991487.0  6761003.0    921420.0  \n",
       "Kangaroo           0.0        0.0   2658104.0  \n",
       "Koala              0.0   815579.0   2017601.0  \n",
       "Lion               0.0  3465459.0         0.0  \n",
       "Monkey       2288496.0        0.0   1618414.0  \n",
       "Mouse        6967533.0  2027197.0   4049234.0  \n",
       "Octopus            0.0        0.0         0.0  \n",
       "Ostrich      2786348.0  2703620.0   2550549.0  \n",
       "Penguin      2067821.0  2620492.0   2480342.0  \n",
       "Pig          2460170.0  1565752.0   1954944.0  \n",
       "Rabbit       9894530.0      847.0   3626603.0  \n",
       "Rhino              0.0        0.0         0.0  \n",
       "Sheep        1056690.0  1655053.0   4839732.0  \n",
       "Squirrel     4779416.0  1166637.0   4397655.0  \n",
       "Tiger        3139035.0        0.0   2038880.0  \n",
       "Wolf         4923192.0   686634.0   5518779.0  "
      ]
     },
     "execution_count": 33,
     "metadata": {},
     "output_type": "execute_result"
    }
   ],
   "source": [
    "personality_species"
   ]
  },
  {
   "cell_type": "code",
   "execution_count": 34,
   "id": "3db21633",
   "metadata": {},
   "outputs": [],
   "source": [
    "# personality_overall = final_villagers.groupby(['Personality'])['Overall_Popularity'].transform('sum').fillna(0)"
   ]
  },
  {
   "cell_type": "code",
   "execution_count": 35,
   "id": "9e8ab45e",
   "metadata": {},
   "outputs": [],
   "source": [
    "final_villagers['Overall_Popularity'] = final_villagers[['Overall_Popularity']].astype('int64')"
   ]
  },
  {
   "cell_type": "code",
   "execution_count": 36,
   "id": "0a764f19",
   "metadata": {},
   "outputs": [],
   "source": [
    "personality_overall = final_villagers.groupby(['Personality'])\n",
    "personality_overall = personality_overall[['Overall_Popularity']].sum().add_prefix('Sum_of_')"
   ]
  },
  {
   "cell_type": "code",
   "execution_count": 37,
   "id": "aaf45f0f",
   "metadata": {},
   "outputs": [
    {
     "data": {
      "text/html": [
       "<div>\n",
       "<style scoped>\n",
       "    .dataframe tbody tr th:only-of-type {\n",
       "        vertical-align: middle;\n",
       "    }\n",
       "\n",
       "    .dataframe tbody tr th {\n",
       "        vertical-align: top;\n",
       "    }\n",
       "\n",
       "    .dataframe thead th {\n",
       "        text-align: right;\n",
       "    }\n",
       "</style>\n",
       "<table border=\"1\" class=\"dataframe\">\n",
       "  <thead>\n",
       "    <tr style=\"text-align: right;\">\n",
       "      <th></th>\n",
       "      <th>Sum_of_Overall_Popularity</th>\n",
       "    </tr>\n",
       "    <tr>\n",
       "      <th>Personality</th>\n",
       "      <th></th>\n",
       "    </tr>\n",
       "  </thead>\n",
       "  <tbody>\n",
       "    <tr>\n",
       "      <th>Big Sister</th>\n",
       "      <td>55466139</td>\n",
       "    </tr>\n",
       "    <tr>\n",
       "      <th>Cranky</th>\n",
       "      <td>91762446</td>\n",
       "    </tr>\n",
       "    <tr>\n",
       "      <th>Jock</th>\n",
       "      <td>99641958</td>\n",
       "    </tr>\n",
       "    <tr>\n",
       "      <th>Lazy</th>\n",
       "      <td>130585526</td>\n",
       "    </tr>\n",
       "    <tr>\n",
       "      <th>Normal</th>\n",
       "      <td>122477521</td>\n",
       "    </tr>\n",
       "    <tr>\n",
       "      <th>Peppy</th>\n",
       "      <td>91630604</td>\n",
       "    </tr>\n",
       "    <tr>\n",
       "      <th>Smug</th>\n",
       "      <td>56405235</td>\n",
       "    </tr>\n",
       "    <tr>\n",
       "      <th>Snooty</th>\n",
       "      <td>94506116</td>\n",
       "    </tr>\n",
       "  </tbody>\n",
       "</table>\n",
       "</div>"
      ],
      "text/plain": [
       "             Sum_of_Overall_Popularity\n",
       "Personality                           \n",
       "Big Sister                    55466139\n",
       "Cranky                        91762446\n",
       "Jock                          99641958\n",
       "Lazy                         130585526\n",
       "Normal                       122477521\n",
       "Peppy                         91630604\n",
       "Smug                          56405235\n",
       "Snooty                        94506116"
      ]
     },
     "execution_count": 37,
     "metadata": {},
     "output_type": "execute_result"
    }
   ],
   "source": [
    "personality_overall"
   ]
  },
  {
   "cell_type": "code",
   "execution_count": 38,
   "id": "315a6536",
   "metadata": {},
   "outputs": [
    {
     "data": {
      "text/html": [
       "<div>\n",
       "<style scoped>\n",
       "    .dataframe tbody tr th:only-of-type {\n",
       "        vertical-align: middle;\n",
       "    }\n",
       "\n",
       "    .dataframe tbody tr th {\n",
       "        vertical-align: top;\n",
       "    }\n",
       "\n",
       "    .dataframe thead th {\n",
       "        text-align: right;\n",
       "    }\n",
       "</style>\n",
       "<table border=\"1\" class=\"dataframe\">\n",
       "  <thead>\n",
       "    <tr style=\"text-align: right;\">\n",
       "      <th></th>\n",
       "      <th>Personality</th>\n",
       "      <th>Sum_of_Overall_Popularity</th>\n",
       "    </tr>\n",
       "  </thead>\n",
       "  <tbody>\n",
       "    <tr>\n",
       "      <th>0</th>\n",
       "      <td>Big Sister</td>\n",
       "      <td>0.074704</td>\n",
       "    </tr>\n",
       "    <tr>\n",
       "      <th>1</th>\n",
       "      <td>Cranky</td>\n",
       "      <td>0.123590</td>\n",
       "    </tr>\n",
       "    <tr>\n",
       "      <th>2</th>\n",
       "      <td>Jock</td>\n",
       "      <td>0.134202</td>\n",
       "    </tr>\n",
       "    <tr>\n",
       "      <th>3</th>\n",
       "      <td>Lazy</td>\n",
       "      <td>0.175879</td>\n",
       "    </tr>\n",
       "    <tr>\n",
       "      <th>4</th>\n",
       "      <td>Normal</td>\n",
       "      <td>0.164958</td>\n",
       "    </tr>\n",
       "    <tr>\n",
       "      <th>5</th>\n",
       "      <td>Peppy</td>\n",
       "      <td>0.123412</td>\n",
       "    </tr>\n",
       "    <tr>\n",
       "      <th>6</th>\n",
       "      <td>Smug</td>\n",
       "      <td>0.075969</td>\n",
       "    </tr>\n",
       "    <tr>\n",
       "      <th>7</th>\n",
       "      <td>Snooty</td>\n",
       "      <td>0.127285</td>\n",
       "    </tr>\n",
       "  </tbody>\n",
       "</table>\n",
       "</div>"
      ],
      "text/plain": [
       "  Personality  Sum_of_Overall_Popularity\n",
       "0  Big Sister                   0.074704\n",
       "1      Cranky                   0.123590\n",
       "2        Jock                   0.134202\n",
       "3        Lazy                   0.175879\n",
       "4      Normal                   0.164958\n",
       "5       Peppy                   0.123412\n",
       "6        Smug                   0.075969\n",
       "7      Snooty                   0.127285"
      ]
     },
     "execution_count": 38,
     "metadata": {},
     "output_type": "execute_result"
    }
   ],
   "source": [
    "personality_overall.apply(lambda x: x/x.sum()).reset_index() # type: ignore"
   ]
  },
  {
   "cell_type": "code",
   "execution_count": 39,
   "id": "b91d9974",
   "metadata": {},
   "outputs": [
    {
     "data": {
      "text/plain": [
       "Text(0.5, 0, 'Species and Personality')"
      ]
     },
     "execution_count": 39,
     "metadata": {},
     "output_type": "execute_result"
    },
    {
     "data": {
      "image/png": "[encoded data removed]",
      "text/plain": [
       "<Figure size 1152x720 with 1 Axes>"
      ]
     },
     "metadata": {
      "needs_background": "light"
     },
     "output_type": "display_data"
    }
   ],
   "source": [
    "# Very simple one-liner using our agg_tips DataFrame.\n",
    "personality_species.plot(kind='bar', stacked=True,figsize = (16,10),rot = 90,colormap = 'Set2',\n",
    "                        grid=False,title = 'Popularity by Villager Species and Personality',\n",
    "                       )\n",
    "\n",
    "# Just add a title and rotate the x-axis labels to be horizontal.\n",
    "plt.ylabel('Overall Popularity')\n",
    "plt.xlabel('Species and Personality')\n",
    "#plt.xticks(rotation=0, ha='center')\n",
    "#plt.figure(figsize = (16,20))"
   ]
  },
  {
   "cell_type": "code",
   "execution_count": 41,
   "id": "9aac711b",
   "metadata": {},
   "outputs": [],
   "source": [
    "#Stacked bar chart:\n",
    "#Villager species variable [as ordinal rank/order of species x axis & gender bar stack color]\n",
    "#Total rank by villager species [quantitative variable as sum on y axis]\n",
    "#JS Note, they look a bit better unstacked"
   ]
  },
  {
   "cell_type": "code",
   "execution_count": 42,
   "id": "ea50c02a",
   "metadata": {},
   "outputs": [
    {
     "data": {
      "text/plain": [
       "<seaborn.axisgrid.FacetGrid at 0x14e40aa00>"
      ]
     },
     "execution_count": 42,
     "metadata": {},
     "output_type": "execute_result"
    },
    {
     "data": {
      "image/png": "[encoded data removed]",
      "text/plain": [
       "<Figure size 693.115x1152 with 1 Axes>"
      ]
     },
     "metadata": {
      "needs_background": "light"
     },
     "output_type": "display_data"
    }
   ],
   "source": [
    "# Draw a nested barplot by species and sex\n",
    "g = sns.catplot(\n",
    "    data=final_villagers, kind=\"bar\",\n",
    "    y=\"Species\", x=\"Overall_Popularity\", hue=\"Gender\",\n",
    "    #order=Final_Villagers_ACNH.sort_values('Species',ascending = False).Overall_Popularity,\n",
    "    ci =None,palette=\"Set2\", alpha=1, height=16,aspect=14.7/27.27\n",
    ")\n",
    "#g.despine(right=True)\n",
    "#g.title('Overall Popularity from combined Historical Google Searches and ACP Poll Results by Species and Gender')\n",
    "g.set_axis_labels(\"Overall Popularity per Million\", \"Species and Gender\")\n",
    "g.legend.set_title(\"Gender\")\n",
    "g.set_xticklabels(rotation=45)\n",
    "#plt.xticks(rotation=45)\n",
    "#sns.set(rc={'figure.figsize':(40.7,20.27)})"
   ]
  },
  {
   "cell_type": "code",
   "execution_count": 43,
   "id": "96703677",
   "metadata": {},
   "outputs": [],
   "source": [
    "species_gender = final_villagers.groupby(['Species','Gender'])['Overall_Popularity'].sum().unstack().fillna(0)"
   ]
  },
  {
   "cell_type": "code",
   "execution_count": 44,
   "id": "c39898ed",
   "metadata": {},
   "outputs": [
    {
     "data": {
      "text/html": [
       "<div>\n",
       "<style scoped>\n",
       "    .dataframe tbody tr th:only-of-type {\n",
       "        vertical-align: middle;\n",
       "    }\n",
       "\n",
       "    .dataframe tbody tr th {\n",
       "        vertical-align: top;\n",
       "    }\n",
       "\n",
       "    .dataframe thead th {\n",
       "        text-align: right;\n",
       "    }\n",
       "</style>\n",
       "<table border=\"1\" class=\"dataframe\">\n",
       "  <thead>\n",
       "    <tr style=\"text-align: right;\">\n",
       "      <th>Gender</th>\n",
       "      <th>Female</th>\n",
       "      <th>Male</th>\n",
       "    </tr>\n",
       "    <tr>\n",
       "      <th>Species</th>\n",
       "      <th></th>\n",
       "      <th></th>\n",
       "    </tr>\n",
       "  </thead>\n",
       "  <tbody>\n",
       "    <tr>\n",
       "      <th>Alligator</th>\n",
       "      <td>3829537.0</td>\n",
       "      <td>8863790.0</td>\n",
       "    </tr>\n",
       "    <tr>\n",
       "      <th>Anteater</th>\n",
       "      <td>10088305.0</td>\n",
       "      <td>4239434.0</td>\n",
       "    </tr>\n",
       "    <tr>\n",
       "      <th>Bear</th>\n",
       "      <td>10905360.0</td>\n",
       "      <td>14605547.0</td>\n",
       "    </tr>\n",
       "    <tr>\n",
       "      <th>Bird</th>\n",
       "      <td>5501097.0</td>\n",
       "      <td>15759870.0</td>\n",
       "    </tr>\n",
       "    <tr>\n",
       "      <th>Bull</th>\n",
       "      <td>0.0</td>\n",
       "      <td>8907036.0</td>\n",
       "    </tr>\n",
       "    <tr>\n",
       "      <th>Cat</th>\n",
       "      <td>30455604.0</td>\n",
       "      <td>17762978.0</td>\n",
       "    </tr>\n",
       "    <tr>\n",
       "      <th>Chicken</th>\n",
       "      <td>9401429.0</td>\n",
       "      <td>5419729.0</td>\n",
       "    </tr>\n",
       "    <tr>\n",
       "      <th>Cow</th>\n",
       "      <td>9792340.0</td>\n",
       "      <td>0.0</td>\n",
       "    </tr>\n",
       "    <tr>\n",
       "      <th>Cub</th>\n",
       "      <td>28820998.0</td>\n",
       "      <td>13684951.0</td>\n",
       "    </tr>\n",
       "    <tr>\n",
       "      <th>Deer</th>\n",
       "      <td>8766511.0</td>\n",
       "      <td>9725036.0</td>\n",
       "    </tr>\n",
       "    <tr>\n",
       "      <th>Dog</th>\n",
       "      <td>13315268.0</td>\n",
       "      <td>15388164.0</td>\n",
       "    </tr>\n",
       "    <tr>\n",
       "      <th>Duck</th>\n",
       "      <td>17012745.0</td>\n",
       "      <td>10582559.0</td>\n",
       "    </tr>\n",
       "    <tr>\n",
       "      <th>Eagle</th>\n",
       "      <td>3627754.0</td>\n",
       "      <td>11982449.0</td>\n",
       "    </tr>\n",
       "    <tr>\n",
       "      <th>Elephant</th>\n",
       "      <td>9195950.0</td>\n",
       "      <td>10364782.0</td>\n",
       "    </tr>\n",
       "    <tr>\n",
       "      <th>Frog</th>\n",
       "      <td>6960398.0</td>\n",
       "      <td>28806984.0</td>\n",
       "    </tr>\n",
       "    <tr>\n",
       "      <th>Goat</th>\n",
       "      <td>11160402.0</td>\n",
       "      <td>8771959.0</td>\n",
       "    </tr>\n",
       "    <tr>\n",
       "      <th>Gorilla</th>\n",
       "      <td>6945556.0</td>\n",
       "      <td>8788540.0</td>\n",
       "    </tr>\n",
       "    <tr>\n",
       "      <th>Hamster</th>\n",
       "      <td>5842648.0</td>\n",
       "      <td>26556304.0</td>\n",
       "    </tr>\n",
       "    <tr>\n",
       "      <th>Hippo</th>\n",
       "      <td>10024759.0</td>\n",
       "      <td>9321611.0</td>\n",
       "    </tr>\n",
       "    <tr>\n",
       "      <th>Horse</th>\n",
       "      <td>10878337.0</td>\n",
       "      <td>15363578.0</td>\n",
       "    </tr>\n",
       "    <tr>\n",
       "      <th>Kangaroo</th>\n",
       "      <td>8374773.0</td>\n",
       "      <td>2449952.0</td>\n",
       "    </tr>\n",
       "    <tr>\n",
       "      <th>Koala</th>\n",
       "      <td>7852381.0</td>\n",
       "      <td>6349529.0</td>\n",
       "    </tr>\n",
       "    <tr>\n",
       "      <th>Lion</th>\n",
       "      <td>0.0</td>\n",
       "      <td>11496567.0</td>\n",
       "    </tr>\n",
       "    <tr>\n",
       "      <th>Monkey</th>\n",
       "      <td>7444689.0</td>\n",
       "      <td>8487696.0</td>\n",
       "    </tr>\n",
       "    <tr>\n",
       "      <th>Mouse</th>\n",
       "      <td>15003133.0</td>\n",
       "      <td>13649356.0</td>\n",
       "    </tr>\n",
       "    <tr>\n",
       "      <th>Octopus</th>\n",
       "      <td>3063629.0</td>\n",
       "      <td>5368276.0</td>\n",
       "    </tr>\n",
       "    <tr>\n",
       "      <th>Ostrich</th>\n",
       "      <td>11263632.0</td>\n",
       "      <td>7900667.0</td>\n",
       "    </tr>\n",
       "    <tr>\n",
       "      <th>Penguin</th>\n",
       "      <td>10446100.0</td>\n",
       "      <td>11845818.0</td>\n",
       "    </tr>\n",
       "    <tr>\n",
       "      <th>Pig</th>\n",
       "      <td>15222174.0</td>\n",
       "      <td>13292415.0</td>\n",
       "    </tr>\n",
       "    <tr>\n",
       "      <th>Rabbit</th>\n",
       "      <td>17404122.0</td>\n",
       "      <td>11780715.0</td>\n",
       "    </tr>\n",
       "    <tr>\n",
       "      <th>Rhino</th>\n",
       "      <td>3985163.0</td>\n",
       "      <td>5580661.0</td>\n",
       "    </tr>\n",
       "    <tr>\n",
       "      <th>Sheep</th>\n",
       "      <td>13388594.0</td>\n",
       "      <td>6124028.0</td>\n",
       "    </tr>\n",
       "    <tr>\n",
       "      <th>Squirrel</th>\n",
       "      <td>18740229.0</td>\n",
       "      <td>6549814.0</td>\n",
       "    </tr>\n",
       "    <tr>\n",
       "      <th>Tiger</th>\n",
       "      <td>5177915.0</td>\n",
       "      <td>10426707.0</td>\n",
       "    </tr>\n",
       "    <tr>\n",
       "      <th>Wolf</th>\n",
       "      <td>14188848.0</td>\n",
       "      <td>12197663.0</td>\n",
       "    </tr>\n",
       "  </tbody>\n",
       "</table>\n",
       "</div>"
      ],
      "text/plain": [
       "Gender         Female        Male\n",
       "Species                          \n",
       "Alligator   3829537.0   8863790.0\n",
       "Anteater   10088305.0   4239434.0\n",
       "Bear       10905360.0  14605547.0\n",
       "Bird        5501097.0  15759870.0\n",
       "Bull              0.0   8907036.0\n",
       "Cat        30455604.0  17762978.0\n",
       "Chicken     9401429.0   5419729.0\n",
       "Cow         9792340.0         0.0\n",
       "Cub        28820998.0  13684951.0\n",
       "Deer        8766511.0   9725036.0\n",
       "Dog        13315268.0  15388164.0\n",
       "Duck       17012745.0  10582559.0\n",
       "Eagle       3627754.0  11982449.0\n",
       "Elephant    9195950.0  10364782.0\n",
       "Frog        6960398.0  28806984.0\n",
       "Goat       11160402.0   8771959.0\n",
       "Gorilla     6945556.0   8788540.0\n",
       "Hamster     5842648.0  26556304.0\n",
       "Hippo      10024759.0   9321611.0\n",
       "Horse      10878337.0  15363578.0\n",
       "Kangaroo    8374773.0   2449952.0\n",
       "Koala       7852381.0   6349529.0\n",
       "Lion              0.0  11496567.0\n",
       "Monkey      7444689.0   8487696.0\n",
       "Mouse      15003133.0  13649356.0\n",
       "Octopus     3063629.0   5368276.0\n",
       "Ostrich    11263632.0   7900667.0\n",
       "Penguin    10446100.0  11845818.0\n",
       "Pig        15222174.0  13292415.0\n",
       "Rabbit     17404122.0  11780715.0\n",
       "Rhino       3985163.0   5580661.0\n",
       "Sheep      13388594.0   6124028.0\n",
       "Squirrel   18740229.0   6549814.0\n",
       "Tiger       5177915.0  10426707.0\n",
       "Wolf       14188848.0  12197663.0"
      ]
     },
     "execution_count": 44,
     "metadata": {},
     "output_type": "execute_result"
    }
   ],
   "source": [
    "species_gender"
   ]
  },
  {
   "cell_type": "code",
   "execution_count": 45,
   "id": "1e4bf033",
   "metadata": {},
   "outputs": [
    {
     "data": {
      "image/png": "[encoded data removed]",
      "text/plain": [
       "<Figure size 1296x720 with 1 Axes>"
      ]
     },
     "metadata": {
      "needs_background": "light"
     },
     "output_type": "display_data"
    }
   ],
   "source": [
    "# Draw a nested barplot by species and sex\n",
    "gv2 = species_gender.plot(\n",
    "    kind=\"bar\",stacked=True,\n",
    "    alpha=0.8,colormap = 'Set3_r',\n",
    "    title = 'Overall Popularity by Species and Gender',\n",
    "    figsize = (18,10), grid = False\n",
    ")\n",
    "#g.despine(right=True)\n",
    "#g.title('Overall Popularity from combined Historical Google Searches and ACP Poll Results by Species and Gender')\n",
    "#gv2.set_axis_labels(\"Overall Popularity per Million\", \"Species and Gender\")\n",
    "#gv2.legend.set_title(\"Gender\")\n",
    "#gv2.set_xticklabels(rotation=45)\n",
    "#plt.xticks(rotation=45)\n",
    "#sns.set(rc={'figure.figsize':(40.7,20.27)})"
   ]
  },
  {
   "cell_type": "code",
   "execution_count": 46,
   "id": "455e3288",
   "metadata": {},
   "outputs": [],
   "source": [
    "personality_gender = final_villagers.groupby(['Personality','Gender'])['Overall_Popularity'].sum().unstack().fillna(0)"
   ]
  },
  {
   "cell_type": "code",
   "execution_count": 47,
   "id": "dcacca7b",
   "metadata": {},
   "outputs": [
    {
     "data": {
      "text/html": [
       "<div>\n",
       "<style scoped>\n",
       "    .dataframe tbody tr th:only-of-type {\n",
       "        vertical-align: middle;\n",
       "    }\n",
       "\n",
       "    .dataframe tbody tr th {\n",
       "        vertical-align: top;\n",
       "    }\n",
       "\n",
       "    .dataframe thead th {\n",
       "        text-align: right;\n",
       "    }\n",
       "</style>\n",
       "<table border=\"1\" class=\"dataframe\">\n",
       "  <thead>\n",
       "    <tr style=\"text-align: right;\">\n",
       "      <th>Gender</th>\n",
       "      <th>Female</th>\n",
       "      <th>Male</th>\n",
       "    </tr>\n",
       "    <tr>\n",
       "      <th>Personality</th>\n",
       "      <th></th>\n",
       "      <th></th>\n",
       "    </tr>\n",
       "  </thead>\n",
       "  <tbody>\n",
       "    <tr>\n",
       "      <th>Big Sister</th>\n",
       "      <td>55466139.0</td>\n",
       "      <td>0.0</td>\n",
       "    </tr>\n",
       "    <tr>\n",
       "      <th>Cranky</th>\n",
       "      <td>0.0</td>\n",
       "      <td>91762446.0</td>\n",
       "    </tr>\n",
       "    <tr>\n",
       "      <th>Jock</th>\n",
       "      <td>0.0</td>\n",
       "      <td>99641958.0</td>\n",
       "    </tr>\n",
       "    <tr>\n",
       "      <th>Lazy</th>\n",
       "      <td>0.0</td>\n",
       "      <td>130585526.0</td>\n",
       "    </tr>\n",
       "    <tr>\n",
       "      <th>Normal</th>\n",
       "      <td>122477521.0</td>\n",
       "      <td>0.0</td>\n",
       "    </tr>\n",
       "    <tr>\n",
       "      <th>Peppy</th>\n",
       "      <td>91630604.0</td>\n",
       "      <td>0.0</td>\n",
       "    </tr>\n",
       "    <tr>\n",
       "      <th>Smug</th>\n",
       "      <td>0.0</td>\n",
       "      <td>56405235.0</td>\n",
       "    </tr>\n",
       "    <tr>\n",
       "      <th>Snooty</th>\n",
       "      <td>94506116.0</td>\n",
       "      <td>0.0</td>\n",
       "    </tr>\n",
       "  </tbody>\n",
       "</table>\n",
       "</div>"
      ],
      "text/plain": [
       "Gender            Female         Male\n",
       "Personality                          \n",
       "Big Sister    55466139.0          0.0\n",
       "Cranky               0.0   91762446.0\n",
       "Jock                 0.0   99641958.0\n",
       "Lazy                 0.0  130585526.0\n",
       "Normal       122477521.0          0.0\n",
       "Peppy         91630604.0          0.0\n",
       "Smug                 0.0   56405235.0\n",
       "Snooty        94506116.0          0.0"
      ]
     },
     "execution_count": 47,
     "metadata": {},
     "output_type": "execute_result"
    }
   ],
   "source": [
    "personality_gender"
   ]
  },
  {
   "cell_type": "code",
   "execution_count": 48,
   "id": "af917fc0",
   "metadata": {},
   "outputs": [
    {
     "data": {
      "image/png": "[encoded data removed]",
      "text/plain": [
       "<Figure size 1080x720 with 1 Axes>"
      ]
     },
     "metadata": {
      "needs_background": "light"
     },
     "output_type": "display_data"
    }
   ],
   "source": [
    "# Very simple one-liner using our personality_gender DataFrame.\n",
    "p = personality_gender.plot(kind='bar', stacked=True,figsize = (15,10),rot = 0,\n",
    "                           title = 'Popularity by Villager Personality and Gender',\n",
    "                           grid = False,colormap = 'Set2')\n",
    "\n",
    "# Just add a title and rotate the x-axis labels to be horizontal.\n",
    "#plt.xticks(rotation=0, ha='center')\n",
    "#plt.figure(figsize = (10,15))\n",
    "#p.sns.set(rc={'figure.figsize':(40.7,20.27)})"
   ]
  },
  {
   "cell_type": "code",
   "execution_count": 49,
   "id": "8a934705",
   "metadata": {},
   "outputs": [],
   "source": [
    "piedata = final_villagers.groupby(final_villagers['Gender']).size().reset_index()"
   ]
  },
  {
   "cell_type": "code",
   "execution_count": 50,
   "id": "800e89d7",
   "metadata": {},
   "outputs": [],
   "source": [
    "piedata = piedata.rename(columns={0:'Count'})"
   ]
  },
  {
   "cell_type": "code",
   "execution_count": 51,
   "id": "6b1e0a4c",
   "metadata": {},
   "outputs": [
    {
     "data": {
      "text/html": [
       "<div>\n",
       "<style scoped>\n",
       "    .dataframe tbody tr th:only-of-type {\n",
       "        vertical-align: middle;\n",
       "    }\n",
       "\n",
       "    .dataframe tbody tr th {\n",
       "        vertical-align: top;\n",
       "    }\n",
       "\n",
       "    .dataframe thead th {\n",
       "        text-align: right;\n",
       "    }\n",
       "</style>\n",
       "<table border=\"1\" class=\"dataframe\">\n",
       "  <thead>\n",
       "    <tr style=\"text-align: right;\">\n",
       "      <th></th>\n",
       "      <th>Count</th>\n",
       "    </tr>\n",
       "    <tr>\n",
       "      <th>Gender</th>\n",
       "      <th></th>\n",
       "    </tr>\n",
       "  </thead>\n",
       "  <tbody>\n",
       "    <tr>\n",
       "      <th>Female</th>\n",
       "      <td>187</td>\n",
       "    </tr>\n",
       "    <tr>\n",
       "      <th>Male</th>\n",
       "      <td>204</td>\n",
       "    </tr>\n",
       "  </tbody>\n",
       "</table>\n",
       "</div>"
      ],
      "text/plain": [
       "        Count\n",
       "Gender       \n",
       "Female    187\n",
       "Male      204"
      ]
     },
     "execution_count": 51,
     "metadata": {},
     "output_type": "execute_result"
    }
   ],
   "source": [
    "piedata.set_index(\"Gender\")"
   ]
  },
  {
   "cell_type": "code",
   "execution_count": 52,
   "id": "a5bb96b6",
   "metadata": {},
   "outputs": [
    {
     "data": {
      "image/png": "[encoded data removed]",
      "text/plain": [
       "<Figure size 432x288 with 1 Axes>"
      ]
     },
     "metadata": {},
     "output_type": "display_data"
    },
    {
     "data": {
      "text/plain": [
       "<Figure size 576x720 with 0 Axes>"
      ]
     },
     "metadata": {},
     "output_type": "display_data"
    }
   ],
   "source": [
    "#Pie chart by villager genders:\n",
    "#Gender variable [nominal categorical as color & quantitative as count]\n",
    "\n",
    "piedata1 = piedata['Count'].tolist()\n",
    "labels = ['Female', 'Male']\n",
    "\n",
    "#define Seaborn color palette to use\n",
    "colors = sns.color_palette('pastel')[2:4]\n",
    "\n",
    "#create pie chart\n",
    "plt.pie(piedata1, labels = labels,counterclock=False,colors = colors, autopct='%.0f%%',\n",
    "       startangle = 90)\n",
    "plt.figure(figsize = (8,10))\n",
    "plt.show()"
   ]
  },
  {
   "cell_type": "code",
   "execution_count": 53,
   "id": "82c91b63",
   "metadata": {},
   "outputs": [],
   "source": [
    "#Bubble chart:\n",
    "#Species of villagers variable [nominal categorical variable]\n",
    "#Top ten villager popularity for each gender [color + size]"
   ]
  },
  {
   "cell_type": "code",
   "execution_count": 54,
   "id": "559fb61c",
   "metadata": {},
   "outputs": [],
   "source": [
    "top10ACPPoll=final_villagers.sort_values(by =['Poll_Results'], ascending = False)[0:10]"
   ]
  },
  {
   "cell_type": "code",
   "execution_count": 55,
   "id": "f7ba6a10",
   "metadata": {},
   "outputs": [],
   "source": [
    "top10google=final_villagers.sort_values(by =['Total_Google_Searches'], ascending = False)[0:10]"
   ]
  },
  {
   "cell_type": "code",
   "execution_count": 56,
   "id": "3671106f",
   "metadata": {},
   "outputs": [],
   "source": [
    "top10acplist= top10ACPPoll['Name'].tolist()\n",
    "top10googlelist = top10google['Name'].tolist()"
   ]
  },
  {
   "cell_type": "code",
   "execution_count": 57,
   "id": "470a09ab",
   "metadata": {},
   "outputs": [],
   "source": [
    "merge10list= top10acplist + top10googlelist\n",
    "merge10finallist= set(merge10list)\n",
    "mergelistdf= pd.DataFrame(merge10finallist)"
   ]
  },
  {
   "cell_type": "code",
   "execution_count": 58,
   "id": "db0c295c",
   "metadata": {},
   "outputs": [],
   "source": [
    "final_overallpop_df = mergelistdf.merge(final_villagers,left_on=0,right_on='Name',how='left')"
   ]
  },
  {
   "cell_type": "code",
   "execution_count": 59,
   "id": "b5803a92",
   "metadata": {},
   "outputs": [
    {
     "data": {
      "application/vnd.plotly.v1+json": {
       "config": {
        "plotlyServerURL": "https://plot.ly"
       },
       "data": [
        {
         "alignmentgroup": "True",
         "hovertemplate": "Personality=Big Sister<br>value=%{x}<br>Species=%{y}<extra></extra>",
         "legendgroup": "Big Sister",
         "marker": {
          "color": "#FECB52",
          "pattern": {
           "shape": ""
          }
         },
         "name": "Big Sister",
         "offsetgroup": "Big Sister",
         "orientation": "h",
         "showlegend": true,
         "textfont": {
          "size": 18
         },
         "textposition": "auto",
         "type": "bar",
         "width": 0.85,
         "x": [
          0,
          0,
          4624252,
          0,
          0,
          2303274,
          4198743,
          0,
          3006443,
          4982639,
          518395,
          0,
          0,
          0,
          899624,
          4167954,
          6068679,
          0,
          0,
          1866542,
          2438194,
          849411,
          0,
          2601650,
          0,
          0,
          2200949,
          3058311,
          4733985,
          1902276,
          645,
          2892619,
          2151554,
          0,
          0
         ],
         "xaxis": "x",
         "y": [
          "Alligator",
          "Anteater",
          "Bear",
          "Bird",
          "Bull",
          "Cat",
          "Chicken",
          "Cow",
          "Cub",
          "Deer",
          "Dog",
          "Duck",
          "Eagle",
          "Elephant",
          "Frog",
          "Goat",
          "Gorilla",
          "Hamster",
          "Hippo",
          "Horse",
          "Kangaroo",
          "Koala",
          "Lion",
          "Monkey",
          "Mouse",
          "Octopus",
          "Ostrich",
          "Penguin",
          "Pig",
          "Rabbit",
          "Rhino",
          "Sheep",
          "Squirrel",
          "Tiger",
          "Wolf"
         ],
         "yaxis": "y"
        },
        {
         "alignmentgroup": "True",
         "hovertemplate": "Personality=Cranky<br>value=%{x}<br>Species=%{y}<extra></extra>",
         "legendgroup": "Cranky",
         "marker": {
          "color": "#FF97FF",
          "pattern": {
           "shape": ""
          }
         },
         "name": "Cranky",
         "offsetgroup": "Cranky",
         "orientation": "h",
         "showlegend": true,
         "textfont": {
          "size": 18
         },
         "textposition": "auto",
         "type": "bar",
         "width": 0.85,
         "x": [
          1086648,
          1769126,
          8637966,
          2417832,
          3852603,
          6755173,
          773626,
          0,
          3375015,
          2372675,
          566735,
          0,
          4422642,
          1988656,
          2671725,
          2008999,
          4051328,
          1887477,
          3029697,
          2383181,
          2449952,
          3879721,
          2780477,
          2150116,
          1169686,
          2838334,
          0,
          1467157,
          2712324,
          1063129,
          2437956,
          0,
          1197366,
          2054095,
          11511029
         ],
         "xaxis": "x",
         "y": [
          "Alligator",
          "Anteater",
          "Bear",
          "Bird",
          "Bull",
          "Cat",
          "Chicken",
          "Cow",
          "Cub",
          "Deer",
          "Dog",
          "Duck",
          "Eagle",
          "Elephant",
          "Frog",
          "Goat",
          "Gorilla",
          "Hamster",
          "Hippo",
          "Horse",
          "Kangaroo",
          "Koala",
          "Lion",
          "Monkey",
          "Mouse",
          "Octopus",
          "Ostrich",
          "Penguin",
          "Pig",
          "Rabbit",
          "Rhino",
          "Sheep",
          "Squirrel",
          "Tiger",
          "Wolf"
         ],
         "yaxis": "y"
        },
        {
         "alignmentgroup": "True",
         "hovertemplate": "Personality=Jock<br>value=%{x}<br>Species=%{y}<extra></extra>",
         "legendgroup": "Jock",
         "marker": {
          "color": "#B6E880",
          "pattern": {
           "shape": ""
          }
         },
         "name": "Jock",
         "offsetgroup": "Jock",
         "orientation": "h",
         "showlegend": true,
         "textfont": {
          "size": 18
         },
         "textposition": "auto",
         "type": "bar",
         "width": 0.85,
         "x": [
          3717833,
          526085,
          1813437,
          4009982,
          1879055,
          3263189,
          502220,
          0,
          2420770,
          958633,
          1183514,
          4952694,
          5570959,
          1610355,
          16884039,
          1008960,
          1614683,
          1112026,
          3926531,
          588050,
          0,
          1420,
          2653456,
          1380446,
          6817127,
          0,
          2280779,
          4380923,
          4563411,
          3174898,
          1633189,
          4468975,
          2371707,
          8372612,
          0
         ],
         "xaxis": "x",
         "y": [
          "Alligator",
          "Anteater",
          "Bear",
          "Bird",
          "Bull",
          "Cat",
          "Chicken",
          "Cow",
          "Cub",
          "Deer",
          "Dog",
          "Duck",
          "Eagle",
          "Elephant",
          "Frog",
          "Goat",
          "Gorilla",
          "Hamster",
          "Hippo",
          "Horse",
          "Kangaroo",
          "Koala",
          "Lion",
          "Monkey",
          "Mouse",
          "Octopus",
          "Ostrich",
          "Penguin",
          "Pig",
          "Rabbit",
          "Rhino",
          "Sheep",
          "Squirrel",
          "Tiger",
          "Wolf"
         ],
         "yaxis": "y"
        },
        {
         "alignmentgroup": "True",
         "hovertemplate": "Personality=Lazy<br>value=%{x}<br>Species=%{y}<extra></extra>",
         "legendgroup": "Lazy",
         "marker": {
          "color": "#FF6692",
          "pattern": {
           "shape": ""
          }
         },
         "name": "Lazy",
         "offsetgroup": "Lazy",
         "orientation": "h",
         "showlegend": true,
         "textfont": {
          "size": 18
         },
         "textposition": "auto",
         "type": "bar",
         "width": 0.85,
         "x": [
          4059309,
          0,
          2225242,
          6410224,
          3175378,
          2810488,
          3575690,
          0,
          7889166,
          3696305,
          11188574,
          4130768,
          0,
          6765771,
          5575300,
          5628733,
          1619350,
          19221575,
          0,
          5631344,
          0,
          1652809,
          2597175,
          4957134,
          3635346,
          2529942,
          2916268,
          3377246,
          4450928,
          7541841,
          1509516,
          0,
          1814104,
          0,
          0
         ],
         "xaxis": "x",
         "y": [
          "Alligator",
          "Anteater",
          "Bear",
          "Bird",
          "Bull",
          "Cat",
          "Chicken",
          "Cow",
          "Cub",
          "Deer",
          "Dog",
          "Duck",
          "Eagle",
          "Elephant",
          "Frog",
          "Goat",
          "Gorilla",
          "Hamster",
          "Hippo",
          "Horse",
          "Kangaroo",
          "Koala",
          "Lion",
          "Monkey",
          "Mouse",
          "Octopus",
          "Ostrich",
          "Penguin",
          "Pig",
          "Rabbit",
          "Rhino",
          "Sheep",
          "Squirrel",
          "Tiger",
          "Wolf"
         ],
         "yaxis": "y"
        },
        {
         "alignmentgroup": "True",
         "hovertemplate": "Personality=Normal<br>value=%{x}<br>Species=%{y}<extra></extra>",
         "legendgroup": "Normal",
         "marker": {
          "color": "#19D3F3",
          "pattern": {
           "shape": ""
          }
         },
         "name": "Normal",
         "offsetgroup": "Normal",
         "orientation": "h",
         "showlegend": true,
         "textfont": {
          "size": 18
         },
         "textposition": "auto",
         "type": "bar",
         "width": 0.85,
         "x": [
          1807134,
          2080636,
          2786335,
          1738875,
          0,
          5523681,
          2590344,
          2524662,
          18096684,
          2433578,
          5437909,
          3361852,
          1364200,
          7060592,
          1850410,
          5024366,
          0,
          1945888,
          2139767,
          4098888,
          3278475,
          4985369,
          0,
          936129,
          3986366,
          3063629,
          3725786,
          2839626,
          6073075,
          1980713,
          3984518,
          4599553,
          7411604,
          0,
          3746877
         ],
         "xaxis": "x",
         "y": [
          "Alligator",
          "Anteater",
          "Bear",
          "Bird",
          "Bull",
          "Cat",
          "Chicken",
          "Cow",
          "Cub",
          "Deer",
          "Dog",
          "Duck",
          "Eagle",
          "Elephant",
          "Frog",
          "Goat",
          "Gorilla",
          "Hamster",
          "Hippo",
          "Horse",
          "Kangaroo",
          "Koala",
          "Lion",
          "Monkey",
          "Mouse",
          "Octopus",
          "Ostrich",
          "Penguin",
          "Pig",
          "Rabbit",
          "Rhino",
          "Sheep",
          "Squirrel",
          "Tiger",
          "Wolf"
         ],
         "yaxis": "y"
        },
        {
         "alignmentgroup": "True",
         "hovertemplate": "Personality=Peppy<br>value=%{x}<br>Species=%{y}<extra></extra>",
         "legendgroup": "Peppy",
         "marker": {
          "color": "#FFA15A",
          "pattern": {
           "shape": ""
          }
         },
         "name": "Peppy",
         "offsetgroup": "Peppy",
         "orientation": "h",
         "showlegend": true,
         "textfont": {
          "size": 18
         },
         "textposition": "auto",
         "type": "bar",
         "width": 0.85,
         "x": [
          0,
          5012798,
          3494773,
          3683394,
          0,
          7368853,
          0,
          2598255,
          3016630,
          0,
          7177938,
          5274879,
          0,
          0,
          2264187,
          0,
          0,
          1340949,
          6043230,
          3991487,
          0,
          0,
          0,
          2288496,
          6967533,
          0,
          2786348,
          2067821,
          2460170,
          9894530,
          0,
          1056690,
          4779416,
          3139035,
          4923192
         ],
         "xaxis": "x",
         "y": [
          "Alligator",
          "Anteater",
          "Bear",
          "Bird",
          "Bull",
          "Cat",
          "Chicken",
          "Cow",
          "Cub",
          "Deer",
          "Dog",
          "Duck",
          "Eagle",
          "Elephant",
          "Frog",
          "Goat",
          "Gorilla",
          "Hamster",
          "Hippo",
          "Horse",
          "Kangaroo",
          "Koala",
          "Lion",
          "Monkey",
          "Mouse",
          "Octopus",
          "Ostrich",
          "Penguin",
          "Pig",
          "Rabbit",
          "Rhino",
          "Sheep",
          "Squirrel",
          "Tiger",
          "Wolf"
         ],
         "yaxis": "y"
        },
        {
         "alignmentgroup": "True",
         "hovertemplate": "Personality=Smug<br>value=%{x}<br>Species=%{y}<extra></extra>",
         "legendgroup": "Smug",
         "marker": {
          "color": "#AB63FA",
          "pattern": {
           "shape": ""
          }
         },
         "name": "Smug",
         "offsetgroup": "Smug",
         "orientation": "h",
         "showlegend": true,
         "textfont": {
          "size": 18
         },
         "textposition": "auto",
         "type": "bar",
         "width": 0.85,
         "x": [
          0,
          1944223,
          1928902,
          2921832,
          0,
          4934128,
          568193,
          0,
          0,
          2697423,
          2449341,
          1499097,
          1988848,
          0,
          3675920,
          125267,
          1503179,
          4335226,
          2365383,
          6761003,
          0,
          815579,
          3465459,
          0,
          2027197,
          0,
          2703620,
          2620492,
          1565752,
          847,
          0,
          1655053,
          1166637,
          0,
          686634
         ],
         "xaxis": "x",
         "y": [
          "Alligator",
          "Anteater",
          "Bear",
          "Bird",
          "Bull",
          "Cat",
          "Chicken",
          "Cow",
          "Cub",
          "Deer",
          "Dog",
          "Duck",
          "Eagle",
          "Elephant",
          "Frog",
          "Goat",
          "Gorilla",
          "Hamster",
          "Hippo",
          "Horse",
          "Kangaroo",
          "Koala",
          "Lion",
          "Monkey",
          "Mouse",
          "Octopus",
          "Ostrich",
          "Penguin",
          "Pig",
          "Rabbit",
          "Rhino",
          "Sheep",
          "Squirrel",
          "Tiger",
          "Wolf"
         ],
         "yaxis": "y"
        },
        {
         "alignmentgroup": "True",
         "hovertemplate": "Personality=Snooty<br>value=%{x}<br>Species=%{y}<extra></extra>",
         "legendgroup": "Snooty",
         "marker": {
          "color": "#00CC96",
          "pattern": {
           "shape": ""
          }
         },
         "name": "Snooty",
         "offsetgroup": "Snooty",
         "orientation": "h",
         "showlegend": true,
         "textfont": {
          "size": 18
         },
         "textposition": "auto",
         "type": "bar",
         "width": 0.85,
         "x": [
          2022403,
          2994871,
          0,
          78828,
          0,
          15259796,
          2612342,
          4669423,
          4701241,
          1350294,
          181026,
          8376014,
          2263554,
          2135358,
          1946177,
          1968082,
          876877,
          2555811,
          1841762,
          921420,
          2658104,
          2017601,
          0,
          1618414,
          4049234,
          0,
          2550549,
          2480342,
          1954944,
          3626603,
          0,
          4839732,
          4397655,
          2038880,
          5518779
         ],
         "xaxis": "x",
         "y": [
          "Alligator",
          "Anteater",
          "Bear",
          "Bird",
          "Bull",
          "Cat",
          "Chicken",
          "Cow",
          "Cub",
          "Deer",
          "Dog",
          "Duck",
          "Eagle",
          "Elephant",
          "Frog",
          "Goat",
          "Gorilla",
          "Hamster",
          "Hippo",
          "Horse",
          "Kangaroo",
          "Koala",
          "Lion",
          "Monkey",
          "Mouse",
          "Octopus",
          "Ostrich",
          "Penguin",
          "Pig",
          "Rabbit",
          "Rhino",
          "Sheep",
          "Squirrel",
          "Tiger",
          "Wolf"
         ],
         "yaxis": "y"
        }
       ],
       "layout": {
        "autosize": false,
        "barmode": "stack",
        "font": {
         "family": "Helvetica",
         "size": 20
        },
        "height": 1000,
        "legend": {
         "font": {
          "size": 19
         },
         "title": {
          "text": "Personality"
         },
         "tracegroupgap": 0
        },
        "plot_bgcolor": "white",
        "template": {
         "data": {
          "bar": [
           {
            "error_x": {
             "color": "#2a3f5f"
            },
            "error_y": {
             "color": "#2a3f5f"
            },
            "marker": {
             "line": {
              "color": "#E5ECF6",
              "width": 0.5
             },
             "pattern": {
              "fillmode": "overlay",
              "size": 10,
              "solidity": 0.2
             }
            },
            "type": "bar"
           }
          ],
          "barpolar": [
           {
            "marker": {
             "line": {
              "color": "#E5ECF6",
              "width": 0.5
             },
             "pattern": {
              "fillmode": "overlay",
              "size": 10,
              "solidity": 0.2
             }
            },
            "type": "barpolar"
           }
          ],
          "carpet": [
           {
            "aaxis": {
             "endlinecolor": "#2a3f5f",
             "gridcolor": "white",
             "linecolor": "white",
             "minorgridcolor": "white",
             "startlinecolor": "#2a3f5f"
            },
            "baxis": {
             "endlinecolor": "#2a3f5f",
             "gridcolor": "white",
             "linecolor": "white",
             "minorgridcolor": "white",
             "startlinecolor": "#2a3f5f"
            },
            "type": "carpet"
           }
          ],
          "choropleth": [
           {
            "colorbar": {
             "outlinewidth": 0,
             "ticks": ""
            },
            "type": "choropleth"
           }
          ],
          "contour": [
           {
            "colorbar": {
             "outlinewidth": 0,
             "ticks": ""
            },
            "colorscale": [
             [
              0,
              "#0d0887"
             ],
             [
              0.1111111111111111,
              "#46039f"
             ],
             [
              0.2222222222222222,
              "#7201a8"
             ],
             [
              0.3333333333333333,
              "#9c179e"
             ],
             [
              0.4444444444444444,
              "#bd3786"
             ],
             [
              0.5555555555555556,
              "#d8576b"
             ],
             [
              0.6666666666666666,
              "#ed7953"
             ],
             [
              0.7777777777777778,
              "#fb9f3a"
             ],
             [
              0.8888888888888888,
              "#fdca26"
             ],
             [
              1,
              "#f0f921"
             ]
            ],
            "type": "contour"
           }
          ],
          "contourcarpet": [
           {
            "colorbar": {
             "outlinewidth": 0,
             "ticks": ""
            },
            "type": "contourcarpet"
           }
          ],
          "heatmap": [
           {
            "colorbar": {
             "outlinewidth": 0,
             "ticks": ""
            },
            "colorscale": [
             [
              0,
              "#0d0887"
             ],
             [
              0.1111111111111111,
              "#46039f"
             ],
             [
              0.2222222222222222,
              "#7201a8"
             ],
             [
              0.3333333333333333,
              "#9c179e"
             ],
             [
              0.4444444444444444,
              "#bd3786"
             ],
             [
              0.5555555555555556,
              "#d8576b"
             ],
             [
              0.6666666666666666,
              "#ed7953"
             ],
             [
              0.7777777777777778,
              "#fb9f3a"
             ],
             [
              0.8888888888888888,
              "#fdca26"
             ],
             [
              1,
              "#f0f921"
             ]
            ],
            "type": "heatmap"
           }
          ],
          "heatmapgl": [
           {
            "colorbar": {
             "outlinewidth": 0,
             "ticks": ""
            },
            "colorscale": [
             [
              0,
              "#0d0887"
             ],
             [
              0.1111111111111111,
              "#46039f"
             ],
             [
              0.2222222222222222,
              "#7201a8"
             ],
             [
              0.3333333333333333,
              "#9c179e"
             ],
             [
              0.4444444444444444,
              "#bd3786"
             ],
             [
              0.5555555555555556,
              "#d8576b"
             ],
             [
              0.6666666666666666,
              "#ed7953"
             ],
             [
              0.7777777777777778,
              "#fb9f3a"
             ],
             [
              0.8888888888888888,
              "#fdca26"
             ],
             [
              1,
              "#f0f921"
             ]
            ],
            "type": "heatmapgl"
           }
          ],
          "histogram": [
           {
            "marker": {
             "pattern": {
              "fillmode": "overlay",
              "size": 10,
              "solidity": 0.2
             }
            },
            "type": "histogram"
           }
          ],
          "histogram2d": [
           {
            "colorbar": {
             "outlinewidth": 0,
             "ticks": ""
            },
            "colorscale": [
             [
              0,
              "#0d0887"
             ],
             [
              0.1111111111111111,
              "#46039f"
             ],
             [
              0.2222222222222222,
              "#7201a8"
             ],
             [
              0.3333333333333333,
              "#9c179e"
             ],
             [
              0.4444444444444444,
              "#bd3786"
             ],
             [
              0.5555555555555556,
              "#d8576b"
             ],
             [
              0.6666666666666666,
              "#ed7953"
             ],
             [
              0.7777777777777778,
              "#fb9f3a"
             ],
             [
              0.8888888888888888,
              "#fdca26"
             ],
             [
              1,
              "#f0f921"
             ]
            ],
            "type": "histogram2d"
           }
          ],
          "histogram2dcontour": [
           {
            "colorbar": {
             "outlinewidth": 0,
             "ticks": ""
            },
            "colorscale": [
             [
              0,
              "#0d0887"
             ],
             [
              0.1111111111111111,
              "#46039f"
             ],
             [
              0.2222222222222222,
              "#7201a8"
             ],
             [
              0.3333333333333333,
              "#9c179e"
             ],
             [
              0.4444444444444444,
              "#bd3786"
             ],
             [
              0.5555555555555556,
              "#d8576b"
             ],
             [
              0.6666666666666666,
              "#ed7953"
             ],
             [
              0.7777777777777778,
              "#fb9f3a"
             ],
             [
              0.8888888888888888,
              "#fdca26"
             ],
             [
              1,
              "#f0f921"
             ]
            ],
            "type": "histogram2dcontour"
           }
          ],
          "mesh3d": [
           {
            "colorbar": {
             "outlinewidth": 0,
             "ticks": ""
            },
            "type": "mesh3d"
           }
          ],
          "parcoords": [
           {
            "line": {
             "colorbar": {
              "outlinewidth": 0,
              "ticks": ""
             }
            },
            "type": "parcoords"
           }
          ],
          "pie": [
           {
            "automargin": true,
            "type": "pie"
           }
          ],
          "scatter": [
           {
            "marker": {
             "colorbar": {
              "outlinewidth": 0,
              "ticks": ""
             }
            },
            "type": "scatter"
           }
          ],
          "scatter3d": [
           {
            "line": {
             "colorbar": {
              "outlinewidth": 0,
              "ticks": ""
             }
            },
            "marker": {
             "colorbar": {
              "outlinewidth": 0,
              "ticks": ""
             }
            },
            "type": "scatter3d"
           }
          ],
          "scattercarpet": [
           {
            "marker": {
             "colorbar": {
              "outlinewidth": 0,
              "ticks": ""
             }
            },
            "type": "scattercarpet"
           }
          ],
          "scattergeo": [
           {
            "marker": {
             "colorbar": {
              "outlinewidth": 0,
              "ticks": ""
             }
            },
            "type": "scattergeo"
           }
          ],
          "scattergl": [
           {
            "marker": {
             "colorbar": {
              "outlinewidth": 0,
              "ticks": ""
             }
            },
            "type": "scattergl"
           }
          ],
          "scattermapbox": [
           {
            "marker": {
             "colorbar": {
              "outlinewidth": 0,
              "ticks": ""
             }
            },
            "type": "scattermapbox"
           }
          ],
          "scatterpolar": [
           {
            "marker": {
             "colorbar": {
              "outlinewidth": 0,
              "ticks": ""
             }
            },
            "type": "scatterpolar"
           }
          ],
          "scatterpolargl": [
           {
            "marker": {
             "colorbar": {
              "outlinewidth": 0,
              "ticks": ""
             }
            },
            "type": "scatterpolargl"
           }
          ],
          "scatterternary": [
           {
            "marker": {
             "colorbar": {
              "outlinewidth": 0,
              "ticks": ""
             }
            },
            "type": "scatterternary"
           }
          ],
          "surface": [
           {
            "colorbar": {
             "outlinewidth": 0,
             "ticks": ""
            },
            "colorscale": [
             [
              0,
              "#0d0887"
             ],
             [
              0.1111111111111111,
              "#46039f"
             ],
             [
              0.2222222222222222,
              "#7201a8"
             ],
             [
              0.3333333333333333,
              "#9c179e"
             ],
             [
              0.4444444444444444,
              "#bd3786"
             ],
             [
              0.5555555555555556,
              "#d8576b"
             ],
             [
              0.6666666666666666,
              "#ed7953"
             ],
             [
              0.7777777777777778,
              "#fb9f3a"
             ],
             [
              0.8888888888888888,
              "#fdca26"
             ],
             [
              1,
              "#f0f921"
             ]
            ],
            "type": "surface"
           }
          ],
          "table": [
           {
            "cells": {
             "fill": {
              "color": "#EBF0F8"
             },
             "line": {
              "color": "white"
             }
            },
            "header": {
             "fill": {
              "color": "#C8D4E3"
             },
             "line": {
              "color": "white"
             }
            },
            "type": "table"
           }
          ]
         },
         "layout": {
          "annotationdefaults": {
           "arrowcolor": "#2a3f5f",
           "arrowhead": 0,
           "arrowwidth": 1
          },
          "autotypenumbers": "strict",
          "coloraxis": {
           "colorbar": {
            "outlinewidth": 0,
            "ticks": ""
           }
          },
          "colorscale": {
           "diverging": [
            [
             0,
             "#8e0152"
            ],
            [
             0.1,
             "#c51b7d"
            ],
            [
             0.2,
             "#de77ae"
            ],
            [
             0.3,
             "#f1b6da"
            ],
            [
             0.4,
             "#fde0ef"
            ],
            [
             0.5,
             "#f7f7f7"
            ],
            [
             0.6,
             "#e6f5d0"
            ],
            [
             0.7,
             "#b8e186"
            ],
            [
             0.8,
             "#7fbc41"
            ],
            [
             0.9,
             "#4d9221"
            ],
            [
             1,
             "#276419"
            ]
           ],
           "sequential": [
            [
             0,
             "#0d0887"
            ],
            [
             0.1111111111111111,
             "#46039f"
            ],
            [
             0.2222222222222222,
             "#7201a8"
            ],
            [
             0.3333333333333333,
             "#9c179e"
            ],
            [
             0.4444444444444444,
             "#bd3786"
            ],
            [
             0.5555555555555556,
             "#d8576b"
            ],
            [
             0.6666666666666666,
             "#ed7953"
            ],
            [
             0.7777777777777778,
             "#fb9f3a"
            ],
            [
             0.8888888888888888,
             "#fdca26"
            ],
            [
             1,
             "#f0f921"
            ]
           ],
           "sequentialminus": [
            [
             0,
             "#0d0887"
            ],
            [
             0.1111111111111111,
             "#46039f"
            ],
            [
             0.2222222222222222,
             "#7201a8"
            ],
            [
             0.3333333333333333,
             "#9c179e"
            ],
            [
             0.4444444444444444,
             "#bd3786"
            ],
            [
             0.5555555555555556,
             "#d8576b"
            ],
            [
             0.6666666666666666,
             "#ed7953"
            ],
            [
             0.7777777777777778,
             "#fb9f3a"
            ],
            [
             0.8888888888888888,
             "#fdca26"
            ],
            [
             1,
             "#f0f921"
            ]
           ]
          },
          "colorway": [
           "#636efa",
           "#EF553B",
           "#00cc96",
           "#ab63fa",
           "#FFA15A",
           "#19d3f3",
           "#FF6692",
           "#B6E880",
           "#FF97FF",
           "#FECB52"
          ],
          "font": {
           "color": "#2a3f5f"
          },
          "geo": {
           "bgcolor": "white",
           "lakecolor": "white",
           "landcolor": "#E5ECF6",
           "showlakes": true,
           "showland": true,
           "subunitcolor": "white"
          },
          "hoverlabel": {
           "align": "left"
          },
          "hovermode": "closest",
          "mapbox": {
           "style": "light"
          },
          "paper_bgcolor": "white",
          "plot_bgcolor": "#E5ECF6",
          "polar": {
           "angularaxis": {
            "gridcolor": "white",
            "linecolor": "white",
            "ticks": ""
           },
           "bgcolor": "#E5ECF6",
           "radialaxis": {
            "gridcolor": "white",
            "linecolor": "white",
            "ticks": ""
           }
          },
          "scene": {
           "xaxis": {
            "backgroundcolor": "#E5ECF6",
            "gridcolor": "white",
            "gridwidth": 2,
            "linecolor": "white",
            "showbackground": true,
            "ticks": "",
            "zerolinecolor": "white"
           },
           "yaxis": {
            "backgroundcolor": "#E5ECF6",
            "gridcolor": "white",
            "gridwidth": 2,
            "linecolor": "white",
            "showbackground": true,
            "ticks": "",
            "zerolinecolor": "white"
           },
           "zaxis": {
            "backgroundcolor": "#E5ECF6",
            "gridcolor": "white",
            "gridwidth": 2,
            "linecolor": "white",
            "showbackground": true,
            "ticks": "",
            "zerolinecolor": "white"
           }
          },
          "shapedefaults": {
           "line": {
            "color": "#2a3f5f"
           }
          },
          "ternary": {
           "aaxis": {
            "gridcolor": "white",
            "linecolor": "white",
            "ticks": ""
           },
           "baxis": {
            "gridcolor": "white",
            "linecolor": "white",
            "ticks": ""
           },
           "bgcolor": "#E5ECF6",
           "caxis": {
            "gridcolor": "white",
            "linecolor": "white",
            "ticks": ""
           }
          },
          "title": {
           "x": 0.05
          },
          "xaxis": {
           "automargin": true,
           "gridcolor": "white",
           "linecolor": "white",
           "ticks": "",
           "title": {
            "standoff": 15
           },
           "zerolinecolor": "white",
           "zerolinewidth": 2
          },
          "yaxis": {
           "automargin": true,
           "gridcolor": "white",
           "linecolor": "white",
           "ticks": "",
           "title": {
            "standoff": 15
           },
           "zerolinecolor": "white",
           "zerolinewidth": 2
          }
         }
        },
        "title": {
         "font": {
          "size": 24
         },
         "text": "Popular Villagers : By Species & Personality",
         "x": 0.5,
         "y": 0.95
        },
        "width": 890,
        "xaxis": {
         "anchor": "y",
         "domain": [
          0,
          1
         ],
         "linecolor": "black",
         "linewidth": 1.5,
         "showgrid": false,
         "showline": true,
         "tickfont": {
          "size": 18
         },
         "ticks": "outside",
         "title": {
          "text": "Overall Popularity (Google Searches + ACNH Polls)"
         }
        },
        "yaxis": {
         "anchor": "x",
         "categoryorder": "total ascending",
         "domain": [
          0,
          1
         ],
         "linecolor": "black",
         "linewidth": 1.5,
         "showgrid": false,
         "showline": true,
         "tickfont": {
          "size": 18
         },
         "ticks": "outside",
         "title": {
          "text": "Villager Species"
         }
        }
       }
      }
     },
     "metadata": {},
     "output_type": "display_data"
    }
   ],
   "source": [
    "fig2 = px.bar(personality_species, color=\"Personality\",title= \"Popular Villagers: What Species are they?\",\n",
    "              color_discrete_sequence=px.colors.qualitative.Plotly_r,orientation='h')\n",
    "fig2.update_traces(textfont_size=18,width=0.85)\n",
    "fig2.update_layout(font=dict(size=20),title_font_size=24,legend_font_size=19,width=1000,height=600,font_family=\"Courier\",yaxis_title=\"Villager Species\",xaxis_title=\"Overall Popularity (Google Searches + ACNH Polls)\")\n",
    "fig2.update_layout(height=1000,width=890,autosize=False,font_family=\"Helvetica\",plot_bgcolor='white')\n",
    "fig2.update_xaxes(showgrid=False,showline=True, tickfont_size=18,ticks='outside',linecolor=\"black\",linewidth=1.5)\n",
    "fig2.update_yaxes(showgrid=False,showline=True, tickfont_size=18,ticks='outside',linecolor=\"black\",linewidth=1.5)\n",
    "fig2.update_layout(\n",
    "    title={\n",
    "        'text': \"Popular Villagers : By Species & Personality\",\n",
    "        'y':0.95,\n",
    "        'x':0.5})\n",
    "fig2.update_layout(barmode='stack', yaxis={'categoryorder':'total ascending'})\n",
    "fig2.show()"
   ]
  },
  {
   "cell_type": "code",
   "execution_count": 60,
   "id": "2754a096",
   "metadata": {},
   "outputs": [
    {
     "data": {
      "application/vnd.plotly.v1+json": {
       "config": {
        "plotlyServerURL": "https://plot.ly"
       },
       "data": [
        {
         "hovertemplate": "<b>%{hovertext}</b><br><br>Personality=Smug<br>Poll_Results=%{marker.size}<br>Total_Google_Searches=%{y}<br>Name=%{text}<extra></extra>",
         "hovertext": [
          "Marshal",
          "Raymond"
         ],
         "legendgroup": "Smug",
         "marker": {
          "color": "#636EFA",
          "size": [
           29787,
           27778
          ],
          "sizemode": "area",
          "sizeref": 8.274166666666666,
          "symbol": "circle"
         },
         "mode": "markers+text",
         "name": "Smug",
         "orientation": "v",
         "showlegend": true,
         "text": [
          "Marshal",
          "Raymond"
         ],
         "textfont": {
          "size": 19
         },
         "textposition": "bottom center",
         "type": "scatter",
         "x": [
          29787,
          27778
         ],
         "xaxis": "x",
         "y": [
          1136850,
          4906350
         ],
         "yaxis": "y"
        },
        {
         "hovertemplate": "<b>%{hovertext}</b><br><br>Personality=Peppy<br>Poll_Results=%{marker.size}<br>Total_Google_Searches=%{y}<br>Name=%{text}<extra></extra>",
         "hovertext": [
          "Audie",
          "Bubbles"
         ],
         "legendgroup": "Peppy",
         "marker": {
          "color": "#EF553B",
          "size": [
           11842,
           610
          ],
          "sizemode": "area",
          "sizeref": 8.274166666666666,
          "symbol": "circle"
         },
         "mode": "markers+text",
         "name": "Peppy",
         "orientation": "v",
         "showlegend": true,
         "text": [
          "Audie",
          "Bubbles"
         ],
         "textfont": {
          "size": 19
         },
         "textposition": "bottom center",
         "type": "scatter",
         "x": [
          11842,
          610
         ],
         "xaxis": "x",
         "y": [
          4911350,
          6042620
         ],
         "yaxis": "y"
        },
        {
         "hovertemplate": "<b>%{hovertext}</b><br><br>Personality=Jock<br>Poll_Results=%{marker.size}<br>Total_Google_Searches=%{y}<br>Name=%{text}<extra></extra>",
         "hovertext": [
          "Rod",
          "Drift"
         ],
         "legendgroup": "Jock",
         "marker": {
          "color": "#00CC96",
          "size": [
           604,
           525
          ],
          "sizemode": "area",
          "sizeref": 8.274166666666666,
          "symbol": "circle"
         },
         "mode": "markers+text",
         "name": "Jock",
         "orientation": "v",
         "showlegend": true,
         "text": [
          "Rod",
          "Drift"
         ],
         "textfont": {
          "size": 19
         },
         "textposition": "bottom center",
         "type": "scatter",
         "x": [
          604,
          525
         ],
         "xaxis": "x",
         "y": [
          5076030,
          6695950
         ],
         "yaxis": "y"
        },
        {
         "hovertemplate": "<b>%{hovertext}</b><br><br>Personality=Lazy<br>Poll_Results=%{marker.size}<br>Total_Google_Searches=%{y}<br>Name=%{text}<extra></extra>",
         "hovertext": [
          "Sherb",
          "Stitches",
          "Clay",
          "Zucker"
         ],
         "legendgroup": "Lazy",
         "marker": {
          "color": "#AB63FA",
          "size": [
           19883,
           12548,
           3425,
           17442
          ],
          "sizemode": "area",
          "sizeref": 8.274166666666666,
          "symbol": "circle"
         },
         "mode": "markers+text",
         "name": "Lazy",
         "orientation": "v",
         "showlegend": true,
         "text": [
          "Sherb",
          "Stitches",
          "Clay",
          "Zucker"
         ],
         "textfont": {
          "size": 19
         },
         "textposition": "bottom center",
         "type": "scatter",
         "x": [
          19883,
          12548,
          3425,
          17442
         ],
         "xaxis": "x",
         "y": [
          5608850,
          1597500,
          19218150,
          2512500
         ],
         "yaxis": "y"
        },
        {
         "hovertemplate": "<b>%{hovertext}</b><br><br>Personality=Normal<br>Poll_Results=%{marker.size}<br>Total_Google_Searches=%{y}<br>Name=%{text}<extra></extra>",
         "hovertext": [
          "Olive",
          "Marina",
          "Fauna"
         ],
         "legendgroup": "Normal",
         "marker": {
          "color": "#FFA15A",
          "size": [
           751,
           13129,
           11628
          ],
          "sizemode": "area",
          "sizeref": 8.274166666666666,
          "symbol": "circle"
         },
         "mode": "markers+text",
         "name": "Normal",
         "orientation": "v",
         "showlegend": true,
         "text": [
          "Olive",
          "Marina",
          "Fauna"
         ],
         "textfont": {
          "size": 19
         },
         "textposition": "bottom center",
         "type": "scatter",
         "x": [
          751,
          13129,
          11628
         ],
         "xaxis": "x",
         "y": [
          12937100,
          3050500,
          2421950
         ],
         "yaxis": "y"
        },
        {
         "hovertemplate": "<b>%{hovertext}</b><br><br>Personality=Big Sister<br>Poll_Results=%{marker.size}<br>Total_Google_Searches=%{y}<br>Name=%{text}<extra></extra>",
         "hovertext": [
          "Rocket"
         ],
         "legendgroup": "Big Sister",
         "marker": {
          "color": "#19D3F3",
          "size": [
           329
          ],
          "sizemode": "area",
          "sizeref": 8.274166666666666,
          "symbol": "circle"
         },
         "mode": "markers+text",
         "name": "Big Sister",
         "orientation": "v",
         "showlegend": true,
         "text": [
          "Rocket"
         ],
         "textfont": {
          "size": 19
         },
         "textposition": "bottom center",
         "type": "scatter",
         "x": [
          329
         ],
         "xaxis": "x",
         "y": [
          6068350
         ],
         "yaxis": "y"
        },
        {
         "hovertemplate": "<b>%{hovertext}</b><br><br>Personality=Snooty<br>Poll_Results=%{marker.size}<br>Total_Google_Searches=%{y}<br>Name=%{text}<extra></extra>",
         "hovertext": [
          "Ankha",
          "Judy"
         ],
         "legendgroup": "Snooty",
         "marker": {
          "color": "#FF6692",
          "size": [
           13038,
           14741
          ],
          "sizemode": "area",
          "sizeref": 8.274166666666666,
          "symbol": "circle"
         },
         "mode": "markers+text",
         "name": "Snooty",
         "orientation": "v",
         "showlegend": true,
         "text": [
          "Ankha",
          "Judy"
         ],
         "textfont": {
          "size": 19
         },
         "textposition": "bottom center",
         "type": "scatter",
         "x": [
          13038,
          14741
         ],
         "xaxis": "x",
         "y": [
          7264000,
          4686500
         ],
         "yaxis": "y"
        }
       ],
       "layout": {
        "autosize": false,
        "font": {
         "family": "Helvetica",
         "size": 20
        },
        "height": 700,
        "legend": {
         "itemsizing": "constant",
         "title": {
          "text": "Personality"
         },
         "tracegroupgap": 0
        },
        "margin": {
         "t": 60
        },
        "plot_bgcolor": "white",
        "template": {
         "data": {
          "bar": [
           {
            "error_x": {
             "color": "#2a3f5f"
            },
            "error_y": {
             "color": "#2a3f5f"
            },
            "marker": {
             "line": {
              "color": "#E5ECF6",
              "width": 0.5
             },
             "pattern": {
              "fillmode": "overlay",
              "size": 10,
              "solidity": 0.2
             }
            },
            "type": "bar"
           }
          ],
          "barpolar": [
           {
            "marker": {
             "line": {
              "color": "#E5ECF6",
              "width": 0.5
             },
             "pattern": {
              "fillmode": "overlay",
              "size": 10,
              "solidity": 0.2
             }
            },
            "type": "barpolar"
           }
          ],
          "carpet": [
           {
            "aaxis": {
             "endlinecolor": "#2a3f5f",
             "gridcolor": "white",
             "linecolor": "white",
             "minorgridcolor": "white",
             "startlinecolor": "#2a3f5f"
            },
            "baxis": {
             "endlinecolor": "#2a3f5f",
             "gridcolor": "white",
             "linecolor": "white",
             "minorgridcolor": "white",
             "startlinecolor": "#2a3f5f"
            },
            "type": "carpet"
           }
          ],
          "choropleth": [
           {
            "colorbar": {
             "outlinewidth": 0,
             "ticks": ""
            },
            "type": "choropleth"
           }
          ],
          "contour": [
           {
            "colorbar": {
             "outlinewidth": 0,
             "ticks": ""
            },
            "colorscale": [
             [
              0,
              "#0d0887"
             ],
             [
              0.1111111111111111,
              "#46039f"
             ],
             [
              0.2222222222222222,
              "#7201a8"
             ],
             [
              0.3333333333333333,
              "#9c179e"
             ],
             [
              0.4444444444444444,
              "#bd3786"
             ],
             [
              0.5555555555555556,
              "#d8576b"
             ],
             [
              0.6666666666666666,
              "#ed7953"
             ],
             [
              0.7777777777777778,
              "#fb9f3a"
             ],
             [
              0.8888888888888888,
              "#fdca26"
             ],
             [
              1,
              "#f0f921"
             ]
            ],
            "type": "contour"
           }
          ],
          "contourcarpet": [
           {
            "colorbar": {
             "outlinewidth": 0,
             "ticks": ""
            },
            "type": "contourcarpet"
           }
          ],
          "heatmap": [
           {
            "colorbar": {
             "outlinewidth": 0,
             "ticks": ""
            },
            "colorscale": [
             [
              0,
              "#0d0887"
             ],
             [
              0.1111111111111111,
              "#46039f"
             ],
             [
              0.2222222222222222,
              "#7201a8"
             ],
             [
              0.3333333333333333,
              "#9c179e"
             ],
             [
              0.4444444444444444,
              "#bd3786"
             ],
             [
              0.5555555555555556,
              "#d8576b"
             ],
             [
              0.6666666666666666,
              "#ed7953"
             ],
             [
              0.7777777777777778,
              "#fb9f3a"
             ],
             [
              0.8888888888888888,
              "#fdca26"
             ],
             [
              1,
              "#f0f921"
             ]
            ],
            "type": "heatmap"
           }
          ],
          "heatmapgl": [
           {
            "colorbar": {
             "outlinewidth": 0,
             "ticks": ""
            },
            "colorscale": [
             [
              0,
              "#0d0887"
             ],
             [
              0.1111111111111111,
              "#46039f"
             ],
             [
              0.2222222222222222,
              "#7201a8"
             ],
             [
              0.3333333333333333,
              "#9c179e"
             ],
             [
              0.4444444444444444,
              "#bd3786"
             ],
             [
              0.5555555555555556,
              "#d8576b"
             ],
             [
              0.6666666666666666,
              "#ed7953"
             ],
             [
              0.7777777777777778,
              "#fb9f3a"
             ],
             [
              0.8888888888888888,
              "#fdca26"
             ],
             [
              1,
              "#f0f921"
             ]
            ],
            "type": "heatmapgl"
           }
          ],
          "histogram": [
           {
            "marker": {
             "pattern": {
              "fillmode": "overlay",
              "size": 10,
              "solidity": 0.2
             }
            },
            "type": "histogram"
           }
          ],
          "histogram2d": [
           {
            "colorbar": {
             "outlinewidth": 0,
             "ticks": ""
            },
            "colorscale": [
             [
              0,
              "#0d0887"
             ],
             [
              0.1111111111111111,
              "#46039f"
             ],
             [
              0.2222222222222222,
              "#7201a8"
             ],
             [
              0.3333333333333333,
              "#9c179e"
             ],
             [
              0.4444444444444444,
              "#bd3786"
             ],
             [
              0.5555555555555556,
              "#d8576b"
             ],
             [
              0.6666666666666666,
              "#ed7953"
             ],
             [
              0.7777777777777778,
              "#fb9f3a"
             ],
             [
              0.8888888888888888,
              "#fdca26"
             ],
             [
              1,
              "#f0f921"
             ]
            ],
            "type": "histogram2d"
           }
          ],
          "histogram2dcontour": [
           {
            "colorbar": {
             "outlinewidth": 0,
             "ticks": ""
            },
            "colorscale": [
             [
              0,
              "#0d0887"
             ],
             [
              0.1111111111111111,
              "#46039f"
             ],
             [
              0.2222222222222222,
              "#7201a8"
             ],
             [
              0.3333333333333333,
              "#9c179e"
             ],
             [
              0.4444444444444444,
              "#bd3786"
             ],
             [
              0.5555555555555556,
              "#d8576b"
             ],
             [
              0.6666666666666666,
              "#ed7953"
             ],
             [
              0.7777777777777778,
              "#fb9f3a"
             ],
             [
              0.8888888888888888,
              "#fdca26"
             ],
             [
              1,
              "#f0f921"
             ]
            ],
            "type": "histogram2dcontour"
           }
          ],
          "mesh3d": [
           {
            "colorbar": {
             "outlinewidth": 0,
             "ticks": ""
            },
            "type": "mesh3d"
           }
          ],
          "parcoords": [
           {
            "line": {
             "colorbar": {
              "outlinewidth": 0,
              "ticks": ""
             }
            },
            "type": "parcoords"
           }
          ],
          "pie": [
           {
            "automargin": true,
            "type": "pie"
           }
          ],
          "scatter": [
           {
            "marker": {
             "colorbar": {
              "outlinewidth": 0,
              "ticks": ""
             }
            },
            "type": "scatter"
           }
          ],
          "scatter3d": [
           {
            "line": {
             "colorbar": {
              "outlinewidth": 0,
              "ticks": ""
             }
            },
            "marker": {
             "colorbar": {
              "outlinewidth": 0,
              "ticks": ""
             }
            },
            "type": "scatter3d"
           }
          ],
          "scattercarpet": [
           {
            "marker": {
             "colorbar": {
              "outlinewidth": 0,
              "ticks": ""
             }
            },
            "type": "scattercarpet"
           }
          ],
          "scattergeo": [
           {
            "marker": {
             "colorbar": {
              "outlinewidth": 0,
              "ticks": ""
             }
            },
            "type": "scattergeo"
           }
          ],
          "scattergl": [
           {
            "marker": {
             "colorbar": {
              "outlinewidth": 0,
              "ticks": ""
             }
            },
            "type": "scattergl"
           }
          ],
          "scattermapbox": [
           {
            "marker": {
             "colorbar": {
              "outlinewidth": 0,
              "ticks": ""
             }
            },
            "type": "scattermapbox"
           }
          ],
          "scatterpolar": [
           {
            "marker": {
             "colorbar": {
              "outlinewidth": 0,
              "ticks": ""
             }
            },
            "type": "scatterpolar"
           }
          ],
          "scatterpolargl": [
           {
            "marker": {
             "colorbar": {
              "outlinewidth": 0,
              "ticks": ""
             }
            },
            "type": "scatterpolargl"
           }
          ],
          "scatterternary": [
           {
            "marker": {
             "colorbar": {
              "outlinewidth": 0,
              "ticks": ""
             }
            },
            "type": "scatterternary"
           }
          ],
          "surface": [
           {
            "colorbar": {
             "outlinewidth": 0,
             "ticks": ""
            },
            "colorscale": [
             [
              0,
              "#0d0887"
             ],
             [
              0.1111111111111111,
              "#46039f"
             ],
             [
              0.2222222222222222,
              "#7201a8"
             ],
             [
              0.3333333333333333,
              "#9c179e"
             ],
             [
              0.4444444444444444,
              "#bd3786"
             ],
             [
              0.5555555555555556,
              "#d8576b"
             ],
             [
              0.6666666666666666,
              "#ed7953"
             ],
             [
              0.7777777777777778,
              "#fb9f3a"
             ],
             [
              0.8888888888888888,
              "#fdca26"
             ],
             [
              1,
              "#f0f921"
             ]
            ],
            "type": "surface"
           }
          ],
          "table": [
           {
            "cells": {
             "fill": {
              "color": "#EBF0F8"
             },
             "line": {
              "color": "white"
             }
            },
            "header": {
             "fill": {
              "color": "#C8D4E3"
             },
             "line": {
              "color": "white"
             }
            },
            "type": "table"
           }
          ]
         },
         "layout": {
          "annotationdefaults": {
           "arrowcolor": "#2a3f5f",
           "arrowhead": 0,
           "arrowwidth": 1
          },
          "autotypenumbers": "strict",
          "coloraxis": {
           "colorbar": {
            "outlinewidth": 0,
            "ticks": ""
           }
          },
          "colorscale": {
           "diverging": [
            [
             0,
             "#8e0152"
            ],
            [
             0.1,
             "#c51b7d"
            ],
            [
             0.2,
             "#de77ae"
            ],
            [
             0.3,
             "#f1b6da"
            ],
            [
             0.4,
             "#fde0ef"
            ],
            [
             0.5,
             "#f7f7f7"
            ],
            [
             0.6,
             "#e6f5d0"
            ],
            [
             0.7,
             "#b8e186"
            ],
            [
             0.8,
             "#7fbc41"
            ],
            [
             0.9,
             "#4d9221"
            ],
            [
             1,
             "#276419"
            ]
           ],
           "sequential": [
            [
             0,
             "#0d0887"
            ],
            [
             0.1111111111111111,
             "#46039f"
            ],
            [
             0.2222222222222222,
             "#7201a8"
            ],
            [
             0.3333333333333333,
             "#9c179e"
            ],
            [
             0.4444444444444444,
             "#bd3786"
            ],
            [
             0.5555555555555556,
             "#d8576b"
            ],
            [
             0.6666666666666666,
             "#ed7953"
            ],
            [
             0.7777777777777778,
             "#fb9f3a"
            ],
            [
             0.8888888888888888,
             "#fdca26"
            ],
            [
             1,
             "#f0f921"
            ]
           ],
           "sequentialminus": [
            [
             0,
             "#0d0887"
            ],
            [
             0.1111111111111111,
             "#46039f"
            ],
            [
             0.2222222222222222,
             "#7201a8"
            ],
            [
             0.3333333333333333,
             "#9c179e"
            ],
            [
             0.4444444444444444,
             "#bd3786"
            ],
            [
             0.5555555555555556,
             "#d8576b"
            ],
            [
             0.6666666666666666,
             "#ed7953"
            ],
            [
             0.7777777777777778,
             "#fb9f3a"
            ],
            [
             0.8888888888888888,
             "#fdca26"
            ],
            [
             1,
             "#f0f921"
            ]
           ]
          },
          "colorway": [
           "#636efa",
           "#EF553B",
           "#00cc96",
           "#ab63fa",
           "#FFA15A",
           "#19d3f3",
           "#FF6692",
           "#B6E880",
           "#FF97FF",
           "#FECB52"
          ],
          "font": {
           "color": "#2a3f5f"
          },
          "geo": {
           "bgcolor": "white",
           "lakecolor": "white",
           "landcolor": "#E5ECF6",
           "showlakes": true,
           "showland": true,
           "subunitcolor": "white"
          },
          "hoverlabel": {
           "align": "left"
          },
          "hovermode": "closest",
          "mapbox": {
           "style": "light"
          },
          "paper_bgcolor": "white",
          "plot_bgcolor": "#E5ECF6",
          "polar": {
           "angularaxis": {
            "gridcolor": "white",
            "linecolor": "white",
            "ticks": ""
           },
           "bgcolor": "#E5ECF6",
           "radialaxis": {
            "gridcolor": "white",
            "linecolor": "white",
            "ticks": ""
           }
          },
          "scene": {
           "xaxis": {
            "backgroundcolor": "#E5ECF6",
            "gridcolor": "white",
            "gridwidth": 2,
            "linecolor": "white",
            "showbackground": true,
            "ticks": "",
            "zerolinecolor": "white"
           },
           "yaxis": {
            "backgroundcolor": "#E5ECF6",
            "gridcolor": "white",
            "gridwidth": 2,
            "linecolor": "white",
            "showbackground": true,
            "ticks": "",
            "zerolinecolor": "white"
           },
           "zaxis": {
            "backgroundcolor": "#E5ECF6",
            "gridcolor": "white",
            "gridwidth": 2,
            "linecolor": "white",
            "showbackground": true,
            "ticks": "",
            "zerolinecolor": "white"
           }
          },
          "shapedefaults": {
           "line": {
            "color": "#2a3f5f"
           }
          },
          "ternary": {
           "aaxis": {
            "gridcolor": "white",
            "linecolor": "white",
            "ticks": ""
           },
           "baxis": {
            "gridcolor": "white",
            "linecolor": "white",
            "ticks": ""
           },
           "bgcolor": "#E5ECF6",
           "caxis": {
            "gridcolor": "white",
            "linecolor": "white",
            "ticks": ""
           }
          },
          "title": {
           "x": 0.05
          },
          "xaxis": {
           "automargin": true,
           "gridcolor": "white",
           "linecolor": "white",
           "ticks": "",
           "title": {
            "standoff": 15
           },
           "zerolinecolor": "white",
           "zerolinewidth": 2
          },
          "yaxis": {
           "automargin": true,
           "gridcolor": "white",
           "linecolor": "white",
           "ticks": "",
           "title": {
            "standoff": 15
           },
           "zerolinecolor": "white",
           "zerolinewidth": 2
          }
         }
        },
        "title": {
         "text": "Top 10 Villagers by Google Searches vs ACNH Polls",
         "x": 0.5,
         "y": 0.95
        },
        "width": 980,
        "xaxis": {
         "anchor": "y",
         "domain": [
          0,
          1
         ],
         "linecolor": "black",
         "linewidth": 1.5,
         "showgrid": false,
         "showline": true,
         "tickfont": {
          "size": 18
         },
         "ticks": "outside",
         "title": {
          "text": "Poll_Results"
         }
        },
        "yaxis": {
         "anchor": "x",
         "domain": [
          0,
          1
         ],
         "linecolor": "black",
         "linewidth": 1.5,
         "showgrid": false,
         "showline": true,
         "tickfont": {
          "size": 18
         },
         "ticks": "outside",
         "title": {
          "text": "Total_Google_Searches"
         }
        }
       }
      }
     },
     "metadata": {},
     "output_type": "display_data"
    }
   ],
   "source": [
    "fig3 = px.scatter(final_overallpop_df, x=\"Poll_Results\", y=\"Total_Google_Searches\",size='Poll_Results', color=\"Personality\",hover_name=\"Name\",size_max=60,text='Name',\n",
    "                  color_discrete_sequence=px.colors.qualitative.Plotly)\n",
    "fig3.update_traces(textposition='bottom center',textfont_size=19)\n",
    "fig3.update_layout(font=dict(size=20),height=700,width=980,autosize=False,font_family=\"Helvetica\",plot_bgcolor='white')\n",
    "fig3.update_xaxes(showgrid=False,showline=True, tickfont_size=18,ticks='outside',linecolor=\"black\",linewidth=1.5)\n",
    "fig3.update_yaxes(showgrid=False,showline=True, tickfont_size=18,ticks='outside',linecolor=\"black\",linewidth=1.5)\n",
    "fig3.update_layout(\n",
    "    title={\n",
    "        'text': \"Top 10 Villagers by Google Searches vs ACNH Polls\",\n",
    "        'y':0.95,\n",
    "        'x':0.5})\n",
    "fig3.show()"
   ]
  },
  {
   "cell_type": "code",
   "execution_count": null,
   "id": "d912c5f7",
   "metadata": {},
   "outputs": [],
   "source": []
  }
 ],
 "metadata": {
  "kernelspec": {
   "display_name": "Python 3 (ipykernel)",
   "language": "python",
   "name": "python3"
  },
  "language_info": {
   "codemirror_mode": {
    "name": "ipython",
    "version": 3
   },
   "file_extension": ".py",
   "mimetype": "text/x-python",
   "name": "python",
   "nbconvert_exporter": "python",
   "pygments_lexer": "ipython3",
   "version": "3.9.8"
  }
 },
 "nbformat": 4,
 "nbformat_minor": 5
}
