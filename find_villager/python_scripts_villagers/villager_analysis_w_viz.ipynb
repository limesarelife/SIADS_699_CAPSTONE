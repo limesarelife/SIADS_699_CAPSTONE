{
 "cells": [
  {
   "cell_type": "code",
   "execution_count": 1,
   "id": "6135557f",
   "metadata": {},
   "outputs": [],
   "source": [
    "import pandas as pd\n",
    "import numpy as np\n",
    "import matplotlib.pyplot as plt\n",
    "from wordcloud import WordCloud, STOPWORDS\n",
    "import seaborn as sns\n",
    "from matplotlib import pyplot as plt\n",
    "import plotly.express as px"
   ]
  },
  {
   "cell_type": "code",
   "execution_count": 2,
   "id": "b0c30081",
   "metadata": {},
   "outputs": [],
   "source": [
    "pd.set_option('display.max_rows', None)"
   ]
  },
  {
   "cell_type": "code",
   "execution_count": 118,
   "id": "1e8fdaf8",
   "metadata": {},
   "outputs": [],
   "source": [
    "final_villagers= pd.read_csv('villagers_final.csv')"
   ]
  },
  {
   "cell_type": "code",
   "execution_count": 31,
   "id": "19f799e4",
   "metadata": {},
   "outputs": [],
   "source": [
    "final_villagers.drop(columns = ['Unnamed: 0'],inplace = True)"
   ]
  },
  {
   "cell_type": "code",
   "execution_count": 119,
   "id": "0c879e73",
   "metadata": {},
   "outputs": [
    {
     "data": {
      "text/html": [
       "<div>\n",
       "<style scoped>\n",
       "    .dataframe tbody tr th:only-of-type {\n",
       "        vertical-align: middle;\n",
       "    }\n",
       "\n",
       "    .dataframe tbody tr th {\n",
       "        vertical-align: top;\n",
       "    }\n",
       "\n",
       "    .dataframe thead th {\n",
       "        text-align: right;\n",
       "    }\n",
       "</style>\n",
       "<table border=\"1\" class=\"dataframe\">\n",
       "  <thead>\n",
       "    <tr style=\"text-align: right;\">\n",
       "      <th></th>\n",
       "      <th>Unnamed: 0</th>\n",
       "      <th>Name</th>\n",
       "      <th>Species</th>\n",
       "      <th>Personality</th>\n",
       "      <th>Hobby</th>\n",
       "      <th>Astrology</th>\n",
       "      <th>Genre</th>\n",
       "      <th>Style 1</th>\n",
       "      <th>Style 2</th>\n",
       "      <th>Color 1</th>\n",
       "      <th>Color 2</th>\n",
       "      <th>Total_Google_Searches</th>\n",
       "      <th>Poll_Results</th>\n",
       "      <th>Overall_Popularity</th>\n",
       "    </tr>\n",
       "  </thead>\n",
       "  <tbody>\n",
       "    <tr>\n",
       "      <th>0</th>\n",
       "      <td>0</td>\n",
       "      <td>Admiral</td>\n",
       "      <td>Bird</td>\n",
       "      <td>Cranky</td>\n",
       "      <td>Nature</td>\n",
       "      <td>Aquarius</td>\n",
       "      <td>Pop</td>\n",
       "      <td>Cool</td>\n",
       "      <td>Cool</td>\n",
       "      <td>Black</td>\n",
       "      <td>Blue</td>\n",
       "      <td>2417200.0</td>\n",
       "      <td>632.0</td>\n",
       "      <td>2417832.0</td>\n",
       "    </tr>\n",
       "    <tr>\n",
       "      <th>1</th>\n",
       "      <td>1</td>\n",
       "      <td>Agent S</td>\n",
       "      <td>Squirrel</td>\n",
       "      <td>Peppy</td>\n",
       "      <td>Fitness</td>\n",
       "      <td>Cancer</td>\n",
       "      <td>Pop</td>\n",
       "      <td>Active</td>\n",
       "      <td>Simple</td>\n",
       "      <td>Blue</td>\n",
       "      <td>Black</td>\n",
       "      <td>2664010.0</td>\n",
       "      <td>1225.0</td>\n",
       "      <td>2665235.0</td>\n",
       "    </tr>\n",
       "    <tr>\n",
       "      <th>2</th>\n",
       "      <td>2</td>\n",
       "      <td>Agnes</td>\n",
       "      <td>Pig</td>\n",
       "      <td>Big Sister</td>\n",
       "      <td>Play</td>\n",
       "      <td>Taurus</td>\n",
       "      <td>Electronic</td>\n",
       "      <td>Simple</td>\n",
       "      <td>Elegant</td>\n",
       "      <td>Pink</td>\n",
       "      <td>White</td>\n",
       "      <td>4731450.0</td>\n",
       "      <td>2535.0</td>\n",
       "      <td>4733985.0</td>\n",
       "    </tr>\n",
       "    <tr>\n",
       "      <th>3</th>\n",
       "      <td>3</td>\n",
       "      <td>Al</td>\n",
       "      <td>Gorilla</td>\n",
       "      <td>Lazy</td>\n",
       "      <td>Fitness</td>\n",
       "      <td>Libra</td>\n",
       "      <td>Pop</td>\n",
       "      <td>Active</td>\n",
       "      <td>Active</td>\n",
       "      <td>Red</td>\n",
       "      <td>White</td>\n",
       "      <td>1618750.0</td>\n",
       "      <td>600.0</td>\n",
       "      <td>1619350.0</td>\n",
       "    </tr>\n",
       "    <tr>\n",
       "      <th>4</th>\n",
       "      <td>4</td>\n",
       "      <td>Alfonso</td>\n",
       "      <td>Alligator</td>\n",
       "      <td>Lazy</td>\n",
       "      <td>Play</td>\n",
       "      <td>Gemini</td>\n",
       "      <td>Folk</td>\n",
       "      <td>Simple</td>\n",
       "      <td>Simple</td>\n",
       "      <td>Red</td>\n",
       "      <td>Blue</td>\n",
       "      <td>913600.0</td>\n",
       "      <td>1230.0</td>\n",
       "      <td>914830.0</td>\n",
       "    </tr>\n",
       "  </tbody>\n",
       "</table>\n",
       "</div>"
      ],
      "text/plain": [
       "   Unnamed: 0     Name    Species Personality    Hobby Astrology       Genre  \\\n",
       "0           0  Admiral       Bird      Cranky   Nature  Aquarius         Pop   \n",
       "1           1  Agent S   Squirrel       Peppy  Fitness    Cancer         Pop   \n",
       "2           2    Agnes        Pig  Big Sister     Play    Taurus  Electronic   \n",
       "3           3       Al    Gorilla        Lazy  Fitness     Libra         Pop   \n",
       "4           4  Alfonso  Alligator        Lazy     Play    Gemini        Folk   \n",
       "\n",
       "  Style 1  Style 2 Color 1 Color 2  Total_Google_Searches  Poll_Results  \\\n",
       "0    Cool     Cool   Black    Blue              2417200.0         632.0   \n",
       "1  Active   Simple    Blue   Black              2664010.0        1225.0   \n",
       "2  Simple  Elegant    Pink   White              4731450.0        2535.0   \n",
       "3  Active   Active     Red   White              1618750.0         600.0   \n",
       "4  Simple   Simple     Red    Blue               913600.0        1230.0   \n",
       "\n",
       "   Overall_Popularity  \n",
       "0           2417832.0  \n",
       "1           2665235.0  \n",
       "2           4733985.0  \n",
       "3           1619350.0  \n",
       "4            914830.0  "
      ]
     },
     "execution_count": 119,
     "metadata": {},
     "output_type": "execute_result"
    }
   ],
   "source": [
    "final_villagers.head()"
   ]
  },
  {
   "cell_type": "code",
   "execution_count": 120,
   "id": "9ac71195",
   "metadata": {},
   "outputs": [
    {
     "data": {
      "text/plain": [
       "array(['Cranky', 'Peppy', 'Big Sister', 'Lazy', 'Normal', 'Snooty',\n",
       "       'Jock', 'Smug'], dtype=object)"
      ]
     },
     "execution_count": 120,
     "metadata": {},
     "output_type": "execute_result"
    }
   ],
   "source": [
    "final_villagers.Personality.unique()"
   ]
  },
  {
   "cell_type": "code",
   "execution_count": 121,
   "id": "e0a0bef5",
   "metadata": {},
   "outputs": [],
   "source": [
    "# gender_personality = final_villagers.groupby(['Gender','Personality']).size().reset_index(name = 'count')"
   ]
  },
  {
   "cell_type": "code",
   "execution_count": 122,
   "id": "13a7735f",
   "metadata": {},
   "outputs": [],
   "source": [
    "# gender_personality"
   ]
  },
  {
   "cell_type": "code",
   "execution_count": 123,
   "id": "b6d7a5c7",
   "metadata": {},
   "outputs": [],
   "source": [
    "#Word Cloud for popular personality traits:\n",
    "#Gender variable [nominal variable as color of word]\n",
    "#Personality trait variable [as quantitative sum + size of word]\n"
   ]
  },
  {
   "cell_type": "code",
   "execution_count": 124,
   "id": "d2ab1426",
   "metadata": {},
   "outputs": [
    {
     "data": {
      "image/png": "[encoded data removed]",
      "text/plain": [
       "<Figure size 432x288 with 1 Axes>"
      ]
     },
     "metadata": {
      "needs_background": "light"
     },
     "output_type": "display_data"
    }
   ],
   "source": [
    "text = final_villagers['Personality'].values \n",
    "\n",
    "wordcloud = WordCloud().generate(str(text))\n",
    "\n",
    "plt.imshow(wordcloud)\n",
    "plt.axis(\"off\")\n",
    "plt.show()"
   ]
  },
  {
   "cell_type": "code",
   "execution_count": 125,
   "id": "3f3d4280",
   "metadata": {},
   "outputs": [],
   "source": [
    "# text2 = final_villagers['Catchphrase'].values \n",
    "\n",
    "# wordcloud = WordCloud().generate(str(text2))\n",
    "\n",
    "# plt.imshow(wordcloud)\n",
    "# plt.axis(\"off\")\n",
    "# plt.show()"
   ]
  },
  {
   "cell_type": "code",
   "execution_count": 126,
   "id": "2a2d98f4",
   "metadata": {},
   "outputs": [],
   "source": [
    "top15overall=final_villagers.sort_values(by =['Overall_Popularity'], ascending = False)[0:14]"
   ]
  },
  {
   "cell_type": "code",
   "execution_count": 127,
   "id": "f01ce6e4",
   "metadata": {},
   "outputs": [
    {
     "data": {
      "text/html": [
       "<div>\n",
       "<style scoped>\n",
       "    .dataframe tbody tr th:only-of-type {\n",
       "        vertical-align: middle;\n",
       "    }\n",
       "\n",
       "    .dataframe tbody tr th {\n",
       "        vertical-align: top;\n",
       "    }\n",
       "\n",
       "    .dataframe thead th {\n",
       "        text-align: right;\n",
       "    }\n",
       "</style>\n",
       "<table border=\"1\" class=\"dataframe\">\n",
       "  <thead>\n",
       "    <tr style=\"text-align: right;\">\n",
       "      <th></th>\n",
       "      <th>Unnamed: 0</th>\n",
       "      <th>Name</th>\n",
       "      <th>Species</th>\n",
       "      <th>Personality</th>\n",
       "      <th>Hobby</th>\n",
       "      <th>Astrology</th>\n",
       "      <th>Genre</th>\n",
       "      <th>Style 1</th>\n",
       "      <th>Style 2</th>\n",
       "      <th>Color 1</th>\n",
       "      <th>Color 2</th>\n",
       "      <th>Total_Google_Searches</th>\n",
       "      <th>Poll_Results</th>\n",
       "      <th>Overall_Popularity</th>\n",
       "    </tr>\n",
       "  </thead>\n",
       "  <tbody>\n",
       "    <tr>\n",
       "      <th>87</th>\n",
       "      <td>87</td>\n",
       "      <td>Clay</td>\n",
       "      <td>Hamster</td>\n",
       "      <td>Lazy</td>\n",
       "      <td>Nature</td>\n",
       "      <td>Libra</td>\n",
       "      <td>World</td>\n",
       "      <td>Elegant</td>\n",
       "      <td>Simple</td>\n",
       "      <td>Beige</td>\n",
       "      <td>Brown</td>\n",
       "      <td>19218150.0</td>\n",
       "      <td>3425.0</td>\n",
       "      <td>19221575.0</td>\n",
       "    </tr>\n",
       "    <tr>\n",
       "      <th>256</th>\n",
       "      <td>256</td>\n",
       "      <td>Olive</td>\n",
       "      <td>Cub</td>\n",
       "      <td>Normal</td>\n",
       "      <td>Nature</td>\n",
       "      <td>Cancer</td>\n",
       "      <td>Folk</td>\n",
       "      <td>Simple</td>\n",
       "      <td>Simple</td>\n",
       "      <td>Brown</td>\n",
       "      <td>Yellow</td>\n",
       "      <td>12937100.0</td>\n",
       "      <td>751.0</td>\n",
       "      <td>12937851.0</td>\n",
       "    </tr>\n",
       "    <tr>\n",
       "      <th>12</th>\n",
       "      <td>12</td>\n",
       "      <td>Ankha</td>\n",
       "      <td>Cat</td>\n",
       "      <td>Snooty</td>\n",
       "      <td>Nature</td>\n",
       "      <td>Virgo</td>\n",
       "      <td>World</td>\n",
       "      <td>Gorgeous</td>\n",
       "      <td>Simple</td>\n",
       "      <td>Colorful</td>\n",
       "      <td>Brown</td>\n",
       "      <td>7264000.0</td>\n",
       "      <td>13038.0</td>\n",
       "      <td>7277038.0</td>\n",
       "    </tr>\n",
       "    <tr>\n",
       "      <th>121</th>\n",
       "      <td>121</td>\n",
       "      <td>Drift</td>\n",
       "      <td>Frog</td>\n",
       "      <td>Jock</td>\n",
       "      <td>Fitness</td>\n",
       "      <td>Libra</td>\n",
       "      <td>Rock</td>\n",
       "      <td>Simple</td>\n",
       "      <td>Active</td>\n",
       "      <td>Orange</td>\n",
       "      <td>Red</td>\n",
       "      <td>6695950.0</td>\n",
       "      <td>525.0</td>\n",
       "      <td>6696475.0</td>\n",
       "    </tr>\n",
       "    <tr>\n",
       "      <th>309</th>\n",
       "      <td>309</td>\n",
       "      <td>Rocket</td>\n",
       "      <td>Gorilla</td>\n",
       "      <td>Big Sister</td>\n",
       "      <td>Fitness</td>\n",
       "      <td>Aries</td>\n",
       "      <td>Folk</td>\n",
       "      <td>Active</td>\n",
       "      <td>Cool</td>\n",
       "      <td>Pink</td>\n",
       "      <td>Red</td>\n",
       "      <td>6068350.0</td>\n",
       "      <td>329.0</td>\n",
       "      <td>6068679.0</td>\n",
       "    </tr>\n",
       "  </tbody>\n",
       "</table>\n",
       "</div>"
      ],
      "text/plain": [
       "     Unnamed: 0    Name  Species Personality    Hobby Astrology  Genre  \\\n",
       "87           87    Clay  Hamster        Lazy   Nature     Libra  World   \n",
       "256         256   Olive      Cub      Normal   Nature    Cancer   Folk   \n",
       "12           12   Ankha      Cat      Snooty   Nature     Virgo  World   \n",
       "121         121   Drift     Frog        Jock  Fitness     Libra   Rock   \n",
       "309         309  Rocket  Gorilla  Big Sister  Fitness     Aries   Folk   \n",
       "\n",
       "      Style 1 Style 2   Color 1 Color 2  Total_Google_Searches  Poll_Results  \\\n",
       "87    Elegant  Simple     Beige   Brown             19218150.0        3425.0   \n",
       "256    Simple  Simple     Brown  Yellow             12937100.0         751.0   \n",
       "12   Gorgeous  Simple  Colorful   Brown              7264000.0       13038.0   \n",
       "121    Simple  Active    Orange     Red              6695950.0         525.0   \n",
       "309    Active    Cool      Pink     Red              6068350.0         329.0   \n",
       "\n",
       "     Overall_Popularity  \n",
       "87           19221575.0  \n",
       "256          12937851.0  \n",
       "12            7277038.0  \n",
       "121           6696475.0  \n",
       "309           6068679.0  "
      ]
     },
     "execution_count": 127,
     "metadata": {},
     "output_type": "execute_result"
    }
   ],
   "source": [
    "top15overall.head()"
   ]
  },
  {
   "cell_type": "code",
   "execution_count": 128,
   "id": "57c1cd50",
   "metadata": {},
   "outputs": [],
   "source": [
    "top15ACPPoll=final_villagers.sort_values(by =['Poll_Results'], ascending = False)[0:14]"
   ]
  },
  {
   "cell_type": "code",
   "execution_count": 129,
   "id": "cf662c19",
   "metadata": {},
   "outputs": [
    {
     "data": {
      "text/html": [
       "<div>\n",
       "<style scoped>\n",
       "    .dataframe tbody tr th:only-of-type {\n",
       "        vertical-align: middle;\n",
       "    }\n",
       "\n",
       "    .dataframe tbody tr th {\n",
       "        vertical-align: top;\n",
       "    }\n",
       "\n",
       "    .dataframe thead th {\n",
       "        text-align: right;\n",
       "    }\n",
       "</style>\n",
       "<table border=\"1\" class=\"dataframe\">\n",
       "  <thead>\n",
       "    <tr style=\"text-align: right;\">\n",
       "      <th></th>\n",
       "      <th>Unnamed: 0</th>\n",
       "      <th>Name</th>\n",
       "      <th>Species</th>\n",
       "      <th>Personality</th>\n",
       "      <th>Hobby</th>\n",
       "      <th>Astrology</th>\n",
       "      <th>Genre</th>\n",
       "      <th>Style 1</th>\n",
       "      <th>Style 2</th>\n",
       "      <th>Color 1</th>\n",
       "      <th>Color 2</th>\n",
       "      <th>Total_Google_Searches</th>\n",
       "      <th>Poll_Results</th>\n",
       "      <th>Overall_Popularity</th>\n",
       "    </tr>\n",
       "  </thead>\n",
       "  <tbody>\n",
       "    <tr>\n",
       "      <th>228</th>\n",
       "      <td>228</td>\n",
       "      <td>Marshal</td>\n",
       "      <td>Squirrel</td>\n",
       "      <td>Smug</td>\n",
       "      <td>Music</td>\n",
       "      <td>Libra</td>\n",
       "      <td>Latin</td>\n",
       "      <td>Elegant</td>\n",
       "      <td>Cool</td>\n",
       "      <td>Light blue</td>\n",
       "      <td>Blue</td>\n",
       "      <td>1136850.0</td>\n",
       "      <td>29787.0</td>\n",
       "      <td>1166637.0</td>\n",
       "    </tr>\n",
       "    <tr>\n",
       "      <th>298</th>\n",
       "      <td>298</td>\n",
       "      <td>Raymond</td>\n",
       "      <td>Cat</td>\n",
       "      <td>Smug</td>\n",
       "      <td>Nature</td>\n",
       "      <td>Libra</td>\n",
       "      <td>Funk</td>\n",
       "      <td>Elegant</td>\n",
       "      <td>Cool</td>\n",
       "      <td>Black</td>\n",
       "      <td>Gray</td>\n",
       "      <td>4906350.0</td>\n",
       "      <td>27778.0</td>\n",
       "      <td>4934128.0</td>\n",
       "    </tr>\n",
       "    <tr>\n",
       "      <th>329</th>\n",
       "      <td>329</td>\n",
       "      <td>Sherb</td>\n",
       "      <td>Goat</td>\n",
       "      <td>Lazy</td>\n",
       "      <td>Nature</td>\n",
       "      <td>Capricorn</td>\n",
       "      <td>Electronic</td>\n",
       "      <td>Simple</td>\n",
       "      <td>Cute</td>\n",
       "      <td>Gray</td>\n",
       "      <td>Blue</td>\n",
       "      <td>5608850.0</td>\n",
       "      <td>19883.0</td>\n",
       "      <td>5628733.0</td>\n",
       "    </tr>\n",
       "    <tr>\n",
       "      <th>390</th>\n",
       "      <td>390</td>\n",
       "      <td>Zucker</td>\n",
       "      <td>Octopus</td>\n",
       "      <td>Lazy</td>\n",
       "      <td>Nature</td>\n",
       "      <td>Pisces</td>\n",
       "      <td>Folk</td>\n",
       "      <td>Simple</td>\n",
       "      <td>Cute</td>\n",
       "      <td>Blue</td>\n",
       "      <td>Yellow</td>\n",
       "      <td>2512500.0</td>\n",
       "      <td>17442.0</td>\n",
       "      <td>2529942.0</td>\n",
       "    </tr>\n",
       "    <tr>\n",
       "      <th>186</th>\n",
       "      <td>186</td>\n",
       "      <td>Judy</td>\n",
       "      <td>Cub</td>\n",
       "      <td>Snooty</td>\n",
       "      <td>Music</td>\n",
       "      <td>Pisces</td>\n",
       "      <td>Children's Music</td>\n",
       "      <td>Cute</td>\n",
       "      <td>Elegant</td>\n",
       "      <td>Pink</td>\n",
       "      <td>White</td>\n",
       "      <td>4686500.0</td>\n",
       "      <td>14741.0</td>\n",
       "      <td>4701241.0</td>\n",
       "    </tr>\n",
       "  </tbody>\n",
       "</table>\n",
       "</div>"
      ],
      "text/plain": [
       "     Unnamed: 0     Name   Species Personality   Hobby  Astrology  \\\n",
       "228         228  Marshal  Squirrel        Smug   Music      Libra   \n",
       "298         298  Raymond       Cat        Smug  Nature      Libra   \n",
       "329         329    Sherb      Goat        Lazy  Nature  Capricorn   \n",
       "390         390   Zucker   Octopus        Lazy  Nature     Pisces   \n",
       "186         186     Judy       Cub      Snooty   Music     Pisces   \n",
       "\n",
       "                Genre  Style 1  Style 2     Color 1 Color 2  \\\n",
       "228             Latin  Elegant     Cool  Light blue    Blue   \n",
       "298              Funk  Elegant     Cool       Black    Gray   \n",
       "329        Electronic   Simple     Cute        Gray    Blue   \n",
       "390              Folk   Simple     Cute        Blue  Yellow   \n",
       "186  Children's Music     Cute  Elegant        Pink   White   \n",
       "\n",
       "     Total_Google_Searches  Poll_Results  Overall_Popularity  \n",
       "228              1136850.0       29787.0           1166637.0  \n",
       "298              4906350.0       27778.0           4934128.0  \n",
       "329              5608850.0       19883.0           5628733.0  \n",
       "390              2512500.0       17442.0           2529942.0  \n",
       "186              4686500.0       14741.0           4701241.0  "
      ]
     },
     "execution_count": 129,
     "metadata": {},
     "output_type": "execute_result"
    }
   ],
   "source": [
    "top15ACPPoll.head()"
   ]
  },
  {
   "cell_type": "code",
   "execution_count": 130,
   "id": "5677d022",
   "metadata": {},
   "outputs": [],
   "source": [
    "# fin_vil2 = final_villagers.drop(columns=['Wallpaper', 'Flooring',\n",
    "                                                        # 'Furniture List','Filename',\n",
    "                                                        # 'Unique Entry ID','Style 2','Color 2'])"
   ]
  },
  {
   "cell_type": "code",
   "execution_count": 131,
   "id": "513f42ad",
   "metadata": {},
   "outputs": [],
   "source": [
    "# fin_vil2.head()"
   ]
  },
  {
   "cell_type": "code",
   "execution_count": 136,
   "id": "08e28e08",
   "metadata": {},
   "outputs": [
    {
     "data": {
      "text/plain": [
       "<AxesSubplot:xlabel='Poll_Results', ylabel='Total_Google_Searches'>"
      ]
     },
     "execution_count": 136,
     "metadata": {},
     "output_type": "execute_result"
    },
    {
     "data": {
      "image/png": "[encoded data removed]",
      "text/plain": [
       "<Figure size 432x288 with 1 Axes>"
      ]
     },
     "metadata": {
      "needs_background": "light"
     },
     "output_type": "display_data"
    }
   ],
   "source": [
    "#sns.pairplot(FinVillagers_ACNH2)\n",
    "sns.regplot(y=final_villagers[\"Total_Google_Searches\"], x=final_villagers[\"Poll_Results\"],\n",
    "           color='teal',fit_reg=False)\n",
    "#sns.plt.show()"
   ]
  },
  {
   "cell_type": "code",
   "execution_count": 137,
   "id": "4668d1b9",
   "metadata": {},
   "outputs": [],
   "source": [
    "personality_species = final_villagers.groupby(['Species', 'Personality'])['Overall_Popularity'].sum().unstack().fillna(0)"
   ]
  },
  {
   "cell_type": "code",
   "execution_count": 138,
   "id": "a9488c06",
   "metadata": {},
   "outputs": [
    {
     "data": {
      "text/html": [
       "<div>\n",
       "<style scoped>\n",
       "    .dataframe tbody tr th:only-of-type {\n",
       "        vertical-align: middle;\n",
       "    }\n",
       "\n",
       "    .dataframe tbody tr th {\n",
       "        vertical-align: top;\n",
       "    }\n",
       "\n",
       "    .dataframe thead th {\n",
       "        text-align: right;\n",
       "    }\n",
       "</style>\n",
       "<table border=\"1\" class=\"dataframe\">\n",
       "  <thead>\n",
       "    <tr style=\"text-align: right;\">\n",
       "      <th>Personality</th>\n",
       "      <th>Big Sister</th>\n",
       "      <th>Cranky</th>\n",
       "      <th>Jock</th>\n",
       "      <th>Lazy</th>\n",
       "      <th>Normal</th>\n",
       "      <th>Peppy</th>\n",
       "      <th>Smug</th>\n",
       "      <th>Snooty</th>\n",
       "    </tr>\n",
       "    <tr>\n",
       "      <th>Species</th>\n",
       "      <th></th>\n",
       "      <th></th>\n",
       "      <th></th>\n",
       "      <th></th>\n",
       "      <th></th>\n",
       "      <th></th>\n",
       "      <th></th>\n",
       "      <th></th>\n",
       "    </tr>\n",
       "  </thead>\n",
       "  <tbody>\n",
       "    <tr>\n",
       "      <th>Alligator</th>\n",
       "      <td>0.0</td>\n",
       "      <td>1086648.0</td>\n",
       "      <td>3717833.0</td>\n",
       "      <td>4059309.0</td>\n",
       "      <td>1807134.0</td>\n",
       "      <td>0.0</td>\n",
       "      <td>0.0</td>\n",
       "      <td>2022403.0</td>\n",
       "    </tr>\n",
       "    <tr>\n",
       "      <th>Anteater</th>\n",
       "      <td>0.0</td>\n",
       "      <td>1769126.0</td>\n",
       "      <td>526085.0</td>\n",
       "      <td>0.0</td>\n",
       "      <td>2080636.0</td>\n",
       "      <td>5012798.0</td>\n",
       "      <td>1944223.0</td>\n",
       "      <td>2994871.0</td>\n",
       "    </tr>\n",
       "    <tr>\n",
       "      <th>Bear</th>\n",
       "      <td>4624252.0</td>\n",
       "      <td>8637966.0</td>\n",
       "      <td>1813437.0</td>\n",
       "      <td>2225242.0</td>\n",
       "      <td>2786335.0</td>\n",
       "      <td>3494773.0</td>\n",
       "      <td>1928902.0</td>\n",
       "      <td>0.0</td>\n",
       "    </tr>\n",
       "    <tr>\n",
       "      <th>Bird</th>\n",
       "      <td>0.0</td>\n",
       "      <td>2417832.0</td>\n",
       "      <td>4009982.0</td>\n",
       "      <td>6410224.0</td>\n",
       "      <td>1738875.0</td>\n",
       "      <td>3683394.0</td>\n",
       "      <td>2921832.0</td>\n",
       "      <td>78828.0</td>\n",
       "    </tr>\n",
       "    <tr>\n",
       "      <th>Bull</th>\n",
       "      <td>0.0</td>\n",
       "      <td>3852603.0</td>\n",
       "      <td>1879055.0</td>\n",
       "      <td>3175378.0</td>\n",
       "      <td>0.0</td>\n",
       "      <td>0.0</td>\n",
       "      <td>0.0</td>\n",
       "      <td>0.0</td>\n",
       "    </tr>\n",
       "    <tr>\n",
       "      <th>Cat</th>\n",
       "      <td>2303274.0</td>\n",
       "      <td>6755173.0</td>\n",
       "      <td>3263189.0</td>\n",
       "      <td>2810488.0</td>\n",
       "      <td>5523681.0</td>\n",
       "      <td>7368853.0</td>\n",
       "      <td>4934128.0</td>\n",
       "      <td>15259796.0</td>\n",
       "    </tr>\n",
       "    <tr>\n",
       "      <th>Chicken</th>\n",
       "      <td>4198743.0</td>\n",
       "      <td>773626.0</td>\n",
       "      <td>502220.0</td>\n",
       "      <td>3575690.0</td>\n",
       "      <td>2590344.0</td>\n",
       "      <td>0.0</td>\n",
       "      <td>568193.0</td>\n",
       "      <td>2612342.0</td>\n",
       "    </tr>\n",
       "    <tr>\n",
       "      <th>Cow</th>\n",
       "      <td>0.0</td>\n",
       "      <td>0.0</td>\n",
       "      <td>0.0</td>\n",
       "      <td>0.0</td>\n",
       "      <td>2524662.0</td>\n",
       "      <td>2598255.0</td>\n",
       "      <td>0.0</td>\n",
       "      <td>4669423.0</td>\n",
       "    </tr>\n",
       "    <tr>\n",
       "      <th>Cub</th>\n",
       "      <td>3006443.0</td>\n",
       "      <td>3375015.0</td>\n",
       "      <td>2420770.0</td>\n",
       "      <td>7889166.0</td>\n",
       "      <td>18096684.0</td>\n",
       "      <td>3016630.0</td>\n",
       "      <td>0.0</td>\n",
       "      <td>4701241.0</td>\n",
       "    </tr>\n",
       "    <tr>\n",
       "      <th>Deer</th>\n",
       "      <td>4982639.0</td>\n",
       "      <td>2372675.0</td>\n",
       "      <td>958633.0</td>\n",
       "      <td>3696305.0</td>\n",
       "      <td>2433578.0</td>\n",
       "      <td>0.0</td>\n",
       "      <td>2697423.0</td>\n",
       "      <td>1350294.0</td>\n",
       "    </tr>\n",
       "    <tr>\n",
       "      <th>Dog</th>\n",
       "      <td>518395.0</td>\n",
       "      <td>566735.0</td>\n",
       "      <td>1183514.0</td>\n",
       "      <td>11188574.0</td>\n",
       "      <td>5437909.0</td>\n",
       "      <td>7177938.0</td>\n",
       "      <td>2449341.0</td>\n",
       "      <td>181026.0</td>\n",
       "    </tr>\n",
       "    <tr>\n",
       "      <th>Duck</th>\n",
       "      <td>0.0</td>\n",
       "      <td>0.0</td>\n",
       "      <td>4952694.0</td>\n",
       "      <td>4130768.0</td>\n",
       "      <td>3361852.0</td>\n",
       "      <td>5274879.0</td>\n",
       "      <td>1499097.0</td>\n",
       "      <td>8376014.0</td>\n",
       "    </tr>\n",
       "    <tr>\n",
       "      <th>Eagle</th>\n",
       "      <td>0.0</td>\n",
       "      <td>4422642.0</td>\n",
       "      <td>5570959.0</td>\n",
       "      <td>0.0</td>\n",
       "      <td>1364200.0</td>\n",
       "      <td>0.0</td>\n",
       "      <td>1988848.0</td>\n",
       "      <td>2263554.0</td>\n",
       "    </tr>\n",
       "    <tr>\n",
       "      <th>Elephant</th>\n",
       "      <td>0.0</td>\n",
       "      <td>1988656.0</td>\n",
       "      <td>1610355.0</td>\n",
       "      <td>6765771.0</td>\n",
       "      <td>7060592.0</td>\n",
       "      <td>0.0</td>\n",
       "      <td>0.0</td>\n",
       "      <td>2135358.0</td>\n",
       "    </tr>\n",
       "    <tr>\n",
       "      <th>Frog</th>\n",
       "      <td>899624.0</td>\n",
       "      <td>2671725.0</td>\n",
       "      <td>16884039.0</td>\n",
       "      <td>5575300.0</td>\n",
       "      <td>1850410.0</td>\n",
       "      <td>2264187.0</td>\n",
       "      <td>3675920.0</td>\n",
       "      <td>1946177.0</td>\n",
       "    </tr>\n",
       "    <tr>\n",
       "      <th>Goat</th>\n",
       "      <td>4167954.0</td>\n",
       "      <td>2008999.0</td>\n",
       "      <td>1008960.0</td>\n",
       "      <td>5628733.0</td>\n",
       "      <td>5024366.0</td>\n",
       "      <td>0.0</td>\n",
       "      <td>125267.0</td>\n",
       "      <td>1968082.0</td>\n",
       "    </tr>\n",
       "    <tr>\n",
       "      <th>Gorilla</th>\n",
       "      <td>6068679.0</td>\n",
       "      <td>4051328.0</td>\n",
       "      <td>1614683.0</td>\n",
       "      <td>1619350.0</td>\n",
       "      <td>0.0</td>\n",
       "      <td>0.0</td>\n",
       "      <td>1503179.0</td>\n",
       "      <td>876877.0</td>\n",
       "    </tr>\n",
       "    <tr>\n",
       "      <th>Hamster</th>\n",
       "      <td>0.0</td>\n",
       "      <td>1887477.0</td>\n",
       "      <td>1112026.0</td>\n",
       "      <td>19221575.0</td>\n",
       "      <td>1945888.0</td>\n",
       "      <td>1340949.0</td>\n",
       "      <td>4335226.0</td>\n",
       "      <td>2555811.0</td>\n",
       "    </tr>\n",
       "    <tr>\n",
       "      <th>Hippo</th>\n",
       "      <td>0.0</td>\n",
       "      <td>3029697.0</td>\n",
       "      <td>3926531.0</td>\n",
       "      <td>0.0</td>\n",
       "      <td>2139767.0</td>\n",
       "      <td>6043230.0</td>\n",
       "      <td>2365383.0</td>\n",
       "      <td>1841762.0</td>\n",
       "    </tr>\n",
       "    <tr>\n",
       "      <th>Horse</th>\n",
       "      <td>1866542.0</td>\n",
       "      <td>2383181.0</td>\n",
       "      <td>588050.0</td>\n",
       "      <td>5631344.0</td>\n",
       "      <td>4098888.0</td>\n",
       "      <td>3991487.0</td>\n",
       "      <td>6761003.0</td>\n",
       "      <td>921420.0</td>\n",
       "    </tr>\n",
       "    <tr>\n",
       "      <th>Kangaroo</th>\n",
       "      <td>2438194.0</td>\n",
       "      <td>2449952.0</td>\n",
       "      <td>0.0</td>\n",
       "      <td>0.0</td>\n",
       "      <td>3278475.0</td>\n",
       "      <td>0.0</td>\n",
       "      <td>0.0</td>\n",
       "      <td>2658104.0</td>\n",
       "    </tr>\n",
       "    <tr>\n",
       "      <th>Koala</th>\n",
       "      <td>849411.0</td>\n",
       "      <td>3879721.0</td>\n",
       "      <td>1420.0</td>\n",
       "      <td>1652809.0</td>\n",
       "      <td>4985369.0</td>\n",
       "      <td>0.0</td>\n",
       "      <td>815579.0</td>\n",
       "      <td>2017601.0</td>\n",
       "    </tr>\n",
       "    <tr>\n",
       "      <th>Lion</th>\n",
       "      <td>0.0</td>\n",
       "      <td>2780477.0</td>\n",
       "      <td>2653456.0</td>\n",
       "      <td>2597175.0</td>\n",
       "      <td>0.0</td>\n",
       "      <td>0.0</td>\n",
       "      <td>3465459.0</td>\n",
       "      <td>0.0</td>\n",
       "    </tr>\n",
       "    <tr>\n",
       "      <th>Monkey</th>\n",
       "      <td>2601650.0</td>\n",
       "      <td>2150116.0</td>\n",
       "      <td>1380446.0</td>\n",
       "      <td>4957134.0</td>\n",
       "      <td>936129.0</td>\n",
       "      <td>2288496.0</td>\n",
       "      <td>0.0</td>\n",
       "      <td>1618414.0</td>\n",
       "    </tr>\n",
       "    <tr>\n",
       "      <th>Mouse</th>\n",
       "      <td>0.0</td>\n",
       "      <td>1169686.0</td>\n",
       "      <td>6817127.0</td>\n",
       "      <td>3635346.0</td>\n",
       "      <td>3986366.0</td>\n",
       "      <td>6967533.0</td>\n",
       "      <td>2027197.0</td>\n",
       "      <td>4049234.0</td>\n",
       "    </tr>\n",
       "    <tr>\n",
       "      <th>Octopus</th>\n",
       "      <td>0.0</td>\n",
       "      <td>2838334.0</td>\n",
       "      <td>0.0</td>\n",
       "      <td>2529942.0</td>\n",
       "      <td>3063629.0</td>\n",
       "      <td>0.0</td>\n",
       "      <td>0.0</td>\n",
       "      <td>0.0</td>\n",
       "    </tr>\n",
       "    <tr>\n",
       "      <th>Ostrich</th>\n",
       "      <td>2200949.0</td>\n",
       "      <td>0.0</td>\n",
       "      <td>2280779.0</td>\n",
       "      <td>2916268.0</td>\n",
       "      <td>3725786.0</td>\n",
       "      <td>2786348.0</td>\n",
       "      <td>2703620.0</td>\n",
       "      <td>2550549.0</td>\n",
       "    </tr>\n",
       "    <tr>\n",
       "      <th>Penguin</th>\n",
       "      <td>3058311.0</td>\n",
       "      <td>1467157.0</td>\n",
       "      <td>4380923.0</td>\n",
       "      <td>3377246.0</td>\n",
       "      <td>2839626.0</td>\n",
       "      <td>2067821.0</td>\n",
       "      <td>2620492.0</td>\n",
       "      <td>2480342.0</td>\n",
       "    </tr>\n",
       "    <tr>\n",
       "      <th>Pig</th>\n",
       "      <td>4733985.0</td>\n",
       "      <td>2712324.0</td>\n",
       "      <td>4563411.0</td>\n",
       "      <td>4450928.0</td>\n",
       "      <td>6073075.0</td>\n",
       "      <td>2460170.0</td>\n",
       "      <td>1565752.0</td>\n",
       "      <td>1954944.0</td>\n",
       "    </tr>\n",
       "    <tr>\n",
       "      <th>Rabbit</th>\n",
       "      <td>1902276.0</td>\n",
       "      <td>1063129.0</td>\n",
       "      <td>3174898.0</td>\n",
       "      <td>7541841.0</td>\n",
       "      <td>1980713.0</td>\n",
       "      <td>9894530.0</td>\n",
       "      <td>847.0</td>\n",
       "      <td>3626603.0</td>\n",
       "    </tr>\n",
       "    <tr>\n",
       "      <th>Rhino</th>\n",
       "      <td>645.0</td>\n",
       "      <td>2437956.0</td>\n",
       "      <td>1633189.0</td>\n",
       "      <td>1509516.0</td>\n",
       "      <td>3984518.0</td>\n",
       "      <td>0.0</td>\n",
       "      <td>0.0</td>\n",
       "      <td>0.0</td>\n",
       "    </tr>\n",
       "    <tr>\n",
       "      <th>Sheep</th>\n",
       "      <td>2892619.0</td>\n",
       "      <td>0.0</td>\n",
       "      <td>4468975.0</td>\n",
       "      <td>0.0</td>\n",
       "      <td>4599553.0</td>\n",
       "      <td>1056690.0</td>\n",
       "      <td>1655053.0</td>\n",
       "      <td>4839732.0</td>\n",
       "    </tr>\n",
       "    <tr>\n",
       "      <th>Squirrel</th>\n",
       "      <td>2151554.0</td>\n",
       "      <td>1197366.0</td>\n",
       "      <td>2371707.0</td>\n",
       "      <td>1814104.0</td>\n",
       "      <td>7411604.0</td>\n",
       "      <td>4779416.0</td>\n",
       "      <td>1166637.0</td>\n",
       "      <td>4397655.0</td>\n",
       "    </tr>\n",
       "    <tr>\n",
       "      <th>Tiger</th>\n",
       "      <td>0.0</td>\n",
       "      <td>2054095.0</td>\n",
       "      <td>8372612.0</td>\n",
       "      <td>0.0</td>\n",
       "      <td>0.0</td>\n",
       "      <td>3139035.0</td>\n",
       "      <td>0.0</td>\n",
       "      <td>2038880.0</td>\n",
       "    </tr>\n",
       "    <tr>\n",
       "      <th>Wolf</th>\n",
       "      <td>0.0</td>\n",
       "      <td>11511029.0</td>\n",
       "      <td>0.0</td>\n",
       "      <td>0.0</td>\n",
       "      <td>3746877.0</td>\n",
       "      <td>4923192.0</td>\n",
       "      <td>686634.0</td>\n",
       "      <td>5518779.0</td>\n",
       "    </tr>\n",
       "  </tbody>\n",
       "</table>\n",
       "</div>"
      ],
      "text/plain": [
       "Personality  Big Sister      Cranky        Jock        Lazy      Normal  \\\n",
       "Species                                                                   \n",
       "Alligator           0.0   1086648.0   3717833.0   4059309.0   1807134.0   \n",
       "Anteater            0.0   1769126.0    526085.0         0.0   2080636.0   \n",
       "Bear          4624252.0   8637966.0   1813437.0   2225242.0   2786335.0   \n",
       "Bird                0.0   2417832.0   4009982.0   6410224.0   1738875.0   \n",
       "Bull                0.0   3852603.0   1879055.0   3175378.0         0.0   \n",
       "Cat           2303274.0   6755173.0   3263189.0   2810488.0   5523681.0   \n",
       "Chicken       4198743.0    773626.0    502220.0   3575690.0   2590344.0   \n",
       "Cow                 0.0         0.0         0.0         0.0   2524662.0   \n",
       "Cub           3006443.0   3375015.0   2420770.0   7889166.0  18096684.0   \n",
       "Deer          4982639.0   2372675.0    958633.0   3696305.0   2433578.0   \n",
       "Dog            518395.0    566735.0   1183514.0  11188574.0   5437909.0   \n",
       "Duck                0.0         0.0   4952694.0   4130768.0   3361852.0   \n",
       "Eagle               0.0   4422642.0   5570959.0         0.0   1364200.0   \n",
       "Elephant            0.0   1988656.0   1610355.0   6765771.0   7060592.0   \n",
       "Frog           899624.0   2671725.0  16884039.0   5575300.0   1850410.0   \n",
       "Goat          4167954.0   2008999.0   1008960.0   5628733.0   5024366.0   \n",
       "Gorilla       6068679.0   4051328.0   1614683.0   1619350.0         0.0   \n",
       "Hamster             0.0   1887477.0   1112026.0  19221575.0   1945888.0   \n",
       "Hippo               0.0   3029697.0   3926531.0         0.0   2139767.0   \n",
       "Horse         1866542.0   2383181.0    588050.0   5631344.0   4098888.0   \n",
       "Kangaroo      2438194.0   2449952.0         0.0         0.0   3278475.0   \n",
       "Koala          849411.0   3879721.0      1420.0   1652809.0   4985369.0   \n",
       "Lion                0.0   2780477.0   2653456.0   2597175.0         0.0   \n",
       "Monkey        2601650.0   2150116.0   1380446.0   4957134.0    936129.0   \n",
       "Mouse               0.0   1169686.0   6817127.0   3635346.0   3986366.0   \n",
       "Octopus             0.0   2838334.0         0.0   2529942.0   3063629.0   \n",
       "Ostrich       2200949.0         0.0   2280779.0   2916268.0   3725786.0   \n",
       "Penguin       3058311.0   1467157.0   4380923.0   3377246.0   2839626.0   \n",
       "Pig           4733985.0   2712324.0   4563411.0   4450928.0   6073075.0   \n",
       "Rabbit        1902276.0   1063129.0   3174898.0   7541841.0   1980713.0   \n",
       "Rhino             645.0   2437956.0   1633189.0   1509516.0   3984518.0   \n",
       "Sheep         2892619.0         0.0   4468975.0         0.0   4599553.0   \n",
       "Squirrel      2151554.0   1197366.0   2371707.0   1814104.0   7411604.0   \n",
       "Tiger               0.0   2054095.0   8372612.0         0.0         0.0   \n",
       "Wolf                0.0  11511029.0         0.0         0.0   3746877.0   \n",
       "\n",
       "Personality      Peppy       Smug      Snooty  \n",
       "Species                                        \n",
       "Alligator          0.0        0.0   2022403.0  \n",
       "Anteater     5012798.0  1944223.0   2994871.0  \n",
       "Bear         3494773.0  1928902.0         0.0  \n",
       "Bird         3683394.0  2921832.0     78828.0  \n",
       "Bull               0.0        0.0         0.0  \n",
       "Cat          7368853.0  4934128.0  15259796.0  \n",
       "Chicken            0.0   568193.0   2612342.0  \n",
       "Cow          2598255.0        0.0   4669423.0  \n",
       "Cub          3016630.0        0.0   4701241.0  \n",
       "Deer               0.0  2697423.0   1350294.0  \n",
       "Dog          7177938.0  2449341.0    181026.0  \n",
       "Duck         5274879.0  1499097.0   8376014.0  \n",
       "Eagle              0.0  1988848.0   2263554.0  \n",
       "Elephant           0.0        0.0   2135358.0  \n",
       "Frog         2264187.0  3675920.0   1946177.0  \n",
       "Goat               0.0   125267.0   1968082.0  \n",
       "Gorilla            0.0  1503179.0    876877.0  \n",
       "Hamster      1340949.0  4335226.0   2555811.0  \n",
       "Hippo        6043230.0  2365383.0   1841762.0  \n",
       "Horse        3991487.0  6761003.0    921420.0  \n",
       "Kangaroo           0.0        0.0   2658104.0  \n",
       "Koala              0.0   815579.0   2017601.0  \n",
       "Lion               0.0  3465459.0         0.0  \n",
       "Monkey       2288496.0        0.0   1618414.0  \n",
       "Mouse        6967533.0  2027197.0   4049234.0  \n",
       "Octopus            0.0        0.0         0.0  \n",
       "Ostrich      2786348.0  2703620.0   2550549.0  \n",
       "Penguin      2067821.0  2620492.0   2480342.0  \n",
       "Pig          2460170.0  1565752.0   1954944.0  \n",
       "Rabbit       9894530.0      847.0   3626603.0  \n",
       "Rhino              0.0        0.0         0.0  \n",
       "Sheep        1056690.0  1655053.0   4839732.0  \n",
       "Squirrel     4779416.0  1166637.0   4397655.0  \n",
       "Tiger        3139035.0        0.0   2038880.0  \n",
       "Wolf         4923192.0   686634.0   5518779.0  "
      ]
     },
     "execution_count": 138,
     "metadata": {},
     "output_type": "execute_result"
    }
   ],
   "source": [
    "personality_species"
   ]
  },
  {
   "cell_type": "code",
   "execution_count": 139,
   "id": "3db21633",
   "metadata": {},
   "outputs": [],
   "source": [
    "# personality_overall = final_villagers.groupby(['Personality'])['Overall_Popularity'].transform('sum').fillna(0)"
   ]
  },
  {
   "cell_type": "code",
   "execution_count": 141,
   "id": "9e8ab45e",
   "metadata": {},
   "outputs": [],
   "source": [
    "final_villagers['Overall_Popularity'] = final_villagers[['Overall_Popularity']].astype('int64')"
   ]
  },
  {
   "cell_type": "code",
   "execution_count": 142,
   "id": "0a764f19",
   "metadata": {},
   "outputs": [],
   "source": [
    "personality_overall = final_villagers.groupby(['Personality'])\n",
    "personality_overall = personality_overall[['Overall_Popularity']].sum().add_prefix('Sum_of_')"
   ]
  },
  {
   "cell_type": "code",
   "execution_count": 143,
   "id": "aaf45f0f",
   "metadata": {},
   "outputs": [
    {
     "data": {
      "text/html": [
       "<div>\n",
       "<style scoped>\n",
       "    .dataframe tbody tr th:only-of-type {\n",
       "        vertical-align: middle;\n",
       "    }\n",
       "\n",
       "    .dataframe tbody tr th {\n",
       "        vertical-align: top;\n",
       "    }\n",
       "\n",
       "    .dataframe thead th {\n",
       "        text-align: right;\n",
       "    }\n",
       "</style>\n",
       "<table border=\"1\" class=\"dataframe\">\n",
       "  <thead>\n",
       "    <tr style=\"text-align: right;\">\n",
       "      <th></th>\n",
       "      <th>Sum_of_Overall_Popularity</th>\n",
       "    </tr>\n",
       "    <tr>\n",
       "      <th>Personality</th>\n",
       "      <th></th>\n",
       "    </tr>\n",
       "  </thead>\n",
       "  <tbody>\n",
       "    <tr>\n",
       "      <th>Big Sister</th>\n",
       "      <td>55466139</td>\n",
       "    </tr>\n",
       "    <tr>\n",
       "      <th>Cranky</th>\n",
       "      <td>91762446</td>\n",
       "    </tr>\n",
       "    <tr>\n",
       "      <th>Jock</th>\n",
       "      <td>99641958</td>\n",
       "    </tr>\n",
       "    <tr>\n",
       "      <th>Lazy</th>\n",
       "      <td>130585526</td>\n",
       "    </tr>\n",
       "    <tr>\n",
       "      <th>Normal</th>\n",
       "      <td>122477521</td>\n",
       "    </tr>\n",
       "    <tr>\n",
       "      <th>Peppy</th>\n",
       "      <td>91630604</td>\n",
       "    </tr>\n",
       "    <tr>\n",
       "      <th>Smug</th>\n",
       "      <td>56405235</td>\n",
       "    </tr>\n",
       "    <tr>\n",
       "      <th>Snooty</th>\n",
       "      <td>94506116</td>\n",
       "    </tr>\n",
       "  </tbody>\n",
       "</table>\n",
       "</div>"
      ],
      "text/plain": [
       "             Sum_of_Overall_Popularity\n",
       "Personality                           \n",
       "Big Sister                    55466139\n",
       "Cranky                        91762446\n",
       "Jock                          99641958\n",
       "Lazy                         130585526\n",
       "Normal                       122477521\n",
       "Peppy                         91630604\n",
       "Smug                          56405235\n",
       "Snooty                        94506116"
      ]
     },
     "execution_count": 143,
     "metadata": {},
     "output_type": "execute_result"
    }
   ],
   "source": [
    "personality_overall"
   ]
  },
  {
   "cell_type": "code",
   "execution_count": 144,
   "id": "315a6536",
   "metadata": {},
   "outputs": [
    {
     "data": {
      "text/html": [
       "<div>\n",
       "<style scoped>\n",
       "    .dataframe tbody tr th:only-of-type {\n",
       "        vertical-align: middle;\n",
       "    }\n",
       "\n",
       "    .dataframe tbody tr th {\n",
       "        vertical-align: top;\n",
       "    }\n",
       "\n",
       "    .dataframe thead th {\n",
       "        text-align: right;\n",
       "    }\n",
       "</style>\n",
       "<table border=\"1\" class=\"dataframe\">\n",
       "  <thead>\n",
       "    <tr style=\"text-align: right;\">\n",
       "      <th></th>\n",
       "      <th>Personality</th>\n",
       "      <th>Sum_of_Overall_Popularity</th>\n",
       "    </tr>\n",
       "  </thead>\n",
       "  <tbody>\n",
       "    <tr>\n",
       "      <th>0</th>\n",
       "      <td>Big Sister</td>\n",
       "      <td>0.074704</td>\n",
       "    </tr>\n",
       "    <tr>\n",
       "      <th>1</th>\n",
       "      <td>Cranky</td>\n",
       "      <td>0.123590</td>\n",
       "    </tr>\n",
       "    <tr>\n",
       "      <th>2</th>\n",
       "      <td>Jock</td>\n",
       "      <td>0.134202</td>\n",
       "    </tr>\n",
       "    <tr>\n",
       "      <th>3</th>\n",
       "      <td>Lazy</td>\n",
       "      <td>0.175879</td>\n",
       "    </tr>\n",
       "    <tr>\n",
       "      <th>4</th>\n",
       "      <td>Normal</td>\n",
       "      <td>0.164958</td>\n",
       "    </tr>\n",
       "    <tr>\n",
       "      <th>5</th>\n",
       "      <td>Peppy</td>\n",
       "      <td>0.123412</td>\n",
       "    </tr>\n",
       "    <tr>\n",
       "      <th>6</th>\n",
       "      <td>Smug</td>\n",
       "      <td>0.075969</td>\n",
       "    </tr>\n",
       "    <tr>\n",
       "      <th>7</th>\n",
       "      <td>Snooty</td>\n",
       "      <td>0.127285</td>\n",
       "    </tr>\n",
       "  </tbody>\n",
       "</table>\n",
       "</div>"
      ],
      "text/plain": [
       "  Personality  Sum_of_Overall_Popularity\n",
       "0  Big Sister                   0.074704\n",
       "1      Cranky                   0.123590\n",
       "2        Jock                   0.134202\n",
       "3        Lazy                   0.175879\n",
       "4      Normal                   0.164958\n",
       "5       Peppy                   0.123412\n",
       "6        Smug                   0.075969\n",
       "7      Snooty                   0.127285"
      ]
     },
     "execution_count": 144,
     "metadata": {},
     "output_type": "execute_result"
    }
   ],
   "source": [
    "personality_overall.apply(lambda x: x/x.sum()).reset_index() # type: ignore"
   ]
  },
  {
   "cell_type": "code",
   "execution_count": 145,
   "id": "b91d9974",
   "metadata": {},
   "outputs": [
    {
     "data": {
      "text/plain": [
       "Text(0.5, 0, 'Species and Personality')"
      ]
     },
     "execution_count": 145,
     "metadata": {},
     "output_type": "execute_result"
    },
    {
     "data": {
      "image/png": "[encoded data removed]",
      "text/plain": [
       "<Figure size 1152x720 with 1 Axes>"
      ]
     },
     "metadata": {
      "needs_background": "light"
     },
     "output_type": "display_data"
    }
   ],
   "source": [
    "# Very simple one-liner using our agg_tips DataFrame.\n",
    "personality_species.plot(kind='bar', stacked=True,figsize = (16,10),rot = 90,colormap = 'Set2',\n",
    "                        grid=False,title = 'Popularity by Villager Species and Personality',\n",
    "                       )\n",
    "\n",
    "# Just add a title and rotate the x-axis labels to be horizontal.\n",
    "plt.ylabel('Overall Popularity')\n",
    "plt.xlabel('Species and Personality')\n",
    "#plt.xticks(rotation=0, ha='center')\n",
    "#plt.figure(figsize = (16,20))"
   ]
  },
  {
   "cell_type": "code",
   "execution_count": 58,
   "id": "9aac711b",
   "metadata": {},
   "outputs": [],
   "source": [
    "#Stacked bar chart:\n",
    "#Villager species variable [as ordinal rank/order of species x axis & gender bar stack color]\n",
    "#Total rank by villager species [quantitative variable as sum on y axis]\n",
    "#JS Note, they look a bit better unstacked"
   ]
  },
  {
   "cell_type": "code",
   "execution_count": 146,
   "id": "ea50c02a",
   "metadata": {},
   "outputs": [
    {
     "data": {
      "text/plain": [
       "<seaborn.axisgrid.FacetGrid at 0x14f171f70>"
      ]
     },
     "execution_count": 146,
     "metadata": {},
     "output_type": "execute_result"
    },
    {
     "data": {
      "image/png": "[encoded data removed]",
      "text/plain": [
       "<Figure size 704.24x1152 with 1 Axes>"
      ]
     },
     "metadata": {
      "needs_background": "light"
     },
     "output_type": "display_data"
    }
   ],
   "source": [
    "# Draw a nested barplot by species and sex\n",
    "g = sns.catplot(\n",
    "    data=final_villagers, kind=\"bar\",\n",
    "    y=\"Astrology\", x=\"Overall_Popularity\", hue=\"Species\",\n",
    "    #order=Final_Villagers_ACNH.sort_values('Species',ascending = False).Overall_Popularity,\n",
    "    ci =None,palette=\"Set2\", alpha=1, height=16,aspect=14.7/27.27\n",
    ")\n",
    "#g.despine(right=True)\n",
    "#g.title('Overall Popularity from combined Historical Google Searches and ACP Poll Results by Species and Gender')\n",
    "g.set_axis_labels(\"Overall Popularity per Million\", \"Species and Gender\")\n",
    "g.legend.set_title(\"Gender\")\n",
    "g.set_xticklabels(rotation=45)\n",
    "#plt.xticks(rotation=45)\n",
    "#sns.set(rc={'figure.figsize':(40.7,20.27)})"
   ]
  },
  {
   "cell_type": "code",
   "execution_count": 147,
   "id": "96703677",
   "metadata": {},
   "outputs": [],
   "source": [
    "species_astro = final_villagers.groupby(['Species','Astrology'])['Overall_Popularity'].sum().unstack().fillna(0)"
   ]
  },
  {
   "cell_type": "code",
   "execution_count": 148,
   "id": "c39898ed",
   "metadata": {},
   "outputs": [
    {
     "data": {
      "text/html": [
       "<div>\n",
       "<style scoped>\n",
       "    .dataframe tbody tr th:only-of-type {\n",
       "        vertical-align: middle;\n",
       "    }\n",
       "\n",
       "    .dataframe tbody tr th {\n",
       "        vertical-align: top;\n",
       "    }\n",
       "\n",
       "    .dataframe thead th {\n",
       "        text-align: right;\n",
       "    }\n",
       "</style>\n",
       "<table border=\"1\" class=\"dataframe\">\n",
       "  <thead>\n",
       "    <tr style=\"text-align: right;\">\n",
       "      <th>Astrology</th>\n",
       "      <th>Aquarius</th>\n",
       "      <th>Aries</th>\n",
       "      <th>Cancer</th>\n",
       "      <th>Capricorn</th>\n",
       "      <th>Gemini</th>\n",
       "      <th>Leo</th>\n",
       "      <th>Libra</th>\n",
       "      <th>Pisces</th>\n",
       "      <th>Sagittarius</th>\n",
       "      <th>Scorpio</th>\n",
       "      <th>Taurus</th>\n",
       "      <th>Virgo</th>\n",
       "    </tr>\n",
       "    <tr>\n",
       "      <th>Species</th>\n",
       "      <th></th>\n",
       "      <th></th>\n",
       "      <th></th>\n",
       "      <th></th>\n",
       "      <th></th>\n",
       "      <th></th>\n",
       "      <th></th>\n",
       "      <th></th>\n",
       "      <th></th>\n",
       "      <th></th>\n",
       "      <th></th>\n",
       "      <th></th>\n",
       "    </tr>\n",
       "  </thead>\n",
       "  <tbody>\n",
       "    <tr>\n",
       "      <th>Alligator</th>\n",
       "      <td>3144479.0</td>\n",
       "      <td>0.0</td>\n",
       "      <td>0.0</td>\n",
       "      <td>0.0</td>\n",
       "      <td>2001478.0</td>\n",
       "      <td>1785643.0</td>\n",
       "      <td>0.0</td>\n",
       "      <td>0.0</td>\n",
       "      <td>0.0</td>\n",
       "      <td>3954593.0</td>\n",
       "      <td>1807134.0</td>\n",
       "      <td>0.0</td>\n",
       "    </tr>\n",
       "    <tr>\n",
       "      <th>Anteater</th>\n",
       "      <td>4441687.0</td>\n",
       "      <td>0.0</td>\n",
       "      <td>0.0</td>\n",
       "      <td>0.0</td>\n",
       "      <td>0.0</td>\n",
       "      <td>0.0</td>\n",
       "      <td>526085.0</td>\n",
       "      <td>1769126.0</td>\n",
       "      <td>0.0</td>\n",
       "      <td>5646618.0</td>\n",
       "      <td>1944223.0</td>\n",
       "      <td>0.0</td>\n",
       "    </tr>\n",
       "    <tr>\n",
       "      <th>Bear</th>\n",
       "      <td>0.0</td>\n",
       "      <td>3918535.0</td>\n",
       "      <td>3731490.0</td>\n",
       "      <td>2133521.0</td>\n",
       "      <td>0.0</td>\n",
       "      <td>2997874.0</td>\n",
       "      <td>2314535.0</td>\n",
       "      <td>2786335.0</td>\n",
       "      <td>0.0</td>\n",
       "      <td>1818794.0</td>\n",
       "      <td>2315050.0</td>\n",
       "      <td>3494773.0</td>\n",
       "    </tr>\n",
       "    <tr>\n",
       "      <th>Bird</th>\n",
       "      <td>3228014.0</td>\n",
       "      <td>2448853.0</td>\n",
       "      <td>3741610.0</td>\n",
       "      <td>0.0</td>\n",
       "      <td>0.0</td>\n",
       "      <td>728688.0</td>\n",
       "      <td>0.0</td>\n",
       "      <td>5843267.0</td>\n",
       "      <td>789606.0</td>\n",
       "      <td>2175097.0</td>\n",
       "      <td>0.0</td>\n",
       "      <td>2305832.0</td>\n",
       "    </tr>\n",
       "    <tr>\n",
       "      <th>Bull</th>\n",
       "      <td>0.0</td>\n",
       "      <td>0.0</td>\n",
       "      <td>0.0</td>\n",
       "      <td>542663.0</td>\n",
       "      <td>0.0</td>\n",
       "      <td>0.0</td>\n",
       "      <td>0.0</td>\n",
       "      <td>0.0</td>\n",
       "      <td>0.0</td>\n",
       "      <td>1486892.0</td>\n",
       "      <td>6877481.0</td>\n",
       "      <td>0.0</td>\n",
       "    </tr>\n",
       "    <tr>\n",
       "      <th>Cat</th>\n",
       "      <td>5303926.0</td>\n",
       "      <td>5455462.0</td>\n",
       "      <td>1522781.0</td>\n",
       "      <td>2004869.0</td>\n",
       "      <td>3257755.0</td>\n",
       "      <td>3315090.0</td>\n",
       "      <td>8823551.0</td>\n",
       "      <td>721530.0</td>\n",
       "      <td>8233306.0</td>\n",
       "      <td>0.0</td>\n",
       "      <td>2303274.0</td>\n",
       "      <td>7277038.0</td>\n",
       "    </tr>\n",
       "    <tr>\n",
       "      <th>Chicken</th>\n",
       "      <td>0.0</td>\n",
       "      <td>0.0</td>\n",
       "      <td>0.0</td>\n",
       "      <td>568193.0</td>\n",
       "      <td>0.0</td>\n",
       "      <td>0.0</td>\n",
       "      <td>8276653.0</td>\n",
       "      <td>0.0</td>\n",
       "      <td>2540375.0</td>\n",
       "      <td>845593.0</td>\n",
       "      <td>2590344.0</td>\n",
       "      <td>0.0</td>\n",
       "    </tr>\n",
       "    <tr>\n",
       "      <th>Cow</th>\n",
       "      <td>0.0</td>\n",
       "      <td>0.0</td>\n",
       "      <td>0.0</td>\n",
       "      <td>0.0</td>\n",
       "      <td>0.0</td>\n",
       "      <td>0.0</td>\n",
       "      <td>0.0</td>\n",
       "      <td>2090087.0</td>\n",
       "      <td>0.0</td>\n",
       "      <td>0.0</td>\n",
       "      <td>2598255.0</td>\n",
       "      <td>5103998.0</td>\n",
       "    </tr>\n",
       "    <tr>\n",
       "      <th>Cub</th>\n",
       "      <td>1610048.0</td>\n",
       "      <td>0.0</td>\n",
       "      <td>17402809.0</td>\n",
       "      <td>3259823.0</td>\n",
       "      <td>3620551.0</td>\n",
       "      <td>3972030.0</td>\n",
       "      <td>414780.0</td>\n",
       "      <td>8841453.0</td>\n",
       "      <td>0.0</td>\n",
       "      <td>0.0</td>\n",
       "      <td>3384455.0</td>\n",
       "      <td>0.0</td>\n",
       "    </tr>\n",
       "    <tr>\n",
       "      <th>Deer</th>\n",
       "      <td>0.0</td>\n",
       "      <td>2962639.0</td>\n",
       "      <td>0.0</td>\n",
       "      <td>1350294.0</td>\n",
       "      <td>4473464.0</td>\n",
       "      <td>3763878.0</td>\n",
       "      <td>0.0</td>\n",
       "      <td>0.0</td>\n",
       "      <td>0.0</td>\n",
       "      <td>958633.0</td>\n",
       "      <td>2595659.0</td>\n",
       "      <td>2386980.0</td>\n",
       "    </tr>\n",
       "    <tr>\n",
       "      <th>Dog</th>\n",
       "      <td>0.0</td>\n",
       "      <td>0.0</td>\n",
       "      <td>0.0</td>\n",
       "      <td>5644634.0</td>\n",
       "      <td>6507158.0</td>\n",
       "      <td>3488457.0</td>\n",
       "      <td>1702459.0</td>\n",
       "      <td>0.0</td>\n",
       "      <td>2449341.0</td>\n",
       "      <td>7651590.0</td>\n",
       "      <td>1259793.0</td>\n",
       "      <td>0.0</td>\n",
       "    </tr>\n",
       "    <tr>\n",
       "      <th>Duck</th>\n",
       "      <td>2702586.0</td>\n",
       "      <td>1353459.0</td>\n",
       "      <td>4621001.0</td>\n",
       "      <td>2370315.0</td>\n",
       "      <td>2862779.0</td>\n",
       "      <td>4139931.0</td>\n",
       "      <td>0.0</td>\n",
       "      <td>4436905.0</td>\n",
       "      <td>0.0</td>\n",
       "      <td>2090343.0</td>\n",
       "      <td>3017985.0</td>\n",
       "      <td>0.0</td>\n",
       "    </tr>\n",
       "    <tr>\n",
       "      <th>Eagle</th>\n",
       "      <td>0.0</td>\n",
       "      <td>1364200.0</td>\n",
       "      <td>519091.0</td>\n",
       "      <td>1667060.0</td>\n",
       "      <td>1988848.0</td>\n",
       "      <td>1787203.0</td>\n",
       "      <td>0.0</td>\n",
       "      <td>1565668.0</td>\n",
       "      <td>4454579.0</td>\n",
       "      <td>2263554.0</td>\n",
       "      <td>0.0</td>\n",
       "      <td>0.0</td>\n",
       "    </tr>\n",
       "    <tr>\n",
       "      <th>Elephant</th>\n",
       "      <td>3164602.0</td>\n",
       "      <td>1610355.0</td>\n",
       "      <td>1374068.0</td>\n",
       "      <td>0.0</td>\n",
       "      <td>1988656.0</td>\n",
       "      <td>0.0</td>\n",
       "      <td>2964035.0</td>\n",
       "      <td>0.0</td>\n",
       "      <td>687810.0</td>\n",
       "      <td>2474682.0</td>\n",
       "      <td>5066018.0</td>\n",
       "      <td>230506.0</td>\n",
       "    </tr>\n",
       "    <tr>\n",
       "      <th>Frog</th>\n",
       "      <td>6604143.0</td>\n",
       "      <td>0.0</td>\n",
       "      <td>6092132.0</td>\n",
       "      <td>2264187.0</td>\n",
       "      <td>4191458.0</td>\n",
       "      <td>3581586.0</td>\n",
       "      <td>7596099.0</td>\n",
       "      <td>0.0</td>\n",
       "      <td>1952194.0</td>\n",
       "      <td>1846745.0</td>\n",
       "      <td>0.0</td>\n",
       "      <td>1638838.0</td>\n",
       "    </tr>\n",
       "    <tr>\n",
       "      <th>Goat</th>\n",
       "      <td>0.0</td>\n",
       "      <td>1008960.0</td>\n",
       "      <td>125267.0</td>\n",
       "      <td>11764769.0</td>\n",
       "      <td>0.0</td>\n",
       "      <td>0.0</td>\n",
       "      <td>0.0</td>\n",
       "      <td>3019845.0</td>\n",
       "      <td>0.0</td>\n",
       "      <td>0.0</td>\n",
       "      <td>0.0</td>\n",
       "      <td>4013520.0</td>\n",
       "    </tr>\n",
       "    <tr>\n",
       "      <th>Gorilla</th>\n",
       "      <td>0.0</td>\n",
       "      <td>6435673.0</td>\n",
       "      <td>0.0</td>\n",
       "      <td>0.0</td>\n",
       "      <td>0.0</td>\n",
       "      <td>0.0</td>\n",
       "      <td>3128010.0</td>\n",
       "      <td>0.0</td>\n",
       "      <td>1503179.0</td>\n",
       "      <td>0.0</td>\n",
       "      <td>0.0</td>\n",
       "      <td>4667234.0</td>\n",
       "    </tr>\n",
       "    <tr>\n",
       "      <th>Hamster</th>\n",
       "      <td>1945888.0</td>\n",
       "      <td>0.0</td>\n",
       "      <td>0.0</td>\n",
       "      <td>0.0</td>\n",
       "      <td>3016446.0</td>\n",
       "      <td>2555811.0</td>\n",
       "      <td>20562524.0</td>\n",
       "      <td>1887477.0</td>\n",
       "      <td>0.0</td>\n",
       "      <td>2430806.0</td>\n",
       "      <td>0.0</td>\n",
       "      <td>0.0</td>\n",
       "    </tr>\n",
       "    <tr>\n",
       "      <th>Hippo</th>\n",
       "      <td>0.0</td>\n",
       "      <td>3926531.0</td>\n",
       "      <td>0.0</td>\n",
       "      <td>1333895.0</td>\n",
       "      <td>0.0</td>\n",
       "      <td>1695802.0</td>\n",
       "      <td>4207145.0</td>\n",
       "      <td>0.0</td>\n",
       "      <td>0.0</td>\n",
       "      <td>0.0</td>\n",
       "      <td>2139767.0</td>\n",
       "      <td>6043230.0</td>\n",
       "    </tr>\n",
       "    <tr>\n",
       "      <th>Horse</th>\n",
       "      <td>4381060.0</td>\n",
       "      <td>588050.0</td>\n",
       "      <td>2071162.0</td>\n",
       "      <td>621881.0</td>\n",
       "      <td>5295394.0</td>\n",
       "      <td>0.0</td>\n",
       "      <td>2128216.0</td>\n",
       "      <td>4478361.0</td>\n",
       "      <td>2559573.0</td>\n",
       "      <td>0.0</td>\n",
       "      <td>2881247.0</td>\n",
       "      <td>1236971.0</td>\n",
       "    </tr>\n",
       "    <tr>\n",
       "      <th>Kangaroo</th>\n",
       "      <td>0.0</td>\n",
       "      <td>0.0</td>\n",
       "      <td>0.0</td>\n",
       "      <td>0.0</td>\n",
       "      <td>1894572.0</td>\n",
       "      <td>0.0</td>\n",
       "      <td>814212.0</td>\n",
       "      <td>0.0</td>\n",
       "      <td>2544511.0</td>\n",
       "      <td>2066096.0</td>\n",
       "      <td>2913326.0</td>\n",
       "      <td>592008.0</td>\n",
       "    </tr>\n",
       "    <tr>\n",
       "      <th>Koala</th>\n",
       "      <td>0.0</td>\n",
       "      <td>1843821.0</td>\n",
       "      <td>2782386.0</td>\n",
       "      <td>0.0</td>\n",
       "      <td>0.0</td>\n",
       "      <td>2376763.0</td>\n",
       "      <td>3881141.0</td>\n",
       "      <td>0.0</td>\n",
       "      <td>0.0</td>\n",
       "      <td>815579.0</td>\n",
       "      <td>2502220.0</td>\n",
       "      <td>0.0</td>\n",
       "    </tr>\n",
       "    <tr>\n",
       "      <th>Lion</th>\n",
       "      <td>0.0</td>\n",
       "      <td>0.0</td>\n",
       "      <td>1931160.0</td>\n",
       "      <td>0.0</td>\n",
       "      <td>0.0</td>\n",
       "      <td>9565407.0</td>\n",
       "      <td>0.0</td>\n",
       "      <td>0.0</td>\n",
       "      <td>0.0</td>\n",
       "      <td>0.0</td>\n",
       "      <td>0.0</td>\n",
       "      <td>0.0</td>\n",
       "    </tr>\n",
       "    <tr>\n",
       "      <th>Monkey</th>\n",
       "      <td>0.0</td>\n",
       "      <td>6508560.0</td>\n",
       "      <td>0.0</td>\n",
       "      <td>1987360.0</td>\n",
       "      <td>2969774.0</td>\n",
       "      <td>0.0</td>\n",
       "      <td>0.0</td>\n",
       "      <td>0.0</td>\n",
       "      <td>2150116.0</td>\n",
       "      <td>1380446.0</td>\n",
       "      <td>0.0</td>\n",
       "      <td>936129.0</td>\n",
       "    </tr>\n",
       "    <tr>\n",
       "      <th>Mouse</th>\n",
       "      <td>4321563.0</td>\n",
       "      <td>2475213.0</td>\n",
       "      <td>5923197.0</td>\n",
       "      <td>2132426.0</td>\n",
       "      <td>1923043.0</td>\n",
       "      <td>5076634.0</td>\n",
       "      <td>259.0</td>\n",
       "      <td>1271081.0</td>\n",
       "      <td>2027197.0</td>\n",
       "      <td>0.0</td>\n",
       "      <td>0.0</td>\n",
       "      <td>3501876.0</td>\n",
       "    </tr>\n",
       "    <tr>\n",
       "      <th>Octopus</th>\n",
       "      <td>0.0</td>\n",
       "      <td>0.0</td>\n",
       "      <td>3063629.0</td>\n",
       "      <td>0.0</td>\n",
       "      <td>0.0</td>\n",
       "      <td>0.0</td>\n",
       "      <td>0.0</td>\n",
       "      <td>2529942.0</td>\n",
       "      <td>0.0</td>\n",
       "      <td>0.0</td>\n",
       "      <td>0.0</td>\n",
       "      <td>2838334.0</td>\n",
       "    </tr>\n",
       "    <tr>\n",
       "      <th>Ostrich</th>\n",
       "      <td>2786348.0</td>\n",
       "      <td>0.0</td>\n",
       "      <td>0.0</td>\n",
       "      <td>649576.0</td>\n",
       "      <td>0.0</td>\n",
       "      <td>591229.0</td>\n",
       "      <td>5992478.0</td>\n",
       "      <td>0.0</td>\n",
       "      <td>5763272.0</td>\n",
       "      <td>1180447.0</td>\n",
       "      <td>2200949.0</td>\n",
       "      <td>0.0</td>\n",
       "    </tr>\n",
       "    <tr>\n",
       "      <th>Penguin</th>\n",
       "      <td>4219566.0</td>\n",
       "      <td>1467157.0</td>\n",
       "      <td>0.0</td>\n",
       "      <td>2104305.0</td>\n",
       "      <td>0.0</td>\n",
       "      <td>0.0</td>\n",
       "      <td>4662768.0</td>\n",
       "      <td>3378209.0</td>\n",
       "      <td>0.0</td>\n",
       "      <td>3401602.0</td>\n",
       "      <td>0.0</td>\n",
       "      <td>3058311.0</td>\n",
       "    </tr>\n",
       "    <tr>\n",
       "      <th>Pig</th>\n",
       "      <td>0.0</td>\n",
       "      <td>2186540.0</td>\n",
       "      <td>0.0</td>\n",
       "      <td>2336117.0</td>\n",
       "      <td>1947343.0</td>\n",
       "      <td>4118772.0</td>\n",
       "      <td>3495491.0</td>\n",
       "      <td>3806443.0</td>\n",
       "      <td>0.0</td>\n",
       "      <td>2480728.0</td>\n",
       "      <td>5124971.0</td>\n",
       "      <td>3018184.0</td>\n",
       "    </tr>\n",
       "    <tr>\n",
       "      <th>Rabbit</th>\n",
       "      <td>5537503.0</td>\n",
       "      <td>0.0</td>\n",
       "      <td>1902276.0</td>\n",
       "      <td>3088096.0</td>\n",
       "      <td>1407179.0</td>\n",
       "      <td>3092649.0</td>\n",
       "      <td>0.0</td>\n",
       "      <td>7566850.0</td>\n",
       "      <td>2604741.0</td>\n",
       "      <td>1332223.0</td>\n",
       "      <td>1029608.0</td>\n",
       "      <td>1623712.0</td>\n",
       "    </tr>\n",
       "    <tr>\n",
       "      <th>Rhino</th>\n",
       "      <td>1555147.0</td>\n",
       "      <td>0.0</td>\n",
       "      <td>0.0</td>\n",
       "      <td>0.0</td>\n",
       "      <td>2438601.0</td>\n",
       "      <td>0.0</td>\n",
       "      <td>0.0</td>\n",
       "      <td>3938887.0</td>\n",
       "      <td>0.0</td>\n",
       "      <td>0.0</td>\n",
       "      <td>1633189.0</td>\n",
       "      <td>0.0</td>\n",
       "    </tr>\n",
       "    <tr>\n",
       "      <th>Sheep</th>\n",
       "      <td>1957045.0</td>\n",
       "      <td>7102626.0</td>\n",
       "      <td>935574.0</td>\n",
       "      <td>0.0</td>\n",
       "      <td>0.0</td>\n",
       "      <td>1056690.0</td>\n",
       "      <td>1804056.0</td>\n",
       "      <td>4468975.0</td>\n",
       "      <td>743733.0</td>\n",
       "      <td>0.0</td>\n",
       "      <td>1443923.0</td>\n",
       "      <td>0.0</td>\n",
       "    </tr>\n",
       "    <tr>\n",
       "      <th>Squirrel</th>\n",
       "      <td>0.0</td>\n",
       "      <td>0.0</td>\n",
       "      <td>5407165.0</td>\n",
       "      <td>0.0</td>\n",
       "      <td>4589071.0</td>\n",
       "      <td>2623076.0</td>\n",
       "      <td>2752292.0</td>\n",
       "      <td>2371707.0</td>\n",
       "      <td>2078324.0</td>\n",
       "      <td>0.0</td>\n",
       "      <td>915.0</td>\n",
       "      <td>5467493.0</td>\n",
       "    </tr>\n",
       "    <tr>\n",
       "      <th>Tiger</th>\n",
       "      <td>0.0</td>\n",
       "      <td>0.0</td>\n",
       "      <td>0.0</td>\n",
       "      <td>0.0</td>\n",
       "      <td>0.0</td>\n",
       "      <td>4456876.0</td>\n",
       "      <td>0.0</td>\n",
       "      <td>0.0</td>\n",
       "      <td>3510936.0</td>\n",
       "      <td>0.0</td>\n",
       "      <td>3098198.0</td>\n",
       "      <td>4538612.0</td>\n",
       "    </tr>\n",
       "    <tr>\n",
       "      <th>Wolf</th>\n",
       "      <td>4803182.0</td>\n",
       "      <td>3746877.0</td>\n",
       "      <td>0.0</td>\n",
       "      <td>0.0</td>\n",
       "      <td>0.0</td>\n",
       "      <td>0.0</td>\n",
       "      <td>0.0</td>\n",
       "      <td>0.0</td>\n",
       "      <td>9663199.0</td>\n",
       "      <td>2018197.0</td>\n",
       "      <td>0.0</td>\n",
       "      <td>6155056.0</td>\n",
       "    </tr>\n",
       "  </tbody>\n",
       "</table>\n",
       "</div>"
      ],
      "text/plain": [
       "Astrology   Aquarius      Aries      Cancer   Capricorn     Gemini        Leo  \\\n",
       "Species                                                                         \n",
       "Alligator  3144479.0        0.0         0.0         0.0  2001478.0  1785643.0   \n",
       "Anteater   4441687.0        0.0         0.0         0.0        0.0        0.0   \n",
       "Bear             0.0  3918535.0   3731490.0   2133521.0        0.0  2997874.0   \n",
       "Bird       3228014.0  2448853.0   3741610.0         0.0        0.0   728688.0   \n",
       "Bull             0.0        0.0         0.0    542663.0        0.0        0.0   \n",
       "Cat        5303926.0  5455462.0   1522781.0   2004869.0  3257755.0  3315090.0   \n",
       "Chicken          0.0        0.0         0.0    568193.0        0.0        0.0   \n",
       "Cow              0.0        0.0         0.0         0.0        0.0        0.0   \n",
       "Cub        1610048.0        0.0  17402809.0   3259823.0  3620551.0  3972030.0   \n",
       "Deer             0.0  2962639.0         0.0   1350294.0  4473464.0  3763878.0   \n",
       "Dog              0.0        0.0         0.0   5644634.0  6507158.0  3488457.0   \n",
       "Duck       2702586.0  1353459.0   4621001.0   2370315.0  2862779.0  4139931.0   \n",
       "Eagle            0.0  1364200.0    519091.0   1667060.0  1988848.0  1787203.0   \n",
       "Elephant   3164602.0  1610355.0   1374068.0         0.0  1988656.0        0.0   \n",
       "Frog       6604143.0        0.0   6092132.0   2264187.0  4191458.0  3581586.0   \n",
       "Goat             0.0  1008960.0    125267.0  11764769.0        0.0        0.0   \n",
       "Gorilla          0.0  6435673.0         0.0         0.0        0.0        0.0   \n",
       "Hamster    1945888.0        0.0         0.0         0.0  3016446.0  2555811.0   \n",
       "Hippo            0.0  3926531.0         0.0   1333895.0        0.0  1695802.0   \n",
       "Horse      4381060.0   588050.0   2071162.0    621881.0  5295394.0        0.0   \n",
       "Kangaroo         0.0        0.0         0.0         0.0  1894572.0        0.0   \n",
       "Koala            0.0  1843821.0   2782386.0         0.0        0.0  2376763.0   \n",
       "Lion             0.0        0.0   1931160.0         0.0        0.0  9565407.0   \n",
       "Monkey           0.0  6508560.0         0.0   1987360.0  2969774.0        0.0   \n",
       "Mouse      4321563.0  2475213.0   5923197.0   2132426.0  1923043.0  5076634.0   \n",
       "Octopus          0.0        0.0   3063629.0         0.0        0.0        0.0   \n",
       "Ostrich    2786348.0        0.0         0.0    649576.0        0.0   591229.0   \n",
       "Penguin    4219566.0  1467157.0         0.0   2104305.0        0.0        0.0   \n",
       "Pig              0.0  2186540.0         0.0   2336117.0  1947343.0  4118772.0   \n",
       "Rabbit     5537503.0        0.0   1902276.0   3088096.0  1407179.0  3092649.0   \n",
       "Rhino      1555147.0        0.0         0.0         0.0  2438601.0        0.0   \n",
       "Sheep      1957045.0  7102626.0    935574.0         0.0        0.0  1056690.0   \n",
       "Squirrel         0.0        0.0   5407165.0         0.0  4589071.0  2623076.0   \n",
       "Tiger            0.0        0.0         0.0         0.0        0.0  4456876.0   \n",
       "Wolf       4803182.0  3746877.0         0.0         0.0        0.0        0.0   \n",
       "\n",
       "Astrology       Libra     Pisces  Sagittarius    Scorpio     Taurus      Virgo  \n",
       "Species                                                                         \n",
       "Alligator         0.0        0.0          0.0  3954593.0  1807134.0        0.0  \n",
       "Anteater     526085.0  1769126.0          0.0  5646618.0  1944223.0        0.0  \n",
       "Bear        2314535.0  2786335.0          0.0  1818794.0  2315050.0  3494773.0  \n",
       "Bird              0.0  5843267.0     789606.0  2175097.0        0.0  2305832.0  \n",
       "Bull              0.0        0.0          0.0  1486892.0  6877481.0        0.0  \n",
       "Cat         8823551.0   721530.0    8233306.0        0.0  2303274.0  7277038.0  \n",
       "Chicken     8276653.0        0.0    2540375.0   845593.0  2590344.0        0.0  \n",
       "Cow               0.0  2090087.0          0.0        0.0  2598255.0  5103998.0  \n",
       "Cub          414780.0  8841453.0          0.0        0.0  3384455.0        0.0  \n",
       "Deer              0.0        0.0          0.0   958633.0  2595659.0  2386980.0  \n",
       "Dog         1702459.0        0.0    2449341.0  7651590.0  1259793.0        0.0  \n",
       "Duck              0.0  4436905.0          0.0  2090343.0  3017985.0        0.0  \n",
       "Eagle             0.0  1565668.0    4454579.0  2263554.0        0.0        0.0  \n",
       "Elephant    2964035.0        0.0     687810.0  2474682.0  5066018.0   230506.0  \n",
       "Frog        7596099.0        0.0    1952194.0  1846745.0        0.0  1638838.0  \n",
       "Goat              0.0  3019845.0          0.0        0.0        0.0  4013520.0  \n",
       "Gorilla     3128010.0        0.0    1503179.0        0.0        0.0  4667234.0  \n",
       "Hamster    20562524.0  1887477.0          0.0  2430806.0        0.0        0.0  \n",
       "Hippo       4207145.0        0.0          0.0        0.0  2139767.0  6043230.0  \n",
       "Horse       2128216.0  4478361.0    2559573.0        0.0  2881247.0  1236971.0  \n",
       "Kangaroo     814212.0        0.0    2544511.0  2066096.0  2913326.0   592008.0  \n",
       "Koala       3881141.0        0.0          0.0   815579.0  2502220.0        0.0  \n",
       "Lion              0.0        0.0          0.0        0.0        0.0        0.0  \n",
       "Monkey            0.0        0.0    2150116.0  1380446.0        0.0   936129.0  \n",
       "Mouse           259.0  1271081.0    2027197.0        0.0        0.0  3501876.0  \n",
       "Octopus           0.0  2529942.0          0.0        0.0        0.0  2838334.0  \n",
       "Ostrich     5992478.0        0.0    5763272.0  1180447.0  2200949.0        0.0  \n",
       "Penguin     4662768.0  3378209.0          0.0  3401602.0        0.0  3058311.0  \n",
       "Pig         3495491.0  3806443.0          0.0  2480728.0  5124971.0  3018184.0  \n",
       "Rabbit            0.0  7566850.0    2604741.0  1332223.0  1029608.0  1623712.0  \n",
       "Rhino             0.0  3938887.0          0.0        0.0  1633189.0        0.0  \n",
       "Sheep       1804056.0  4468975.0     743733.0        0.0  1443923.0        0.0  \n",
       "Squirrel    2752292.0  2371707.0    2078324.0        0.0      915.0  5467493.0  \n",
       "Tiger             0.0        0.0    3510936.0        0.0  3098198.0  4538612.0  \n",
       "Wolf              0.0        0.0    9663199.0  2018197.0        0.0  6155056.0  "
      ]
     },
     "execution_count": 148,
     "metadata": {},
     "output_type": "execute_result"
    }
   ],
   "source": [
    "species_astro"
   ]
  },
  {
   "cell_type": "code",
   "execution_count": 65,
   "id": "1e4bf033",
   "metadata": {},
   "outputs": [
    {
     "data": {
      "image/png": "[encoded data removed]",
      "text/plain": [
       "<Figure size 1296x720 with 1 Axes>"
      ]
     },
     "metadata": {
      "needs_background": "light"
     },
     "output_type": "display_data"
    }
   ],
   "source": [
    "# Draw a nested barplot by species and sex\n",
    "gv2 = species_astro.plot(\n",
    "    kind=\"bar\",stacked=True,\n",
    "    alpha=0.8,colormap = 'Set3_r',\n",
    "    title = 'Overall Popularity by Species and Astrological Sign',\n",
    "    figsize = (18,10), grid = False\n",
    ")\n",
    "#g.despine(right=True)\n",
    "#g.title('Overall Popularity from combined Historical Google Searches and ACP Poll Results by Species and Gender')\n",
    "#gv2.set_axis_labels(\"Overall Popularity per Million\", \"Species and Gender\")\n",
    "#gv2.legend.set_title(\"Gender\")\n",
    "#gv2.set_xticklabels(rotation=45)\n",
    "#plt.xticks(rotation=45)\n",
    "#sns.set(rc={'figure.figsize':(40.7,20.27)})"
   ]
  },
  {
   "cell_type": "code",
   "execution_count": 66,
   "id": "455e3288",
   "metadata": {},
   "outputs": [],
   "source": [
    "personality_astro = final_villagers.groupby(['Personality','Astrology'])['Overall_Popularity'].sum().unstack().fillna(0)"
   ]
  },
  {
   "cell_type": "code",
   "execution_count": 89,
   "id": "045ea5f5",
   "metadata": {},
   "outputs": [],
   "source": [
    "species_astro = final_villagers.groupby(['Species','Astrology'])['Overall_Popularity'].sum().unstack().fillna(0)"
   ]
  },
  {
   "cell_type": "code",
   "execution_count": 90,
   "id": "b0615989",
   "metadata": {},
   "outputs": [
    {
     "data": {
      "text/html": [
       "<div>\n",
       "<style scoped>\n",
       "    .dataframe tbody tr th:only-of-type {\n",
       "        vertical-align: middle;\n",
       "    }\n",
       "\n",
       "    .dataframe tbody tr th {\n",
       "        vertical-align: top;\n",
       "    }\n",
       "\n",
       "    .dataframe thead th {\n",
       "        text-align: right;\n",
       "    }\n",
       "</style>\n",
       "<table border=\"1\" class=\"dataframe\">\n",
       "  <thead>\n",
       "    <tr style=\"text-align: right;\">\n",
       "      <th>Astrology</th>\n",
       "      <th>Aquarius</th>\n",
       "      <th>Aries</th>\n",
       "      <th>Cancer</th>\n",
       "      <th>Capricorn</th>\n",
       "      <th>Gemini</th>\n",
       "      <th>Leo</th>\n",
       "      <th>Libra</th>\n",
       "      <th>Pisces</th>\n",
       "      <th>Sagittarius</th>\n",
       "      <th>Scorpio</th>\n",
       "      <th>Taurus</th>\n",
       "      <th>Virgo</th>\n",
       "    </tr>\n",
       "    <tr>\n",
       "      <th>Species</th>\n",
       "      <th></th>\n",
       "      <th></th>\n",
       "      <th></th>\n",
       "      <th></th>\n",
       "      <th></th>\n",
       "      <th></th>\n",
       "      <th></th>\n",
       "      <th></th>\n",
       "      <th></th>\n",
       "      <th></th>\n",
       "      <th></th>\n",
       "      <th></th>\n",
       "    </tr>\n",
       "  </thead>\n",
       "  <tbody>\n",
       "    <tr>\n",
       "      <th>Alligator</th>\n",
       "      <td>3144479.0</td>\n",
       "      <td>0.0</td>\n",
       "      <td>0.0</td>\n",
       "      <td>0.0</td>\n",
       "      <td>2001478.0</td>\n",
       "      <td>1785643.0</td>\n",
       "      <td>0.0</td>\n",
       "      <td>0.0</td>\n",
       "      <td>0.0</td>\n",
       "      <td>3954593.0</td>\n",
       "      <td>1807134.0</td>\n",
       "      <td>0.0</td>\n",
       "    </tr>\n",
       "    <tr>\n",
       "      <th>Anteater</th>\n",
       "      <td>4441687.0</td>\n",
       "      <td>0.0</td>\n",
       "      <td>0.0</td>\n",
       "      <td>0.0</td>\n",
       "      <td>0.0</td>\n",
       "      <td>0.0</td>\n",
       "      <td>526085.0</td>\n",
       "      <td>1769126.0</td>\n",
       "      <td>0.0</td>\n",
       "      <td>5646618.0</td>\n",
       "      <td>1944223.0</td>\n",
       "      <td>0.0</td>\n",
       "    </tr>\n",
       "    <tr>\n",
       "      <th>Bear</th>\n",
       "      <td>0.0</td>\n",
       "      <td>3918535.0</td>\n",
       "      <td>3731490.0</td>\n",
       "      <td>2133521.0</td>\n",
       "      <td>0.0</td>\n",
       "      <td>2997874.0</td>\n",
       "      <td>2314535.0</td>\n",
       "      <td>2786335.0</td>\n",
       "      <td>0.0</td>\n",
       "      <td>1818794.0</td>\n",
       "      <td>2315050.0</td>\n",
       "      <td>3494773.0</td>\n",
       "    </tr>\n",
       "    <tr>\n",
       "      <th>Bird</th>\n",
       "      <td>3228014.0</td>\n",
       "      <td>2448853.0</td>\n",
       "      <td>3741610.0</td>\n",
       "      <td>0.0</td>\n",
       "      <td>0.0</td>\n",
       "      <td>728688.0</td>\n",
       "      <td>0.0</td>\n",
       "      <td>5843267.0</td>\n",
       "      <td>789606.0</td>\n",
       "      <td>2175097.0</td>\n",
       "      <td>0.0</td>\n",
       "      <td>2305832.0</td>\n",
       "    </tr>\n",
       "    <tr>\n",
       "      <th>Bull</th>\n",
       "      <td>0.0</td>\n",
       "      <td>0.0</td>\n",
       "      <td>0.0</td>\n",
       "      <td>542663.0</td>\n",
       "      <td>0.0</td>\n",
       "      <td>0.0</td>\n",
       "      <td>0.0</td>\n",
       "      <td>0.0</td>\n",
       "      <td>0.0</td>\n",
       "      <td>1486892.0</td>\n",
       "      <td>6877481.0</td>\n",
       "      <td>0.0</td>\n",
       "    </tr>\n",
       "    <tr>\n",
       "      <th>Cat</th>\n",
       "      <td>5303926.0</td>\n",
       "      <td>5455462.0</td>\n",
       "      <td>1522781.0</td>\n",
       "      <td>2004869.0</td>\n",
       "      <td>3257755.0</td>\n",
       "      <td>3315090.0</td>\n",
       "      <td>8823551.0</td>\n",
       "      <td>721530.0</td>\n",
       "      <td>8233306.0</td>\n",
       "      <td>0.0</td>\n",
       "      <td>2303274.0</td>\n",
       "      <td>7277038.0</td>\n",
       "    </tr>\n",
       "    <tr>\n",
       "      <th>Chicken</th>\n",
       "      <td>0.0</td>\n",
       "      <td>0.0</td>\n",
       "      <td>0.0</td>\n",
       "      <td>568193.0</td>\n",
       "      <td>0.0</td>\n",
       "      <td>0.0</td>\n",
       "      <td>8276653.0</td>\n",
       "      <td>0.0</td>\n",
       "      <td>2540375.0</td>\n",
       "      <td>845593.0</td>\n",
       "      <td>2590344.0</td>\n",
       "      <td>0.0</td>\n",
       "    </tr>\n",
       "    <tr>\n",
       "      <th>Cow</th>\n",
       "      <td>0.0</td>\n",
       "      <td>0.0</td>\n",
       "      <td>0.0</td>\n",
       "      <td>0.0</td>\n",
       "      <td>0.0</td>\n",
       "      <td>0.0</td>\n",
       "      <td>0.0</td>\n",
       "      <td>2090087.0</td>\n",
       "      <td>0.0</td>\n",
       "      <td>0.0</td>\n",
       "      <td>2598255.0</td>\n",
       "      <td>5103998.0</td>\n",
       "    </tr>\n",
       "    <tr>\n",
       "      <th>Cub</th>\n",
       "      <td>1610048.0</td>\n",
       "      <td>0.0</td>\n",
       "      <td>17402809.0</td>\n",
       "      <td>3259823.0</td>\n",
       "      <td>3620551.0</td>\n",
       "      <td>3972030.0</td>\n",
       "      <td>414780.0</td>\n",
       "      <td>8841453.0</td>\n",
       "      <td>0.0</td>\n",
       "      <td>0.0</td>\n",
       "      <td>3384455.0</td>\n",
       "      <td>0.0</td>\n",
       "    </tr>\n",
       "    <tr>\n",
       "      <th>Deer</th>\n",
       "      <td>0.0</td>\n",
       "      <td>2962639.0</td>\n",
       "      <td>0.0</td>\n",
       "      <td>1350294.0</td>\n",
       "      <td>4473464.0</td>\n",
       "      <td>3763878.0</td>\n",
       "      <td>0.0</td>\n",
       "      <td>0.0</td>\n",
       "      <td>0.0</td>\n",
       "      <td>958633.0</td>\n",
       "      <td>2595659.0</td>\n",
       "      <td>2386980.0</td>\n",
       "    </tr>\n",
       "    <tr>\n",
       "      <th>Dog</th>\n",
       "      <td>0.0</td>\n",
       "      <td>0.0</td>\n",
       "      <td>0.0</td>\n",
       "      <td>5644634.0</td>\n",
       "      <td>6507158.0</td>\n",
       "      <td>3488457.0</td>\n",
       "      <td>1702459.0</td>\n",
       "      <td>0.0</td>\n",
       "      <td>2449341.0</td>\n",
       "      <td>7651590.0</td>\n",
       "      <td>1259793.0</td>\n",
       "      <td>0.0</td>\n",
       "    </tr>\n",
       "    <tr>\n",
       "      <th>Duck</th>\n",
       "      <td>2702586.0</td>\n",
       "      <td>1353459.0</td>\n",
       "      <td>4621001.0</td>\n",
       "      <td>2370315.0</td>\n",
       "      <td>2862779.0</td>\n",
       "      <td>4139931.0</td>\n",
       "      <td>0.0</td>\n",
       "      <td>4436905.0</td>\n",
       "      <td>0.0</td>\n",
       "      <td>2090343.0</td>\n",
       "      <td>3017985.0</td>\n",
       "      <td>0.0</td>\n",
       "    </tr>\n",
       "    <tr>\n",
       "      <th>Eagle</th>\n",
       "      <td>0.0</td>\n",
       "      <td>1364200.0</td>\n",
       "      <td>519091.0</td>\n",
       "      <td>1667060.0</td>\n",
       "      <td>1988848.0</td>\n",
       "      <td>1787203.0</td>\n",
       "      <td>0.0</td>\n",
       "      <td>1565668.0</td>\n",
       "      <td>4454579.0</td>\n",
       "      <td>2263554.0</td>\n",
       "      <td>0.0</td>\n",
       "      <td>0.0</td>\n",
       "    </tr>\n",
       "    <tr>\n",
       "      <th>Elephant</th>\n",
       "      <td>3164602.0</td>\n",
       "      <td>1610355.0</td>\n",
       "      <td>1374068.0</td>\n",
       "      <td>0.0</td>\n",
       "      <td>1988656.0</td>\n",
       "      <td>0.0</td>\n",
       "      <td>2964035.0</td>\n",
       "      <td>0.0</td>\n",
       "      <td>687810.0</td>\n",
       "      <td>2474682.0</td>\n",
       "      <td>5066018.0</td>\n",
       "      <td>230506.0</td>\n",
       "    </tr>\n",
       "    <tr>\n",
       "      <th>Frog</th>\n",
       "      <td>6604143.0</td>\n",
       "      <td>0.0</td>\n",
       "      <td>6092132.0</td>\n",
       "      <td>2264187.0</td>\n",
       "      <td>4191458.0</td>\n",
       "      <td>3581586.0</td>\n",
       "      <td>7596099.0</td>\n",
       "      <td>0.0</td>\n",
       "      <td>1952194.0</td>\n",
       "      <td>1846745.0</td>\n",
       "      <td>0.0</td>\n",
       "      <td>1638838.0</td>\n",
       "    </tr>\n",
       "    <tr>\n",
       "      <th>Goat</th>\n",
       "      <td>0.0</td>\n",
       "      <td>1008960.0</td>\n",
       "      <td>125267.0</td>\n",
       "      <td>11764769.0</td>\n",
       "      <td>0.0</td>\n",
       "      <td>0.0</td>\n",
       "      <td>0.0</td>\n",
       "      <td>3019845.0</td>\n",
       "      <td>0.0</td>\n",
       "      <td>0.0</td>\n",
       "      <td>0.0</td>\n",
       "      <td>4013520.0</td>\n",
       "    </tr>\n",
       "    <tr>\n",
       "      <th>Gorilla</th>\n",
       "      <td>0.0</td>\n",
       "      <td>6435673.0</td>\n",
       "      <td>0.0</td>\n",
       "      <td>0.0</td>\n",
       "      <td>0.0</td>\n",
       "      <td>0.0</td>\n",
       "      <td>3128010.0</td>\n",
       "      <td>0.0</td>\n",
       "      <td>1503179.0</td>\n",
       "      <td>0.0</td>\n",
       "      <td>0.0</td>\n",
       "      <td>4667234.0</td>\n",
       "    </tr>\n",
       "    <tr>\n",
       "      <th>Hamster</th>\n",
       "      <td>1945888.0</td>\n",
       "      <td>0.0</td>\n",
       "      <td>0.0</td>\n",
       "      <td>0.0</td>\n",
       "      <td>3016446.0</td>\n",
       "      <td>2555811.0</td>\n",
       "      <td>20562524.0</td>\n",
       "      <td>1887477.0</td>\n",
       "      <td>0.0</td>\n",
       "      <td>2430806.0</td>\n",
       "      <td>0.0</td>\n",
       "      <td>0.0</td>\n",
       "    </tr>\n",
       "    <tr>\n",
       "      <th>Hippo</th>\n",
       "      <td>0.0</td>\n",
       "      <td>3926531.0</td>\n",
       "      <td>0.0</td>\n",
       "      <td>1333895.0</td>\n",
       "      <td>0.0</td>\n",
       "      <td>1695802.0</td>\n",
       "      <td>4207145.0</td>\n",
       "      <td>0.0</td>\n",
       "      <td>0.0</td>\n",
       "      <td>0.0</td>\n",
       "      <td>2139767.0</td>\n",
       "      <td>6043230.0</td>\n",
       "    </tr>\n",
       "    <tr>\n",
       "      <th>Horse</th>\n",
       "      <td>4381060.0</td>\n",
       "      <td>588050.0</td>\n",
       "      <td>2071162.0</td>\n",
       "      <td>621881.0</td>\n",
       "      <td>5295394.0</td>\n",
       "      <td>0.0</td>\n",
       "      <td>2128216.0</td>\n",
       "      <td>4478361.0</td>\n",
       "      <td>2559573.0</td>\n",
       "      <td>0.0</td>\n",
       "      <td>2881247.0</td>\n",
       "      <td>1236971.0</td>\n",
       "    </tr>\n",
       "    <tr>\n",
       "      <th>Kangaroo</th>\n",
       "      <td>0.0</td>\n",
       "      <td>0.0</td>\n",
       "      <td>0.0</td>\n",
       "      <td>0.0</td>\n",
       "      <td>1894572.0</td>\n",
       "      <td>0.0</td>\n",
       "      <td>814212.0</td>\n",
       "      <td>0.0</td>\n",
       "      <td>2544511.0</td>\n",
       "      <td>2066096.0</td>\n",
       "      <td>2913326.0</td>\n",
       "      <td>592008.0</td>\n",
       "    </tr>\n",
       "    <tr>\n",
       "      <th>Koala</th>\n",
       "      <td>0.0</td>\n",
       "      <td>1843821.0</td>\n",
       "      <td>2782386.0</td>\n",
       "      <td>0.0</td>\n",
       "      <td>0.0</td>\n",
       "      <td>2376763.0</td>\n",
       "      <td>3881141.0</td>\n",
       "      <td>0.0</td>\n",
       "      <td>0.0</td>\n",
       "      <td>815579.0</td>\n",
       "      <td>2502220.0</td>\n",
       "      <td>0.0</td>\n",
       "    </tr>\n",
       "    <tr>\n",
       "      <th>Lion</th>\n",
       "      <td>0.0</td>\n",
       "      <td>0.0</td>\n",
       "      <td>1931160.0</td>\n",
       "      <td>0.0</td>\n",
       "      <td>0.0</td>\n",
       "      <td>9565407.0</td>\n",
       "      <td>0.0</td>\n",
       "      <td>0.0</td>\n",
       "      <td>0.0</td>\n",
       "      <td>0.0</td>\n",
       "      <td>0.0</td>\n",
       "      <td>0.0</td>\n",
       "    </tr>\n",
       "    <tr>\n",
       "      <th>Monkey</th>\n",
       "      <td>0.0</td>\n",
       "      <td>6508560.0</td>\n",
       "      <td>0.0</td>\n",
       "      <td>1987360.0</td>\n",
       "      <td>2969774.0</td>\n",
       "      <td>0.0</td>\n",
       "      <td>0.0</td>\n",
       "      <td>0.0</td>\n",
       "      <td>2150116.0</td>\n",
       "      <td>1380446.0</td>\n",
       "      <td>0.0</td>\n",
       "      <td>936129.0</td>\n",
       "    </tr>\n",
       "    <tr>\n",
       "      <th>Mouse</th>\n",
       "      <td>4321563.0</td>\n",
       "      <td>2475213.0</td>\n",
       "      <td>5923197.0</td>\n",
       "      <td>2132426.0</td>\n",
       "      <td>1923043.0</td>\n",
       "      <td>5076634.0</td>\n",
       "      <td>259.0</td>\n",
       "      <td>1271081.0</td>\n",
       "      <td>2027197.0</td>\n",
       "      <td>0.0</td>\n",
       "      <td>0.0</td>\n",
       "      <td>3501876.0</td>\n",
       "    </tr>\n",
       "    <tr>\n",
       "      <th>Octopus</th>\n",
       "      <td>0.0</td>\n",
       "      <td>0.0</td>\n",
       "      <td>3063629.0</td>\n",
       "      <td>0.0</td>\n",
       "      <td>0.0</td>\n",
       "      <td>0.0</td>\n",
       "      <td>0.0</td>\n",
       "      <td>2529942.0</td>\n",
       "      <td>0.0</td>\n",
       "      <td>0.0</td>\n",
       "      <td>0.0</td>\n",
       "      <td>2838334.0</td>\n",
       "    </tr>\n",
       "    <tr>\n",
       "      <th>Ostrich</th>\n",
       "      <td>2786348.0</td>\n",
       "      <td>0.0</td>\n",
       "      <td>0.0</td>\n",
       "      <td>649576.0</td>\n",
       "      <td>0.0</td>\n",
       "      <td>591229.0</td>\n",
       "      <td>5992478.0</td>\n",
       "      <td>0.0</td>\n",
       "      <td>5763272.0</td>\n",
       "      <td>1180447.0</td>\n",
       "      <td>2200949.0</td>\n",
       "      <td>0.0</td>\n",
       "    </tr>\n",
       "    <tr>\n",
       "      <th>Penguin</th>\n",
       "      <td>4219566.0</td>\n",
       "      <td>1467157.0</td>\n",
       "      <td>0.0</td>\n",
       "      <td>2104305.0</td>\n",
       "      <td>0.0</td>\n",
       "      <td>0.0</td>\n",
       "      <td>4662768.0</td>\n",
       "      <td>3378209.0</td>\n",
       "      <td>0.0</td>\n",
       "      <td>3401602.0</td>\n",
       "      <td>0.0</td>\n",
       "      <td>3058311.0</td>\n",
       "    </tr>\n",
       "    <tr>\n",
       "      <th>Pig</th>\n",
       "      <td>0.0</td>\n",
       "      <td>2186540.0</td>\n",
       "      <td>0.0</td>\n",
       "      <td>2336117.0</td>\n",
       "      <td>1947343.0</td>\n",
       "      <td>4118772.0</td>\n",
       "      <td>3495491.0</td>\n",
       "      <td>3806443.0</td>\n",
       "      <td>0.0</td>\n",
       "      <td>2480728.0</td>\n",
       "      <td>5124971.0</td>\n",
       "      <td>3018184.0</td>\n",
       "    </tr>\n",
       "    <tr>\n",
       "      <th>Rabbit</th>\n",
       "      <td>5537503.0</td>\n",
       "      <td>0.0</td>\n",
       "      <td>1902276.0</td>\n",
       "      <td>3088096.0</td>\n",
       "      <td>1407179.0</td>\n",
       "      <td>3092649.0</td>\n",
       "      <td>0.0</td>\n",
       "      <td>7566850.0</td>\n",
       "      <td>2604741.0</td>\n",
       "      <td>1332223.0</td>\n",
       "      <td>1029608.0</td>\n",
       "      <td>1623712.0</td>\n",
       "    </tr>\n",
       "    <tr>\n",
       "      <th>Rhino</th>\n",
       "      <td>1555147.0</td>\n",
       "      <td>0.0</td>\n",
       "      <td>0.0</td>\n",
       "      <td>0.0</td>\n",
       "      <td>2438601.0</td>\n",
       "      <td>0.0</td>\n",
       "      <td>0.0</td>\n",
       "      <td>3938887.0</td>\n",
       "      <td>0.0</td>\n",
       "      <td>0.0</td>\n",
       "      <td>1633189.0</td>\n",
       "      <td>0.0</td>\n",
       "    </tr>\n",
       "    <tr>\n",
       "      <th>Sheep</th>\n",
       "      <td>1957045.0</td>\n",
       "      <td>7102626.0</td>\n",
       "      <td>935574.0</td>\n",
       "      <td>0.0</td>\n",
       "      <td>0.0</td>\n",
       "      <td>1056690.0</td>\n",
       "      <td>1804056.0</td>\n",
       "      <td>4468975.0</td>\n",
       "      <td>743733.0</td>\n",
       "      <td>0.0</td>\n",
       "      <td>1443923.0</td>\n",
       "      <td>0.0</td>\n",
       "    </tr>\n",
       "    <tr>\n",
       "      <th>Squirrel</th>\n",
       "      <td>0.0</td>\n",
       "      <td>0.0</td>\n",
       "      <td>5407165.0</td>\n",
       "      <td>0.0</td>\n",
       "      <td>4589071.0</td>\n",
       "      <td>2623076.0</td>\n",
       "      <td>2752292.0</td>\n",
       "      <td>2371707.0</td>\n",
       "      <td>2078324.0</td>\n",
       "      <td>0.0</td>\n",
       "      <td>915.0</td>\n",
       "      <td>5467493.0</td>\n",
       "    </tr>\n",
       "    <tr>\n",
       "      <th>Tiger</th>\n",
       "      <td>0.0</td>\n",
       "      <td>0.0</td>\n",
       "      <td>0.0</td>\n",
       "      <td>0.0</td>\n",
       "      <td>0.0</td>\n",
       "      <td>4456876.0</td>\n",
       "      <td>0.0</td>\n",
       "      <td>0.0</td>\n",
       "      <td>3510936.0</td>\n",
       "      <td>0.0</td>\n",
       "      <td>3098198.0</td>\n",
       "      <td>4538612.0</td>\n",
       "    </tr>\n",
       "    <tr>\n",
       "      <th>Wolf</th>\n",
       "      <td>4803182.0</td>\n",
       "      <td>3746877.0</td>\n",
       "      <td>0.0</td>\n",
       "      <td>0.0</td>\n",
       "      <td>0.0</td>\n",
       "      <td>0.0</td>\n",
       "      <td>0.0</td>\n",
       "      <td>0.0</td>\n",
       "      <td>9663199.0</td>\n",
       "      <td>2018197.0</td>\n",
       "      <td>0.0</td>\n",
       "      <td>6155056.0</td>\n",
       "    </tr>\n",
       "  </tbody>\n",
       "</table>\n",
       "</div>"
      ],
      "text/plain": [
       "Astrology   Aquarius      Aries      Cancer   Capricorn     Gemini        Leo  \\\n",
       "Species                                                                         \n",
       "Alligator  3144479.0        0.0         0.0         0.0  2001478.0  1785643.0   \n",
       "Anteater   4441687.0        0.0         0.0         0.0        0.0        0.0   \n",
       "Bear             0.0  3918535.0   3731490.0   2133521.0        0.0  2997874.0   \n",
       "Bird       3228014.0  2448853.0   3741610.0         0.0        0.0   728688.0   \n",
       "Bull             0.0        0.0         0.0    542663.0        0.0        0.0   \n",
       "Cat        5303926.0  5455462.0   1522781.0   2004869.0  3257755.0  3315090.0   \n",
       "Chicken          0.0        0.0         0.0    568193.0        0.0        0.0   \n",
       "Cow              0.0        0.0         0.0         0.0        0.0        0.0   \n",
       "Cub        1610048.0        0.0  17402809.0   3259823.0  3620551.0  3972030.0   \n",
       "Deer             0.0  2962639.0         0.0   1350294.0  4473464.0  3763878.0   \n",
       "Dog              0.0        0.0         0.0   5644634.0  6507158.0  3488457.0   \n",
       "Duck       2702586.0  1353459.0   4621001.0   2370315.0  2862779.0  4139931.0   \n",
       "Eagle            0.0  1364200.0    519091.0   1667060.0  1988848.0  1787203.0   \n",
       "Elephant   3164602.0  1610355.0   1374068.0         0.0  1988656.0        0.0   \n",
       "Frog       6604143.0        0.0   6092132.0   2264187.0  4191458.0  3581586.0   \n",
       "Goat             0.0  1008960.0    125267.0  11764769.0        0.0        0.0   \n",
       "Gorilla          0.0  6435673.0         0.0         0.0        0.0        0.0   \n",
       "Hamster    1945888.0        0.0         0.0         0.0  3016446.0  2555811.0   \n",
       "Hippo            0.0  3926531.0         0.0   1333895.0        0.0  1695802.0   \n",
       "Horse      4381060.0   588050.0   2071162.0    621881.0  5295394.0        0.0   \n",
       "Kangaroo         0.0        0.0         0.0         0.0  1894572.0        0.0   \n",
       "Koala            0.0  1843821.0   2782386.0         0.0        0.0  2376763.0   \n",
       "Lion             0.0        0.0   1931160.0         0.0        0.0  9565407.0   \n",
       "Monkey           0.0  6508560.0         0.0   1987360.0  2969774.0        0.0   \n",
       "Mouse      4321563.0  2475213.0   5923197.0   2132426.0  1923043.0  5076634.0   \n",
       "Octopus          0.0        0.0   3063629.0         0.0        0.0        0.0   \n",
       "Ostrich    2786348.0        0.0         0.0    649576.0        0.0   591229.0   \n",
       "Penguin    4219566.0  1467157.0         0.0   2104305.0        0.0        0.0   \n",
       "Pig              0.0  2186540.0         0.0   2336117.0  1947343.0  4118772.0   \n",
       "Rabbit     5537503.0        0.0   1902276.0   3088096.0  1407179.0  3092649.0   \n",
       "Rhino      1555147.0        0.0         0.0         0.0  2438601.0        0.0   \n",
       "Sheep      1957045.0  7102626.0    935574.0         0.0        0.0  1056690.0   \n",
       "Squirrel         0.0        0.0   5407165.0         0.0  4589071.0  2623076.0   \n",
       "Tiger            0.0        0.0         0.0         0.0        0.0  4456876.0   \n",
       "Wolf       4803182.0  3746877.0         0.0         0.0        0.0        0.0   \n",
       "\n",
       "Astrology       Libra     Pisces  Sagittarius    Scorpio     Taurus      Virgo  \n",
       "Species                                                                         \n",
       "Alligator         0.0        0.0          0.0  3954593.0  1807134.0        0.0  \n",
       "Anteater     526085.0  1769126.0          0.0  5646618.0  1944223.0        0.0  \n",
       "Bear        2314535.0  2786335.0          0.0  1818794.0  2315050.0  3494773.0  \n",
       "Bird              0.0  5843267.0     789606.0  2175097.0        0.0  2305832.0  \n",
       "Bull              0.0        0.0          0.0  1486892.0  6877481.0        0.0  \n",
       "Cat         8823551.0   721530.0    8233306.0        0.0  2303274.0  7277038.0  \n",
       "Chicken     8276653.0        0.0    2540375.0   845593.0  2590344.0        0.0  \n",
       "Cow               0.0  2090087.0          0.0        0.0  2598255.0  5103998.0  \n",
       "Cub          414780.0  8841453.0          0.0        0.0  3384455.0        0.0  \n",
       "Deer              0.0        0.0          0.0   958633.0  2595659.0  2386980.0  \n",
       "Dog         1702459.0        0.0    2449341.0  7651590.0  1259793.0        0.0  \n",
       "Duck              0.0  4436905.0          0.0  2090343.0  3017985.0        0.0  \n",
       "Eagle             0.0  1565668.0    4454579.0  2263554.0        0.0        0.0  \n",
       "Elephant    2964035.0        0.0     687810.0  2474682.0  5066018.0   230506.0  \n",
       "Frog        7596099.0        0.0    1952194.0  1846745.0        0.0  1638838.0  \n",
       "Goat              0.0  3019845.0          0.0        0.0        0.0  4013520.0  \n",
       "Gorilla     3128010.0        0.0    1503179.0        0.0        0.0  4667234.0  \n",
       "Hamster    20562524.0  1887477.0          0.0  2430806.0        0.0        0.0  \n",
       "Hippo       4207145.0        0.0          0.0        0.0  2139767.0  6043230.0  \n",
       "Horse       2128216.0  4478361.0    2559573.0        0.0  2881247.0  1236971.0  \n",
       "Kangaroo     814212.0        0.0    2544511.0  2066096.0  2913326.0   592008.0  \n",
       "Koala       3881141.0        0.0          0.0   815579.0  2502220.0        0.0  \n",
       "Lion              0.0        0.0          0.0        0.0        0.0        0.0  \n",
       "Monkey            0.0        0.0    2150116.0  1380446.0        0.0   936129.0  \n",
       "Mouse           259.0  1271081.0    2027197.0        0.0        0.0  3501876.0  \n",
       "Octopus           0.0  2529942.0          0.0        0.0        0.0  2838334.0  \n",
       "Ostrich     5992478.0        0.0    5763272.0  1180447.0  2200949.0        0.0  \n",
       "Penguin     4662768.0  3378209.0          0.0  3401602.0        0.0  3058311.0  \n",
       "Pig         3495491.0  3806443.0          0.0  2480728.0  5124971.0  3018184.0  \n",
       "Rabbit            0.0  7566850.0    2604741.0  1332223.0  1029608.0  1623712.0  \n",
       "Rhino             0.0  3938887.0          0.0        0.0  1633189.0        0.0  \n",
       "Sheep       1804056.0  4468975.0     743733.0        0.0  1443923.0        0.0  \n",
       "Squirrel    2752292.0  2371707.0    2078324.0        0.0      915.0  5467493.0  \n",
       "Tiger             0.0        0.0    3510936.0        0.0  3098198.0  4538612.0  \n",
       "Wolf              0.0        0.0    9663199.0  2018197.0        0.0  6155056.0  "
      ]
     },
     "execution_count": 90,
     "metadata": {},
     "output_type": "execute_result"
    }
   ],
   "source": [
    "species_astro"
   ]
  },
  {
   "cell_type": "code",
   "execution_count": 67,
   "id": "dcacca7b",
   "metadata": {},
   "outputs": [
    {
     "data": {
      "text/html": [
       "<div>\n",
       "<style scoped>\n",
       "    .dataframe tbody tr th:only-of-type {\n",
       "        vertical-align: middle;\n",
       "    }\n",
       "\n",
       "    .dataframe tbody tr th {\n",
       "        vertical-align: top;\n",
       "    }\n",
       "\n",
       "    .dataframe thead th {\n",
       "        text-align: right;\n",
       "    }\n",
       "</style>\n",
       "<table border=\"1\" class=\"dataframe\">\n",
       "  <thead>\n",
       "    <tr style=\"text-align: right;\">\n",
       "      <th>Astrology</th>\n",
       "      <th>Aquarius</th>\n",
       "      <th>Aries</th>\n",
       "      <th>Cancer</th>\n",
       "      <th>Capricorn</th>\n",
       "      <th>Gemini</th>\n",
       "      <th>Leo</th>\n",
       "      <th>Libra</th>\n",
       "      <th>Pisces</th>\n",
       "      <th>Sagittarius</th>\n",
       "      <th>Scorpio</th>\n",
       "      <th>Taurus</th>\n",
       "      <th>Virgo</th>\n",
       "    </tr>\n",
       "    <tr>\n",
       "      <th>Personality</th>\n",
       "      <th></th>\n",
       "      <th></th>\n",
       "      <th></th>\n",
       "      <th></th>\n",
       "      <th></th>\n",
       "      <th></th>\n",
       "      <th></th>\n",
       "      <th></th>\n",
       "      <th></th>\n",
       "      <th></th>\n",
       "      <th></th>\n",
       "      <th></th>\n",
       "    </tr>\n",
       "  </thead>\n",
       "  <tbody>\n",
       "    <tr>\n",
       "      <th>Big Sister</th>\n",
       "      <td>1957045.0</td>\n",
       "      <td>11161060.0</td>\n",
       "      <td>5844293.0</td>\n",
       "      <td>6301475.0</td>\n",
       "      <td>1867187.0</td>\n",
       "      <td>0.0</td>\n",
       "      <td>5098367.0</td>\n",
       "      <td>0.0</td>\n",
       "      <td>0.0</td>\n",
       "      <td>0.0</td>\n",
       "      <td>15639867.0</td>\n",
       "      <td>7596845.0</td>\n",
       "    </tr>\n",
       "    <tr>\n",
       "      <th>Cranky</th>\n",
       "      <td>5824366.0</td>\n",
       "      <td>3653697.0</td>\n",
       "      <td>5618277.0</td>\n",
       "      <td>4299818.0</td>\n",
       "      <td>12265495.0</td>\n",
       "      <td>11211908.0</td>\n",
       "      <td>5388640.0</td>\n",
       "      <td>5222271.0</td>\n",
       "      <td>18290713.0</td>\n",
       "      <td>5992639.0</td>\n",
       "      <td>6100122.0</td>\n",
       "      <td>7894500.0</td>\n",
       "    </tr>\n",
       "    <tr>\n",
       "      <th>Jock</th>\n",
       "      <td>13018326.0</td>\n",
       "      <td>7500890.0</td>\n",
       "      <td>2906777.0</td>\n",
       "      <td>5777355.0</td>\n",
       "      <td>3362858.0</td>\n",
       "      <td>16378676.0</td>\n",
       "      <td>11884156.0</td>\n",
       "      <td>6840682.0</td>\n",
       "      <td>9615005.0</td>\n",
       "      <td>10175592.0</td>\n",
       "      <td>7001428.0</td>\n",
       "      <td>5180213.0</td>\n",
       "    </tr>\n",
       "    <tr>\n",
       "      <th>Lazy</th>\n",
       "      <td>5696401.0</td>\n",
       "      <td>1334680.0</td>\n",
       "      <td>11037238.0</td>\n",
       "      <td>15294518.0</td>\n",
       "      <td>13476728.0</td>\n",
       "      <td>16420768.0</td>\n",
       "      <td>32425134.0</td>\n",
       "      <td>13881970.0</td>\n",
       "      <td>2604404.0</td>\n",
       "      <td>4601434.0</td>\n",
       "      <td>9161102.0</td>\n",
       "      <td>4651149.0</td>\n",
       "    </tr>\n",
       "    <tr>\n",
       "      <th>Normal</th>\n",
       "      <td>14612117.0</td>\n",
       "      <td>16228722.0</td>\n",
       "      <td>19458240.0</td>\n",
       "      <td>654269.0</td>\n",
       "      <td>8770903.0</td>\n",
       "      <td>4999839.0</td>\n",
       "      <td>10461524.0</td>\n",
       "      <td>17150036.0</td>\n",
       "      <td>2261801.0</td>\n",
       "      <td>8052184.0</td>\n",
       "      <td>12790556.0</td>\n",
       "      <td>7037330.0</td>\n",
       "    </tr>\n",
       "    <tr>\n",
       "      <th>Peppy</th>\n",
       "      <td>9326688.0</td>\n",
       "      <td>9621712.0</td>\n",
       "      <td>10107099.0</td>\n",
       "      <td>9115979.0</td>\n",
       "      <td>7518274.0</td>\n",
       "      <td>6688514.0</td>\n",
       "      <td>1340949.0</td>\n",
       "      <td>12407500.0</td>\n",
       "      <td>1472393.0</td>\n",
       "      <td>2651747.0</td>\n",
       "      <td>3627863.0</td>\n",
       "      <td>17751886.0</td>\n",
       "    </tr>\n",
       "    <tr>\n",
       "      <th>Smug</th>\n",
       "      <td>0.0</td>\n",
       "      <td>1638934.0</td>\n",
       "      <td>4373403.0</td>\n",
       "      <td>2067290.0</td>\n",
       "      <td>7039728.0</td>\n",
       "      <td>4062940.0</td>\n",
       "      <td>13153490.0</td>\n",
       "      <td>4478361.0</td>\n",
       "      <td>10080749.0</td>\n",
       "      <td>3246385.0</td>\n",
       "      <td>3388146.0</td>\n",
       "      <td>2875809.0</td>\n",
       "    </tr>\n",
       "    <tr>\n",
       "      <th>Snooty</th>\n",
       "      <td>11271844.0</td>\n",
       "      <td>5263816.0</td>\n",
       "      <td>3801471.0</td>\n",
       "      <td>4313280.0</td>\n",
       "      <td>2072397.0</td>\n",
       "      <td>7007444.0</td>\n",
       "      <td>6294529.0</td>\n",
       "      <td>6791328.0</td>\n",
       "      <td>11930927.0</td>\n",
       "      <td>15599277.0</td>\n",
       "      <td>3018900.0</td>\n",
       "      <td>17140903.0</td>\n",
       "    </tr>\n",
       "  </tbody>\n",
       "</table>\n",
       "</div>"
      ],
      "text/plain": [
       "Astrology      Aquarius       Aries      Cancer   Capricorn      Gemini  \\\n",
       "Personality                                                               \n",
       "Big Sister    1957045.0  11161060.0   5844293.0   6301475.0   1867187.0   \n",
       "Cranky        5824366.0   3653697.0   5618277.0   4299818.0  12265495.0   \n",
       "Jock         13018326.0   7500890.0   2906777.0   5777355.0   3362858.0   \n",
       "Lazy          5696401.0   1334680.0  11037238.0  15294518.0  13476728.0   \n",
       "Normal       14612117.0  16228722.0  19458240.0    654269.0   8770903.0   \n",
       "Peppy         9326688.0   9621712.0  10107099.0   9115979.0   7518274.0   \n",
       "Smug                0.0   1638934.0   4373403.0   2067290.0   7039728.0   \n",
       "Snooty       11271844.0   5263816.0   3801471.0   4313280.0   2072397.0   \n",
       "\n",
       "Astrology           Leo       Libra      Pisces  Sagittarius     Scorpio  \\\n",
       "Personality                                                                \n",
       "Big Sister          0.0   5098367.0         0.0          0.0         0.0   \n",
       "Cranky       11211908.0   5388640.0   5222271.0   18290713.0   5992639.0   \n",
       "Jock         16378676.0  11884156.0   6840682.0    9615005.0  10175592.0   \n",
       "Lazy         16420768.0  32425134.0  13881970.0    2604404.0   4601434.0   \n",
       "Normal        4999839.0  10461524.0  17150036.0    2261801.0   8052184.0   \n",
       "Peppy         6688514.0   1340949.0  12407500.0    1472393.0   2651747.0   \n",
       "Smug          4062940.0  13153490.0   4478361.0   10080749.0   3246385.0   \n",
       "Snooty        7007444.0   6294529.0   6791328.0   11930927.0  15599277.0   \n",
       "\n",
       "Astrology        Taurus       Virgo  \n",
       "Personality                          \n",
       "Big Sister   15639867.0   7596845.0  \n",
       "Cranky        6100122.0   7894500.0  \n",
       "Jock          7001428.0   5180213.0  \n",
       "Lazy          9161102.0   4651149.0  \n",
       "Normal       12790556.0   7037330.0  \n",
       "Peppy         3627863.0  17751886.0  \n",
       "Smug          3388146.0   2875809.0  \n",
       "Snooty        3018900.0  17140903.0  "
      ]
     },
     "execution_count": 67,
     "metadata": {},
     "output_type": "execute_result"
    }
   ],
   "source": [
    "personality_astro"
   ]
  },
  {
   "cell_type": "code",
   "execution_count": 68,
   "id": "af917fc0",
   "metadata": {},
   "outputs": [
    {
     "data": {
      "image/png": "[encoded data removed]",
      "text/plain": [
       "<Figure size 1080x720 with 1 Axes>"
      ]
     },
     "metadata": {
      "needs_background": "light"
     },
     "output_type": "display_data"
    }
   ],
   "source": [
    "# Very simple one-liner using our personality_gender DataFrame.\n",
    "p = personality_astro.plot(kind='bar', stacked=True,figsize = (15,10),rot = 0,\n",
    "                           title = 'Popularity by Villager Personality and Astrology',\n",
    "                           grid = False,colormap = 'Set2')\n",
    "\n",
    "# Just add a title and rotate the x-axis labels to be horizontal.\n",
    "#plt.xticks(rotation=0, ha='center')\n",
    "#plt.figure(figsize = (10,15))\n",
    "#p.sns.set(rc={'figure.figsize':(40.7,20.27)})"
   ]
  },
  {
   "cell_type": "code",
   "execution_count": 69,
   "id": "8a934705",
   "metadata": {},
   "outputs": [],
   "source": [
    "piedata = final_villagers.groupby(final_villagers['Astrology']).size().reset_index()"
   ]
  },
  {
   "cell_type": "code",
   "execution_count": 70,
   "id": "800e89d7",
   "metadata": {},
   "outputs": [],
   "source": [
    "piedata = piedata.rename(columns={0:'Count'})"
   ]
  },
  {
   "cell_type": "code",
   "execution_count": 71,
   "id": "6b1e0a4c",
   "metadata": {},
   "outputs": [],
   "source": [
    "piedata.set_index(\"Astrology\", inplace = True)"
   ]
  },
  {
   "cell_type": "code",
   "execution_count": 74,
   "id": "a5bb96b6",
   "metadata": {},
   "outputs": [
    {
     "data": {
      "image/png": "[encoded data removed]",
      "text/plain": [
       "<Figure size 432x288 with 1 Axes>"
      ]
     },
     "metadata": {},
     "output_type": "display_data"
    },
    {
     "data": {
      "text/plain": [
       "<Figure size 1152x1296 with 0 Axes>"
      ]
     },
     "metadata": {},
     "output_type": "display_data"
    }
   ],
   "source": [
    "#Pie chart by villager genders:\n",
    "#Gender variable [nominal categorical as color & quantitative as count]\n",
    "\n",
    "piedata1 = piedata['Count'].tolist()\n",
    "labels = ['Aquarius', 'Pieces', 'Aries', 'Taurus', 'Gemini', 'Cancer', 'Leo', 'Virgo', 'Libra', 'Scorpio', 'Sagittarius', 'Capricorn']\n",
    "\n",
    "#define Seaborn color palette to use\n",
    "colors = sns.color_palette('pastel')\n",
    "\n",
    "#create pie chart\n",
    "plt.pie(piedata1, labels = labels,counterclock=False,colors = colors, autopct='%.0f%%',\n",
    "       startangle = 90)\n",
    "plt.figure(figsize = (16,18))\n",
    "plt.show()"
   ]
  },
  {
   "cell_type": "code",
   "execution_count": 75,
   "id": "82c91b63",
   "metadata": {},
   "outputs": [],
   "source": [
    "#Bubble chart:\n",
    "#Species of villagers variable [nominal categorical variable]\n",
    "#Top ten villager popularity for each gender [color + size]"
   ]
  },
  {
   "cell_type": "code",
   "execution_count": 76,
   "id": "559fb61c",
   "metadata": {},
   "outputs": [],
   "source": [
    "top10ACPPoll=final_villagers.sort_values(by =['Poll_Results'], ascending = False)[0:10]"
   ]
  },
  {
   "cell_type": "code",
   "execution_count": 77,
   "id": "f7ba6a10",
   "metadata": {},
   "outputs": [],
   "source": [
    "top10google=final_villagers.sort_values(by =['Total_Google_Searches'], ascending = False)[0:10]"
   ]
  },
  {
   "cell_type": "code",
   "execution_count": 78,
   "id": "3671106f",
   "metadata": {},
   "outputs": [],
   "source": [
    "top10acplist= top10ACPPoll['Name'].tolist()\n",
    "top10googlelist = top10google['Name'].tolist()"
   ]
  },
  {
   "cell_type": "code",
   "execution_count": 80,
   "id": "470a09ab",
   "metadata": {},
   "outputs": [],
   "source": [
    "merge10list= top10acplist + top10googlelist\n",
    "merge10finallist= set(merge10list)\n",
    "mergelistdf= pd.DataFrame(merge10finallist)"
   ]
  },
  {
   "cell_type": "code",
   "execution_count": 81,
   "id": "db0c295c",
   "metadata": {},
   "outputs": [],
   "source": [
    "final_overallpop_df = mergelistdf.merge(final_villagers,left_on=0,right_on='Name',how='left')"
   ]
  },
  {
   "cell_type": "code",
   "execution_count": 82,
   "id": "b5803a92",
   "metadata": {},
   "outputs": [
    {
     "data": {
      "application/vnd.plotly.v1+json": {
       "config": {
        "plotlyServerURL": "https://plot.ly"
       },
       "data": [
        {
         "alignmentgroup": "True",
         "hovertemplate": "Personality=Big Sister<br>value=%{x}<br>Species=%{y}<extra></extra>",
         "legendgroup": "Big Sister",
         "marker": {
          "color": "#FECB52",
          "pattern": {
           "shape": ""
          }
         },
         "name": "Big Sister",
         "offsetgroup": "Big Sister",
         "orientation": "h",
         "showlegend": true,
         "textfont": {
          "size": 18
         },
         "textposition": "auto",
         "type": "bar",
         "width": 0.85,
         "x": [
          0,
          0,
          4624252,
          0,
          0,
          2303274,
          4198743,
          0,
          3006443,
          4982639,
          518395,
          0,
          0,
          0,
          899624,
          4167954,
          6068679,
          0,
          0,
          1866542,
          2438194,
          849411,
          0,
          2601650,
          0,
          0,
          2200949,
          3058311,
          4733985,
          1902276,
          645,
          2892619,
          2151554,
          0,
          0
         ],
         "xaxis": "x",
         "y": [
          "Alligator",
          "Anteater",
          "Bear",
          "Bird",
          "Bull",
          "Cat",
          "Chicken",
          "Cow",
          "Cub",
          "Deer",
          "Dog",
          "Duck",
          "Eagle",
          "Elephant",
          "Frog",
          "Goat",
          "Gorilla",
          "Hamster",
          "Hippo",
          "Horse",
          "Kangaroo",
          "Koala",
          "Lion",
          "Monkey",
          "Mouse",
          "Octopus",
          "Ostrich",
          "Penguin",
          "Pig",
          "Rabbit",
          "Rhino",
          "Sheep",
          "Squirrel",
          "Tiger",
          "Wolf"
         ],
         "yaxis": "y"
        },
        {
         "alignmentgroup": "True",
         "hovertemplate": "Personality=Cranky<br>value=%{x}<br>Species=%{y}<extra></extra>",
         "legendgroup": "Cranky",
         "marker": {
          "color": "#FF97FF",
          "pattern": {
           "shape": ""
          }
         },
         "name": "Cranky",
         "offsetgroup": "Cranky",
         "orientation": "h",
         "showlegend": true,
         "textfont": {
          "size": 18
         },
         "textposition": "auto",
         "type": "bar",
         "width": 0.85,
         "x": [
          1086648,
          1769126,
          8637966,
          2417832,
          3852603,
          6755173,
          773626,
          0,
          3375015,
          2372675,
          566735,
          0,
          4422642,
          1988656,
          2671725,
          2008999,
          4051328,
          1887477,
          3029697,
          2383181,
          2449952,
          3879721,
          2780477,
          2150116,
          1169686,
          2838334,
          0,
          1467157,
          2712324,
          1063129,
          2437956,
          0,
          1197366,
          2054095,
          11511029
         ],
         "xaxis": "x",
         "y": [
          "Alligator",
          "Anteater",
          "Bear",
          "Bird",
          "Bull",
          "Cat",
          "Chicken",
          "Cow",
          "Cub",
          "Deer",
          "Dog",
          "Duck",
          "Eagle",
          "Elephant",
          "Frog",
          "Goat",
          "Gorilla",
          "Hamster",
          "Hippo",
          "Horse",
          "Kangaroo",
          "Koala",
          "Lion",
          "Monkey",
          "Mouse",
          "Octopus",
          "Ostrich",
          "Penguin",
          "Pig",
          "Rabbit",
          "Rhino",
          "Sheep",
          "Squirrel",
          "Tiger",
          "Wolf"
         ],
         "yaxis": "y"
        },
        {
         "alignmentgroup": "True",
         "hovertemplate": "Personality=Jock<br>value=%{x}<br>Species=%{y}<extra></extra>",
         "legendgroup": "Jock",
         "marker": {
          "color": "#B6E880",
          "pattern": {
           "shape": ""
          }
         },
         "name": "Jock",
         "offsetgroup": "Jock",
         "orientation": "h",
         "showlegend": true,
         "textfont": {
          "size": 18
         },
         "textposition": "auto",
         "type": "bar",
         "width": 0.85,
         "x": [
          3717833,
          526085,
          1813437,
          4009982,
          1879055,
          3263189,
          502220,
          0,
          2420770,
          958633,
          1183514,
          4952694,
          5570959,
          1610355,
          16884039,
          1008960,
          1614683,
          1112026,
          3926531,
          588050,
          0,
          1420,
          2653456,
          1380446,
          6817127,
          0,
          2280779,
          4380923,
          4563411,
          3174898,
          1633189,
          4468975,
          2371707,
          8372612,
          0
         ],
         "xaxis": "x",
         "y": [
          "Alligator",
          "Anteater",
          "Bear",
          "Bird",
          "Bull",
          "Cat",
          "Chicken",
          "Cow",
          "Cub",
          "Deer",
          "Dog",
          "Duck",
          "Eagle",
          "Elephant",
          "Frog",
          "Goat",
          "Gorilla",
          "Hamster",
          "Hippo",
          "Horse",
          "Kangaroo",
          "Koala",
          "Lion",
          "Monkey",
          "Mouse",
          "Octopus",
          "Ostrich",
          "Penguin",
          "Pig",
          "Rabbit",
          "Rhino",
          "Sheep",
          "Squirrel",
          "Tiger",
          "Wolf"
         ],
         "yaxis": "y"
        },
        {
         "alignmentgroup": "True",
         "hovertemplate": "Personality=Lazy<br>value=%{x}<br>Species=%{y}<extra></extra>",
         "legendgroup": "Lazy",
         "marker": {
          "color": "#FF6692",
          "pattern": {
           "shape": ""
          }
         },
         "name": "Lazy",
         "offsetgroup": "Lazy",
         "orientation": "h",
         "showlegend": true,
         "textfont": {
          "size": 18
         },
         "textposition": "auto",
         "type": "bar",
         "width": 0.85,
         "x": [
          4059309,
          0,
          2225242,
          6410224,
          3175378,
          2810488,
          3575690,
          0,
          7889166,
          3696305,
          11188574,
          4130768,
          0,
          6765771,
          5575300,
          5628733,
          1619350,
          19221575,
          0,
          5631344,
          0,
          1652809,
          2597175,
          4957134,
          3635346,
          2529942,
          2916268,
          3377246,
          4450928,
          7541841,
          1509516,
          0,
          1814104,
          0,
          0
         ],
         "xaxis": "x",
         "y": [
          "Alligator",
          "Anteater",
          "Bear",
          "Bird",
          "Bull",
          "Cat",
          "Chicken",
          "Cow",
          "Cub",
          "Deer",
          "Dog",
          "Duck",
          "Eagle",
          "Elephant",
          "Frog",
          "Goat",
          "Gorilla",
          "Hamster",
          "Hippo",
          "Horse",
          "Kangaroo",
          "Koala",
          "Lion",
          "Monkey",
          "Mouse",
          "Octopus",
          "Ostrich",
          "Penguin",
          "Pig",
          "Rabbit",
          "Rhino",
          "Sheep",
          "Squirrel",
          "Tiger",
          "Wolf"
         ],
         "yaxis": "y"
        },
        {
         "alignmentgroup": "True",
         "hovertemplate": "Personality=Normal<br>value=%{x}<br>Species=%{y}<extra></extra>",
         "legendgroup": "Normal",
         "marker": {
          "color": "#19D3F3",
          "pattern": {
           "shape": ""
          }
         },
         "name": "Normal",
         "offsetgroup": "Normal",
         "orientation": "h",
         "showlegend": true,
         "textfont": {
          "size": 18
         },
         "textposition": "auto",
         "type": "bar",
         "width": 0.85,
         "x": [
          1807134,
          2080636,
          2786335,
          1738875,
          0,
          5523681,
          2590344,
          2524662,
          18096684,
          2433578,
          5437909,
          3361852,
          1364200,
          7060592,
          1850410,
          5024366,
          0,
          1945888,
          2139767,
          4098888,
          3278475,
          4985369,
          0,
          936129,
          3986366,
          3063629,
          3725786,
          2839626,
          6073075,
          1980713,
          3984518,
          4599553,
          7411604,
          0,
          3746877
         ],
         "xaxis": "x",
         "y": [
          "Alligator",
          "Anteater",
          "Bear",
          "Bird",
          "Bull",
          "Cat",
          "Chicken",
          "Cow",
          "Cub",
          "Deer",
          "Dog",
          "Duck",
          "Eagle",
          "Elephant",
          "Frog",
          "Goat",
          "Gorilla",
          "Hamster",
          "Hippo",
          "Horse",
          "Kangaroo",
          "Koala",
          "Lion",
          "Monkey",
          "Mouse",
          "Octopus",
          "Ostrich",
          "Penguin",
          "Pig",
          "Rabbit",
          "Rhino",
          "Sheep",
          "Squirrel",
          "Tiger",
          "Wolf"
         ],
         "yaxis": "y"
        },
        {
         "alignmentgroup": "True",
         "hovertemplate": "Personality=Peppy<br>value=%{x}<br>Species=%{y}<extra></extra>",
         "legendgroup": "Peppy",
         "marker": {
          "color": "#FFA15A",
          "pattern": {
           "shape": ""
          }
         },
         "name": "Peppy",
         "offsetgroup": "Peppy",
         "orientation": "h",
         "showlegend": true,
         "textfont": {
          "size": 18
         },
         "textposition": "auto",
         "type": "bar",
         "width": 0.85,
         "x": [
          0,
          5012798,
          3494773,
          3683394,
          0,
          7368853,
          0,
          2598255,
          3016630,
          0,
          7177938,
          5274879,
          0,
          0,
          2264187,
          0,
          0,
          1340949,
          6043230,
          3991487,
          0,
          0,
          0,
          2288496,
          6967533,
          0,
          2786348,
          2067821,
          2460170,
          9894530,
          0,
          1056690,
          4779416,
          3139035,
          4923192
         ],
         "xaxis": "x",
         "y": [
          "Alligator",
          "Anteater",
          "Bear",
          "Bird",
          "Bull",
          "Cat",
          "Chicken",
          "Cow",
          "Cub",
          "Deer",
          "Dog",
          "Duck",
          "Eagle",
          "Elephant",
          "Frog",
          "Goat",
          "Gorilla",
          "Hamster",
          "Hippo",
          "Horse",
          "Kangaroo",
          "Koala",
          "Lion",
          "Monkey",
          "Mouse",
          "Octopus",
          "Ostrich",
          "Penguin",
          "Pig",
          "Rabbit",
          "Rhino",
          "Sheep",
          "Squirrel",
          "Tiger",
          "Wolf"
         ],
         "yaxis": "y"
        },
        {
         "alignmentgroup": "True",
         "hovertemplate": "Personality=Smug<br>value=%{x}<br>Species=%{y}<extra></extra>",
         "legendgroup": "Smug",
         "marker": {
          "color": "#AB63FA",
          "pattern": {
           "shape": ""
          }
         },
         "name": "Smug",
         "offsetgroup": "Smug",
         "orientation": "h",
         "showlegend": true,
         "textfont": {
          "size": 18
         },
         "textposition": "auto",
         "type": "bar",
         "width": 0.85,
         "x": [
          0,
          1944223,
          1928902,
          2921832,
          0,
          4934128,
          568193,
          0,
          0,
          2697423,
          2449341,
          1499097,
          1988848,
          0,
          3675920,
          125267,
          1503179,
          4335226,
          2365383,
          6761003,
          0,
          815579,
          3465459,
          0,
          2027197,
          0,
          2703620,
          2620492,
          1565752,
          847,
          0,
          1655053,
          1166637,
          0,
          686634
         ],
         "xaxis": "x",
         "y": [
          "Alligator",
          "Anteater",
          "Bear",
          "Bird",
          "Bull",
          "Cat",
          "Chicken",
          "Cow",
          "Cub",
          "Deer",
          "Dog",
          "Duck",
          "Eagle",
          "Elephant",
          "Frog",
          "Goat",
          "Gorilla",
          "Hamster",
          "Hippo",
          "Horse",
          "Kangaroo",
          "Koala",
          "Lion",
          "Monkey",
          "Mouse",
          "Octopus",
          "Ostrich",
          "Penguin",
          "Pig",
          "Rabbit",
          "Rhino",
          "Sheep",
          "Squirrel",
          "Tiger",
          "Wolf"
         ],
         "yaxis": "y"
        },
        {
         "alignmentgroup": "True",
         "hovertemplate": "Personality=Snooty<br>value=%{x}<br>Species=%{y}<extra></extra>",
         "legendgroup": "Snooty",
         "marker": {
          "color": "#00CC96",
          "pattern": {
           "shape": ""
          }
         },
         "name": "Snooty",
         "offsetgroup": "Snooty",
         "orientation": "h",
         "showlegend": true,
         "textfont": {
          "size": 18
         },
         "textposition": "auto",
         "type": "bar",
         "width": 0.85,
         "x": [
          2022403,
          2994871,
          0,
          78828,
          0,
          15259796,
          2612342,
          4669423,
          4701241,
          1350294,
          181026,
          8376014,
          2263554,
          2135358,
          1946177,
          1968082,
          876877,
          2555811,
          1841762,
          921420,
          2658104,
          2017601,
          0,
          1618414,
          4049234,
          0,
          2550549,
          2480342,
          1954944,
          3626603,
          0,
          4839732,
          4397655,
          2038880,
          5518779
         ],
         "xaxis": "x",
         "y": [
          "Alligator",
          "Anteater",
          "Bear",
          "Bird",
          "Bull",
          "Cat",
          "Chicken",
          "Cow",
          "Cub",
          "Deer",
          "Dog",
          "Duck",
          "Eagle",
          "Elephant",
          "Frog",
          "Goat",
          "Gorilla",
          "Hamster",
          "Hippo",
          "Horse",
          "Kangaroo",
          "Koala",
          "Lion",
          "Monkey",
          "Mouse",
          "Octopus",
          "Ostrich",
          "Penguin",
          "Pig",
          "Rabbit",
          "Rhino",
          "Sheep",
          "Squirrel",
          "Tiger",
          "Wolf"
         ],
         "yaxis": "y"
        }
       ],
       "layout": {
        "autosize": false,
        "barmode": "stack",
        "font": {
         "family": "Helvetica",
         "size": 20
        },
        "height": 1000,
        "legend": {
         "font": {
          "size": 19
         },
         "title": {
          "text": "Personality"
         },
         "tracegroupgap": 0
        },
        "plot_bgcolor": "white",
        "template": {
         "data": {
          "bar": [
           {
            "error_x": {
             "color": "#2a3f5f"
            },
            "error_y": {
             "color": "#2a3f5f"
            },
            "marker": {
             "line": {
              "color": "#E5ECF6",
              "width": 0.5
             },
             "pattern": {
              "fillmode": "overlay",
              "size": 10,
              "solidity": 0.2
             }
            },
            "type": "bar"
           }
          ],
          "barpolar": [
           {
            "marker": {
             "line": {
              "color": "#E5ECF6",
              "width": 0.5
             },
             "pattern": {
              "fillmode": "overlay",
              "size": 10,
              "solidity": 0.2
             }
            },
            "type": "barpolar"
           }
          ],
          "carpet": [
           {
            "aaxis": {
             "endlinecolor": "#2a3f5f",
             "gridcolor": "white",
             "linecolor": "white",
             "minorgridcolor": "white",
             "startlinecolor": "#2a3f5f"
            },
            "baxis": {
             "endlinecolor": "#2a3f5f",
             "gridcolor": "white",
             "linecolor": "white",
             "minorgridcolor": "white",
             "startlinecolor": "#2a3f5f"
            },
            "type": "carpet"
           }
          ],
          "choropleth": [
           {
            "colorbar": {
             "outlinewidth": 0,
             "ticks": ""
            },
            "type": "choropleth"
           }
          ],
          "contour": [
           {
            "colorbar": {
             "outlinewidth": 0,
             "ticks": ""
            },
            "colorscale": [
             [
              0,
              "#0d0887"
             ],
             [
              0.1111111111111111,
              "#46039f"
             ],
             [
              0.2222222222222222,
              "#7201a8"
             ],
             [
              0.3333333333333333,
              "#9c179e"
             ],
             [
              0.4444444444444444,
              "#bd3786"
             ],
             [
              0.5555555555555556,
              "#d8576b"
             ],
             [
              0.6666666666666666,
              "#ed7953"
             ],
             [
              0.7777777777777778,
              "#fb9f3a"
             ],
             [
              0.8888888888888888,
              "#fdca26"
             ],
             [
              1,
              "#f0f921"
             ]
            ],
            "type": "contour"
           }
          ],
          "contourcarpet": [
           {
            "colorbar": {
             "outlinewidth": 0,
             "ticks": ""
            },
            "type": "contourcarpet"
           }
          ],
          "heatmap": [
           {
            "colorbar": {
             "outlinewidth": 0,
             "ticks": ""
            },
            "colorscale": [
             [
              0,
              "#0d0887"
             ],
             [
              0.1111111111111111,
              "#46039f"
             ],
             [
              0.2222222222222222,
              "#7201a8"
             ],
             [
              0.3333333333333333,
              "#9c179e"
             ],
             [
              0.4444444444444444,
              "#bd3786"
             ],
             [
              0.5555555555555556,
              "#d8576b"
             ],
             [
              0.6666666666666666,
              "#ed7953"
             ],
             [
              0.7777777777777778,
              "#fb9f3a"
             ],
             [
              0.8888888888888888,
              "#fdca26"
             ],
             [
              1,
              "#f0f921"
             ]
            ],
            "type": "heatmap"
           }
          ],
          "heatmapgl": [
           {
            "colorbar": {
             "outlinewidth": 0,
             "ticks": ""
            },
            "colorscale": [
             [
              0,
              "#0d0887"
             ],
             [
              0.1111111111111111,
              "#46039f"
             ],
             [
              0.2222222222222222,
              "#7201a8"
             ],
             [
              0.3333333333333333,
              "#9c179e"
             ],
             [
              0.4444444444444444,
              "#bd3786"
             ],
             [
              0.5555555555555556,
              "#d8576b"
             ],
             [
              0.6666666666666666,
              "#ed7953"
             ],
             [
              0.7777777777777778,
              "#fb9f3a"
             ],
             [
              0.8888888888888888,
              "#fdca26"
             ],
             [
              1,
              "#f0f921"
             ]
            ],
            "type": "heatmapgl"
           }
          ],
          "histogram": [
           {
            "marker": {
             "pattern": {
              "fillmode": "overlay",
              "size": 10,
              "solidity": 0.2
             }
            },
            "type": "histogram"
           }
          ],
          "histogram2d": [
           {
            "colorbar": {
             "outlinewidth": 0,
             "ticks": ""
            },
            "colorscale": [
             [
              0,
              "#0d0887"
             ],
             [
              0.1111111111111111,
              "#46039f"
             ],
             [
              0.2222222222222222,
              "#7201a8"
             ],
             [
              0.3333333333333333,
              "#9c179e"
             ],
             [
              0.4444444444444444,
              "#bd3786"
             ],
             [
              0.5555555555555556,
              "#d8576b"
             ],
             [
              0.6666666666666666,
              "#ed7953"
             ],
             [
              0.7777777777777778,
              "#fb9f3a"
             ],
             [
              0.8888888888888888,
              "#fdca26"
             ],
             [
              1,
              "#f0f921"
             ]
            ],
            "type": "histogram2d"
           }
          ],
          "histogram2dcontour": [
           {
            "colorbar": {
             "outlinewidth": 0,
             "ticks": ""
            },
            "colorscale": [
             [
              0,
              "#0d0887"
             ],
             [
              0.1111111111111111,
              "#46039f"
             ],
             [
              0.2222222222222222,
              "#7201a8"
             ],
             [
              0.3333333333333333,
              "#9c179e"
             ],
             [
              0.4444444444444444,
              "#bd3786"
             ],
             [
              0.5555555555555556,
              "#d8576b"
             ],
             [
              0.6666666666666666,
              "#ed7953"
             ],
             [
              0.7777777777777778,
              "#fb9f3a"
             ],
             [
              0.8888888888888888,
              "#fdca26"
             ],
             [
              1,
              "#f0f921"
             ]
            ],
            "type": "histogram2dcontour"
           }
          ],
          "mesh3d": [
           {
            "colorbar": {
             "outlinewidth": 0,
             "ticks": ""
            },
            "type": "mesh3d"
           }
          ],
          "parcoords": [
           {
            "line": {
             "colorbar": {
              "outlinewidth": 0,
              "ticks": ""
             }
            },
            "type": "parcoords"
           }
          ],
          "pie": [
           {
            "automargin": true,
            "type": "pie"
           }
          ],
          "scatter": [
           {
            "marker": {
             "colorbar": {
              "outlinewidth": 0,
              "ticks": ""
             }
            },
            "type": "scatter"
           }
          ],
          "scatter3d": [
           {
            "line": {
             "colorbar": {
              "outlinewidth": 0,
              "ticks": ""
             }
            },
            "marker": {
             "colorbar": {
              "outlinewidth": 0,
              "ticks": ""
             }
            },
            "type": "scatter3d"
           }
          ],
          "scattercarpet": [
           {
            "marker": {
             "colorbar": {
              "outlinewidth": 0,
              "ticks": ""
             }
            },
            "type": "scattercarpet"
           }
          ],
          "scattergeo": [
           {
            "marker": {
             "colorbar": {
              "outlinewidth": 0,
              "ticks": ""
             }
            },
            "type": "scattergeo"
           }
          ],
          "scattergl": [
           {
            "marker": {
             "colorbar": {
              "outlinewidth": 0,
              "ticks": ""
             }
            },
            "type": "scattergl"
           }
          ],
          "scattermapbox": [
           {
            "marker": {
             "colorbar": {
              "outlinewidth": 0,
              "ticks": ""
             }
            },
            "type": "scattermapbox"
           }
          ],
          "scatterpolar": [
           {
            "marker": {
             "colorbar": {
              "outlinewidth": 0,
              "ticks": ""
             }
            },
            "type": "scatterpolar"
           }
          ],
          "scatterpolargl": [
           {
            "marker": {
             "colorbar": {
              "outlinewidth": 0,
              "ticks": ""
             }
            },
            "type": "scatterpolargl"
           }
          ],
          "scatterternary": [
           {
            "marker": {
             "colorbar": {
              "outlinewidth": 0,
              "ticks": ""
             }
            },
            "type": "scatterternary"
           }
          ],
          "surface": [
           {
            "colorbar": {
             "outlinewidth": 0,
             "ticks": ""
            },
            "colorscale": [
             [
              0,
              "#0d0887"
             ],
             [
              0.1111111111111111,
              "#46039f"
             ],
             [
              0.2222222222222222,
              "#7201a8"
             ],
             [
              0.3333333333333333,
              "#9c179e"
             ],
             [
              0.4444444444444444,
              "#bd3786"
             ],
             [
              0.5555555555555556,
              "#d8576b"
             ],
             [
              0.6666666666666666,
              "#ed7953"
             ],
             [
              0.7777777777777778,
              "#fb9f3a"
             ],
             [
              0.8888888888888888,
              "#fdca26"
             ],
             [
              1,
              "#f0f921"
             ]
            ],
            "type": "surface"
           }
          ],
          "table": [
           {
            "cells": {
             "fill": {
              "color": "#EBF0F8"
             },
             "line": {
              "color": "white"
             }
            },
            "header": {
             "fill": {
              "color": "#C8D4E3"
             },
             "line": {
              "color": "white"
             }
            },
            "type": "table"
           }
          ]
         },
         "layout": {
          "annotationdefaults": {
           "arrowcolor": "#2a3f5f",
           "arrowhead": 0,
           "arrowwidth": 1
          },
          "autotypenumbers": "strict",
          "coloraxis": {
           "colorbar": {
            "outlinewidth": 0,
            "ticks": ""
           }
          },
          "colorscale": {
           "diverging": [
            [
             0,
             "#8e0152"
            ],
            [
             0.1,
             "#c51b7d"
            ],
            [
             0.2,
             "#de77ae"
            ],
            [
             0.3,
             "#f1b6da"
            ],
            [
             0.4,
             "#fde0ef"
            ],
            [
             0.5,
             "#f7f7f7"
            ],
            [
             0.6,
             "#e6f5d0"
            ],
            [
             0.7,
             "#b8e186"
            ],
            [
             0.8,
             "#7fbc41"
            ],
            [
             0.9,
             "#4d9221"
            ],
            [
             1,
             "#276419"
            ]
           ],
           "sequential": [
            [
             0,
             "#0d0887"
            ],
            [
             0.1111111111111111,
             "#46039f"
            ],
            [
             0.2222222222222222,
             "#7201a8"
            ],
            [
             0.3333333333333333,
             "#9c179e"
            ],
            [
             0.4444444444444444,
             "#bd3786"
            ],
            [
             0.5555555555555556,
             "#d8576b"
            ],
            [
             0.6666666666666666,
             "#ed7953"
            ],
            [
             0.7777777777777778,
             "#fb9f3a"
            ],
            [
             0.8888888888888888,
             "#fdca26"
            ],
            [
             1,
             "#f0f921"
            ]
           ],
           "sequentialminus": [
            [
             0,
             "#0d0887"
            ],
            [
             0.1111111111111111,
             "#46039f"
            ],
            [
             0.2222222222222222,
             "#7201a8"
            ],
            [
             0.3333333333333333,
             "#9c179e"
            ],
            [
             0.4444444444444444,
             "#bd3786"
            ],
            [
             0.5555555555555556,
             "#d8576b"
            ],
            [
             0.6666666666666666,
             "#ed7953"
            ],
            [
             0.7777777777777778,
             "#fb9f3a"
            ],
            [
             0.8888888888888888,
             "#fdca26"
            ],
            [
             1,
             "#f0f921"
            ]
           ]
          },
          "colorway": [
           "#636efa",
           "#EF553B",
           "#00cc96",
           "#ab63fa",
           "#FFA15A",
           "#19d3f3",
           "#FF6692",
           "#B6E880",
           "#FF97FF",
           "#FECB52"
          ],
          "font": {
           "color": "#2a3f5f"
          },
          "geo": {
           "bgcolor": "white",
           "lakecolor": "white",
           "landcolor": "#E5ECF6",
           "showlakes": true,
           "showland": true,
           "subunitcolor": "white"
          },
          "hoverlabel": {
           "align": "left"
          },
          "hovermode": "closest",
          "mapbox": {
           "style": "light"
          },
          "paper_bgcolor": "white",
          "plot_bgcolor": "#E5ECF6",
          "polar": {
           "angularaxis": {
            "gridcolor": "white",
            "linecolor": "white",
            "ticks": ""
           },
           "bgcolor": "#E5ECF6",
           "radialaxis": {
            "gridcolor": "white",
            "linecolor": "white",
            "ticks": ""
           }
          },
          "scene": {
           "xaxis": {
            "backgroundcolor": "#E5ECF6",
            "gridcolor": "white",
            "gridwidth": 2,
            "linecolor": "white",
            "showbackground": true,
            "ticks": "",
            "zerolinecolor": "white"
           },
           "yaxis": {
            "backgroundcolor": "#E5ECF6",
            "gridcolor": "white",
            "gridwidth": 2,
            "linecolor": "white",
            "showbackground": true,
            "ticks": "",
            "zerolinecolor": "white"
           },
           "zaxis": {
            "backgroundcolor": "#E5ECF6",
            "gridcolor": "white",
            "gridwidth": 2,
            "linecolor": "white",
            "showbackground": true,
            "ticks": "",
            "zerolinecolor": "white"
           }
          },
          "shapedefaults": {
           "line": {
            "color": "#2a3f5f"
           }
          },
          "ternary": {
           "aaxis": {
            "gridcolor": "white",
            "linecolor": "white",
            "ticks": ""
           },
           "baxis": {
            "gridcolor": "white",
            "linecolor": "white",
            "ticks": ""
           },
           "bgcolor": "#E5ECF6",
           "caxis": {
            "gridcolor": "white",
            "linecolor": "white",
            "ticks": ""
           }
          },
          "title": {
           "x": 0.05
          },
          "xaxis": {
           "automargin": true,
           "gridcolor": "white",
           "linecolor": "white",
           "ticks": "",
           "title": {
            "standoff": 15
           },
           "zerolinecolor": "white",
           "zerolinewidth": 2
          },
          "yaxis": {
           "automargin": true,
           "gridcolor": "white",
           "linecolor": "white",
           "ticks": "",
           "title": {
            "standoff": 15
           },
           "zerolinecolor": "white",
           "zerolinewidth": 2
          }
         }
        },
        "title": {
         "font": {
          "size": 24
         },
         "text": "Popular Villagers : By Species & Personality",
         "x": 0.5,
         "y": 0.95
        },
        "width": 890,
        "xaxis": {
         "anchor": "y",
         "domain": [
          0,
          1
         ],
         "linecolor": "black",
         "linewidth": 1.5,
         "showgrid": false,
         "showline": true,
         "tickfont": {
          "size": 18
         },
         "ticks": "outside",
         "title": {
          "text": "Overall Popularity (Google Searches + ACNH Polls)"
         }
        },
        "yaxis": {
         "anchor": "x",
         "categoryorder": "total ascending",
         "domain": [
          0,
          1
         ],
         "linecolor": "black",
         "linewidth": 1.5,
         "showgrid": false,
         "showline": true,
         "tickfont": {
          "size": 18
         },
         "ticks": "outside",
         "title": {
          "text": "Villager Species"
         }
        }
       }
      }
     },
     "metadata": {},
     "output_type": "display_data"
    }
   ],
   "source": [
    "fig2 = px.bar(personality_species, color=\"Personality\",title= \"Popular Villagers: What Species are they?\",\n",
    "              color_discrete_sequence=px.colors.qualitative.Plotly_r,orientation='h')\n",
    "fig2.update_traces(textfont_size=18,width=0.85)\n",
    "fig2.update_layout(font=dict(size=20),title_font_size=24,legend_font_size=19,width=1000,height=600,font_family=\"Courier\",yaxis_title=\"Villager Species\",xaxis_title=\"Overall Popularity (Google Searches + ACNH Polls)\")\n",
    "fig2.update_layout(height=1000,width=890,autosize=False,font_family=\"Helvetica\",plot_bgcolor='white')\n",
    "fig2.update_xaxes(showgrid=False,showline=True, tickfont_size=18,ticks='outside',linecolor=\"black\",linewidth=1.5)\n",
    "fig2.update_yaxes(showgrid=False,showline=True, tickfont_size=18,ticks='outside',linecolor=\"black\",linewidth=1.5)\n",
    "fig2.update_layout(\n",
    "    title={\n",
    "        'text': \"Popular Villagers : By Species & Personality\",\n",
    "        'y':0.95,\n",
    "        'x':0.5})\n",
    "fig2.update_layout(barmode='stack', yaxis={'categoryorder':'total ascending'})\n",
    "fig2.show()"
   ]
  },
  {
   "cell_type": "code",
   "execution_count": 149,
   "id": "b8f30665",
   "metadata": {},
   "outputs": [
    {
     "data": {
      "application/vnd.plotly.v1+json": {
       "config": {
        "plotlyServerURL": "https://plot.ly"
       },
       "data": [
        {
         "alignmentgroup": "True",
         "hovertemplate": "Astrology=Aquarius<br>value=%{x}<br>Species=%{y}<extra></extra>",
         "legendgroup": "Aquarius",
         "marker": {
          "color": "#FECB52",
          "pattern": {
           "shape": ""
          }
         },
         "name": "Aquarius",
         "offsetgroup": "Aquarius",
         "orientation": "h",
         "showlegend": true,
         "textfont": {
          "size": 18
         },
         "textposition": "auto",
         "type": "bar",
         "width": 0.85,
         "x": [
          3144479,
          4441687,
          0,
          3228014,
          0,
          5303926,
          0,
          0,
          1610048,
          0,
          0,
          2702586,
          0,
          3164602,
          6604143,
          0,
          0,
          1945888,
          0,
          4381060,
          0,
          0,
          0,
          0,
          4321563,
          0,
          2786348,
          4219566,
          0,
          5537503,
          1555147,
          1957045,
          0,
          0,
          4803182
         ],
         "xaxis": "x",
         "y": [
          "Alligator",
          "Anteater",
          "Bear",
          "Bird",
          "Bull",
          "Cat",
          "Chicken",
          "Cow",
          "Cub",
          "Deer",
          "Dog",
          "Duck",
          "Eagle",
          "Elephant",
          "Frog",
          "Goat",
          "Gorilla",
          "Hamster",
          "Hippo",
          "Horse",
          "Kangaroo",
          "Koala",
          "Lion",
          "Monkey",
          "Mouse",
          "Octopus",
          "Ostrich",
          "Penguin",
          "Pig",
          "Rabbit",
          "Rhino",
          "Sheep",
          "Squirrel",
          "Tiger",
          "Wolf"
         ],
         "yaxis": "y"
        },
        {
         "alignmentgroup": "True",
         "hovertemplate": "Astrology=Aries<br>value=%{x}<br>Species=%{y}<extra></extra>",
         "legendgroup": "Aries",
         "marker": {
          "color": "#FF97FF",
          "pattern": {
           "shape": ""
          }
         },
         "name": "Aries",
         "offsetgroup": "Aries",
         "orientation": "h",
         "showlegend": true,
         "textfont": {
          "size": 18
         },
         "textposition": "auto",
         "type": "bar",
         "width": 0.85,
         "x": [
          0,
          0,
          3918535,
          2448853,
          0,
          5455462,
          0,
          0,
          0,
          2962639,
          0,
          1353459,
          1364200,
          1610355,
          0,
          1008960,
          6435673,
          0,
          3926531,
          588050,
          0,
          1843821,
          0,
          6508560,
          2475213,
          0,
          0,
          1467157,
          2186540,
          0,
          0,
          7102626,
          0,
          0,
          3746877
         ],
         "xaxis": "x",
         "y": [
          "Alligator",
          "Anteater",
          "Bear",
          "Bird",
          "Bull",
          "Cat",
          "Chicken",
          "Cow",
          "Cub",
          "Deer",
          "Dog",
          "Duck",
          "Eagle",
          "Elephant",
          "Frog",
          "Goat",
          "Gorilla",
          "Hamster",
          "Hippo",
          "Horse",
          "Kangaroo",
          "Koala",
          "Lion",
          "Monkey",
          "Mouse",
          "Octopus",
          "Ostrich",
          "Penguin",
          "Pig",
          "Rabbit",
          "Rhino",
          "Sheep",
          "Squirrel",
          "Tiger",
          "Wolf"
         ],
         "yaxis": "y"
        },
        {
         "alignmentgroup": "True",
         "hovertemplate": "Astrology=Cancer<br>value=%{x}<br>Species=%{y}<extra></extra>",
         "legendgroup": "Cancer",
         "marker": {
          "color": "#B6E880",
          "pattern": {
           "shape": ""
          }
         },
         "name": "Cancer",
         "offsetgroup": "Cancer",
         "orientation": "h",
         "showlegend": true,
         "textfont": {
          "size": 18
         },
         "textposition": "auto",
         "type": "bar",
         "width": 0.85,
         "x": [
          0,
          0,
          3731490,
          3741610,
          0,
          1522781,
          0,
          0,
          17402809,
          0,
          0,
          4621001,
          519091,
          1374068,
          6092132,
          125267,
          0,
          0,
          0,
          2071162,
          0,
          2782386,
          1931160,
          0,
          5923197,
          3063629,
          0,
          0,
          0,
          1902276,
          0,
          935574,
          5407165,
          0,
          0
         ],
         "xaxis": "x",
         "y": [
          "Alligator",
          "Anteater",
          "Bear",
          "Bird",
          "Bull",
          "Cat",
          "Chicken",
          "Cow",
          "Cub",
          "Deer",
          "Dog",
          "Duck",
          "Eagle",
          "Elephant",
          "Frog",
          "Goat",
          "Gorilla",
          "Hamster",
          "Hippo",
          "Horse",
          "Kangaroo",
          "Koala",
          "Lion",
          "Monkey",
          "Mouse",
          "Octopus",
          "Ostrich",
          "Penguin",
          "Pig",
          "Rabbit",
          "Rhino",
          "Sheep",
          "Squirrel",
          "Tiger",
          "Wolf"
         ],
         "yaxis": "y"
        },
        {
         "alignmentgroup": "True",
         "hovertemplate": "Astrology=Capricorn<br>value=%{x}<br>Species=%{y}<extra></extra>",
         "legendgroup": "Capricorn",
         "marker": {
          "color": "#FF6692",
          "pattern": {
           "shape": ""
          }
         },
         "name": "Capricorn",
         "offsetgroup": "Capricorn",
         "orientation": "h",
         "showlegend": true,
         "textfont": {
          "size": 18
         },
         "textposition": "auto",
         "type": "bar",
         "width": 0.85,
         "x": [
          0,
          0,
          2133521,
          0,
          542663,
          2004869,
          568193,
          0,
          3259823,
          1350294,
          5644634,
          2370315,
          1667060,
          0,
          2264187,
          11764769,
          0,
          0,
          1333895,
          621881,
          0,
          0,
          0,
          1987360,
          2132426,
          0,
          649576,
          2104305,
          2336117,
          3088096,
          0,
          0,
          0,
          0,
          0
         ],
         "xaxis": "x",
         "y": [
          "Alligator",
          "Anteater",
          "Bear",
          "Bird",
          "Bull",
          "Cat",
          "Chicken",
          "Cow",
          "Cub",
          "Deer",
          "Dog",
          "Duck",
          "Eagle",
          "Elephant",
          "Frog",
          "Goat",
          "Gorilla",
          "Hamster",
          "Hippo",
          "Horse",
          "Kangaroo",
          "Koala",
          "Lion",
          "Monkey",
          "Mouse",
          "Octopus",
          "Ostrich",
          "Penguin",
          "Pig",
          "Rabbit",
          "Rhino",
          "Sheep",
          "Squirrel",
          "Tiger",
          "Wolf"
         ],
         "yaxis": "y"
        },
        {
         "alignmentgroup": "True",
         "hovertemplate": "Astrology=Gemini<br>value=%{x}<br>Species=%{y}<extra></extra>",
         "legendgroup": "Gemini",
         "marker": {
          "color": "#19D3F3",
          "pattern": {
           "shape": ""
          }
         },
         "name": "Gemini",
         "offsetgroup": "Gemini",
         "orientation": "h",
         "showlegend": true,
         "textfont": {
          "size": 18
         },
         "textposition": "auto",
         "type": "bar",
         "width": 0.85,
         "x": [
          2001478,
          0,
          0,
          0,
          0,
          3257755,
          0,
          0,
          3620551,
          4473464,
          6507158,
          2862779,
          1988848,
          1988656,
          4191458,
          0,
          0,
          3016446,
          0,
          5295394,
          1894572,
          0,
          0,
          2969774,
          1923043,
          0,
          0,
          0,
          1947343,
          1407179,
          2438601,
          0,
          4589071,
          0,
          0
         ],
         "xaxis": "x",
         "y": [
          "Alligator",
          "Anteater",
          "Bear",
          "Bird",
          "Bull",
          "Cat",
          "Chicken",
          "Cow",
          "Cub",
          "Deer",
          "Dog",
          "Duck",
          "Eagle",
          "Elephant",
          "Frog",
          "Goat",
          "Gorilla",
          "Hamster",
          "Hippo",
          "Horse",
          "Kangaroo",
          "Koala",
          "Lion",
          "Monkey",
          "Mouse",
          "Octopus",
          "Ostrich",
          "Penguin",
          "Pig",
          "Rabbit",
          "Rhino",
          "Sheep",
          "Squirrel",
          "Tiger",
          "Wolf"
         ],
         "yaxis": "y"
        },
        {
         "alignmentgroup": "True",
         "hovertemplate": "Astrology=Leo<br>value=%{x}<br>Species=%{y}<extra></extra>",
         "legendgroup": "Leo",
         "marker": {
          "color": "#FFA15A",
          "pattern": {
           "shape": ""
          }
         },
         "name": "Leo",
         "offsetgroup": "Leo",
         "orientation": "h",
         "showlegend": true,
         "textfont": {
          "size": 18
         },
         "textposition": "auto",
         "type": "bar",
         "width": 0.85,
         "x": [
          1785643,
          0,
          2997874,
          728688,
          0,
          3315090,
          0,
          0,
          3972030,
          3763878,
          3488457,
          4139931,
          1787203,
          0,
          3581586,
          0,
          0,
          2555811,
          1695802,
          0,
          0,
          2376763,
          9565407,
          0,
          5076634,
          0,
          591229,
          0,
          4118772,
          3092649,
          0,
          1056690,
          2623076,
          4456876,
          0
         ],
         "xaxis": "x",
         "y": [
          "Alligator",
          "Anteater",
          "Bear",
          "Bird",
          "Bull",
          "Cat",
          "Chicken",
          "Cow",
          "Cub",
          "Deer",
          "Dog",
          "Duck",
          "Eagle",
          "Elephant",
          "Frog",
          "Goat",
          "Gorilla",
          "Hamster",
          "Hippo",
          "Horse",
          "Kangaroo",
          "Koala",
          "Lion",
          "Monkey",
          "Mouse",
          "Octopus",
          "Ostrich",
          "Penguin",
          "Pig",
          "Rabbit",
          "Rhino",
          "Sheep",
          "Squirrel",
          "Tiger",
          "Wolf"
         ],
         "yaxis": "y"
        },
        {
         "alignmentgroup": "True",
         "hovertemplate": "Astrology=Libra<br>value=%{x}<br>Species=%{y}<extra></extra>",
         "legendgroup": "Libra",
         "marker": {
          "color": "#AB63FA",
          "pattern": {
           "shape": ""
          }
         },
         "name": "Libra",
         "offsetgroup": "Libra",
         "orientation": "h",
         "showlegend": true,
         "textfont": {
          "size": 18
         },
         "textposition": "auto",
         "type": "bar",
         "width": 0.85,
         "x": [
          0,
          526085,
          2314535,
          0,
          0,
          8823551,
          8276653,
          0,
          414780,
          0,
          1702459,
          0,
          0,
          2964035,
          7596099,
          0,
          3128010,
          20562524,
          4207145,
          2128216,
          814212,
          3881141,
          0,
          0,
          259,
          0,
          5992478,
          4662768,
          3495491,
          0,
          0,
          1804056,
          2752292,
          0,
          0
         ],
         "xaxis": "x",
         "y": [
          "Alligator",
          "Anteater",
          "Bear",
          "Bird",
          "Bull",
          "Cat",
          "Chicken",
          "Cow",
          "Cub",
          "Deer",
          "Dog",
          "Duck",
          "Eagle",
          "Elephant",
          "Frog",
          "Goat",
          "Gorilla",
          "Hamster",
          "Hippo",
          "Horse",
          "Kangaroo",
          "Koala",
          "Lion",
          "Monkey",
          "Mouse",
          "Octopus",
          "Ostrich",
          "Penguin",
          "Pig",
          "Rabbit",
          "Rhino",
          "Sheep",
          "Squirrel",
          "Tiger",
          "Wolf"
         ],
         "yaxis": "y"
        },
        {
         "alignmentgroup": "True",
         "hovertemplate": "Astrology=Pisces<br>value=%{x}<br>Species=%{y}<extra></extra>",
         "legendgroup": "Pisces",
         "marker": {
          "color": "#00CC96",
          "pattern": {
           "shape": ""
          }
         },
         "name": "Pisces",
         "offsetgroup": "Pisces",
         "orientation": "h",
         "showlegend": true,
         "textfont": {
          "size": 18
         },
         "textposition": "auto",
         "type": "bar",
         "width": 0.85,
         "x": [
          0,
          1769126,
          2786335,
          5843267,
          0,
          721530,
          0,
          2090087,
          8841453,
          0,
          0,
          4436905,
          1565668,
          0,
          0,
          3019845,
          0,
          1887477,
          0,
          4478361,
          0,
          0,
          0,
          0,
          1271081,
          2529942,
          0,
          3378209,
          3806443,
          7566850,
          3938887,
          4468975,
          2371707,
          0,
          0
         ],
         "xaxis": "x",
         "y": [
          "Alligator",
          "Anteater",
          "Bear",
          "Bird",
          "Bull",
          "Cat",
          "Chicken",
          "Cow",
          "Cub",
          "Deer",
          "Dog",
          "Duck",
          "Eagle",
          "Elephant",
          "Frog",
          "Goat",
          "Gorilla",
          "Hamster",
          "Hippo",
          "Horse",
          "Kangaroo",
          "Koala",
          "Lion",
          "Monkey",
          "Mouse",
          "Octopus",
          "Ostrich",
          "Penguin",
          "Pig",
          "Rabbit",
          "Rhino",
          "Sheep",
          "Squirrel",
          "Tiger",
          "Wolf"
         ],
         "yaxis": "y"
        },
        {
         "alignmentgroup": "True",
         "hovertemplate": "Astrology=Sagittarius<br>value=%{x}<br>Species=%{y}<extra></extra>",
         "legendgroup": "Sagittarius",
         "marker": {
          "color": "#EF553B",
          "pattern": {
           "shape": ""
          }
         },
         "name": "Sagittarius",
         "offsetgroup": "Sagittarius",
         "orientation": "h",
         "showlegend": true,
         "textfont": {
          "size": 18
         },
         "textposition": "auto",
         "type": "bar",
         "width": 0.85,
         "x": [
          0,
          0,
          0,
          789606,
          0,
          8233306,
          2540375,
          0,
          0,
          0,
          2449341,
          0,
          4454579,
          687810,
          1952194,
          0,
          1503179,
          0,
          0,
          2559573,
          2544511,
          0,
          0,
          2150116,
          2027197,
          0,
          5763272,
          0,
          0,
          2604741,
          0,
          743733,
          2078324,
          3510936,
          9663199
         ],
         "xaxis": "x",
         "y": [
          "Alligator",
          "Anteater",
          "Bear",
          "Bird",
          "Bull",
          "Cat",
          "Chicken",
          "Cow",
          "Cub",
          "Deer",
          "Dog",
          "Duck",
          "Eagle",
          "Elephant",
          "Frog",
          "Goat",
          "Gorilla",
          "Hamster",
          "Hippo",
          "Horse",
          "Kangaroo",
          "Koala",
          "Lion",
          "Monkey",
          "Mouse",
          "Octopus",
          "Ostrich",
          "Penguin",
          "Pig",
          "Rabbit",
          "Rhino",
          "Sheep",
          "Squirrel",
          "Tiger",
          "Wolf"
         ],
         "yaxis": "y"
        },
        {
         "alignmentgroup": "True",
         "hovertemplate": "Astrology=Scorpio<br>value=%{x}<br>Species=%{y}<extra></extra>",
         "legendgroup": "Scorpio",
         "marker": {
          "color": "#636EFA",
          "pattern": {
           "shape": ""
          }
         },
         "name": "Scorpio",
         "offsetgroup": "Scorpio",
         "orientation": "h",
         "showlegend": true,
         "textfont": {
          "size": 18
         },
         "textposition": "auto",
         "type": "bar",
         "width": 0.85,
         "x": [
          3954593,
          5646618,
          1818794,
          2175097,
          1486892,
          0,
          845593,
          0,
          0,
          958633,
          7651590,
          2090343,
          2263554,
          2474682,
          1846745,
          0,
          0,
          2430806,
          0,
          0,
          2066096,
          815579,
          0,
          1380446,
          0,
          0,
          1180447,
          3401602,
          2480728,
          1332223,
          0,
          0,
          0,
          0,
          2018197
         ],
         "xaxis": "x",
         "y": [
          "Alligator",
          "Anteater",
          "Bear",
          "Bird",
          "Bull",
          "Cat",
          "Chicken",
          "Cow",
          "Cub",
          "Deer",
          "Dog",
          "Duck",
          "Eagle",
          "Elephant",
          "Frog",
          "Goat",
          "Gorilla",
          "Hamster",
          "Hippo",
          "Horse",
          "Kangaroo",
          "Koala",
          "Lion",
          "Monkey",
          "Mouse",
          "Octopus",
          "Ostrich",
          "Penguin",
          "Pig",
          "Rabbit",
          "Rhino",
          "Sheep",
          "Squirrel",
          "Tiger",
          "Wolf"
         ],
         "yaxis": "y"
        },
        {
         "alignmentgroup": "True",
         "hovertemplate": "Astrology=Taurus<br>value=%{x}<br>Species=%{y}<extra></extra>",
         "legendgroup": "Taurus",
         "marker": {
          "color": "#FECB52",
          "pattern": {
           "shape": ""
          }
         },
         "name": "Taurus",
         "offsetgroup": "Taurus",
         "orientation": "h",
         "showlegend": true,
         "textfont": {
          "size": 18
         },
         "textposition": "auto",
         "type": "bar",
         "width": 0.85,
         "x": [
          1807134,
          1944223,
          2315050,
          0,
          6877481,
          2303274,
          2590344,
          2598255,
          3384455,
          2595659,
          1259793,
          3017985,
          0,
          5066018,
          0,
          0,
          0,
          0,
          2139767,
          2881247,
          2913326,
          2502220,
          0,
          0,
          0,
          0,
          2200949,
          0,
          5124971,
          1029608,
          1633189,
          1443923,
          915,
          3098198,
          0
         ],
         "xaxis": "x",
         "y": [
          "Alligator",
          "Anteater",
          "Bear",
          "Bird",
          "Bull",
          "Cat",
          "Chicken",
          "Cow",
          "Cub",
          "Deer",
          "Dog",
          "Duck",
          "Eagle",
          "Elephant",
          "Frog",
          "Goat",
          "Gorilla",
          "Hamster",
          "Hippo",
          "Horse",
          "Kangaroo",
          "Koala",
          "Lion",
          "Monkey",
          "Mouse",
          "Octopus",
          "Ostrich",
          "Penguin",
          "Pig",
          "Rabbit",
          "Rhino",
          "Sheep",
          "Squirrel",
          "Tiger",
          "Wolf"
         ],
         "yaxis": "y"
        },
        {
         "alignmentgroup": "True",
         "hovertemplate": "Astrology=Virgo<br>value=%{x}<br>Species=%{y}<extra></extra>",
         "legendgroup": "Virgo",
         "marker": {
          "color": "#FF97FF",
          "pattern": {
           "shape": ""
          }
         },
         "name": "Virgo",
         "offsetgroup": "Virgo",
         "orientation": "h",
         "showlegend": true,
         "textfont": {
          "size": 18
         },
         "textposition": "auto",
         "type": "bar",
         "width": 0.85,
         "x": [
          0,
          0,
          3494773,
          2305832,
          0,
          7277038,
          0,
          5103998,
          0,
          2386980,
          0,
          0,
          0,
          230506,
          1638838,
          4013520,
          4667234,
          0,
          6043230,
          1236971,
          592008,
          0,
          0,
          936129,
          3501876,
          2838334,
          0,
          3058311,
          3018184,
          1623712,
          0,
          0,
          5467493,
          4538612,
          6155056
         ],
         "xaxis": "x",
         "y": [
          "Alligator",
          "Anteater",
          "Bear",
          "Bird",
          "Bull",
          "Cat",
          "Chicken",
          "Cow",
          "Cub",
          "Deer",
          "Dog",
          "Duck",
          "Eagle",
          "Elephant",
          "Frog",
          "Goat",
          "Gorilla",
          "Hamster",
          "Hippo",
          "Horse",
          "Kangaroo",
          "Koala",
          "Lion",
          "Monkey",
          "Mouse",
          "Octopus",
          "Ostrich",
          "Penguin",
          "Pig",
          "Rabbit",
          "Rhino",
          "Sheep",
          "Squirrel",
          "Tiger",
          "Wolf"
         ],
         "yaxis": "y"
        }
       ],
       "layout": {
        "autosize": false,
        "barmode": "stack",
        "font": {
         "family": "Helvetica",
         "size": 20
        },
        "height": 1000,
        "legend": {
         "font": {
          "size": 19
         },
         "title": {
          "text": "Astrology"
         },
         "tracegroupgap": 0
        },
        "plot_bgcolor": "white",
        "template": {
         "data": {
          "bar": [
           {
            "error_x": {
             "color": "#2a3f5f"
            },
            "error_y": {
             "color": "#2a3f5f"
            },
            "marker": {
             "line": {
              "color": "#E5ECF6",
              "width": 0.5
             },
             "pattern": {
              "fillmode": "overlay",
              "size": 10,
              "solidity": 0.2
             }
            },
            "type": "bar"
           }
          ],
          "barpolar": [
           {
            "marker": {
             "line": {
              "color": "#E5ECF6",
              "width": 0.5
             },
             "pattern": {
              "fillmode": "overlay",
              "size": 10,
              "solidity": 0.2
             }
            },
            "type": "barpolar"
           }
          ],
          "carpet": [
           {
            "aaxis": {
             "endlinecolor": "#2a3f5f",
             "gridcolor": "white",
             "linecolor": "white",
             "minorgridcolor": "white",
             "startlinecolor": "#2a3f5f"
            },
            "baxis": {
             "endlinecolor": "#2a3f5f",
             "gridcolor": "white",
             "linecolor": "white",
             "minorgridcolor": "white",
             "startlinecolor": "#2a3f5f"
            },
            "type": "carpet"
           }
          ],
          "choropleth": [
           {
            "colorbar": {
             "outlinewidth": 0,
             "ticks": ""
            },
            "type": "choropleth"
           }
          ],
          "contour": [
           {
            "colorbar": {
             "outlinewidth": 0,
             "ticks": ""
            },
            "colorscale": [
             [
              0,
              "#0d0887"
             ],
             [
              0.1111111111111111,
              "#46039f"
             ],
             [
              0.2222222222222222,
              "#7201a8"
             ],
             [
              0.3333333333333333,
              "#9c179e"
             ],
             [
              0.4444444444444444,
              "#bd3786"
             ],
             [
              0.5555555555555556,
              "#d8576b"
             ],
             [
              0.6666666666666666,
              "#ed7953"
             ],
             [
              0.7777777777777778,
              "#fb9f3a"
             ],
             [
              0.8888888888888888,
              "#fdca26"
             ],
             [
              1,
              "#f0f921"
             ]
            ],
            "type": "contour"
           }
          ],
          "contourcarpet": [
           {
            "colorbar": {
             "outlinewidth": 0,
             "ticks": ""
            },
            "type": "contourcarpet"
           }
          ],
          "heatmap": [
           {
            "colorbar": {
             "outlinewidth": 0,
             "ticks": ""
            },
            "colorscale": [
             [
              0,
              "#0d0887"
             ],
             [
              0.1111111111111111,
              "#46039f"
             ],
             [
              0.2222222222222222,
              "#7201a8"
             ],
             [
              0.3333333333333333,
              "#9c179e"
             ],
             [
              0.4444444444444444,
              "#bd3786"
             ],
             [
              0.5555555555555556,
              "#d8576b"
             ],
             [
              0.6666666666666666,
              "#ed7953"
             ],
             [
              0.7777777777777778,
              "#fb9f3a"
             ],
             [
              0.8888888888888888,
              "#fdca26"
             ],
             [
              1,
              "#f0f921"
             ]
            ],
            "type": "heatmap"
           }
          ],
          "heatmapgl": [
           {
            "colorbar": {
             "outlinewidth": 0,
             "ticks": ""
            },
            "colorscale": [
             [
              0,
              "#0d0887"
             ],
             [
              0.1111111111111111,
              "#46039f"
             ],
             [
              0.2222222222222222,
              "#7201a8"
             ],
             [
              0.3333333333333333,
              "#9c179e"
             ],
             [
              0.4444444444444444,
              "#bd3786"
             ],
             [
              0.5555555555555556,
              "#d8576b"
             ],
             [
              0.6666666666666666,
              "#ed7953"
             ],
             [
              0.7777777777777778,
              "#fb9f3a"
             ],
             [
              0.8888888888888888,
              "#fdca26"
             ],
             [
              1,
              "#f0f921"
             ]
            ],
            "type": "heatmapgl"
           }
          ],
          "histogram": [
           {
            "marker": {
             "pattern": {
              "fillmode": "overlay",
              "size": 10,
              "solidity": 0.2
             }
            },
            "type": "histogram"
           }
          ],
          "histogram2d": [
           {
            "colorbar": {
             "outlinewidth": 0,
             "ticks": ""
            },
            "colorscale": [
             [
              0,
              "#0d0887"
             ],
             [
              0.1111111111111111,
              "#46039f"
             ],
             [
              0.2222222222222222,
              "#7201a8"
             ],
             [
              0.3333333333333333,
              "#9c179e"
             ],
             [
              0.4444444444444444,
              "#bd3786"
             ],
             [
              0.5555555555555556,
              "#d8576b"
             ],
             [
              0.6666666666666666,
              "#ed7953"
             ],
             [
              0.7777777777777778,
              "#fb9f3a"
             ],
             [
              0.8888888888888888,
              "#fdca26"
             ],
             [
              1,
              "#f0f921"
             ]
            ],
            "type": "histogram2d"
           }
          ],
          "histogram2dcontour": [
           {
            "colorbar": {
             "outlinewidth": 0,
             "ticks": ""
            },
            "colorscale": [
             [
              0,
              "#0d0887"
             ],
             [
              0.1111111111111111,
              "#46039f"
             ],
             [
              0.2222222222222222,
              "#7201a8"
             ],
             [
              0.3333333333333333,
              "#9c179e"
             ],
             [
              0.4444444444444444,
              "#bd3786"
             ],
             [
              0.5555555555555556,
              "#d8576b"
             ],
             [
              0.6666666666666666,
              "#ed7953"
             ],
             [
              0.7777777777777778,
              "#fb9f3a"
             ],
             [
              0.8888888888888888,
              "#fdca26"
             ],
             [
              1,
              "#f0f921"
             ]
            ],
            "type": "histogram2dcontour"
           }
          ],
          "mesh3d": [
           {
            "colorbar": {
             "outlinewidth": 0,
             "ticks": ""
            },
            "type": "mesh3d"
           }
          ],
          "parcoords": [
           {
            "line": {
             "colorbar": {
              "outlinewidth": 0,
              "ticks": ""
             }
            },
            "type": "parcoords"
           }
          ],
          "pie": [
           {
            "automargin": true,
            "type": "pie"
           }
          ],
          "scatter": [
           {
            "marker": {
             "colorbar": {
              "outlinewidth": 0,
              "ticks": ""
             }
            },
            "type": "scatter"
           }
          ],
          "scatter3d": [
           {
            "line": {
             "colorbar": {
              "outlinewidth": 0,
              "ticks": ""
             }
            },
            "marker": {
             "colorbar": {
              "outlinewidth": 0,
              "ticks": ""
             }
            },
            "type": "scatter3d"
           }
          ],
          "scattercarpet": [
           {
            "marker": {
             "colorbar": {
              "outlinewidth": 0,
              "ticks": ""
             }
            },
            "type": "scattercarpet"
           }
          ],
          "scattergeo": [
           {
            "marker": {
             "colorbar": {
              "outlinewidth": 0,
              "ticks": ""
             }
            },
            "type": "scattergeo"
           }
          ],
          "scattergl": [
           {
            "marker": {
             "colorbar": {
              "outlinewidth": 0,
              "ticks": ""
             }
            },
            "type": "scattergl"
           }
          ],
          "scattermapbox": [
           {
            "marker": {
             "colorbar": {
              "outlinewidth": 0,
              "ticks": ""
             }
            },
            "type": "scattermapbox"
           }
          ],
          "scatterpolar": [
           {
            "marker": {
             "colorbar": {
              "outlinewidth": 0,
              "ticks": ""
             }
            },
            "type": "scatterpolar"
           }
          ],
          "scatterpolargl": [
           {
            "marker": {
             "colorbar": {
              "outlinewidth": 0,
              "ticks": ""
             }
            },
            "type": "scatterpolargl"
           }
          ],
          "scatterternary": [
           {
            "marker": {
             "colorbar": {
              "outlinewidth": 0,
              "ticks": ""
             }
            },
            "type": "scatterternary"
           }
          ],
          "surface": [
           {
            "colorbar": {
             "outlinewidth": 0,
             "ticks": ""
            },
            "colorscale": [
             [
              0,
              "#0d0887"
             ],
             [
              0.1111111111111111,
              "#46039f"
             ],
             [
              0.2222222222222222,
              "#7201a8"
             ],
             [
              0.3333333333333333,
              "#9c179e"
             ],
             [
              0.4444444444444444,
              "#bd3786"
             ],
             [
              0.5555555555555556,
              "#d8576b"
             ],
             [
              0.6666666666666666,
              "#ed7953"
             ],
             [
              0.7777777777777778,
              "#fb9f3a"
             ],
             [
              0.8888888888888888,
              "#fdca26"
             ],
             [
              1,
              "#f0f921"
             ]
            ],
            "type": "surface"
           }
          ],
          "table": [
           {
            "cells": {
             "fill": {
              "color": "#EBF0F8"
             },
             "line": {
              "color": "white"
             }
            },
            "header": {
             "fill": {
              "color": "#C8D4E3"
             },
             "line": {
              "color": "white"
             }
            },
            "type": "table"
           }
          ]
         },
         "layout": {
          "annotationdefaults": {
           "arrowcolor": "#2a3f5f",
           "arrowhead": 0,
           "arrowwidth": 1
          },
          "autotypenumbers": "strict",
          "coloraxis": {
           "colorbar": {
            "outlinewidth": 0,
            "ticks": ""
           }
          },
          "colorscale": {
           "diverging": [
            [
             0,
             "#8e0152"
            ],
            [
             0.1,
             "#c51b7d"
            ],
            [
             0.2,
             "#de77ae"
            ],
            [
             0.3,
             "#f1b6da"
            ],
            [
             0.4,
             "#fde0ef"
            ],
            [
             0.5,
             "#f7f7f7"
            ],
            [
             0.6,
             "#e6f5d0"
            ],
            [
             0.7,
             "#b8e186"
            ],
            [
             0.8,
             "#7fbc41"
            ],
            [
             0.9,
             "#4d9221"
            ],
            [
             1,
             "#276419"
            ]
           ],
           "sequential": [
            [
             0,
             "#0d0887"
            ],
            [
             0.1111111111111111,
             "#46039f"
            ],
            [
             0.2222222222222222,
             "#7201a8"
            ],
            [
             0.3333333333333333,
             "#9c179e"
            ],
            [
             0.4444444444444444,
             "#bd3786"
            ],
            [
             0.5555555555555556,
             "#d8576b"
            ],
            [
             0.6666666666666666,
             "#ed7953"
            ],
            [
             0.7777777777777778,
             "#fb9f3a"
            ],
            [
             0.8888888888888888,
             "#fdca26"
            ],
            [
             1,
             "#f0f921"
            ]
           ],
           "sequentialminus": [
            [
             0,
             "#0d0887"
            ],
            [
             0.1111111111111111,
             "#46039f"
            ],
            [
             0.2222222222222222,
             "#7201a8"
            ],
            [
             0.3333333333333333,
             "#9c179e"
            ],
            [
             0.4444444444444444,
             "#bd3786"
            ],
            [
             0.5555555555555556,
             "#d8576b"
            ],
            [
             0.6666666666666666,
             "#ed7953"
            ],
            [
             0.7777777777777778,
             "#fb9f3a"
            ],
            [
             0.8888888888888888,
             "#fdca26"
            ],
            [
             1,
             "#f0f921"
            ]
           ]
          },
          "colorway": [
           "#636efa",
           "#EF553B",
           "#00cc96",
           "#ab63fa",
           "#FFA15A",
           "#19d3f3",
           "#FF6692",
           "#B6E880",
           "#FF97FF",
           "#FECB52"
          ],
          "font": {
           "color": "#2a3f5f"
          },
          "geo": {
           "bgcolor": "white",
           "lakecolor": "white",
           "landcolor": "#E5ECF6",
           "showlakes": true,
           "showland": true,
           "subunitcolor": "white"
          },
          "hoverlabel": {
           "align": "left"
          },
          "hovermode": "closest",
          "mapbox": {
           "style": "light"
          },
          "paper_bgcolor": "white",
          "plot_bgcolor": "#E5ECF6",
          "polar": {
           "angularaxis": {
            "gridcolor": "white",
            "linecolor": "white",
            "ticks": ""
           },
           "bgcolor": "#E5ECF6",
           "radialaxis": {
            "gridcolor": "white",
            "linecolor": "white",
            "ticks": ""
           }
          },
          "scene": {
           "xaxis": {
            "backgroundcolor": "#E5ECF6",
            "gridcolor": "white",
            "gridwidth": 2,
            "linecolor": "white",
            "showbackground": true,
            "ticks": "",
            "zerolinecolor": "white"
           },
           "yaxis": {
            "backgroundcolor": "#E5ECF6",
            "gridcolor": "white",
            "gridwidth": 2,
            "linecolor": "white",
            "showbackground": true,
            "ticks": "",
            "zerolinecolor": "white"
           },
           "zaxis": {
            "backgroundcolor": "#E5ECF6",
            "gridcolor": "white",
            "gridwidth": 2,
            "linecolor": "white",
            "showbackground": true,
            "ticks": "",
            "zerolinecolor": "white"
           }
          },
          "shapedefaults": {
           "line": {
            "color": "#2a3f5f"
           }
          },
          "ternary": {
           "aaxis": {
            "gridcolor": "white",
            "linecolor": "white",
            "ticks": ""
           },
           "baxis": {
            "gridcolor": "white",
            "linecolor": "white",
            "ticks": ""
           },
           "bgcolor": "#E5ECF6",
           "caxis": {
            "gridcolor": "white",
            "linecolor": "white",
            "ticks": ""
           }
          },
          "title": {
           "x": 0.05
          },
          "xaxis": {
           "automargin": true,
           "gridcolor": "white",
           "linecolor": "white",
           "ticks": "",
           "title": {
            "standoff": 15
           },
           "zerolinecolor": "white",
           "zerolinewidth": 2
          },
          "yaxis": {
           "automargin": true,
           "gridcolor": "white",
           "linecolor": "white",
           "ticks": "",
           "title": {
            "standoff": 15
           },
           "zerolinecolor": "white",
           "zerolinewidth": 2
          }
         }
        },
        "title": {
         "font": {
          "size": 24
         },
         "text": "Popular Villagers : By Species & Astrological Sign",
         "x": 0.5,
         "y": 0.95
        },
        "width": 890,
        "xaxis": {
         "anchor": "y",
         "domain": [
          0,
          1
         ],
         "linecolor": "black",
         "linewidth": 1.5,
         "showgrid": false,
         "showline": true,
         "tickfont": {
          "size": 18
         },
         "ticks": "outside",
         "title": {
          "text": "Overall Popularity (Google Searches + ACNH Polls)"
         }
        },
        "yaxis": {
         "anchor": "x",
         "categoryorder": "total ascending",
         "domain": [
          0,
          1
         ],
         "linecolor": "black",
         "linewidth": 1.5,
         "showgrid": false,
         "showline": true,
         "tickfont": {
          "size": 18
         },
         "ticks": "outside",
         "title": {
          "text": "Villager Species"
         }
        }
       }
      }
     },
     "metadata": {},
     "output_type": "display_data"
    }
   ],
   "source": [
    "fig2astrospec = px.bar(species_astro, color=\"Astrology\",title= \"Popular Villagers: What Species are they?\",\n",
    "              color_discrete_sequence=px.colors.qualitative.Plotly_r,orientation='h')\n",
    "fig2astrospec.update_traces(textfont_size=18,width=0.85)\n",
    "fig2astrospec.update_layout(font=dict(size=20),title_font_size=24,legend_font_size=19,width=1000,height=600,font_family=\"Courier\",yaxis_title=\"Villager Species\",xaxis_title=\"Overall Popularity (Google Searches + ACNH Polls)\")\n",
    "fig2astrospec.update_layout(height=1000,width=890,autosize=False,font_family=\"Helvetica\",plot_bgcolor='white')\n",
    "fig2astrospec.update_xaxes(showgrid=False,showline=True, tickfont_size=18,ticks='outside',linecolor=\"black\",linewidth=1.5)\n",
    "fig2astrospec.update_yaxes(showgrid=False,showline=True, tickfont_size=18,ticks='outside',linecolor=\"black\",linewidth=1.5)\n",
    "fig2astrospec.update_layout(\n",
    "    title={\n",
    "        'text': \"Popular Villagers : By Species & Astrological Sign\",\n",
    "        'y':0.95,\n",
    "        'x':0.5})\n",
    "fig2astrospec.update_layout(barmode='stack', yaxis={'categoryorder':'total ascending'})\n",
    "fig2astrospec.show()"
   ]
  },
  {
   "cell_type": "code",
   "execution_count": 185,
   "id": "41f4127c",
   "metadata": {},
   "outputs": [],
   "source": [
    "# fig_fin = px.bar(final_villagers, x=\"Overall_Popularity\", y=\"Astrology\", color='Personality', facet_row=\"Species\", \n",
    "#                  orientation='h',facet_row_spacing=0.01, color_discrete_sequence=px.colors.qualitative.Plotly_r,)\n",
    "# # fig_fin.update_yaxes(matches=None, showticklabels=True)\n",
    "# # fig_fin.update_traces(textfont_size=18,width=0.85)\n",
    "# # fig_fin.update_layout(font=dict(size=20),title_font_size=24,legend_font_size=19,width=1000,height=600,font_family=\"Courier\",\n",
    "#                     #   yaxis_title=\"Villager Species\",xaxis_title=\"Overall Popularity (Google Searches + ACNH Polls)\")\n",
    "# fig_fin.update_layout(height=1000,width=890,autosize=False,font_family=\"Helvetica\",plot_bgcolor='white')\n",
    "# fig_fin.update_xaxes(showgrid=False,showline=True, tickfont_size=8,ticks='outside',linecolor=\"black\",linewidth=1.5)\n",
    "# fig_fin.update_yaxes(showgrid=False,showline=True, tickfont_size=8,ticks='outside',linecolor=\"black\",linewidth=1.5)\n",
    "# fig_fin.show()"
   ]
  },
  {
   "cell_type": "code",
   "execution_count": 83,
   "id": "2754a096",
   "metadata": {},
   "outputs": [
    {
     "data": {
      "application/vnd.plotly.v1+json": {
       "config": {
        "plotlyServerURL": "https://plot.ly"
       },
       "data": [
        {
         "hovertemplate": "<b>%{hovertext}</b><br><br>Personality=Lazy<br>Poll_Results=%{marker.size}<br>Total_Google_Searches=%{y}<br>Name=%{text}<extra></extra>",
         "hovertext": [
          "Zucker",
          "Sherb",
          "Stitches",
          "Clay"
         ],
         "legendgroup": "Lazy",
         "marker": {
          "color": "#636EFA",
          "size": [
           17442,
           19883,
           12548,
           3425
          ],
          "sizemode": "area",
          "sizeref": 8.274166666666666,
          "symbol": "circle"
         },
         "mode": "markers+text",
         "name": "Lazy",
         "orientation": "v",
         "showlegend": true,
         "text": [
          "Zucker",
          "Sherb",
          "Stitches",
          "Clay"
         ],
         "textfont": {
          "size": 19
         },
         "textposition": "bottom center",
         "type": "scatter",
         "x": [
          17442,
          19883,
          12548,
          3425
         ],
         "xaxis": "x",
         "y": [
          2512500,
          5608850,
          1597500,
          19218150
         ],
         "yaxis": "y"
        },
        {
         "hovertemplate": "<b>%{hovertext}</b><br><br>Personality=Peppy<br>Poll_Results=%{marker.size}<br>Total_Google_Searches=%{y}<br>Name=%{text}<extra></extra>",
         "hovertext": [
          "Audie",
          "Bubbles"
         ],
         "legendgroup": "Peppy",
         "marker": {
          "color": "#EF553B",
          "size": [
           11842,
           610
          ],
          "sizemode": "area",
          "sizeref": 8.274166666666666,
          "symbol": "circle"
         },
         "mode": "markers+text",
         "name": "Peppy",
         "orientation": "v",
         "showlegend": true,
         "text": [
          "Audie",
          "Bubbles"
         ],
         "textfont": {
          "size": 19
         },
         "textposition": "bottom center",
         "type": "scatter",
         "x": [
          11842,
          610
         ],
         "xaxis": "x",
         "y": [
          4911350,
          6042620
         ],
         "yaxis": "y"
        },
        {
         "hovertemplate": "<b>%{hovertext}</b><br><br>Personality=Normal<br>Poll_Results=%{marker.size}<br>Total_Google_Searches=%{y}<br>Name=%{text}<extra></extra>",
         "hovertext": [
          "Marina",
          "Olive",
          "Fauna"
         ],
         "legendgroup": "Normal",
         "marker": {
          "color": "#00CC96",
          "size": [
           13129,
           751,
           11628
          ],
          "sizemode": "area",
          "sizeref": 8.274166666666666,
          "symbol": "circle"
         },
         "mode": "markers+text",
         "name": "Normal",
         "orientation": "v",
         "showlegend": true,
         "text": [
          "Marina",
          "Olive",
          "Fauna"
         ],
         "textfont": {
          "size": 19
         },
         "textposition": "bottom center",
         "type": "scatter",
         "x": [
          13129,
          751,
          11628
         ],
         "xaxis": "x",
         "y": [
          3050500,
          12937100,
          2421950
         ],
         "yaxis": "y"
        },
        {
         "hovertemplate": "<b>%{hovertext}</b><br><br>Personality=Big Sister<br>Poll_Results=%{marker.size}<br>Total_Google_Searches=%{y}<br>Name=%{text}<extra></extra>",
         "hovertext": [
          "Rocket"
         ],
         "legendgroup": "Big Sister",
         "marker": {
          "color": "#AB63FA",
          "size": [
           329
          ],
          "sizemode": "area",
          "sizeref": 8.274166666666666,
          "symbol": "circle"
         },
         "mode": "markers+text",
         "name": "Big Sister",
         "orientation": "v",
         "showlegend": true,
         "text": [
          "Rocket"
         ],
         "textfont": {
          "size": 19
         },
         "textposition": "bottom center",
         "type": "scatter",
         "x": [
          329
         ],
         "xaxis": "x",
         "y": [
          6068350
         ],
         "yaxis": "y"
        },
        {
         "hovertemplate": "<b>%{hovertext}</b><br><br>Personality=Snooty<br>Poll_Results=%{marker.size}<br>Total_Google_Searches=%{y}<br>Name=%{text}<extra></extra>",
         "hovertext": [
          "Ankha",
          "Judy"
         ],
         "legendgroup": "Snooty",
         "marker": {
          "color": "#FFA15A",
          "size": [
           13038,
           14741
          ],
          "sizemode": "area",
          "sizeref": 8.274166666666666,
          "symbol": "circle"
         },
         "mode": "markers+text",
         "name": "Snooty",
         "orientation": "v",
         "showlegend": true,
         "text": [
          "Ankha",
          "Judy"
         ],
         "textfont": {
          "size": 19
         },
         "textposition": "bottom center",
         "type": "scatter",
         "x": [
          13038,
          14741
         ],
         "xaxis": "x",
         "y": [
          7264000,
          4686500
         ],
         "yaxis": "y"
        },
        {
         "hovertemplate": "<b>%{hovertext}</b><br><br>Personality=Smug<br>Poll_Results=%{marker.size}<br>Total_Google_Searches=%{y}<br>Name=%{text}<extra></extra>",
         "hovertext": [
          "Marshal",
          "Raymond"
         ],
         "legendgroup": "Smug",
         "marker": {
          "color": "#19D3F3",
          "size": [
           29787,
           27778
          ],
          "sizemode": "area",
          "sizeref": 8.274166666666666,
          "symbol": "circle"
         },
         "mode": "markers+text",
         "name": "Smug",
         "orientation": "v",
         "showlegend": true,
         "text": [
          "Marshal",
          "Raymond"
         ],
         "textfont": {
          "size": 19
         },
         "textposition": "bottom center",
         "type": "scatter",
         "x": [
          29787,
          27778
         ],
         "xaxis": "x",
         "y": [
          1136850,
          4906350
         ],
         "yaxis": "y"
        },
        {
         "hovertemplate": "<b>%{hovertext}</b><br><br>Personality=Jock<br>Poll_Results=%{marker.size}<br>Total_Google_Searches=%{y}<br>Name=%{text}<extra></extra>",
         "hovertext": [
          "Rod",
          "Drift"
         ],
         "legendgroup": "Jock",
         "marker": {
          "color": "#FF6692",
          "size": [
           604,
           525
          ],
          "sizemode": "area",
          "sizeref": 8.274166666666666,
          "symbol": "circle"
         },
         "mode": "markers+text",
         "name": "Jock",
         "orientation": "v",
         "showlegend": true,
         "text": [
          "Rod",
          "Drift"
         ],
         "textfont": {
          "size": 19
         },
         "textposition": "bottom center",
         "type": "scatter",
         "x": [
          604,
          525
         ],
         "xaxis": "x",
         "y": [
          5076030,
          6695950
         ],
         "yaxis": "y"
        }
       ],
       "layout": {
        "autosize": false,
        "font": {
         "family": "Helvetica",
         "size": 20
        },
        "height": 700,
        "legend": {
         "itemsizing": "constant",
         "title": {
          "text": "Personality"
         },
         "tracegroupgap": 0
        },
        "margin": {
         "t": 60
        },
        "plot_bgcolor": "white",
        "template": {
         "data": {
          "bar": [
           {
            "error_x": {
             "color": "#2a3f5f"
            },
            "error_y": {
             "color": "#2a3f5f"
            },
            "marker": {
             "line": {
              "color": "#E5ECF6",
              "width": 0.5
             },
             "pattern": {
              "fillmode": "overlay",
              "size": 10,
              "solidity": 0.2
             }
            },
            "type": "bar"
           }
          ],
          "barpolar": [
           {
            "marker": {
             "line": {
              "color": "#E5ECF6",
              "width": 0.5
             },
             "pattern": {
              "fillmode": "overlay",
              "size": 10,
              "solidity": 0.2
             }
            },
            "type": "barpolar"
           }
          ],
          "carpet": [
           {
            "aaxis": {
             "endlinecolor": "#2a3f5f",
             "gridcolor": "white",
             "linecolor": "white",
             "minorgridcolor": "white",
             "startlinecolor": "#2a3f5f"
            },
            "baxis": {
             "endlinecolor": "#2a3f5f",
             "gridcolor": "white",
             "linecolor": "white",
             "minorgridcolor": "white",
             "startlinecolor": "#2a3f5f"
            },
            "type": "carpet"
           }
          ],
          "choropleth": [
           {
            "colorbar": {
             "outlinewidth": 0,
             "ticks": ""
            },
            "type": "choropleth"
           }
          ],
          "contour": [
           {
            "colorbar": {
             "outlinewidth": 0,
             "ticks": ""
            },
            "colorscale": [
             [
              0,
              "#0d0887"
             ],
             [
              0.1111111111111111,
              "#46039f"
             ],
             [
              0.2222222222222222,
              "#7201a8"
             ],
             [
              0.3333333333333333,
              "#9c179e"
             ],
             [
              0.4444444444444444,
              "#bd3786"
             ],
             [
              0.5555555555555556,
              "#d8576b"
             ],
             [
              0.6666666666666666,
              "#ed7953"
             ],
             [
              0.7777777777777778,
              "#fb9f3a"
             ],
             [
              0.8888888888888888,
              "#fdca26"
             ],
             [
              1,
              "#f0f921"
             ]
            ],
            "type": "contour"
           }
          ],
          "contourcarpet": [
           {
            "colorbar": {
             "outlinewidth": 0,
             "ticks": ""
            },
            "type": "contourcarpet"
           }
          ],
          "heatmap": [
           {
            "colorbar": {
             "outlinewidth": 0,
             "ticks": ""
            },
            "colorscale": [
             [
              0,
              "#0d0887"
             ],
             [
              0.1111111111111111,
              "#46039f"
             ],
             [
              0.2222222222222222,
              "#7201a8"
             ],
             [
              0.3333333333333333,
              "#9c179e"
             ],
             [
              0.4444444444444444,
              "#bd3786"
             ],
             [
              0.5555555555555556,
              "#d8576b"
             ],
             [
              0.6666666666666666,
              "#ed7953"
             ],
             [
              0.7777777777777778,
              "#fb9f3a"
             ],
             [
              0.8888888888888888,
              "#fdca26"
             ],
             [
              1,
              "#f0f921"
             ]
            ],
            "type": "heatmap"
           }
          ],
          "heatmapgl": [
           {
            "colorbar": {
             "outlinewidth": 0,
             "ticks": ""
            },
            "colorscale": [
             [
              0,
              "#0d0887"
             ],
             [
              0.1111111111111111,
              "#46039f"
             ],
             [
              0.2222222222222222,
              "#7201a8"
             ],
             [
              0.3333333333333333,
              "#9c179e"
             ],
             [
              0.4444444444444444,
              "#bd3786"
             ],
             [
              0.5555555555555556,
              "#d8576b"
             ],
             [
              0.6666666666666666,
              "#ed7953"
             ],
             [
              0.7777777777777778,
              "#fb9f3a"
             ],
             [
              0.8888888888888888,
              "#fdca26"
             ],
             [
              1,
              "#f0f921"
             ]
            ],
            "type": "heatmapgl"
           }
          ],
          "histogram": [
           {
            "marker": {
             "pattern": {
              "fillmode": "overlay",
              "size": 10,
              "solidity": 0.2
             }
            },
            "type": "histogram"
           }
          ],
          "histogram2d": [
           {
            "colorbar": {
             "outlinewidth": 0,
             "ticks": ""
            },
            "colorscale": [
             [
              0,
              "#0d0887"
             ],
             [
              0.1111111111111111,
              "#46039f"
             ],
             [
              0.2222222222222222,
              "#7201a8"
             ],
             [
              0.3333333333333333,
              "#9c179e"
             ],
             [
              0.4444444444444444,
              "#bd3786"
             ],
             [
              0.5555555555555556,
              "#d8576b"
             ],
             [
              0.6666666666666666,
              "#ed7953"
             ],
             [
              0.7777777777777778,
              "#fb9f3a"
             ],
             [
              0.8888888888888888,
              "#fdca26"
             ],
             [
              1,
              "#f0f921"
             ]
            ],
            "type": "histogram2d"
           }
          ],
          "histogram2dcontour": [
           {
            "colorbar": {
             "outlinewidth": 0,
             "ticks": ""
            },
            "colorscale": [
             [
              0,
              "#0d0887"
             ],
             [
              0.1111111111111111,
              "#46039f"
             ],
             [
              0.2222222222222222,
              "#7201a8"
             ],
             [
              0.3333333333333333,
              "#9c179e"
             ],
             [
              0.4444444444444444,
              "#bd3786"
             ],
             [
              0.5555555555555556,
              "#d8576b"
             ],
             [
              0.6666666666666666,
              "#ed7953"
             ],
             [
              0.7777777777777778,
              "#fb9f3a"
             ],
             [
              0.8888888888888888,
              "#fdca26"
             ],
             [
              1,
              "#f0f921"
             ]
            ],
            "type": "histogram2dcontour"
           }
          ],
          "mesh3d": [
           {
            "colorbar": {
             "outlinewidth": 0,
             "ticks": ""
            },
            "type": "mesh3d"
           }
          ],
          "parcoords": [
           {
            "line": {
             "colorbar": {
              "outlinewidth": 0,
              "ticks": ""
             }
            },
            "type": "parcoords"
           }
          ],
          "pie": [
           {
            "automargin": true,
            "type": "pie"
           }
          ],
          "scatter": [
           {
            "marker": {
             "colorbar": {
              "outlinewidth": 0,
              "ticks": ""
             }
            },
            "type": "scatter"
           }
          ],
          "scatter3d": [
           {
            "line": {
             "colorbar": {
              "outlinewidth": 0,
              "ticks": ""
             }
            },
            "marker": {
             "colorbar": {
              "outlinewidth": 0,
              "ticks": ""
             }
            },
            "type": "scatter3d"
           }
          ],
          "scattercarpet": [
           {
            "marker": {
             "colorbar": {
              "outlinewidth": 0,
              "ticks": ""
             }
            },
            "type": "scattercarpet"
           }
          ],
          "scattergeo": [
           {
            "marker": {
             "colorbar": {
              "outlinewidth": 0,
              "ticks": ""
             }
            },
            "type": "scattergeo"
           }
          ],
          "scattergl": [
           {
            "marker": {
             "colorbar": {
              "outlinewidth": 0,
              "ticks": ""
             }
            },
            "type": "scattergl"
           }
          ],
          "scattermapbox": [
           {
            "marker": {
             "colorbar": {
              "outlinewidth": 0,
              "ticks": ""
             }
            },
            "type": "scattermapbox"
           }
          ],
          "scatterpolar": [
           {
            "marker": {
             "colorbar": {
              "outlinewidth": 0,
              "ticks": ""
             }
            },
            "type": "scatterpolar"
           }
          ],
          "scatterpolargl": [
           {
            "marker": {
             "colorbar": {
              "outlinewidth": 0,
              "ticks": ""
             }
            },
            "type": "scatterpolargl"
           }
          ],
          "scatterternary": [
           {
            "marker": {
             "colorbar": {
              "outlinewidth": 0,
              "ticks": ""
             }
            },
            "type": "scatterternary"
           }
          ],
          "surface": [
           {
            "colorbar": {
             "outlinewidth": 0,
             "ticks": ""
            },
            "colorscale": [
             [
              0,
              "#0d0887"
             ],
             [
              0.1111111111111111,
              "#46039f"
             ],
             [
              0.2222222222222222,
              "#7201a8"
             ],
             [
              0.3333333333333333,
              "#9c179e"
             ],
             [
              0.4444444444444444,
              "#bd3786"
             ],
             [
              0.5555555555555556,
              "#d8576b"
             ],
             [
              0.6666666666666666,
              "#ed7953"
             ],
             [
              0.7777777777777778,
              "#fb9f3a"
             ],
             [
              0.8888888888888888,
              "#fdca26"
             ],
             [
              1,
              "#f0f921"
             ]
            ],
            "type": "surface"
           }
          ],
          "table": [
           {
            "cells": {
             "fill": {
              "color": "#EBF0F8"
             },
             "line": {
              "color": "white"
             }
            },
            "header": {
             "fill": {
              "color": "#C8D4E3"
             },
             "line": {
              "color": "white"
             }
            },
            "type": "table"
           }
          ]
         },
         "layout": {
          "annotationdefaults": {
           "arrowcolor": "#2a3f5f",
           "arrowhead": 0,
           "arrowwidth": 1
          },
          "autotypenumbers": "strict",
          "coloraxis": {
           "colorbar": {
            "outlinewidth": 0,
            "ticks": ""
           }
          },
          "colorscale": {
           "diverging": [
            [
             0,
             "#8e0152"
            ],
            [
             0.1,
             "#c51b7d"
            ],
            [
             0.2,
             "#de77ae"
            ],
            [
             0.3,
             "#f1b6da"
            ],
            [
             0.4,
             "#fde0ef"
            ],
            [
             0.5,
             "#f7f7f7"
            ],
            [
             0.6,
             "#e6f5d0"
            ],
            [
             0.7,
             "#b8e186"
            ],
            [
             0.8,
             "#7fbc41"
            ],
            [
             0.9,
             "#4d9221"
            ],
            [
             1,
             "#276419"
            ]
           ],
           "sequential": [
            [
             0,
             "#0d0887"
            ],
            [
             0.1111111111111111,
             "#46039f"
            ],
            [
             0.2222222222222222,
             "#7201a8"
            ],
            [
             0.3333333333333333,
             "#9c179e"
            ],
            [
             0.4444444444444444,
             "#bd3786"
            ],
            [
             0.5555555555555556,
             "#d8576b"
            ],
            [
             0.6666666666666666,
             "#ed7953"
            ],
            [
             0.7777777777777778,
             "#fb9f3a"
            ],
            [
             0.8888888888888888,
             "#fdca26"
            ],
            [
             1,
             "#f0f921"
            ]
           ],
           "sequentialminus": [
            [
             0,
             "#0d0887"
            ],
            [
             0.1111111111111111,
             "#46039f"
            ],
            [
             0.2222222222222222,
             "#7201a8"
            ],
            [
             0.3333333333333333,
             "#9c179e"
            ],
            [
             0.4444444444444444,
             "#bd3786"
            ],
            [
             0.5555555555555556,
             "#d8576b"
            ],
            [
             0.6666666666666666,
             "#ed7953"
            ],
            [
             0.7777777777777778,
             "#fb9f3a"
            ],
            [
             0.8888888888888888,
             "#fdca26"
            ],
            [
             1,
             "#f0f921"
            ]
           ]
          },
          "colorway": [
           "#636efa",
           "#EF553B",
           "#00cc96",
           "#ab63fa",
           "#FFA15A",
           "#19d3f3",
           "#FF6692",
           "#B6E880",
           "#FF97FF",
           "#FECB52"
          ],
          "font": {
           "color": "#2a3f5f"
          },
          "geo": {
           "bgcolor": "white",
           "lakecolor": "white",
           "landcolor": "#E5ECF6",
           "showlakes": true,
           "showland": true,
           "subunitcolor": "white"
          },
          "hoverlabel": {
           "align": "left"
          },
          "hovermode": "closest",
          "mapbox": {
           "style": "light"
          },
          "paper_bgcolor": "white",
          "plot_bgcolor": "#E5ECF6",
          "polar": {
           "angularaxis": {
            "gridcolor": "white",
            "linecolor": "white",
            "ticks": ""
           },
           "bgcolor": "#E5ECF6",
           "radialaxis": {
            "gridcolor": "white",
            "linecolor": "white",
            "ticks": ""
           }
          },
          "scene": {
           "xaxis": {
            "backgroundcolor": "#E5ECF6",
            "gridcolor": "white",
            "gridwidth": 2,
            "linecolor": "white",
            "showbackground": true,
            "ticks": "",
            "zerolinecolor": "white"
           },
           "yaxis": {
            "backgroundcolor": "#E5ECF6",
            "gridcolor": "white",
            "gridwidth": 2,
            "linecolor": "white",
            "showbackground": true,
            "ticks": "",
            "zerolinecolor": "white"
           },
           "zaxis": {
            "backgroundcolor": "#E5ECF6",
            "gridcolor": "white",
            "gridwidth": 2,
            "linecolor": "white",
            "showbackground": true,
            "ticks": "",
            "zerolinecolor": "white"
           }
          },
          "shapedefaults": {
           "line": {
            "color": "#2a3f5f"
           }
          },
          "ternary": {
           "aaxis": {
            "gridcolor": "white",
            "linecolor": "white",
            "ticks": ""
           },
           "baxis": {
            "gridcolor": "white",
            "linecolor": "white",
            "ticks": ""
           },
           "bgcolor": "#E5ECF6",
           "caxis": {
            "gridcolor": "white",
            "linecolor": "white",
            "ticks": ""
           }
          },
          "title": {
           "x": 0.05
          },
          "xaxis": {
           "automargin": true,
           "gridcolor": "white",
           "linecolor": "white",
           "ticks": "",
           "title": {
            "standoff": 15
           },
           "zerolinecolor": "white",
           "zerolinewidth": 2
          },
          "yaxis": {
           "automargin": true,
           "gridcolor": "white",
           "linecolor": "white",
           "ticks": "",
           "title": {
            "standoff": 15
           },
           "zerolinecolor": "white",
           "zerolinewidth": 2
          }
         }
        },
        "title": {
         "text": "Top 10 Villagers by Google Searches vs ACNH Polls",
         "x": 0.5,
         "y": 0.95
        },
        "width": 980,
        "xaxis": {
         "anchor": "y",
         "domain": [
          0,
          1
         ],
         "linecolor": "black",
         "linewidth": 1.5,
         "showgrid": false,
         "showline": true,
         "tickfont": {
          "size": 18
         },
         "ticks": "outside",
         "title": {
          "text": "Poll_Results"
         }
        },
        "yaxis": {
         "anchor": "x",
         "domain": [
          0,
          1
         ],
         "linecolor": "black",
         "linewidth": 1.5,
         "showgrid": false,
         "showline": true,
         "tickfont": {
          "size": 18
         },
         "ticks": "outside",
         "title": {
          "text": "Total_Google_Searches"
         }
        }
       }
      }
     },
     "metadata": {},
     "output_type": "display_data"
    }
   ],
   "source": [
    "fig3 = px.scatter(final_overallpop_df, x=\"Poll_Results\", y=\"Total_Google_Searches\",size='Poll_Results', color=\"Personality\",hover_name=\"Name\",size_max=60,text='Name',\n",
    "                  color_discrete_sequence=px.colors.qualitative.Plotly)\n",
    "fig3.update_traces(textposition='bottom center',textfont_size=19)\n",
    "fig3.update_layout(font=dict(size=20),height=700,width=980,autosize=False,font_family=\"Helvetica\",plot_bgcolor='white')\n",
    "fig3.update_xaxes(showgrid=False,showline=True, tickfont_size=18,ticks='outside',linecolor=\"black\",linewidth=1.5)\n",
    "fig3.update_yaxes(showgrid=False,showline=True, tickfont_size=18,ticks='outside',linecolor=\"black\",linewidth=1.5)\n",
    "fig3.update_layout(\n",
    "    title={\n",
    "        'text': \"Top 10 Villagers by Google Searches vs ACNH Polls\",\n",
    "        'y':0.95,\n",
    "        'x':0.5})\n",
    "fig3.show()"
   ]
  },
  {
   "cell_type": "code",
   "execution_count": 184,
   "id": "5df6d76b",
   "metadata": {},
   "outputs": [
    {
     "data": {
      "application/vnd.plotly.v1+json": {
       "config": {
        "plotlyServerURL": "https://plot.ly"
       },
       "data": [
        {
         "hovertemplate": "<b>%{hovertext}</b><br><br>Species=Octopus<br>Poll_Results=%{marker.size}<br>Total_Google_Searches=%{y}<br>Name=%{text}<extra></extra>",
         "hovertext": [
          "Zucker",
          "Marina"
         ],
         "legendgroup": "Octopus",
         "marker": {
          "color": "#636EFA",
          "size": [
           17442,
           13129
          ],
          "sizemode": "area",
          "sizeref": 8.274166666666666,
          "symbol": "circle"
         },
         "mode": "markers+text",
         "name": "Octopus",
         "orientation": "v",
         "showlegend": true,
         "text": [
          "Zucker",
          "Marina"
         ],
         "textfont": {
          "size": 19
         },
         "textposition": "bottom center",
         "type": "scatter",
         "x": [
          17442,
          13129
         ],
         "xaxis": "x",
         "y": [
          2512500,
          3050500
         ],
         "yaxis": "y"
        },
        {
         "hovertemplate": "<b>%{hovertext}</b><br><br>Species=Wolf<br>Poll_Results=%{marker.size}<br>Total_Google_Searches=%{y}<br>Name=%{text}<extra></extra>",
         "hovertext": [
          "Audie"
         ],
         "legendgroup": "Wolf",
         "marker": {
          "color": "#EF553B",
          "size": [
           11842
          ],
          "sizemode": "area",
          "sizeref": 8.274166666666666,
          "symbol": "circle"
         },
         "mode": "markers+text",
         "name": "Wolf",
         "orientation": "v",
         "showlegend": true,
         "text": [
          "Audie"
         ],
         "textfont": {
          "size": 19
         },
         "textposition": "bottom center",
         "type": "scatter",
         "x": [
          11842
         ],
         "xaxis": "x",
         "y": [
          4911350
         ],
         "yaxis": "y"
        },
        {
         "hovertemplate": "<b>%{hovertext}</b><br><br>Species=Gorilla<br>Poll_Results=%{marker.size}<br>Total_Google_Searches=%{y}<br>Name=%{text}<extra></extra>",
         "hovertext": [
          "Rocket"
         ],
         "legendgroup": "Gorilla",
         "marker": {
          "color": "#00CC96",
          "size": [
           329
          ],
          "sizemode": "area",
          "sizeref": 8.274166666666666,
          "symbol": "circle"
         },
         "mode": "markers+text",
         "name": "Gorilla",
         "orientation": "v",
         "showlegend": true,
         "text": [
          "Rocket"
         ],
         "textfont": {
          "size": 19
         },
         "textposition": "bottom center",
         "type": "scatter",
         "x": [
          329
         ],
         "xaxis": "x",
         "y": [
          6068350
         ],
         "yaxis": "y"
        },
        {
         "hovertemplate": "<b>%{hovertext}</b><br><br>Species=Cat<br>Poll_Results=%{marker.size}<br>Total_Google_Searches=%{y}<br>Name=%{text}<extra></extra>",
         "hovertext": [
          "Ankha",
          "Raymond"
         ],
         "legendgroup": "Cat",
         "marker": {
          "color": "#AB63FA",
          "size": [
           13038,
           27778
          ],
          "sizemode": "area",
          "sizeref": 8.274166666666666,
          "symbol": "circle"
         },
         "mode": "markers+text",
         "name": "Cat",
         "orientation": "v",
         "showlegend": true,
         "text": [
          "Ankha",
          "Raymond"
         ],
         "textfont": {
          "size": 19
         },
         "textposition": "bottom center",
         "type": "scatter",
         "x": [
          13038,
          27778
         ],
         "xaxis": "x",
         "y": [
          7264000,
          4906350
         ],
         "yaxis": "y"
        },
        {
         "hovertemplate": "<b>%{hovertext}</b><br><br>Species=Goat<br>Poll_Results=%{marker.size}<br>Total_Google_Searches=%{y}<br>Name=%{text}<extra></extra>",
         "hovertext": [
          "Sherb"
         ],
         "legendgroup": "Goat",
         "marker": {
          "color": "#FFA15A",
          "size": [
           19883
          ],
          "sizemode": "area",
          "sizeref": 8.274166666666666,
          "symbol": "circle"
         },
         "mode": "markers+text",
         "name": "Goat",
         "orientation": "v",
         "showlegend": true,
         "text": [
          "Sherb"
         ],
         "textfont": {
          "size": 19
         },
         "textposition": "bottom center",
         "type": "scatter",
         "x": [
          19883
         ],
         "xaxis": "x",
         "y": [
          5608850
         ],
         "yaxis": "y"
        },
        {
         "hovertemplate": "<b>%{hovertext}</b><br><br>Species=Cub<br>Poll_Results=%{marker.size}<br>Total_Google_Searches=%{y}<br>Name=%{text}<extra></extra>",
         "hovertext": [
          "Judy",
          "Stitches",
          "Olive"
         ],
         "legendgroup": "Cub",
         "marker": {
          "color": "#19D3F3",
          "size": [
           14741,
           12548,
           751
          ],
          "sizemode": "area",
          "sizeref": 8.274166666666666,
          "symbol": "circle"
         },
         "mode": "markers+text",
         "name": "Cub",
         "orientation": "v",
         "showlegend": true,
         "text": [
          "Judy",
          "Stitches",
          "Olive"
         ],
         "textfont": {
          "size": 19
         },
         "textposition": "bottom center",
         "type": "scatter",
         "x": [
          14741,
          12548,
          751
         ],
         "xaxis": "x",
         "y": [
          4686500,
          1597500,
          12937100
         ],
         "yaxis": "y"
        },
        {
         "hovertemplate": "<b>%{hovertext}</b><br><br>Species=Hamster<br>Poll_Results=%{marker.size}<br>Total_Google_Searches=%{y}<br>Name=%{text}<extra></extra>",
         "hovertext": [
          "Clay"
         ],
         "legendgroup": "Hamster",
         "marker": {
          "color": "#FF6692",
          "size": [
           3425
          ],
          "sizemode": "area",
          "sizeref": 8.274166666666666,
          "symbol": "circle"
         },
         "mode": "markers+text",
         "name": "Hamster",
         "orientation": "v",
         "showlegend": true,
         "text": [
          "Clay"
         ],
         "textfont": {
          "size": 19
         },
         "textposition": "bottom center",
         "type": "scatter",
         "x": [
          3425
         ],
         "xaxis": "x",
         "y": [
          19218150
         ],
         "yaxis": "y"
        },
        {
         "hovertemplate": "<b>%{hovertext}</b><br><br>Species=Hippo<br>Poll_Results=%{marker.size}<br>Total_Google_Searches=%{y}<br>Name=%{text}<extra></extra>",
         "hovertext": [
          "Bubbles"
         ],
         "legendgroup": "Hippo",
         "marker": {
          "color": "#B6E880",
          "size": [
           610
          ],
          "sizemode": "area",
          "sizeref": 8.274166666666666,
          "symbol": "circle"
         },
         "mode": "markers+text",
         "name": "Hippo",
         "orientation": "v",
         "showlegend": true,
         "text": [
          "Bubbles"
         ],
         "textfont": {
          "size": 19
         },
         "textposition": "bottom center",
         "type": "scatter",
         "x": [
          610
         ],
         "xaxis": "x",
         "y": [
          6042620
         ],
         "yaxis": "y"
        },
        {
         "hovertemplate": "<b>%{hovertext}</b><br><br>Species=Squirrel<br>Poll_Results=%{marker.size}<br>Total_Google_Searches=%{y}<br>Name=%{text}<extra></extra>",
         "hovertext": [
          "Marshal"
         ],
         "legendgroup": "Squirrel",
         "marker": {
          "color": "#FF97FF",
          "size": [
           29787
          ],
          "sizemode": "area",
          "sizeref": 8.274166666666666,
          "symbol": "circle"
         },
         "mode": "markers+text",
         "name": "Squirrel",
         "orientation": "v",
         "showlegend": true,
         "text": [
          "Marshal"
         ],
         "textfont": {
          "size": 19
         },
         "textposition": "bottom center",
         "type": "scatter",
         "x": [
          29787
         ],
         "xaxis": "x",
         "y": [
          1136850
         ],
         "yaxis": "y"
        },
        {
         "hovertemplate": "<b>%{hovertext}</b><br><br>Species=Deer<br>Poll_Results=%{marker.size}<br>Total_Google_Searches=%{y}<br>Name=%{text}<extra></extra>",
         "hovertext": [
          "Fauna"
         ],
         "legendgroup": "Deer",
         "marker": {
          "color": "#FECB52",
          "size": [
           11628
          ],
          "sizemode": "area",
          "sizeref": 8.274166666666666,
          "symbol": "circle"
         },
         "mode": "markers+text",
         "name": "Deer",
         "orientation": "v",
         "showlegend": true,
         "text": [
          "Fauna"
         ],
         "textfont": {
          "size": 19
         },
         "textposition": "bottom center",
         "type": "scatter",
         "x": [
          11628
         ],
         "xaxis": "x",
         "y": [
          2421950
         ],
         "yaxis": "y"
        },
        {
         "hovertemplate": "<b>%{hovertext}</b><br><br>Species=Mouse<br>Poll_Results=%{marker.size}<br>Total_Google_Searches=%{y}<br>Name=%{text}<extra></extra>",
         "hovertext": [
          "Rod"
         ],
         "legendgroup": "Mouse",
         "marker": {
          "color": "#636EFA",
          "size": [
           604
          ],
          "sizemode": "area",
          "sizeref": 8.274166666666666,
          "symbol": "circle"
         },
         "mode": "markers+text",
         "name": "Mouse",
         "orientation": "v",
         "showlegend": true,
         "text": [
          "Rod"
         ],
         "textfont": {
          "size": 19
         },
         "textposition": "bottom center",
         "type": "scatter",
         "x": [
          604
         ],
         "xaxis": "x",
         "y": [
          5076030
         ],
         "yaxis": "y"
        },
        {
         "hovertemplate": "<b>%{hovertext}</b><br><br>Species=Frog<br>Poll_Results=%{marker.size}<br>Total_Google_Searches=%{y}<br>Name=%{text}<extra></extra>",
         "hovertext": [
          "Drift"
         ],
         "legendgroup": "Frog",
         "marker": {
          "color": "#EF553B",
          "size": [
           525
          ],
          "sizemode": "area",
          "sizeref": 8.274166666666666,
          "symbol": "circle"
         },
         "mode": "markers+text",
         "name": "Frog",
         "orientation": "v",
         "showlegend": true,
         "text": [
          "Drift"
         ],
         "textfont": {
          "size": 19
         },
         "textposition": "bottom center",
         "type": "scatter",
         "x": [
          525
         ],
         "xaxis": "x",
         "y": [
          6695950
         ],
         "yaxis": "y"
        }
       ],
       "layout": {
        "autosize": false,
        "font": {
         "family": "Helvetica",
         "size": 20
        },
        "height": 700,
        "legend": {
         "itemsizing": "constant",
         "title": {
          "text": "Species"
         },
         "tracegroupgap": 0
        },
        "margin": {
         "t": 60
        },
        "plot_bgcolor": "white",
        "template": {
         "data": {
          "bar": [
           {
            "error_x": {
             "color": "#2a3f5f"
            },
            "error_y": {
             "color": "#2a3f5f"
            },
            "marker": {
             "line": {
              "color": "#E5ECF6",
              "width": 0.5
             },
             "pattern": {
              "fillmode": "overlay",
              "size": 10,
              "solidity": 0.2
             }
            },
            "type": "bar"
           }
          ],
          "barpolar": [
           {
            "marker": {
             "line": {
              "color": "#E5ECF6",
              "width": 0.5
             },
             "pattern": {
              "fillmode": "overlay",
              "size": 10,
              "solidity": 0.2
             }
            },
            "type": "barpolar"
           }
          ],
          "carpet": [
           {
            "aaxis": {
             "endlinecolor": "#2a3f5f",
             "gridcolor": "white",
             "linecolor": "white",
             "minorgridcolor": "white",
             "startlinecolor": "#2a3f5f"
            },
            "baxis": {
             "endlinecolor": "#2a3f5f",
             "gridcolor": "white",
             "linecolor": "white",
             "minorgridcolor": "white",
             "startlinecolor": "#2a3f5f"
            },
            "type": "carpet"
           }
          ],
          "choropleth": [
           {
            "colorbar": {
             "outlinewidth": 0,
             "ticks": ""
            },
            "type": "choropleth"
           }
          ],
          "contour": [
           {
            "colorbar": {
             "outlinewidth": 0,
             "ticks": ""
            },
            "colorscale": [
             [
              0,
              "#0d0887"
             ],
             [
              0.1111111111111111,
              "#46039f"
             ],
             [
              0.2222222222222222,
              "#7201a8"
             ],
             [
              0.3333333333333333,
              "#9c179e"
             ],
             [
              0.4444444444444444,
              "#bd3786"
             ],
             [
              0.5555555555555556,
              "#d8576b"
             ],
             [
              0.6666666666666666,
              "#ed7953"
             ],
             [
              0.7777777777777778,
              "#fb9f3a"
             ],
             [
              0.8888888888888888,
              "#fdca26"
             ],
             [
              1,
              "#f0f921"
             ]
            ],
            "type": "contour"
           }
          ],
          "contourcarpet": [
           {
            "colorbar": {
             "outlinewidth": 0,
             "ticks": ""
            },
            "type": "contourcarpet"
           }
          ],
          "heatmap": [
           {
            "colorbar": {
             "outlinewidth": 0,
             "ticks": ""
            },
            "colorscale": [
             [
              0,
              "#0d0887"
             ],
             [
              0.1111111111111111,
              "#46039f"
             ],
             [
              0.2222222222222222,
              "#7201a8"
             ],
             [
              0.3333333333333333,
              "#9c179e"
             ],
             [
              0.4444444444444444,
              "#bd3786"
             ],
             [
              0.5555555555555556,
              "#d8576b"
             ],
             [
              0.6666666666666666,
              "#ed7953"
             ],
             [
              0.7777777777777778,
              "#fb9f3a"
             ],
             [
              0.8888888888888888,
              "#fdca26"
             ],
             [
              1,
              "#f0f921"
             ]
            ],
            "type": "heatmap"
           }
          ],
          "heatmapgl": [
           {
            "colorbar": {
             "outlinewidth": 0,
             "ticks": ""
            },
            "colorscale": [
             [
              0,
              "#0d0887"
             ],
             [
              0.1111111111111111,
              "#46039f"
             ],
             [
              0.2222222222222222,
              "#7201a8"
             ],
             [
              0.3333333333333333,
              "#9c179e"
             ],
             [
              0.4444444444444444,
              "#bd3786"
             ],
             [
              0.5555555555555556,
              "#d8576b"
             ],
             [
              0.6666666666666666,
              "#ed7953"
             ],
             [
              0.7777777777777778,
              "#fb9f3a"
             ],
             [
              0.8888888888888888,
              "#fdca26"
             ],
             [
              1,
              "#f0f921"
             ]
            ],
            "type": "heatmapgl"
           }
          ],
          "histogram": [
           {
            "marker": {
             "pattern": {
              "fillmode": "overlay",
              "size": 10,
              "solidity": 0.2
             }
            },
            "type": "histogram"
           }
          ],
          "histogram2d": [
           {
            "colorbar": {
             "outlinewidth": 0,
             "ticks": ""
            },
            "colorscale": [
             [
              0,
              "#0d0887"
             ],
             [
              0.1111111111111111,
              "#46039f"
             ],
             [
              0.2222222222222222,
              "#7201a8"
             ],
             [
              0.3333333333333333,
              "#9c179e"
             ],
             [
              0.4444444444444444,
              "#bd3786"
             ],
             [
              0.5555555555555556,
              "#d8576b"
             ],
             [
              0.6666666666666666,
              "#ed7953"
             ],
             [
              0.7777777777777778,
              "#fb9f3a"
             ],
             [
              0.8888888888888888,
              "#fdca26"
             ],
             [
              1,
              "#f0f921"
             ]
            ],
            "type": "histogram2d"
           }
          ],
          "histogram2dcontour": [
           {
            "colorbar": {
             "outlinewidth": 0,
             "ticks": ""
            },
            "colorscale": [
             [
              0,
              "#0d0887"
             ],
             [
              0.1111111111111111,
              "#46039f"
             ],
             [
              0.2222222222222222,
              "#7201a8"
             ],
             [
              0.3333333333333333,
              "#9c179e"
             ],
             [
              0.4444444444444444,
              "#bd3786"
             ],
             [
              0.5555555555555556,
              "#d8576b"
             ],
             [
              0.6666666666666666,
              "#ed7953"
             ],
             [
              0.7777777777777778,
              "#fb9f3a"
             ],
             [
              0.8888888888888888,
              "#fdca26"
             ],
             [
              1,
              "#f0f921"
             ]
            ],
            "type": "histogram2dcontour"
           }
          ],
          "mesh3d": [
           {
            "colorbar": {
             "outlinewidth": 0,
             "ticks": ""
            },
            "type": "mesh3d"
           }
          ],
          "parcoords": [
           {
            "line": {
             "colorbar": {
              "outlinewidth": 0,
              "ticks": ""
             }
            },
            "type": "parcoords"
           }
          ],
          "pie": [
           {
            "automargin": true,
            "type": "pie"
           }
          ],
          "scatter": [
           {
            "marker": {
             "colorbar": {
              "outlinewidth": 0,
              "ticks": ""
             }
            },
            "type": "scatter"
           }
          ],
          "scatter3d": [
           {
            "line": {
             "colorbar": {
              "outlinewidth": 0,
              "ticks": ""
             }
            },
            "marker": {
             "colorbar": {
              "outlinewidth": 0,
              "ticks": ""
             }
            },
            "type": "scatter3d"
           }
          ],
          "scattercarpet": [
           {
            "marker": {
             "colorbar": {
              "outlinewidth": 0,
              "ticks": ""
             }
            },
            "type": "scattercarpet"
           }
          ],
          "scattergeo": [
           {
            "marker": {
             "colorbar": {
              "outlinewidth": 0,
              "ticks": ""
             }
            },
            "type": "scattergeo"
           }
          ],
          "scattergl": [
           {
            "marker": {
             "colorbar": {
              "outlinewidth": 0,
              "ticks": ""
             }
            },
            "type": "scattergl"
           }
          ],
          "scattermapbox": [
           {
            "marker": {
             "colorbar": {
              "outlinewidth": 0,
              "ticks": ""
             }
            },
            "type": "scattermapbox"
           }
          ],
          "scatterpolar": [
           {
            "marker": {
             "colorbar": {
              "outlinewidth": 0,
              "ticks": ""
             }
            },
            "type": "scatterpolar"
           }
          ],
          "scatterpolargl": [
           {
            "marker": {
             "colorbar": {
              "outlinewidth": 0,
              "ticks": ""
             }
            },
            "type": "scatterpolargl"
           }
          ],
          "scatterternary": [
           {
            "marker": {
             "colorbar": {
              "outlinewidth": 0,
              "ticks": ""
             }
            },
            "type": "scatterternary"
           }
          ],
          "surface": [
           {
            "colorbar": {
             "outlinewidth": 0,
             "ticks": ""
            },
            "colorscale": [
             [
              0,
              "#0d0887"
             ],
             [
              0.1111111111111111,
              "#46039f"
             ],
             [
              0.2222222222222222,
              "#7201a8"
             ],
             [
              0.3333333333333333,
              "#9c179e"
             ],
             [
              0.4444444444444444,
              "#bd3786"
             ],
             [
              0.5555555555555556,
              "#d8576b"
             ],
             [
              0.6666666666666666,
              "#ed7953"
             ],
             [
              0.7777777777777778,
              "#fb9f3a"
             ],
             [
              0.8888888888888888,
              "#fdca26"
             ],
             [
              1,
              "#f0f921"
             ]
            ],
            "type": "surface"
           }
          ],
          "table": [
           {
            "cells": {
             "fill": {
              "color": "#EBF0F8"
             },
             "line": {
              "color": "white"
             }
            },
            "header": {
             "fill": {
              "color": "#C8D4E3"
             },
             "line": {
              "color": "white"
             }
            },
            "type": "table"
           }
          ]
         },
         "layout": {
          "annotationdefaults": {
           "arrowcolor": "#2a3f5f",
           "arrowhead": 0,
           "arrowwidth": 1
          },
          "autotypenumbers": "strict",
          "coloraxis": {
           "colorbar": {
            "outlinewidth": 0,
            "ticks": ""
           }
          },
          "colorscale": {
           "diverging": [
            [
             0,
             "#8e0152"
            ],
            [
             0.1,
             "#c51b7d"
            ],
            [
             0.2,
             "#de77ae"
            ],
            [
             0.3,
             "#f1b6da"
            ],
            [
             0.4,
             "#fde0ef"
            ],
            [
             0.5,
             "#f7f7f7"
            ],
            [
             0.6,
             "#e6f5d0"
            ],
            [
             0.7,
             "#b8e186"
            ],
            [
             0.8,
             "#7fbc41"
            ],
            [
             0.9,
             "#4d9221"
            ],
            [
             1,
             "#276419"
            ]
           ],
           "sequential": [
            [
             0,
             "#0d0887"
            ],
            [
             0.1111111111111111,
             "#46039f"
            ],
            [
             0.2222222222222222,
             "#7201a8"
            ],
            [
             0.3333333333333333,
             "#9c179e"
            ],
            [
             0.4444444444444444,
             "#bd3786"
            ],
            [
             0.5555555555555556,
             "#d8576b"
            ],
            [
             0.6666666666666666,
             "#ed7953"
            ],
            [
             0.7777777777777778,
             "#fb9f3a"
            ],
            [
             0.8888888888888888,
             "#fdca26"
            ],
            [
             1,
             "#f0f921"
            ]
           ],
           "sequentialminus": [
            [
             0,
             "#0d0887"
            ],
            [
             0.1111111111111111,
             "#46039f"
            ],
            [
             0.2222222222222222,
             "#7201a8"
            ],
            [
             0.3333333333333333,
             "#9c179e"
            ],
            [
             0.4444444444444444,
             "#bd3786"
            ],
            [
             0.5555555555555556,
             "#d8576b"
            ],
            [
             0.6666666666666666,
             "#ed7953"
            ],
            [
             0.7777777777777778,
             "#fb9f3a"
            ],
            [
             0.8888888888888888,
             "#fdca26"
            ],
            [
             1,
             "#f0f921"
            ]
           ]
          },
          "colorway": [
           "#636efa",
           "#EF553B",
           "#00cc96",
           "#ab63fa",
           "#FFA15A",
           "#19d3f3",
           "#FF6692",
           "#B6E880",
           "#FF97FF",
           "#FECB52"
          ],
          "font": {
           "color": "#2a3f5f"
          },
          "geo": {
           "bgcolor": "white",
           "lakecolor": "white",
           "landcolor": "#E5ECF6",
           "showlakes": true,
           "showland": true,
           "subunitcolor": "white"
          },
          "hoverlabel": {
           "align": "left"
          },
          "hovermode": "closest",
          "mapbox": {
           "style": "light"
          },
          "paper_bgcolor": "white",
          "plot_bgcolor": "#E5ECF6",
          "polar": {
           "angularaxis": {
            "gridcolor": "white",
            "linecolor": "white",
            "ticks": ""
           },
           "bgcolor": "#E5ECF6",
           "radialaxis": {
            "gridcolor": "white",
            "linecolor": "white",
            "ticks": ""
           }
          },
          "scene": {
           "xaxis": {
            "backgroundcolor": "#E5ECF6",
            "gridcolor": "white",
            "gridwidth": 2,
            "linecolor": "white",
            "showbackground": true,
            "ticks": "",
            "zerolinecolor": "white"
           },
           "yaxis": {
            "backgroundcolor": "#E5ECF6",
            "gridcolor": "white",
            "gridwidth": 2,
            "linecolor": "white",
            "showbackground": true,
            "ticks": "",
            "zerolinecolor": "white"
           },
           "zaxis": {
            "backgroundcolor": "#E5ECF6",
            "gridcolor": "white",
            "gridwidth": 2,
            "linecolor": "white",
            "showbackground": true,
            "ticks": "",
            "zerolinecolor": "white"
           }
          },
          "shapedefaults": {
           "line": {
            "color": "#2a3f5f"
           }
          },
          "ternary": {
           "aaxis": {
            "gridcolor": "white",
            "linecolor": "white",
            "ticks": ""
           },
           "baxis": {
            "gridcolor": "white",
            "linecolor": "white",
            "ticks": ""
           },
           "bgcolor": "#E5ECF6",
           "caxis": {
            "gridcolor": "white",
            "linecolor": "white",
            "ticks": ""
           }
          },
          "title": {
           "x": 0.05
          },
          "xaxis": {
           "automargin": true,
           "gridcolor": "white",
           "linecolor": "white",
           "ticks": "",
           "title": {
            "standoff": 15
           },
           "zerolinecolor": "white",
           "zerolinewidth": 2
          },
          "yaxis": {
           "automargin": true,
           "gridcolor": "white",
           "linecolor": "white",
           "ticks": "",
           "title": {
            "standoff": 15
           },
           "zerolinecolor": "white",
           "zerolinewidth": 2
          }
         }
        },
        "title": {
         "text": "Top 10 Villagers by Google Searches vs ACNH Polls",
         "x": 0.5,
         "y": 0.95
        },
        "width": 980,
        "xaxis": {
         "anchor": "y",
         "domain": [
          0,
          1
         ],
         "linecolor": "black",
         "linewidth": 1.5,
         "showgrid": false,
         "showline": true,
         "tickfont": {
          "size": 18
         },
         "ticks": "outside",
         "title": {
          "text": "Poll_Results"
         }
        },
        "yaxis": {
         "anchor": "x",
         "domain": [
          0,
          1
         ],
         "linecolor": "black",
         "linewidth": 1.5,
         "showgrid": false,
         "showline": true,
         "tickfont": {
          "size": 18
         },
         "ticks": "outside",
         "title": {
          "text": "Total_Google_Searches"
         }
        }
       }
      }
     },
     "metadata": {},
     "output_type": "display_data"
    }
   ],
   "source": [
    "fig4 = px.scatter(final_overallpop_df, x=\"Poll_Results\", y=\"Total_Google_Searches\",size='Poll_Results', color=\"Species\",hover_name=\"Name\",size_max=60,text='Name',\n",
    "                  color_discrete_sequence=px.colors.qualitative.Plotly)\n",
    "fig4.update_traces(textposition='bottom center',textfont_size=19)\n",
    "fig4.update_layout(font=dict(size=20),height=700,width=980,autosize=False,font_family=\"Helvetica\",plot_bgcolor='white')\n",
    "fig4.update_xaxes(showgrid=False,showline=True, tickfont_size=18,ticks='outside',linecolor=\"black\",linewidth=1.5)\n",
    "fig4.update_yaxes(showgrid=False,showline=True, tickfont_size=18,ticks='outside',linecolor=\"black\",linewidth=1.5)\n",
    "fig4.update_layout(\n",
    "    title={\n",
    "        'text': \"Top 10 Villagers by Google Searches vs ACNH Polls\",\n",
    "        'y':0.95,\n",
    "        'x':0.5})\n",
    "fig4.show()"
   ]
  },
  {
   "cell_type": "code",
   "execution_count": 202,
   "id": "84d9682f",
   "metadata": {},
   "outputs": [],
   "source": [
    "astro_pers = final_villagers.groupby(['Astrology','Personality'])['Poll_Results'].count().unstack().fillna(0)"
   ]
  },
  {
   "cell_type": "code",
   "execution_count": 203,
   "id": "76b5b725",
   "metadata": {},
   "outputs": [
    {
     "data": {
      "text/html": [
       "<div>\n",
       "<style scoped>\n",
       "    .dataframe tbody tr th:only-of-type {\n",
       "        vertical-align: middle;\n",
       "    }\n",
       "\n",
       "    .dataframe tbody tr th {\n",
       "        vertical-align: top;\n",
       "    }\n",
       "\n",
       "    .dataframe thead th {\n",
       "        text-align: right;\n",
       "    }\n",
       "</style>\n",
       "<table border=\"1\" class=\"dataframe\">\n",
       "  <thead>\n",
       "    <tr style=\"text-align: right;\">\n",
       "      <th>Personality</th>\n",
       "      <th>Big Sister</th>\n",
       "      <th>Cranky</th>\n",
       "      <th>Jock</th>\n",
       "      <th>Lazy</th>\n",
       "      <th>Normal</th>\n",
       "      <th>Peppy</th>\n",
       "      <th>Smug</th>\n",
       "      <th>Snooty</th>\n",
       "    </tr>\n",
       "    <tr>\n",
       "      <th>Astrology</th>\n",
       "      <th></th>\n",
       "      <th></th>\n",
       "      <th></th>\n",
       "      <th></th>\n",
       "      <th></th>\n",
       "      <th></th>\n",
       "      <th></th>\n",
       "      <th></th>\n",
       "    </tr>\n",
       "  </thead>\n",
       "  <tbody>\n",
       "    <tr>\n",
       "      <th>Aquarius</th>\n",
       "      <td>1.0</td>\n",
       "      <td>2.0</td>\n",
       "      <td>5.0</td>\n",
       "      <td>4.0</td>\n",
       "      <td>8.0</td>\n",
       "      <td>5.0</td>\n",
       "      <td>0.0</td>\n",
       "      <td>7.0</td>\n",
       "    </tr>\n",
       "    <tr>\n",
       "      <th>Aries</th>\n",
       "      <td>4.0</td>\n",
       "      <td>2.0</td>\n",
       "      <td>5.0</td>\n",
       "      <td>2.0</td>\n",
       "      <td>8.0</td>\n",
       "      <td>4.0</td>\n",
       "      <td>2.0</td>\n",
       "      <td>4.0</td>\n",
       "    </tr>\n",
       "    <tr>\n",
       "      <th>Cancer</th>\n",
       "      <td>3.0</td>\n",
       "      <td>5.0</td>\n",
       "      <td>3.0</td>\n",
       "      <td>6.0</td>\n",
       "      <td>5.0</td>\n",
       "      <td>6.0</td>\n",
       "      <td>3.0</td>\n",
       "      <td>3.0</td>\n",
       "    </tr>\n",
       "    <tr>\n",
       "      <th>Capricorn</th>\n",
       "      <td>2.0</td>\n",
       "      <td>4.0</td>\n",
       "      <td>3.0</td>\n",
       "      <td>8.0</td>\n",
       "      <td>2.0</td>\n",
       "      <td>5.0</td>\n",
       "      <td>2.0</td>\n",
       "      <td>3.0</td>\n",
       "    </tr>\n",
       "    <tr>\n",
       "      <th>Gemini</th>\n",
       "      <td>2.0</td>\n",
       "      <td>6.0</td>\n",
       "      <td>2.0</td>\n",
       "      <td>7.0</td>\n",
       "      <td>6.0</td>\n",
       "      <td>5.0</td>\n",
       "      <td>4.0</td>\n",
       "      <td>1.0</td>\n",
       "    </tr>\n",
       "    <tr>\n",
       "      <th>Leo</th>\n",
       "      <td>0.0</td>\n",
       "      <td>7.0</td>\n",
       "      <td>10.0</td>\n",
       "      <td>7.0</td>\n",
       "      <td>2.0</td>\n",
       "      <td>4.0</td>\n",
       "      <td>4.0</td>\n",
       "      <td>4.0</td>\n",
       "    </tr>\n",
       "    <tr>\n",
       "      <th>Libra</th>\n",
       "      <td>2.0</td>\n",
       "      <td>3.0</td>\n",
       "      <td>7.0</td>\n",
       "      <td>7.0</td>\n",
       "      <td>6.0</td>\n",
       "      <td>1.0</td>\n",
       "      <td>6.0</td>\n",
       "      <td>4.0</td>\n",
       "    </tr>\n",
       "    <tr>\n",
       "      <th>Pisces</th>\n",
       "      <td>0.0</td>\n",
       "      <td>3.0</td>\n",
       "      <td>2.0</td>\n",
       "      <td>7.0</td>\n",
       "      <td>7.0</td>\n",
       "      <td>8.0</td>\n",
       "      <td>1.0</td>\n",
       "      <td>2.0</td>\n",
       "    </tr>\n",
       "    <tr>\n",
       "      <th>Sagittarius</th>\n",
       "      <td>0.0</td>\n",
       "      <td>9.0</td>\n",
       "      <td>4.0</td>\n",
       "      <td>1.0</td>\n",
       "      <td>2.0</td>\n",
       "      <td>2.0</td>\n",
       "      <td>6.0</td>\n",
       "      <td>9.0</td>\n",
       "    </tr>\n",
       "    <tr>\n",
       "      <th>Scorpio</th>\n",
       "      <td>0.0</td>\n",
       "      <td>5.0</td>\n",
       "      <td>7.0</td>\n",
       "      <td>3.0</td>\n",
       "      <td>3.0</td>\n",
       "      <td>1.0</td>\n",
       "      <td>2.0</td>\n",
       "      <td>9.0</td>\n",
       "    </tr>\n",
       "    <tr>\n",
       "      <th>Taurus</th>\n",
       "      <td>7.0</td>\n",
       "      <td>4.0</td>\n",
       "      <td>4.0</td>\n",
       "      <td>5.0</td>\n",
       "      <td>5.0</td>\n",
       "      <td>2.0</td>\n",
       "      <td>2.0</td>\n",
       "      <td>2.0</td>\n",
       "    </tr>\n",
       "    <tr>\n",
       "      <th>Virgo</th>\n",
       "      <td>3.0</td>\n",
       "      <td>5.0</td>\n",
       "      <td>3.0</td>\n",
       "      <td>3.0</td>\n",
       "      <td>5.0</td>\n",
       "      <td>6.0</td>\n",
       "      <td>2.0</td>\n",
       "      <td>7.0</td>\n",
       "    </tr>\n",
       "  </tbody>\n",
       "</table>\n",
       "</div>"
      ],
      "text/plain": [
       "Personality  Big Sister  Cranky  Jock  Lazy  Normal  Peppy  Smug  Snooty\n",
       "Astrology                                                               \n",
       "Aquarius            1.0     2.0   5.0   4.0     8.0    5.0   0.0     7.0\n",
       "Aries               4.0     2.0   5.0   2.0     8.0    4.0   2.0     4.0\n",
       "Cancer              3.0     5.0   3.0   6.0     5.0    6.0   3.0     3.0\n",
       "Capricorn           2.0     4.0   3.0   8.0     2.0    5.0   2.0     3.0\n",
       "Gemini              2.0     6.0   2.0   7.0     6.0    5.0   4.0     1.0\n",
       "Leo                 0.0     7.0  10.0   7.0     2.0    4.0   4.0     4.0\n",
       "Libra               2.0     3.0   7.0   7.0     6.0    1.0   6.0     4.0\n",
       "Pisces              0.0     3.0   2.0   7.0     7.0    8.0   1.0     2.0\n",
       "Sagittarius         0.0     9.0   4.0   1.0     2.0    2.0   6.0     9.0\n",
       "Scorpio             0.0     5.0   7.0   3.0     3.0    1.0   2.0     9.0\n",
       "Taurus              7.0     4.0   4.0   5.0     5.0    2.0   2.0     2.0\n",
       "Virgo               3.0     5.0   3.0   3.0     5.0    6.0   2.0     7.0"
      ]
     },
     "execution_count": 203,
     "metadata": {},
     "output_type": "execute_result"
    }
   ],
   "source": [
    "astro_pers"
   ]
  },
  {
   "cell_type": "code",
   "execution_count": 205,
   "id": "ca40325f",
   "metadata": {},
   "outputs": [
    {
     "data": {
      "application/vnd.plotly.v1+json": {
       "config": {
        "plotlyServerURL": "https://plot.ly"
       },
       "data": [
        {
         "alignmentgroup": "True",
         "hovertemplate": "Personality=Big Sister<br>value=%{x}<br>Astrology=%{y}<extra></extra>",
         "legendgroup": "Big Sister",
         "marker": {
          "color": "#FECB52",
          "pattern": {
           "shape": ""
          }
         },
         "name": "Big Sister",
         "offsetgroup": "Big Sister",
         "orientation": "h",
         "showlegend": true,
         "textfont": {
          "size": 18
         },
         "textposition": "auto",
         "type": "bar",
         "width": 0.85,
         "x": [
          1,
          4,
          3,
          2,
          2,
          0,
          2,
          0,
          0,
          0,
          7,
          3
         ],
         "xaxis": "x",
         "y": [
          "Aquarius",
          "Aries",
          "Cancer",
          "Capricorn",
          "Gemini",
          "Leo",
          "Libra",
          "Pisces",
          "Sagittarius",
          "Scorpio",
          "Taurus",
          "Virgo"
         ],
         "yaxis": "y"
        },
        {
         "alignmentgroup": "True",
         "hovertemplate": "Personality=Cranky<br>value=%{x}<br>Astrology=%{y}<extra></extra>",
         "legendgroup": "Cranky",
         "marker": {
          "color": "#FF97FF",
          "pattern": {
           "shape": ""
          }
         },
         "name": "Cranky",
         "offsetgroup": "Cranky",
         "orientation": "h",
         "showlegend": true,
         "textfont": {
          "size": 18
         },
         "textposition": "auto",
         "type": "bar",
         "width": 0.85,
         "x": [
          2,
          2,
          5,
          4,
          6,
          7,
          3,
          3,
          9,
          5,
          4,
          5
         ],
         "xaxis": "x",
         "y": [
          "Aquarius",
          "Aries",
          "Cancer",
          "Capricorn",
          "Gemini",
          "Leo",
          "Libra",
          "Pisces",
          "Sagittarius",
          "Scorpio",
          "Taurus",
          "Virgo"
         ],
         "yaxis": "y"
        },
        {
         "alignmentgroup": "True",
         "hovertemplate": "Personality=Jock<br>value=%{x}<br>Astrology=%{y}<extra></extra>",
         "legendgroup": "Jock",
         "marker": {
          "color": "#B6E880",
          "pattern": {
           "shape": ""
          }
         },
         "name": "Jock",
         "offsetgroup": "Jock",
         "orientation": "h",
         "showlegend": true,
         "textfont": {
          "size": 18
         },
         "textposition": "auto",
         "type": "bar",
         "width": 0.85,
         "x": [
          5,
          5,
          3,
          3,
          2,
          10,
          7,
          2,
          4,
          7,
          4,
          3
         ],
         "xaxis": "x",
         "y": [
          "Aquarius",
          "Aries",
          "Cancer",
          "Capricorn",
          "Gemini",
          "Leo",
          "Libra",
          "Pisces",
          "Sagittarius",
          "Scorpio",
          "Taurus",
          "Virgo"
         ],
         "yaxis": "y"
        },
        {
         "alignmentgroup": "True",
         "hovertemplate": "Personality=Lazy<br>value=%{x}<br>Astrology=%{y}<extra></extra>",
         "legendgroup": "Lazy",
         "marker": {
          "color": "#FF6692",
          "pattern": {
           "shape": ""
          }
         },
         "name": "Lazy",
         "offsetgroup": "Lazy",
         "orientation": "h",
         "showlegend": true,
         "textfont": {
          "size": 18
         },
         "textposition": "auto",
         "type": "bar",
         "width": 0.85,
         "x": [
          4,
          2,
          6,
          8,
          7,
          7,
          7,
          7,
          1,
          3,
          5,
          3
         ],
         "xaxis": "x",
         "y": [
          "Aquarius",
          "Aries",
          "Cancer",
          "Capricorn",
          "Gemini",
          "Leo",
          "Libra",
          "Pisces",
          "Sagittarius",
          "Scorpio",
          "Taurus",
          "Virgo"
         ],
         "yaxis": "y"
        },
        {
         "alignmentgroup": "True",
         "hovertemplate": "Personality=Normal<br>value=%{x}<br>Astrology=%{y}<extra></extra>",
         "legendgroup": "Normal",
         "marker": {
          "color": "#19D3F3",
          "pattern": {
           "shape": ""
          }
         },
         "name": "Normal",
         "offsetgroup": "Normal",
         "orientation": "h",
         "showlegend": true,
         "textfont": {
          "size": 18
         },
         "textposition": "auto",
         "type": "bar",
         "width": 0.85,
         "x": [
          8,
          8,
          5,
          2,
          6,
          2,
          6,
          7,
          2,
          3,
          5,
          5
         ],
         "xaxis": "x",
         "y": [
          "Aquarius",
          "Aries",
          "Cancer",
          "Capricorn",
          "Gemini",
          "Leo",
          "Libra",
          "Pisces",
          "Sagittarius",
          "Scorpio",
          "Taurus",
          "Virgo"
         ],
         "yaxis": "y"
        },
        {
         "alignmentgroup": "True",
         "hovertemplate": "Personality=Peppy<br>value=%{x}<br>Astrology=%{y}<extra></extra>",
         "legendgroup": "Peppy",
         "marker": {
          "color": "#FFA15A",
          "pattern": {
           "shape": ""
          }
         },
         "name": "Peppy",
         "offsetgroup": "Peppy",
         "orientation": "h",
         "showlegend": true,
         "textfont": {
          "size": 18
         },
         "textposition": "auto",
         "type": "bar",
         "width": 0.85,
         "x": [
          5,
          4,
          6,
          5,
          5,
          4,
          1,
          8,
          2,
          1,
          2,
          6
         ],
         "xaxis": "x",
         "y": [
          "Aquarius",
          "Aries",
          "Cancer",
          "Capricorn",
          "Gemini",
          "Leo",
          "Libra",
          "Pisces",
          "Sagittarius",
          "Scorpio",
          "Taurus",
          "Virgo"
         ],
         "yaxis": "y"
        },
        {
         "alignmentgroup": "True",
         "hovertemplate": "Personality=Smug<br>value=%{x}<br>Astrology=%{y}<extra></extra>",
         "legendgroup": "Smug",
         "marker": {
          "color": "#AB63FA",
          "pattern": {
           "shape": ""
          }
         },
         "name": "Smug",
         "offsetgroup": "Smug",
         "orientation": "h",
         "showlegend": true,
         "textfont": {
          "size": 18
         },
         "textposition": "auto",
         "type": "bar",
         "width": 0.85,
         "x": [
          0,
          2,
          3,
          2,
          4,
          4,
          6,
          1,
          6,
          2,
          2,
          2
         ],
         "xaxis": "x",
         "y": [
          "Aquarius",
          "Aries",
          "Cancer",
          "Capricorn",
          "Gemini",
          "Leo",
          "Libra",
          "Pisces",
          "Sagittarius",
          "Scorpio",
          "Taurus",
          "Virgo"
         ],
         "yaxis": "y"
        },
        {
         "alignmentgroup": "True",
         "hovertemplate": "Personality=Snooty<br>value=%{x}<br>Astrology=%{y}<extra></extra>",
         "legendgroup": "Snooty",
         "marker": {
          "color": "#00CC96",
          "pattern": {
           "shape": ""
          }
         },
         "name": "Snooty",
         "offsetgroup": "Snooty",
         "orientation": "h",
         "showlegend": true,
         "textfont": {
          "size": 18
         },
         "textposition": "auto",
         "type": "bar",
         "width": 0.85,
         "x": [
          7,
          4,
          3,
          3,
          1,
          4,
          4,
          2,
          9,
          9,
          2,
          7
         ],
         "xaxis": "x",
         "y": [
          "Aquarius",
          "Aries",
          "Cancer",
          "Capricorn",
          "Gemini",
          "Leo",
          "Libra",
          "Pisces",
          "Sagittarius",
          "Scorpio",
          "Taurus",
          "Virgo"
         ],
         "yaxis": "y"
        }
       ],
       "layout": {
        "autosize": false,
        "barmode": "stack",
        "font": {
         "family": "Helvetica",
         "size": 20
        },
        "height": 1000,
        "legend": {
         "font": {
          "size": 19
         },
         "title": {
          "text": "Personality"
         },
         "tracegroupgap": 0
        },
        "plot_bgcolor": "white",
        "template": {
         "data": {
          "bar": [
           {
            "error_x": {
             "color": "#2a3f5f"
            },
            "error_y": {
             "color": "#2a3f5f"
            },
            "marker": {
             "line": {
              "color": "#E5ECF6",
              "width": 0.5
             },
             "pattern": {
              "fillmode": "overlay",
              "size": 10,
              "solidity": 0.2
             }
            },
            "type": "bar"
           }
          ],
          "barpolar": [
           {
            "marker": {
             "line": {
              "color": "#E5ECF6",
              "width": 0.5
             },
             "pattern": {
              "fillmode": "overlay",
              "size": 10,
              "solidity": 0.2
             }
            },
            "type": "barpolar"
           }
          ],
          "carpet": [
           {
            "aaxis": {
             "endlinecolor": "#2a3f5f",
             "gridcolor": "white",
             "linecolor": "white",
             "minorgridcolor": "white",
             "startlinecolor": "#2a3f5f"
            },
            "baxis": {
             "endlinecolor": "#2a3f5f",
             "gridcolor": "white",
             "linecolor": "white",
             "minorgridcolor": "white",
             "startlinecolor": "#2a3f5f"
            },
            "type": "carpet"
           }
          ],
          "choropleth": [
           {
            "colorbar": {
             "outlinewidth": 0,
             "ticks": ""
            },
            "type": "choropleth"
           }
          ],
          "contour": [
           {
            "colorbar": {
             "outlinewidth": 0,
             "ticks": ""
            },
            "colorscale": [
             [
              0,
              "#0d0887"
             ],
             [
              0.1111111111111111,
              "#46039f"
             ],
             [
              0.2222222222222222,
              "#7201a8"
             ],
             [
              0.3333333333333333,
              "#9c179e"
             ],
             [
              0.4444444444444444,
              "#bd3786"
             ],
             [
              0.5555555555555556,
              "#d8576b"
             ],
             [
              0.6666666666666666,
              "#ed7953"
             ],
             [
              0.7777777777777778,
              "#fb9f3a"
             ],
             [
              0.8888888888888888,
              "#fdca26"
             ],
             [
              1,
              "#f0f921"
             ]
            ],
            "type": "contour"
           }
          ],
          "contourcarpet": [
           {
            "colorbar": {
             "outlinewidth": 0,
             "ticks": ""
            },
            "type": "contourcarpet"
           }
          ],
          "heatmap": [
           {
            "colorbar": {
             "outlinewidth": 0,
             "ticks": ""
            },
            "colorscale": [
             [
              0,
              "#0d0887"
             ],
             [
              0.1111111111111111,
              "#46039f"
             ],
             [
              0.2222222222222222,
              "#7201a8"
             ],
             [
              0.3333333333333333,
              "#9c179e"
             ],
             [
              0.4444444444444444,
              "#bd3786"
             ],
             [
              0.5555555555555556,
              "#d8576b"
             ],
             [
              0.6666666666666666,
              "#ed7953"
             ],
             [
              0.7777777777777778,
              "#fb9f3a"
             ],
             [
              0.8888888888888888,
              "#fdca26"
             ],
             [
              1,
              "#f0f921"
             ]
            ],
            "type": "heatmap"
           }
          ],
          "heatmapgl": [
           {
            "colorbar": {
             "outlinewidth": 0,
             "ticks": ""
            },
            "colorscale": [
             [
              0,
              "#0d0887"
             ],
             [
              0.1111111111111111,
              "#46039f"
             ],
             [
              0.2222222222222222,
              "#7201a8"
             ],
             [
              0.3333333333333333,
              "#9c179e"
             ],
             [
              0.4444444444444444,
              "#bd3786"
             ],
             [
              0.5555555555555556,
              "#d8576b"
             ],
             [
              0.6666666666666666,
              "#ed7953"
             ],
             [
              0.7777777777777778,
              "#fb9f3a"
             ],
             [
              0.8888888888888888,
              "#fdca26"
             ],
             [
              1,
              "#f0f921"
             ]
            ],
            "type": "heatmapgl"
           }
          ],
          "histogram": [
           {
            "marker": {
             "pattern": {
              "fillmode": "overlay",
              "size": 10,
              "solidity": 0.2
             }
            },
            "type": "histogram"
           }
          ],
          "histogram2d": [
           {
            "colorbar": {
             "outlinewidth": 0,
             "ticks": ""
            },
            "colorscale": [
             [
              0,
              "#0d0887"
             ],
             [
              0.1111111111111111,
              "#46039f"
             ],
             [
              0.2222222222222222,
              "#7201a8"
             ],
             [
              0.3333333333333333,
              "#9c179e"
             ],
             [
              0.4444444444444444,
              "#bd3786"
             ],
             [
              0.5555555555555556,
              "#d8576b"
             ],
             [
              0.6666666666666666,
              "#ed7953"
             ],
             [
              0.7777777777777778,
              "#fb9f3a"
             ],
             [
              0.8888888888888888,
              "#fdca26"
             ],
             [
              1,
              "#f0f921"
             ]
            ],
            "type": "histogram2d"
           }
          ],
          "histogram2dcontour": [
           {
            "colorbar": {
             "outlinewidth": 0,
             "ticks": ""
            },
            "colorscale": [
             [
              0,
              "#0d0887"
             ],
             [
              0.1111111111111111,
              "#46039f"
             ],
             [
              0.2222222222222222,
              "#7201a8"
             ],
             [
              0.3333333333333333,
              "#9c179e"
             ],
             [
              0.4444444444444444,
              "#bd3786"
             ],
             [
              0.5555555555555556,
              "#d8576b"
             ],
             [
              0.6666666666666666,
              "#ed7953"
             ],
             [
              0.7777777777777778,
              "#fb9f3a"
             ],
             [
              0.8888888888888888,
              "#fdca26"
             ],
             [
              1,
              "#f0f921"
             ]
            ],
            "type": "histogram2dcontour"
           }
          ],
          "mesh3d": [
           {
            "colorbar": {
             "outlinewidth": 0,
             "ticks": ""
            },
            "type": "mesh3d"
           }
          ],
          "parcoords": [
           {
            "line": {
             "colorbar": {
              "outlinewidth": 0,
              "ticks": ""
             }
            },
            "type": "parcoords"
           }
          ],
          "pie": [
           {
            "automargin": true,
            "type": "pie"
           }
          ],
          "scatter": [
           {
            "marker": {
             "colorbar": {
              "outlinewidth": 0,
              "ticks": ""
             }
            },
            "type": "scatter"
           }
          ],
          "scatter3d": [
           {
            "line": {
             "colorbar": {
              "outlinewidth": 0,
              "ticks": ""
             }
            },
            "marker": {
             "colorbar": {
              "outlinewidth": 0,
              "ticks": ""
             }
            },
            "type": "scatter3d"
           }
          ],
          "scattercarpet": [
           {
            "marker": {
             "colorbar": {
              "outlinewidth": 0,
              "ticks": ""
             }
            },
            "type": "scattercarpet"
           }
          ],
          "scattergeo": [
           {
            "marker": {
             "colorbar": {
              "outlinewidth": 0,
              "ticks": ""
             }
            },
            "type": "scattergeo"
           }
          ],
          "scattergl": [
           {
            "marker": {
             "colorbar": {
              "outlinewidth": 0,
              "ticks": ""
             }
            },
            "type": "scattergl"
           }
          ],
          "scattermapbox": [
           {
            "marker": {
             "colorbar": {
              "outlinewidth": 0,
              "ticks": ""
             }
            },
            "type": "scattermapbox"
           }
          ],
          "scatterpolar": [
           {
            "marker": {
             "colorbar": {
              "outlinewidth": 0,
              "ticks": ""
             }
            },
            "type": "scatterpolar"
           }
          ],
          "scatterpolargl": [
           {
            "marker": {
             "colorbar": {
              "outlinewidth": 0,
              "ticks": ""
             }
            },
            "type": "scatterpolargl"
           }
          ],
          "scatterternary": [
           {
            "marker": {
             "colorbar": {
              "outlinewidth": 0,
              "ticks": ""
             }
            },
            "type": "scatterternary"
           }
          ],
          "surface": [
           {
            "colorbar": {
             "outlinewidth": 0,
             "ticks": ""
            },
            "colorscale": [
             [
              0,
              "#0d0887"
             ],
             [
              0.1111111111111111,
              "#46039f"
             ],
             [
              0.2222222222222222,
              "#7201a8"
             ],
             [
              0.3333333333333333,
              "#9c179e"
             ],
             [
              0.4444444444444444,
              "#bd3786"
             ],
             [
              0.5555555555555556,
              "#d8576b"
             ],
             [
              0.6666666666666666,
              "#ed7953"
             ],
             [
              0.7777777777777778,
              "#fb9f3a"
             ],
             [
              0.8888888888888888,
              "#fdca26"
             ],
             [
              1,
              "#f0f921"
             ]
            ],
            "type": "surface"
           }
          ],
          "table": [
           {
            "cells": {
             "fill": {
              "color": "#EBF0F8"
             },
             "line": {
              "color": "white"
             }
            },
            "header": {
             "fill": {
              "color": "#C8D4E3"
             },
             "line": {
              "color": "white"
             }
            },
            "type": "table"
           }
          ]
         },
         "layout": {
          "annotationdefaults": {
           "arrowcolor": "#2a3f5f",
           "arrowhead": 0,
           "arrowwidth": 1
          },
          "autotypenumbers": "strict",
          "coloraxis": {
           "colorbar": {
            "outlinewidth": 0,
            "ticks": ""
           }
          },
          "colorscale": {
           "diverging": [
            [
             0,
             "#8e0152"
            ],
            [
             0.1,
             "#c51b7d"
            ],
            [
             0.2,
             "#de77ae"
            ],
            [
             0.3,
             "#f1b6da"
            ],
            [
             0.4,
             "#fde0ef"
            ],
            [
             0.5,
             "#f7f7f7"
            ],
            [
             0.6,
             "#e6f5d0"
            ],
            [
             0.7,
             "#b8e186"
            ],
            [
             0.8,
             "#7fbc41"
            ],
            [
             0.9,
             "#4d9221"
            ],
            [
             1,
             "#276419"
            ]
           ],
           "sequential": [
            [
             0,
             "#0d0887"
            ],
            [
             0.1111111111111111,
             "#46039f"
            ],
            [
             0.2222222222222222,
             "#7201a8"
            ],
            [
             0.3333333333333333,
             "#9c179e"
            ],
            [
             0.4444444444444444,
             "#bd3786"
            ],
            [
             0.5555555555555556,
             "#d8576b"
            ],
            [
             0.6666666666666666,
             "#ed7953"
            ],
            [
             0.7777777777777778,
             "#fb9f3a"
            ],
            [
             0.8888888888888888,
             "#fdca26"
            ],
            [
             1,
             "#f0f921"
            ]
           ],
           "sequentialminus": [
            [
             0,
             "#0d0887"
            ],
            [
             0.1111111111111111,
             "#46039f"
            ],
            [
             0.2222222222222222,
             "#7201a8"
            ],
            [
             0.3333333333333333,
             "#9c179e"
            ],
            [
             0.4444444444444444,
             "#bd3786"
            ],
            [
             0.5555555555555556,
             "#d8576b"
            ],
            [
             0.6666666666666666,
             "#ed7953"
            ],
            [
             0.7777777777777778,
             "#fb9f3a"
            ],
            [
             0.8888888888888888,
             "#fdca26"
            ],
            [
             1,
             "#f0f921"
            ]
           ]
          },
          "colorway": [
           "#636efa",
           "#EF553B",
           "#00cc96",
           "#ab63fa",
           "#FFA15A",
           "#19d3f3",
           "#FF6692",
           "#B6E880",
           "#FF97FF",
           "#FECB52"
          ],
          "font": {
           "color": "#2a3f5f"
          },
          "geo": {
           "bgcolor": "white",
           "lakecolor": "white",
           "landcolor": "#E5ECF6",
           "showlakes": true,
           "showland": true,
           "subunitcolor": "white"
          },
          "hoverlabel": {
           "align": "left"
          },
          "hovermode": "closest",
          "mapbox": {
           "style": "light"
          },
          "paper_bgcolor": "white",
          "plot_bgcolor": "#E5ECF6",
          "polar": {
           "angularaxis": {
            "gridcolor": "white",
            "linecolor": "white",
            "ticks": ""
           },
           "bgcolor": "#E5ECF6",
           "radialaxis": {
            "gridcolor": "white",
            "linecolor": "white",
            "ticks": ""
           }
          },
          "scene": {
           "xaxis": {
            "backgroundcolor": "#E5ECF6",
            "gridcolor": "white",
            "gridwidth": 2,
            "linecolor": "white",
            "showbackground": true,
            "ticks": "",
            "zerolinecolor": "white"
           },
           "yaxis": {
            "backgroundcolor": "#E5ECF6",
            "gridcolor": "white",
            "gridwidth": 2,
            "linecolor": "white",
            "showbackground": true,
            "ticks": "",
            "zerolinecolor": "white"
           },
           "zaxis": {
            "backgroundcolor": "#E5ECF6",
            "gridcolor": "white",
            "gridwidth": 2,
            "linecolor": "white",
            "showbackground": true,
            "ticks": "",
            "zerolinecolor": "white"
           }
          },
          "shapedefaults": {
           "line": {
            "color": "#2a3f5f"
           }
          },
          "ternary": {
           "aaxis": {
            "gridcolor": "white",
            "linecolor": "white",
            "ticks": ""
           },
           "baxis": {
            "gridcolor": "white",
            "linecolor": "white",
            "ticks": ""
           },
           "bgcolor": "#E5ECF6",
           "caxis": {
            "gridcolor": "white",
            "linecolor": "white",
            "ticks": ""
           }
          },
          "title": {
           "x": 0.05
          },
          "xaxis": {
           "automargin": true,
           "gridcolor": "white",
           "linecolor": "white",
           "ticks": "",
           "title": {
            "standoff": 15
           },
           "zerolinecolor": "white",
           "zerolinewidth": 2
          },
          "yaxis": {
           "automargin": true,
           "gridcolor": "white",
           "linecolor": "white",
           "ticks": "",
           "title": {
            "standoff": 15
           },
           "zerolinecolor": "white",
           "zerolinewidth": 2
          }
         }
        },
        "title": {
         "font": {
          "size": 24
         },
         "text": "Popular Villagers : By Personality & Astrology",
         "x": 0.5,
         "y": 0.95
        },
        "width": 890,
        "xaxis": {
         "anchor": "y",
         "domain": [
          0,
          1
         ],
         "linecolor": "black",
         "linewidth": 1.5,
         "showgrid": false,
         "showline": true,
         "tickfont": {
          "size": 18
         },
         "ticks": "outside",
         "title": {
          "text": "Count of Villagers in ACNH"
         }
        },
        "yaxis": {
         "anchor": "x",
         "categoryorder": "total ascending",
         "domain": [
          0,
          1
         ],
         "linecolor": "black",
         "linewidth": 1.5,
         "showgrid": false,
         "showline": true,
         "tickfont": {
          "size": 18
         },
         "ticks": "outside",
         "title": {
          "text": "Astrological Sign"
         }
        }
       }
      }
     },
     "metadata": {},
     "output_type": "display_data"
    }
   ],
   "source": [
    "fig2ast_per = px.bar(astro_pers, color=\"Personality\",title= \"Popular Villagers: What Astrological Sign are they?\",\n",
    "              color_discrete_sequence=px.colors.qualitative.Plotly_r,orientation='h')\n",
    "fig2ast_per.update_traces(textfont_size=18,width=0.85)\n",
    "fig2ast_per.update_layout(font=dict(size=20),title_font_size=24,legend_font_size=19,width=1000,height=600,font_family=\"Courier\",\n",
    "                          yaxis_title=\"Astrological Sign\",\n",
    "                          xaxis_title=\"Count of Villagers in ACNH\")\n",
    "fig2ast_per.update_layout(height=1000,width=890,autosize=False,font_family=\"Helvetica\",plot_bgcolor='white')\n",
    "fig2ast_per.update_xaxes(showgrid=False,showline=True, tickfont_size=18,ticks='outside',linecolor=\"black\",linewidth=1.5)\n",
    "fig2ast_per.update_yaxes(showgrid=False,showline=True, tickfont_size=18,ticks='outside',linecolor=\"black\",linewidth=1.5)\n",
    "fig2ast_per.update_layout(\n",
    "    title={\n",
    "        'text': \"Popular Villagers : By Personality & Astrology\",\n",
    "        'y':0.95,\n",
    "        'x':0.5})\n",
    "fig2ast_per.update_layout(barmode='stack', yaxis={'categoryorder':'total ascending'})\n",
    "fig2ast_per.show()"
   ]
  },
  {
   "cell_type": "code",
   "execution_count": 189,
   "id": "d912c5f7",
   "metadata": {},
   "outputs": [
    {
     "data": {
      "application/vnd.plotly.v1+json": {
       "config": {
        "plotlyServerURL": "https://plot.ly"
       },
       "data": [
        {
         "alignmentgroup": "True",
         "hovertemplate": "Astrology=Aquarius<br>value=%{x}<br>Personality=%{y}<extra></extra>",
         "legendgroup": "Aquarius",
         "marker": {
          "color": "#FECB52",
          "pattern": {
           "shape": ""
          }
         },
         "name": "Aquarius",
         "offsetgroup": "Aquarius",
         "orientation": "h",
         "showlegend": true,
         "textfont": {
          "size": 18
         },
         "textposition": "auto",
         "type": "bar",
         "width": 0.85,
         "x": [
          1957045,
          5824366,
          13018326,
          5696401,
          14612117,
          9326688,
          0,
          11271844
         ],
         "xaxis": "x",
         "y": [
          "Big Sister",
          "Cranky",
          "Jock",
          "Lazy",
          "Normal",
          "Peppy",
          "Smug",
          "Snooty"
         ],
         "yaxis": "y"
        },
        {
         "alignmentgroup": "True",
         "hovertemplate": "Astrology=Aries<br>value=%{x}<br>Personality=%{y}<extra></extra>",
         "legendgroup": "Aries",
         "marker": {
          "color": "#FF97FF",
          "pattern": {
           "shape": ""
          }
         },
         "name": "Aries",
         "offsetgroup": "Aries",
         "orientation": "h",
         "showlegend": true,
         "textfont": {
          "size": 18
         },
         "textposition": "auto",
         "type": "bar",
         "width": 0.85,
         "x": [
          11161060,
          3653697,
          7500890,
          1334680,
          16228722,
          9621712,
          1638934,
          5263816
         ],
         "xaxis": "x",
         "y": [
          "Big Sister",
          "Cranky",
          "Jock",
          "Lazy",
          "Normal",
          "Peppy",
          "Smug",
          "Snooty"
         ],
         "yaxis": "y"
        },
        {
         "alignmentgroup": "True",
         "hovertemplate": "Astrology=Cancer<br>value=%{x}<br>Personality=%{y}<extra></extra>",
         "legendgroup": "Cancer",
         "marker": {
          "color": "#B6E880",
          "pattern": {
           "shape": ""
          }
         },
         "name": "Cancer",
         "offsetgroup": "Cancer",
         "orientation": "h",
         "showlegend": true,
         "textfont": {
          "size": 18
         },
         "textposition": "auto",
         "type": "bar",
         "width": 0.85,
         "x": [
          5844293,
          5618277,
          2906777,
          11037238,
          19458240,
          10107099,
          4373403,
          3801471
         ],
         "xaxis": "x",
         "y": [
          "Big Sister",
          "Cranky",
          "Jock",
          "Lazy",
          "Normal",
          "Peppy",
          "Smug",
          "Snooty"
         ],
         "yaxis": "y"
        },
        {
         "alignmentgroup": "True",
         "hovertemplate": "Astrology=Capricorn<br>value=%{x}<br>Personality=%{y}<extra></extra>",
         "legendgroup": "Capricorn",
         "marker": {
          "color": "#FF6692",
          "pattern": {
           "shape": ""
          }
         },
         "name": "Capricorn",
         "offsetgroup": "Capricorn",
         "orientation": "h",
         "showlegend": true,
         "textfont": {
          "size": 18
         },
         "textposition": "auto",
         "type": "bar",
         "width": 0.85,
         "x": [
          6301475,
          4299818,
          5777355,
          15294518,
          654269,
          9115979,
          2067290,
          4313280
         ],
         "xaxis": "x",
         "y": [
          "Big Sister",
          "Cranky",
          "Jock",
          "Lazy",
          "Normal",
          "Peppy",
          "Smug",
          "Snooty"
         ],
         "yaxis": "y"
        },
        {
         "alignmentgroup": "True",
         "hovertemplate": "Astrology=Gemini<br>value=%{x}<br>Personality=%{y}<extra></extra>",
         "legendgroup": "Gemini",
         "marker": {
          "color": "#19D3F3",
          "pattern": {
           "shape": ""
          }
         },
         "name": "Gemini",
         "offsetgroup": "Gemini",
         "orientation": "h",
         "showlegend": true,
         "textfont": {
          "size": 18
         },
         "textposition": "auto",
         "type": "bar",
         "width": 0.85,
         "x": [
          1867187,
          12265495,
          3362858,
          13476728,
          8770903,
          7518274,
          7039728,
          2072397
         ],
         "xaxis": "x",
         "y": [
          "Big Sister",
          "Cranky",
          "Jock",
          "Lazy",
          "Normal",
          "Peppy",
          "Smug",
          "Snooty"
         ],
         "yaxis": "y"
        },
        {
         "alignmentgroup": "True",
         "hovertemplate": "Astrology=Leo<br>value=%{x}<br>Personality=%{y}<extra></extra>",
         "legendgroup": "Leo",
         "marker": {
          "color": "#FFA15A",
          "pattern": {
           "shape": ""
          }
         },
         "name": "Leo",
         "offsetgroup": "Leo",
         "orientation": "h",
         "showlegend": true,
         "textfont": {
          "size": 18
         },
         "textposition": "auto",
         "type": "bar",
         "width": 0.85,
         "x": [
          0,
          11211908,
          16378676,
          16420768,
          4999839,
          6688514,
          4062940,
          7007444
         ],
         "xaxis": "x",
         "y": [
          "Big Sister",
          "Cranky",
          "Jock",
          "Lazy",
          "Normal",
          "Peppy",
          "Smug",
          "Snooty"
         ],
         "yaxis": "y"
        },
        {
         "alignmentgroup": "True",
         "hovertemplate": "Astrology=Libra<br>value=%{x}<br>Personality=%{y}<extra></extra>",
         "legendgroup": "Libra",
         "marker": {
          "color": "#AB63FA",
          "pattern": {
           "shape": ""
          }
         },
         "name": "Libra",
         "offsetgroup": "Libra",
         "orientation": "h",
         "showlegend": true,
         "textfont": {
          "size": 18
         },
         "textposition": "auto",
         "type": "bar",
         "width": 0.85,
         "x": [
          5098367,
          5388640,
          11884156,
          32425134,
          10461524,
          1340949,
          13153490,
          6294529
         ],
         "xaxis": "x",
         "y": [
          "Big Sister",
          "Cranky",
          "Jock",
          "Lazy",
          "Normal",
          "Peppy",
          "Smug",
          "Snooty"
         ],
         "yaxis": "y"
        },
        {
         "alignmentgroup": "True",
         "hovertemplate": "Astrology=Pisces<br>value=%{x}<br>Personality=%{y}<extra></extra>",
         "legendgroup": "Pisces",
         "marker": {
          "color": "#00CC96",
          "pattern": {
           "shape": ""
          }
         },
         "name": "Pisces",
         "offsetgroup": "Pisces",
         "orientation": "h",
         "showlegend": true,
         "textfont": {
          "size": 18
         },
         "textposition": "auto",
         "type": "bar",
         "width": 0.85,
         "x": [
          0,
          5222271,
          6840682,
          13881970,
          17150036,
          12407500,
          4478361,
          6791328
         ],
         "xaxis": "x",
         "y": [
          "Big Sister",
          "Cranky",
          "Jock",
          "Lazy",
          "Normal",
          "Peppy",
          "Smug",
          "Snooty"
         ],
         "yaxis": "y"
        },
        {
         "alignmentgroup": "True",
         "hovertemplate": "Astrology=Sagittarius<br>value=%{x}<br>Personality=%{y}<extra></extra>",
         "legendgroup": "Sagittarius",
         "marker": {
          "color": "#EF553B",
          "pattern": {
           "shape": ""
          }
         },
         "name": "Sagittarius",
         "offsetgroup": "Sagittarius",
         "orientation": "h",
         "showlegend": true,
         "textfont": {
          "size": 18
         },
         "textposition": "auto",
         "type": "bar",
         "width": 0.85,
         "x": [
          0,
          18290713,
          9615005,
          2604404,
          2261801,
          1472393,
          10080749,
          11930927
         ],
         "xaxis": "x",
         "y": [
          "Big Sister",
          "Cranky",
          "Jock",
          "Lazy",
          "Normal",
          "Peppy",
          "Smug",
          "Snooty"
         ],
         "yaxis": "y"
        },
        {
         "alignmentgroup": "True",
         "hovertemplate": "Astrology=Scorpio<br>value=%{x}<br>Personality=%{y}<extra></extra>",
         "legendgroup": "Scorpio",
         "marker": {
          "color": "#636EFA",
          "pattern": {
           "shape": ""
          }
         },
         "name": "Scorpio",
         "offsetgroup": "Scorpio",
         "orientation": "h",
         "showlegend": true,
         "textfont": {
          "size": 18
         },
         "textposition": "auto",
         "type": "bar",
         "width": 0.85,
         "x": [
          0,
          5992639,
          10175592,
          4601434,
          8052184,
          2651747,
          3246385,
          15599277
         ],
         "xaxis": "x",
         "y": [
          "Big Sister",
          "Cranky",
          "Jock",
          "Lazy",
          "Normal",
          "Peppy",
          "Smug",
          "Snooty"
         ],
         "yaxis": "y"
        },
        {
         "alignmentgroup": "True",
         "hovertemplate": "Astrology=Taurus<br>value=%{x}<br>Personality=%{y}<extra></extra>",
         "legendgroup": "Taurus",
         "marker": {
          "color": "#FECB52",
          "pattern": {
           "shape": ""
          }
         },
         "name": "Taurus",
         "offsetgroup": "Taurus",
         "orientation": "h",
         "showlegend": true,
         "textfont": {
          "size": 18
         },
         "textposition": "auto",
         "type": "bar",
         "width": 0.85,
         "x": [
          15639867,
          6100122,
          7001428,
          9161102,
          12790556,
          3627863,
          3388146,
          3018900
         ],
         "xaxis": "x",
         "y": [
          "Big Sister",
          "Cranky",
          "Jock",
          "Lazy",
          "Normal",
          "Peppy",
          "Smug",
          "Snooty"
         ],
         "yaxis": "y"
        },
        {
         "alignmentgroup": "True",
         "hovertemplate": "Astrology=Virgo<br>value=%{x}<br>Personality=%{y}<extra></extra>",
         "legendgroup": "Virgo",
         "marker": {
          "color": "#FF97FF",
          "pattern": {
           "shape": ""
          }
         },
         "name": "Virgo",
         "offsetgroup": "Virgo",
         "orientation": "h",
         "showlegend": true,
         "textfont": {
          "size": 18
         },
         "textposition": "auto",
         "type": "bar",
         "width": 0.85,
         "x": [
          7596845,
          7894500,
          5180213,
          4651149,
          7037330,
          17751886,
          2875809,
          17140903
         ],
         "xaxis": "x",
         "y": [
          "Big Sister",
          "Cranky",
          "Jock",
          "Lazy",
          "Normal",
          "Peppy",
          "Smug",
          "Snooty"
         ],
         "yaxis": "y"
        }
       ],
       "layout": {
        "autosize": false,
        "barmode": "stack",
        "font": {
         "family": "Helvetica",
         "size": 20
        },
        "height": 1000,
        "legend": {
         "font": {
          "size": 19
         },
         "title": {
          "text": "Astrology"
         },
         "tracegroupgap": 0
        },
        "plot_bgcolor": "white",
        "template": {
         "data": {
          "bar": [
           {
            "error_x": {
             "color": "#2a3f5f"
            },
            "error_y": {
             "color": "#2a3f5f"
            },
            "marker": {
             "line": {
              "color": "#E5ECF6",
              "width": 0.5
             },
             "pattern": {
              "fillmode": "overlay",
              "size": 10,
              "solidity": 0.2
             }
            },
            "type": "bar"
           }
          ],
          "barpolar": [
           {
            "marker": {
             "line": {
              "color": "#E5ECF6",
              "width": 0.5
             },
             "pattern": {
              "fillmode": "overlay",
              "size": 10,
              "solidity": 0.2
             }
            },
            "type": "barpolar"
           }
          ],
          "carpet": [
           {
            "aaxis": {
             "endlinecolor": "#2a3f5f",
             "gridcolor": "white",
             "linecolor": "white",
             "minorgridcolor": "white",
             "startlinecolor": "#2a3f5f"
            },
            "baxis": {
             "endlinecolor": "#2a3f5f",
             "gridcolor": "white",
             "linecolor": "white",
             "minorgridcolor": "white",
             "startlinecolor": "#2a3f5f"
            },
            "type": "carpet"
           }
          ],
          "choropleth": [
           {
            "colorbar": {
             "outlinewidth": 0,
             "ticks": ""
            },
            "type": "choropleth"
           }
          ],
          "contour": [
           {
            "colorbar": {
             "outlinewidth": 0,
             "ticks": ""
            },
            "colorscale": [
             [
              0,
              "#0d0887"
             ],
             [
              0.1111111111111111,
              "#46039f"
             ],
             [
              0.2222222222222222,
              "#7201a8"
             ],
             [
              0.3333333333333333,
              "#9c179e"
             ],
             [
              0.4444444444444444,
              "#bd3786"
             ],
             [
              0.5555555555555556,
              "#d8576b"
             ],
             [
              0.6666666666666666,
              "#ed7953"
             ],
             [
              0.7777777777777778,
              "#fb9f3a"
             ],
             [
              0.8888888888888888,
              "#fdca26"
             ],
             [
              1,
              "#f0f921"
             ]
            ],
            "type": "contour"
           }
          ],
          "contourcarpet": [
           {
            "colorbar": {
             "outlinewidth": 0,
             "ticks": ""
            },
            "type": "contourcarpet"
           }
          ],
          "heatmap": [
           {
            "colorbar": {
             "outlinewidth": 0,
             "ticks": ""
            },
            "colorscale": [
             [
              0,
              "#0d0887"
             ],
             [
              0.1111111111111111,
              "#46039f"
             ],
             [
              0.2222222222222222,
              "#7201a8"
             ],
             [
              0.3333333333333333,
              "#9c179e"
             ],
             [
              0.4444444444444444,
              "#bd3786"
             ],
             [
              0.5555555555555556,
              "#d8576b"
             ],
             [
              0.6666666666666666,
              "#ed7953"
             ],
             [
              0.7777777777777778,
              "#fb9f3a"
             ],
             [
              0.8888888888888888,
              "#fdca26"
             ],
             [
              1,
              "#f0f921"
             ]
            ],
            "type": "heatmap"
           }
          ],
          "heatmapgl": [
           {
            "colorbar": {
             "outlinewidth": 0,
             "ticks": ""
            },
            "colorscale": [
             [
              0,
              "#0d0887"
             ],
             [
              0.1111111111111111,
              "#46039f"
             ],
             [
              0.2222222222222222,
              "#7201a8"
             ],
             [
              0.3333333333333333,
              "#9c179e"
             ],
             [
              0.4444444444444444,
              "#bd3786"
             ],
             [
              0.5555555555555556,
              "#d8576b"
             ],
             [
              0.6666666666666666,
              "#ed7953"
             ],
             [
              0.7777777777777778,
              "#fb9f3a"
             ],
             [
              0.8888888888888888,
              "#fdca26"
             ],
             [
              1,
              "#f0f921"
             ]
            ],
            "type": "heatmapgl"
           }
          ],
          "histogram": [
           {
            "marker": {
             "pattern": {
              "fillmode": "overlay",
              "size": 10,
              "solidity": 0.2
             }
            },
            "type": "histogram"
           }
          ],
          "histogram2d": [
           {
            "colorbar": {
             "outlinewidth": 0,
             "ticks": ""
            },
            "colorscale": [
             [
              0,
              "#0d0887"
             ],
             [
              0.1111111111111111,
              "#46039f"
             ],
             [
              0.2222222222222222,
              "#7201a8"
             ],
             [
              0.3333333333333333,
              "#9c179e"
             ],
             [
              0.4444444444444444,
              "#bd3786"
             ],
             [
              0.5555555555555556,
              "#d8576b"
             ],
             [
              0.6666666666666666,
              "#ed7953"
             ],
             [
              0.7777777777777778,
              "#fb9f3a"
             ],
             [
              0.8888888888888888,
              "#fdca26"
             ],
             [
              1,
              "#f0f921"
             ]
            ],
            "type": "histogram2d"
           }
          ],
          "histogram2dcontour": [
           {
            "colorbar": {
             "outlinewidth": 0,
             "ticks": ""
            },
            "colorscale": [
             [
              0,
              "#0d0887"
             ],
             [
              0.1111111111111111,
              "#46039f"
             ],
             [
              0.2222222222222222,
              "#7201a8"
             ],
             [
              0.3333333333333333,
              "#9c179e"
             ],
             [
              0.4444444444444444,
              "#bd3786"
             ],
             [
              0.5555555555555556,
              "#d8576b"
             ],
             [
              0.6666666666666666,
              "#ed7953"
             ],
             [
              0.7777777777777778,
              "#fb9f3a"
             ],
             [
              0.8888888888888888,
              "#fdca26"
             ],
             [
              1,
              "#f0f921"
             ]
            ],
            "type": "histogram2dcontour"
           }
          ],
          "mesh3d": [
           {
            "colorbar": {
             "outlinewidth": 0,
             "ticks": ""
            },
            "type": "mesh3d"
           }
          ],
          "parcoords": [
           {
            "line": {
             "colorbar": {
              "outlinewidth": 0,
              "ticks": ""
             }
            },
            "type": "parcoords"
           }
          ],
          "pie": [
           {
            "automargin": true,
            "type": "pie"
           }
          ],
          "scatter": [
           {
            "marker": {
             "colorbar": {
              "outlinewidth": 0,
              "ticks": ""
             }
            },
            "type": "scatter"
           }
          ],
          "scatter3d": [
           {
            "line": {
             "colorbar": {
              "outlinewidth": 0,
              "ticks": ""
             }
            },
            "marker": {
             "colorbar": {
              "outlinewidth": 0,
              "ticks": ""
             }
            },
            "type": "scatter3d"
           }
          ],
          "scattercarpet": [
           {
            "marker": {
             "colorbar": {
              "outlinewidth": 0,
              "ticks": ""
             }
            },
            "type": "scattercarpet"
           }
          ],
          "scattergeo": [
           {
            "marker": {
             "colorbar": {
              "outlinewidth": 0,
              "ticks": ""
             }
            },
            "type": "scattergeo"
           }
          ],
          "scattergl": [
           {
            "marker": {
             "colorbar": {
              "outlinewidth": 0,
              "ticks": ""
             }
            },
            "type": "scattergl"
           }
          ],
          "scattermapbox": [
           {
            "marker": {
             "colorbar": {
              "outlinewidth": 0,
              "ticks": ""
             }
            },
            "type": "scattermapbox"
           }
          ],
          "scatterpolar": [
           {
            "marker": {
             "colorbar": {
              "outlinewidth": 0,
              "ticks": ""
             }
            },
            "type": "scatterpolar"
           }
          ],
          "scatterpolargl": [
           {
            "marker": {
             "colorbar": {
              "outlinewidth": 0,
              "ticks": ""
             }
            },
            "type": "scatterpolargl"
           }
          ],
          "scatterternary": [
           {
            "marker": {
             "colorbar": {
              "outlinewidth": 0,
              "ticks": ""
             }
            },
            "type": "scatterternary"
           }
          ],
          "surface": [
           {
            "colorbar": {
             "outlinewidth": 0,
             "ticks": ""
            },
            "colorscale": [
             [
              0,
              "#0d0887"
             ],
             [
              0.1111111111111111,
              "#46039f"
             ],
             [
              0.2222222222222222,
              "#7201a8"
             ],
             [
              0.3333333333333333,
              "#9c179e"
             ],
             [
              0.4444444444444444,
              "#bd3786"
             ],
             [
              0.5555555555555556,
              "#d8576b"
             ],
             [
              0.6666666666666666,
              "#ed7953"
             ],
             [
              0.7777777777777778,
              "#fb9f3a"
             ],
             [
              0.8888888888888888,
              "#fdca26"
             ],
             [
              1,
              "#f0f921"
             ]
            ],
            "type": "surface"
           }
          ],
          "table": [
           {
            "cells": {
             "fill": {
              "color": "#EBF0F8"
             },
             "line": {
              "color": "white"
             }
            },
            "header": {
             "fill": {
              "color": "#C8D4E3"
             },
             "line": {
              "color": "white"
             }
            },
            "type": "table"
           }
          ]
         },
         "layout": {
          "annotationdefaults": {
           "arrowcolor": "#2a3f5f",
           "arrowhead": 0,
           "arrowwidth": 1
          },
          "autotypenumbers": "strict",
          "coloraxis": {
           "colorbar": {
            "outlinewidth": 0,
            "ticks": ""
           }
          },
          "colorscale": {
           "diverging": [
            [
             0,
             "#8e0152"
            ],
            [
             0.1,
             "#c51b7d"
            ],
            [
             0.2,
             "#de77ae"
            ],
            [
             0.3,
             "#f1b6da"
            ],
            [
             0.4,
             "#fde0ef"
            ],
            [
             0.5,
             "#f7f7f7"
            ],
            [
             0.6,
             "#e6f5d0"
            ],
            [
             0.7,
             "#b8e186"
            ],
            [
             0.8,
             "#7fbc41"
            ],
            [
             0.9,
             "#4d9221"
            ],
            [
             1,
             "#276419"
            ]
           ],
           "sequential": [
            [
             0,
             "#0d0887"
            ],
            [
             0.1111111111111111,
             "#46039f"
            ],
            [
             0.2222222222222222,
             "#7201a8"
            ],
            [
             0.3333333333333333,
             "#9c179e"
            ],
            [
             0.4444444444444444,
             "#bd3786"
            ],
            [
             0.5555555555555556,
             "#d8576b"
            ],
            [
             0.6666666666666666,
             "#ed7953"
            ],
            [
             0.7777777777777778,
             "#fb9f3a"
            ],
            [
             0.8888888888888888,
             "#fdca26"
            ],
            [
             1,
             "#f0f921"
            ]
           ],
           "sequentialminus": [
            [
             0,
             "#0d0887"
            ],
            [
             0.1111111111111111,
             "#46039f"
            ],
            [
             0.2222222222222222,
             "#7201a8"
            ],
            [
             0.3333333333333333,
             "#9c179e"
            ],
            [
             0.4444444444444444,
             "#bd3786"
            ],
            [
             0.5555555555555556,
             "#d8576b"
            ],
            [
             0.6666666666666666,
             "#ed7953"
            ],
            [
             0.7777777777777778,
             "#fb9f3a"
            ],
            [
             0.8888888888888888,
             "#fdca26"
            ],
            [
             1,
             "#f0f921"
            ]
           ]
          },
          "colorway": [
           "#636efa",
           "#EF553B",
           "#00cc96",
           "#ab63fa",
           "#FFA15A",
           "#19d3f3",
           "#FF6692",
           "#B6E880",
           "#FF97FF",
           "#FECB52"
          ],
          "font": {
           "color": "#2a3f5f"
          },
          "geo": {
           "bgcolor": "white",
           "lakecolor": "white",
           "landcolor": "#E5ECF6",
           "showlakes": true,
           "showland": true,
           "subunitcolor": "white"
          },
          "hoverlabel": {
           "align": "left"
          },
          "hovermode": "closest",
          "mapbox": {
           "style": "light"
          },
          "paper_bgcolor": "white",
          "plot_bgcolor": "#E5ECF6",
          "polar": {
           "angularaxis": {
            "gridcolor": "white",
            "linecolor": "white",
            "ticks": ""
           },
           "bgcolor": "#E5ECF6",
           "radialaxis": {
            "gridcolor": "white",
            "linecolor": "white",
            "ticks": ""
           }
          },
          "scene": {
           "xaxis": {
            "backgroundcolor": "#E5ECF6",
            "gridcolor": "white",
            "gridwidth": 2,
            "linecolor": "white",
            "showbackground": true,
            "ticks": "",
            "zerolinecolor": "white"
           },
           "yaxis": {
            "backgroundcolor": "#E5ECF6",
            "gridcolor": "white",
            "gridwidth": 2,
            "linecolor": "white",
            "showbackground": true,
            "ticks": "",
            "zerolinecolor": "white"
           },
           "zaxis": {
            "backgroundcolor": "#E5ECF6",
            "gridcolor": "white",
            "gridwidth": 2,
            "linecolor": "white",
            "showbackground": true,
            "ticks": "",
            "zerolinecolor": "white"
           }
          },
          "shapedefaults": {
           "line": {
            "color": "#2a3f5f"
           }
          },
          "ternary": {
           "aaxis": {
            "gridcolor": "white",
            "linecolor": "white",
            "ticks": ""
           },
           "baxis": {
            "gridcolor": "white",
            "linecolor": "white",
            "ticks": ""
           },
           "bgcolor": "#E5ECF6",
           "caxis": {
            "gridcolor": "white",
            "linecolor": "white",
            "ticks": ""
           }
          },
          "title": {
           "x": 0.05
          },
          "xaxis": {
           "automargin": true,
           "gridcolor": "white",
           "linecolor": "white",
           "ticks": "",
           "title": {
            "standoff": 15
           },
           "zerolinecolor": "white",
           "zerolinewidth": 2
          },
          "yaxis": {
           "automargin": true,
           "gridcolor": "white",
           "linecolor": "white",
           "ticks": "",
           "title": {
            "standoff": 15
           },
           "zerolinecolor": "white",
           "zerolinewidth": 2
          }
         }
        },
        "title": {
         "font": {
          "size": 24
         },
         "text": "Popular Villagers : By Personality & Astrology",
         "x": 0.5,
         "y": 0.95
        },
        "width": 890,
        "xaxis": {
         "anchor": "y",
         "domain": [
          0,
          1
         ],
         "linecolor": "black",
         "linewidth": 1.5,
         "showgrid": false,
         "showline": true,
         "tickfont": {
          "size": 18
         },
         "ticks": "outside",
         "title": {
          "text": "Overall Popularity (Google Searches + ACNH Polls)"
         }
        },
        "yaxis": {
         "anchor": "x",
         "categoryorder": "total ascending",
         "domain": [
          0,
          1
         ],
         "linecolor": "black",
         "linewidth": 1.5,
         "showgrid": false,
         "showline": true,
         "tickfont": {
          "size": 18
         },
         "ticks": "outside",
         "title": {
          "text": "Villager Species"
         }
        }
       }
      }
     },
     "metadata": {},
     "output_type": "display_data"
    }
   ],
   "source": [
    "fig2astro = px.bar(personality_astro, color=\"Astrology\",title= \"Popular Villagers: What Astrological Sign are they?\",\n",
    "              color_discrete_sequence=px.colors.qualitative.Plotly_r,orientation='h')\n",
    "fig2astro.update_traces(textfont_size=18,width=0.85)\n",
    "fig2astro.update_layout(font=dict(size=20),title_font_size=24,legend_font_size=19,width=1000,height=600,font_family=\"Courier\",yaxis_title=\"Villager Species\",xaxis_title=\"Overall Popularity (Google Searches + ACNH Polls)\")\n",
    "fig2astro.update_layout(height=1000,width=890,autosize=False,font_family=\"Helvetica\",plot_bgcolor='white')\n",
    "fig2astro.update_xaxes(showgrid=False,showline=True, tickfont_size=18,ticks='outside',linecolor=\"black\",linewidth=1.5)\n",
    "fig2astro.update_yaxes(showgrid=False,showline=True, tickfont_size=18,ticks='outside',linecolor=\"black\",linewidth=1.5)\n",
    "fig2astro.update_layout(\n",
    "    title={\n",
    "        'text': \"Popular Villagers : By Personality & Astrology\",\n",
    "        'y':0.95,\n",
    "        'x':0.5})\n",
    "fig2astro.update_layout(barmode='stack', yaxis={'categoryorder':'total ascending'})\n",
    "fig2astro.show()"
   ]
  },
  {
   "cell_type": "code",
   "execution_count": 104,
   "id": "47075509",
   "metadata": {},
   "outputs": [
    {
     "data": {
      "application/vnd.plotly.v1+json": {
       "config": {
        "plotlyServerURL": "https://plot.ly"
       },
       "data": [
        {
         "domain": {
          "x": [
           0,
           1
          ],
          "y": [
           0,
           1
          ]
         },
         "hovertemplate": "label=%{label}<extra></extra>",
         "labels": [
          "Bird",
          "Squirrel",
          "Pig",
          "Gorilla",
          "Alligator",
          "Koala",
          "Alligator",
          "Eagle",
          "Anteater",
          "Bird",
          "Bull",
          "Mouse",
          "Cat",
          "Anteater",
          "Horse",
          "Anteater",
          "Eagle",
          "Hamster",
          "Kangaroo",
          "Wolf",
          "Penguin",
          "Chicken",
          "Eagle",
          "Elephant",
          "Sheep",
          "Deer",
          "Tiger",
          "Cub",
          "Dog",
          "Bear",
          "Deer",
          "Chicken",
          "Mouse",
          "Chicken",
          "Dog",
          "Hippo",
          "Mouse",
          "Tiger",
          "Hippo",
          "Elephant",
          "Duck",
          "Goat",
          "Dog",
          "Hippo",
          "Squirrel",
          "Ostrich",
          "Cub",
          "Cat",
          "Rabbit",
          "Dog",
          "Penguin",
          "Gorilla",
          "Alligator",
          "Pig",
          "Gorilla",
          "Mouse",
          "Mouse",
          "Chicken",
          "Deer",
          "Hippo",
          "Horse",
          "Lion",
          "Rabbit",
          "Dog",
          "Eagle",
          "Squirrel",
          "Frog",
          "Koala",
          "Mouse",
          "Rabbit",
          "Squirrel",
          "Kangaroo",
          "Sheep",
          "Eagle",
          "Gorilla",
          "Mouse",
          "Bear",
          "Cub",
          "Dog",
          "Cub",
          "Goat",
          "Wolf",
          "Pig",
          "Bear",
          "Rabbit",
          "Rabbit",
          "Tiger",
          "Hamster",
          "Horse",
          "Horse",
          "Bull",
          "Pig",
          "Rabbit",
          "Rabbit",
          "Horse",
          "Dog",
          "Frog",
          "Ostrich",
          "Frog",
          "Penguin",
          "Sheep",
          "Pig",
          "Bear",
          "Elephant",
          "Anteater",
          "Dog",
          "Duck",
          "Deer",
          "Alligator",
          "Monkey",
          "Duck",
          "Deer",
          "Frog",
          "Elephant",
          "Wolf",
          "Rabbit",
          "Sheep",
          "Mouse",
          "Rabbit",
          "Alligator",
          "Duck",
          "Frog",
          "Horse",
          "Chicken",
          "Monkey",
          "Elephant",
          "Horse",
          "Elephant",
          "Lion",
          "Deer",
          "Koala",
          "Sheep",
          "Wolf",
          "Deer",
          "Cat",
          "Squirrel",
          "Monkey",
          "Penguin",
          "Ostrich",
          "Hamster",
          "Rabbit",
          "Eagle",
          "Duck",
          "Wolf",
          "Penguin",
          "Sheep",
          "Frog",
          "Deer",
          "Rabbit",
          "Pig",
          "Rabbit",
          "Alligator",
          "Rabbit",
          "Frog",
          "Ostrich",
          "Duck",
          "Dog",
          "Koala",
          "Chicken",
          "Hamster",
          "Mouse",
          "Bear",
          "Bear",
          "Goat",
          "Penguin",
          "Hamster",
          "Hamster",
          "Gorilla",
          "Hippo",
          "Squirrel",
          "Frog",
          "Hippo",
          "Rabbit",
          "Penguin",
          "Rhino",
          "Frog",
          "Pig",
          "Penguin",
          "Bear",
          "Bird",
          "Bird",
          "Frog",
          "Bird",
          "Frog",
          "Bird",
          "Duck",
          "Cub",
          "Ostrich",
          "Horse",
          "Cub",
          "Cat",
          "Cat",
          "Eagle",
          "Chicken",
          "Duck",
          "Pig",
          "Cat",
          "Goat",
          "Cat",
          "Kangaroo",
          "Cat",
          "Bear",
          "Chicken",
          "Cub",
          "Wolf",
          "Tiger",
          "Lion",
          "Frog",
          "Mouse",
          "Lion",
          "Wolf",
          "Cat",
          "Deer",
          "Gorilla",
          "Bird",
          "Dog",
          "Pig",
          "Koala",
          "Dog",
          "Dog",
          "Duck",
          "Pig",
          "Duck",
          "Cub",
          "Dog",
          "Kangaroo",
          "Elephant",
          "Octopus",
          "Squirrel",
          "Kangaroo",
          "Bear",
          "Koala",
          "Rhino",
          "Cat",
          "Bird",
          "Squirrel",
          "Rabbit",
          "Duck",
          "Cat",
          "Cat",
          "Duck",
          "Cat",
          "Monkey",
          "Mouse",
          "Lion",
          "Sheep",
          "Cub",
          "Goat",
          "Monkey",
          "Cow",
          "Bear",
          "Squirrel",
          "Cow",
          "Rabbit",
          "Octopus",
          "Anteater",
          "Cub",
          "Cat",
          "Elephant",
          "Koala",
          "Pig",
          "Anteater",
          "Elephant",
          "Horse",
          "Goat",
          "Duck",
          "Cow",
          "Bear",
          "Horse",
          "Squirrel",
          "Squirrel",
          "Bird",
          "Gorilla",
          "Pig",
          "Cub",
          "Mouse",
          "Ostrich",
          "Ostrich",
          "Eagle",
          "Sheep",
          "Bear",
          "Bird",
          "Rabbit",
          "Chicken",
          "Duck",
          "Cub",
          "Squirrel",
          "Dog",
          "Frog",
          "Penguin",
          "Frog",
          "Cub",
          "Cat",
          "Cat",
          "Ostrich",
          "Duck",
          "Frog",
          "Pig",
          "Cat",
          "Rhino",
          "Horse",
          "Lion",
          "Rhino",
          "Frog",
          "Squirrel",
          "Mouse",
          "Penguin",
          "Bird",
          "Hippo",
          "Gorilla",
          "Mouse",
          "Bull",
          "Hamster",
          "Tiger",
          "Kangaroo",
          "Lion",
          "Horse",
          "Cat",
          "Tiger",
          "Rabbit",
          "Cat",
          "Squirrel",
          "Mouse",
          "Ostrich",
          "Horse",
          "Duck",
          "Monkey",
          "Squirrel",
          "Dog",
          "Goat",
          "Monkey",
          "Wolf",
          "Alligator",
          "Rabbit",
          "Anteater",
          "Hamster",
          "Bird",
          "Rhino",
          "Pig",
          "Penguin",
          "Ostrich",
          "Squirrel",
          "Sheep",
          "Eagle",
          "Cat",
          "Cub",
          "Bull",
          "Koala",
          "Squirrel",
          "Kangaroo",
          "Bull",
          "Cat",
          "Frog",
          "Monkey",
          "Cub",
          "Cat",
          "Rhino",
          "Squirrel",
          "Bear",
          "Penguin",
          "Elephant",
          "Rabbit",
          "Sheep",
          "Cow",
          "Cat",
          "Pig",
          "Elephant",
          "Bear",
          "Bird",
          "Tiger",
          "Bear",
          "Goat",
          "Sheep",
          "Bull",
          "Horse",
          "Gorilla",
          "Wolf",
          "Cub",
          "Penguin",
          "Dog",
          "Kangaroo",
          "Frog",
          "Duck",
          "Sheep",
          "Wolf",
          "Sheep",
          "Horse",
          "Wolf",
          "Koala",
          "Deer",
          "Octopus"
         ],
         "name": "",
         "root": {
          "color": "lightgrey"
         },
         "type": "treemap",
         "values": [
          632,
          1225,
          2535,
          600,
          1230,
          1363,
          253,
          704,
          1001,
          692,
          363,
          381,
          13038,
          586,
          263,
          1635,
          5491,
          5099,
          258,
          11842,
          3226,
          394,
          518,
          655,
          305,
          2733,
          1079,
          1347,
          1359,
          748,
          11411,
          199,
          749,
          373,
          543,
          667,
          293,
          2006,
          931,
          385,
          2362,
          760,
          1598,
          162,
          1121,
          923,
          4265,
          10333,
          532,
          2164,
          1026,
          489,
          543,
          294,
          160,
          499,
          946,
          243,
          1075,
          610,
          590,
          310,
          1858,
          935,
          230,
          395,
          629,
          1011,
          213,
          964,
          737,
          291,
          238,
          950,
          253,
          847,
          275,
          1565,
          6095,
          748,
          2745,
          1530,
          202,
          291,
          2262,
          304,
          280,
          3425,
          357,
          197,
          455,
          289,
          10163,
          702,
          681,
          4087,
          444,
          1268,
          229,
          1378,
          423,
          186,
          399,
          806,
          276,
          2357,
          448,
          1709,
          448,
          774,
          447,
          8044,
          724,
          1318,
          3234,
          447,
          10775,
          373,
          1370,
          1529,
          533,
          525,
          321,
          617,
          214,
          1506,
          366,
          440,
          627,
          10794,
          1279,
          671,
          4130,
          11628,
          1200,
          4504,
          496,
          961,
          4298,
          3288,
          1499,
          253,
          879,
          1367,
          276,
          924,
          377,
          1730,
          337,
          1093,
          529,
          1884,
          3154,
          227,
          826,
          227,
          4693,
          701,
          570,
          570,
          185,
          532,
          394,
          299,
          206,
          1676,
          577,
          429,
          175,
          1604,
          1588,
          383,
          638,
          607,
          2216,
          332,
          567,
          518,
          250,
          482,
          654,
          345,
          425,
          1192,
          532,
          1118,
          14741,
          1379,
          5561,
          1684,
          3012,
          2224,
          448,
          593,
          7354,
          356,
          2669,
          1337,
          3688,
          412,
          334,
          504,
          376,
          330,
          2184,
          348,
          407,
          3665,
          179,
          502,
          1097,
          9243,
          1334,
          244,
          308,
          9208,
          399,
          1420,
          714,
          1051,
          209,
          323,
          193,
          8594,
          740,
          422,
          854,
          13129,
          29787,
          396,
          1085,
          3571,
          10971,
          10131,
          675,
          915,
          1076,
          235,
          1650,
          786,
          9204,
          345,
          216,
          191,
          210,
          2295,
          633,
          1171,
          829,
          237,
          542,
          615,
          762,
          847,
          4434,
          423,
          751,
          1442,
          438,
          1659,
          194,
          437,
          362,
          1231,
          2954,
          622,
          605,
          216,
          250,
          1766,
          745,
          238,
          265,
          284,
          3155,
          340,
          720,
          2149,
          510,
          5330,
          904,
          753,
          429,
          493,
          724,
          1040,
          5776,
          626,
          469,
          388,
          987,
          523,
          3969,
          897,
          197,
          447,
          979,
          290,
          27778,
          645,
          2242,
          725,
          197,
          1001,
          199,
          177,
          9805,
          228,
          202,
          329,
          604,
          792,
          806,
          695,
          220,
          246,
          1381,
          5230,
          333,
          2898,
          1533,
          501,
          242,
          210,
          878,
          1382,
          1200,
          607,
          1841,
          19883,
          360,
          3727,
          490,
          1394,
          171,
          311,
          197,
          456,
          311,
          3421,
          1179,
          1767,
          985,
          649,
          637,
          12548,
          536,
          1075,
          1755,
          394,
          227,
          2534,
          392,
          396,
          793,
          5608,
          639,
          1024,
          1617,
          592,
          4682,
          804,
          256,
          686,
          761,
          236,
          406,
          1119,
          541,
          481,
          521,
          232,
          1097,
          313,
          362,
          147,
          1098,
          382,
          1434,
          921,
          692,
          517,
          650,
          1140,
          4464,
          893,
          425,
          2888,
          501,
          2839,
          17442
         ]
        }
       ],
       "layout": {
        "legend": {
         "tracegroupgap": 0
        },
        "margin": {
         "b": 25,
         "l": 25,
         "r": 25,
         "t": 50
        },
        "template": {
         "data": {
          "bar": [
           {
            "error_x": {
             "color": "#2a3f5f"
            },
            "error_y": {
             "color": "#2a3f5f"
            },
            "marker": {
             "line": {
              "color": "#E5ECF6",
              "width": 0.5
             },
             "pattern": {
              "fillmode": "overlay",
              "size": 10,
              "solidity": 0.2
             }
            },
            "type": "bar"
           }
          ],
          "barpolar": [
           {
            "marker": {
             "line": {
              "color": "#E5ECF6",
              "width": 0.5
             },
             "pattern": {
              "fillmode": "overlay",
              "size": 10,
              "solidity": 0.2
             }
            },
            "type": "barpolar"
           }
          ],
          "carpet": [
           {
            "aaxis": {
             "endlinecolor": "#2a3f5f",
             "gridcolor": "white",
             "linecolor": "white",
             "minorgridcolor": "white",
             "startlinecolor": "#2a3f5f"
            },
            "baxis": {
             "endlinecolor": "#2a3f5f",
             "gridcolor": "white",
             "linecolor": "white",
             "minorgridcolor": "white",
             "startlinecolor": "#2a3f5f"
            },
            "type": "carpet"
           }
          ],
          "choropleth": [
           {
            "colorbar": {
             "outlinewidth": 0,
             "ticks": ""
            },
            "type": "choropleth"
           }
          ],
          "contour": [
           {
            "colorbar": {
             "outlinewidth": 0,
             "ticks": ""
            },
            "colorscale": [
             [
              0,
              "#0d0887"
             ],
             [
              0.1111111111111111,
              "#46039f"
             ],
             [
              0.2222222222222222,
              "#7201a8"
             ],
             [
              0.3333333333333333,
              "#9c179e"
             ],
             [
              0.4444444444444444,
              "#bd3786"
             ],
             [
              0.5555555555555556,
              "#d8576b"
             ],
             [
              0.6666666666666666,
              "#ed7953"
             ],
             [
              0.7777777777777778,
              "#fb9f3a"
             ],
             [
              0.8888888888888888,
              "#fdca26"
             ],
             [
              1,
              "#f0f921"
             ]
            ],
            "type": "contour"
           }
          ],
          "contourcarpet": [
           {
            "colorbar": {
             "outlinewidth": 0,
             "ticks": ""
            },
            "type": "contourcarpet"
           }
          ],
          "heatmap": [
           {
            "colorbar": {
             "outlinewidth": 0,
             "ticks": ""
            },
            "colorscale": [
             [
              0,
              "#0d0887"
             ],
             [
              0.1111111111111111,
              "#46039f"
             ],
             [
              0.2222222222222222,
              "#7201a8"
             ],
             [
              0.3333333333333333,
              "#9c179e"
             ],
             [
              0.4444444444444444,
              "#bd3786"
             ],
             [
              0.5555555555555556,
              "#d8576b"
             ],
             [
              0.6666666666666666,
              "#ed7953"
             ],
             [
              0.7777777777777778,
              "#fb9f3a"
             ],
             [
              0.8888888888888888,
              "#fdca26"
             ],
             [
              1,
              "#f0f921"
             ]
            ],
            "type": "heatmap"
           }
          ],
          "heatmapgl": [
           {
            "colorbar": {
             "outlinewidth": 0,
             "ticks": ""
            },
            "colorscale": [
             [
              0,
              "#0d0887"
             ],
             [
              0.1111111111111111,
              "#46039f"
             ],
             [
              0.2222222222222222,
              "#7201a8"
             ],
             [
              0.3333333333333333,
              "#9c179e"
             ],
             [
              0.4444444444444444,
              "#bd3786"
             ],
             [
              0.5555555555555556,
              "#d8576b"
             ],
             [
              0.6666666666666666,
              "#ed7953"
             ],
             [
              0.7777777777777778,
              "#fb9f3a"
             ],
             [
              0.8888888888888888,
              "#fdca26"
             ],
             [
              1,
              "#f0f921"
             ]
            ],
            "type": "heatmapgl"
           }
          ],
          "histogram": [
           {
            "marker": {
             "pattern": {
              "fillmode": "overlay",
              "size": 10,
              "solidity": 0.2
             }
            },
            "type": "histogram"
           }
          ],
          "histogram2d": [
           {
            "colorbar": {
             "outlinewidth": 0,
             "ticks": ""
            },
            "colorscale": [
             [
              0,
              "#0d0887"
             ],
             [
              0.1111111111111111,
              "#46039f"
             ],
             [
              0.2222222222222222,
              "#7201a8"
             ],
             [
              0.3333333333333333,
              "#9c179e"
             ],
             [
              0.4444444444444444,
              "#bd3786"
             ],
             [
              0.5555555555555556,
              "#d8576b"
             ],
             [
              0.6666666666666666,
              "#ed7953"
             ],
             [
              0.7777777777777778,
              "#fb9f3a"
             ],
             [
              0.8888888888888888,
              "#fdca26"
             ],
             [
              1,
              "#f0f921"
             ]
            ],
            "type": "histogram2d"
           }
          ],
          "histogram2dcontour": [
           {
            "colorbar": {
             "outlinewidth": 0,
             "ticks": ""
            },
            "colorscale": [
             [
              0,
              "#0d0887"
             ],
             [
              0.1111111111111111,
              "#46039f"
             ],
             [
              0.2222222222222222,
              "#7201a8"
             ],
             [
              0.3333333333333333,
              "#9c179e"
             ],
             [
              0.4444444444444444,
              "#bd3786"
             ],
             [
              0.5555555555555556,
              "#d8576b"
             ],
             [
              0.6666666666666666,
              "#ed7953"
             ],
             [
              0.7777777777777778,
              "#fb9f3a"
             ],
             [
              0.8888888888888888,
              "#fdca26"
             ],
             [
              1,
              "#f0f921"
             ]
            ],
            "type": "histogram2dcontour"
           }
          ],
          "mesh3d": [
           {
            "colorbar": {
             "outlinewidth": 0,
             "ticks": ""
            },
            "type": "mesh3d"
           }
          ],
          "parcoords": [
           {
            "line": {
             "colorbar": {
              "outlinewidth": 0,
              "ticks": ""
             }
            },
            "type": "parcoords"
           }
          ],
          "pie": [
           {
            "automargin": true,
            "type": "pie"
           }
          ],
          "scatter": [
           {
            "marker": {
             "colorbar": {
              "outlinewidth": 0,
              "ticks": ""
             }
            },
            "type": "scatter"
           }
          ],
          "scatter3d": [
           {
            "line": {
             "colorbar": {
              "outlinewidth": 0,
              "ticks": ""
             }
            },
            "marker": {
             "colorbar": {
              "outlinewidth": 0,
              "ticks": ""
             }
            },
            "type": "scatter3d"
           }
          ],
          "scattercarpet": [
           {
            "marker": {
             "colorbar": {
              "outlinewidth": 0,
              "ticks": ""
             }
            },
            "type": "scattercarpet"
           }
          ],
          "scattergeo": [
           {
            "marker": {
             "colorbar": {
              "outlinewidth": 0,
              "ticks": ""
             }
            },
            "type": "scattergeo"
           }
          ],
          "scattergl": [
           {
            "marker": {
             "colorbar": {
              "outlinewidth": 0,
              "ticks": ""
             }
            },
            "type": "scattergl"
           }
          ],
          "scattermapbox": [
           {
            "marker": {
             "colorbar": {
              "outlinewidth": 0,
              "ticks": ""
             }
            },
            "type": "scattermapbox"
           }
          ],
          "scatterpolar": [
           {
            "marker": {
             "colorbar": {
              "outlinewidth": 0,
              "ticks": ""
             }
            },
            "type": "scatterpolar"
           }
          ],
          "scatterpolargl": [
           {
            "marker": {
             "colorbar": {
              "outlinewidth": 0,
              "ticks": ""
             }
            },
            "type": "scatterpolargl"
           }
          ],
          "scatterternary": [
           {
            "marker": {
             "colorbar": {
              "outlinewidth": 0,
              "ticks": ""
             }
            },
            "type": "scatterternary"
           }
          ],
          "surface": [
           {
            "colorbar": {
             "outlinewidth": 0,
             "ticks": ""
            },
            "colorscale": [
             [
              0,
              "#0d0887"
             ],
             [
              0.1111111111111111,
              "#46039f"
             ],
             [
              0.2222222222222222,
              "#7201a8"
             ],
             [
              0.3333333333333333,
              "#9c179e"
             ],
             [
              0.4444444444444444,
              "#bd3786"
             ],
             [
              0.5555555555555556,
              "#d8576b"
             ],
             [
              0.6666666666666666,
              "#ed7953"
             ],
             [
              0.7777777777777778,
              "#fb9f3a"
             ],
             [
              0.8888888888888888,
              "#fdca26"
             ],
             [
              1,
              "#f0f921"
             ]
            ],
            "type": "surface"
           }
          ],
          "table": [
           {
            "cells": {
             "fill": {
              "color": "#EBF0F8"
             },
             "line": {
              "color": "white"
             }
            },
            "header": {
             "fill": {
              "color": "#C8D4E3"
             },
             "line": {
              "color": "white"
             }
            },
            "type": "table"
           }
          ]
         },
         "layout": {
          "annotationdefaults": {
           "arrowcolor": "#2a3f5f",
           "arrowhead": 0,
           "arrowwidth": 1
          },
          "autotypenumbers": "strict",
          "coloraxis": {
           "colorbar": {
            "outlinewidth": 0,
            "ticks": ""
           }
          },
          "colorscale": {
           "diverging": [
            [
             0,
             "#8e0152"
            ],
            [
             0.1,
             "#c51b7d"
            ],
            [
             0.2,
             "#de77ae"
            ],
            [
             0.3,
             "#f1b6da"
            ],
            [
             0.4,
             "#fde0ef"
            ],
            [
             0.5,
             "#f7f7f7"
            ],
            [
             0.6,
             "#e6f5d0"
            ],
            [
             0.7,
             "#b8e186"
            ],
            [
             0.8,
             "#7fbc41"
            ],
            [
             0.9,
             "#4d9221"
            ],
            [
             1,
             "#276419"
            ]
           ],
           "sequential": [
            [
             0,
             "#0d0887"
            ],
            [
             0.1111111111111111,
             "#46039f"
            ],
            [
             0.2222222222222222,
             "#7201a8"
            ],
            [
             0.3333333333333333,
             "#9c179e"
            ],
            [
             0.4444444444444444,
             "#bd3786"
            ],
            [
             0.5555555555555556,
             "#d8576b"
            ],
            [
             0.6666666666666666,
             "#ed7953"
            ],
            [
             0.7777777777777778,
             "#fb9f3a"
            ],
            [
             0.8888888888888888,
             "#fdca26"
            ],
            [
             1,
             "#f0f921"
            ]
           ],
           "sequentialminus": [
            [
             0,
             "#0d0887"
            ],
            [
             0.1111111111111111,
             "#46039f"
            ],
            [
             0.2222222222222222,
             "#7201a8"
            ],
            [
             0.3333333333333333,
             "#9c179e"
            ],
            [
             0.4444444444444444,
             "#bd3786"
            ],
            [
             0.5555555555555556,
             "#d8576b"
            ],
            [
             0.6666666666666666,
             "#ed7953"
            ],
            [
             0.7777777777777778,
             "#fb9f3a"
            ],
            [
             0.8888888888888888,
             "#fdca26"
            ],
            [
             1,
             "#f0f921"
            ]
           ]
          },
          "colorway": [
           "#636efa",
           "#EF553B",
           "#00cc96",
           "#ab63fa",
           "#FFA15A",
           "#19d3f3",
           "#FF6692",
           "#B6E880",
           "#FF97FF",
           "#FECB52"
          ],
          "font": {
           "color": "#2a3f5f"
          },
          "geo": {
           "bgcolor": "white",
           "lakecolor": "white",
           "landcolor": "#E5ECF6",
           "showlakes": true,
           "showland": true,
           "subunitcolor": "white"
          },
          "hoverlabel": {
           "align": "left"
          },
          "hovermode": "closest",
          "mapbox": {
           "style": "light"
          },
          "paper_bgcolor": "white",
          "plot_bgcolor": "#E5ECF6",
          "polar": {
           "angularaxis": {
            "gridcolor": "white",
            "linecolor": "white",
            "ticks": ""
           },
           "bgcolor": "#E5ECF6",
           "radialaxis": {
            "gridcolor": "white",
            "linecolor": "white",
            "ticks": ""
           }
          },
          "scene": {
           "xaxis": {
            "backgroundcolor": "#E5ECF6",
            "gridcolor": "white",
            "gridwidth": 2,
            "linecolor": "white",
            "showbackground": true,
            "ticks": "",
            "zerolinecolor": "white"
           },
           "yaxis": {
            "backgroundcolor": "#E5ECF6",
            "gridcolor": "white",
            "gridwidth": 2,
            "linecolor": "white",
            "showbackground": true,
            "ticks": "",
            "zerolinecolor": "white"
           },
           "zaxis": {
            "backgroundcolor": "#E5ECF6",
            "gridcolor": "white",
            "gridwidth": 2,
            "linecolor": "white",
            "showbackground": true,
            "ticks": "",
            "zerolinecolor": "white"
           }
          },
          "shapedefaults": {
           "line": {
            "color": "#2a3f5f"
           }
          },
          "ternary": {
           "aaxis": {
            "gridcolor": "white",
            "linecolor": "white",
            "ticks": ""
           },
           "baxis": {
            "gridcolor": "white",
            "linecolor": "white",
            "ticks": ""
           },
           "bgcolor": "#E5ECF6",
           "caxis": {
            "gridcolor": "white",
            "linecolor": "white",
            "ticks": ""
           }
          },
          "title": {
           "x": 0.05
          },
          "xaxis": {
           "automargin": true,
           "gridcolor": "white",
           "linecolor": "white",
           "ticks": "",
           "title": {
            "standoff": 15
           },
           "zerolinecolor": "white",
           "zerolinewidth": 2
          },
          "yaxis": {
           "automargin": true,
           "gridcolor": "white",
           "linecolor": "white",
           "ticks": "",
           "title": {
            "standoff": 15
           },
           "zerolinecolor": "white",
           "zerolinewidth": 2
          }
         }
        }
       }
      }
     },
     "metadata": {},
     "output_type": "display_data"
    }
   ],
   "source": [
    "import plotly.express as px\n",
    "fig = px.treemap(\n",
    "    # parents = final_villagers['Astrology'],\n",
    "    names = final_villagers['Species'],\n",
    "    # parents = final_villagers['Personality'],\n",
    "    # values = final_villagers['Poll_Results'],\n",
    ")\n",
    "fig.update_traces(values=final_villagers['Poll_Results'], selector=dict(type='treemap')) \n",
    "fig.update_traces(root_color=\"lightgrey\")\n",
    "fig.update_layout(margin = dict(t=50, l=25, r=25, b=25))\n",
    "fig.show()"
   ]
  },
  {
   "cell_type": "code",
   "execution_count": 115,
   "id": "b8830286",
   "metadata": {},
   "outputs": [],
   "source": [
    "species_astro.reset_index(inplace=True)"
   ]
  },
  {
   "cell_type": "code",
   "execution_count": 116,
   "id": "1e117257",
   "metadata": {},
   "outputs": [
    {
     "data": {
      "text/html": [
       "<div>\n",
       "<style scoped>\n",
       "    .dataframe tbody tr th:only-of-type {\n",
       "        vertical-align: middle;\n",
       "    }\n",
       "\n",
       "    .dataframe tbody tr th {\n",
       "        vertical-align: top;\n",
       "    }\n",
       "\n",
       "    .dataframe thead th {\n",
       "        text-align: right;\n",
       "    }\n",
       "</style>\n",
       "<table border=\"1\" class=\"dataframe\">\n",
       "  <thead>\n",
       "    <tr style=\"text-align: right;\">\n",
       "      <th>Astrology</th>\n",
       "      <th>index</th>\n",
       "      <th>Species</th>\n",
       "      <th>Aquarius</th>\n",
       "      <th>Aries</th>\n",
       "      <th>Cancer</th>\n",
       "      <th>Capricorn</th>\n",
       "      <th>Gemini</th>\n",
       "      <th>Leo</th>\n",
       "      <th>Libra</th>\n",
       "      <th>Pisces</th>\n",
       "      <th>Sagittarius</th>\n",
       "      <th>Scorpio</th>\n",
       "      <th>Taurus</th>\n",
       "      <th>Virgo</th>\n",
       "    </tr>\n",
       "  </thead>\n",
       "  <tbody>\n",
       "    <tr>\n",
       "      <th>0</th>\n",
       "      <td>0</td>\n",
       "      <td>Alligator</td>\n",
       "      <td>3144479.0</td>\n",
       "      <td>0.0</td>\n",
       "      <td>0.0</td>\n",
       "      <td>0.0</td>\n",
       "      <td>2001478.0</td>\n",
       "      <td>1785643.0</td>\n",
       "      <td>0.0</td>\n",
       "      <td>0.0</td>\n",
       "      <td>0.0</td>\n",
       "      <td>3954593.0</td>\n",
       "      <td>1807134.0</td>\n",
       "      <td>0.0</td>\n",
       "    </tr>\n",
       "    <tr>\n",
       "      <th>1</th>\n",
       "      <td>1</td>\n",
       "      <td>Anteater</td>\n",
       "      <td>4441687.0</td>\n",
       "      <td>0.0</td>\n",
       "      <td>0.0</td>\n",
       "      <td>0.0</td>\n",
       "      <td>0.0</td>\n",
       "      <td>0.0</td>\n",
       "      <td>526085.0</td>\n",
       "      <td>1769126.0</td>\n",
       "      <td>0.0</td>\n",
       "      <td>5646618.0</td>\n",
       "      <td>1944223.0</td>\n",
       "      <td>0.0</td>\n",
       "    </tr>\n",
       "    <tr>\n",
       "      <th>2</th>\n",
       "      <td>2</td>\n",
       "      <td>Bear</td>\n",
       "      <td>0.0</td>\n",
       "      <td>3918535.0</td>\n",
       "      <td>3731490.0</td>\n",
       "      <td>2133521.0</td>\n",
       "      <td>0.0</td>\n",
       "      <td>2997874.0</td>\n",
       "      <td>2314535.0</td>\n",
       "      <td>2786335.0</td>\n",
       "      <td>0.0</td>\n",
       "      <td>1818794.0</td>\n",
       "      <td>2315050.0</td>\n",
       "      <td>3494773.0</td>\n",
       "    </tr>\n",
       "    <tr>\n",
       "      <th>3</th>\n",
       "      <td>3</td>\n",
       "      <td>Bird</td>\n",
       "      <td>3228014.0</td>\n",
       "      <td>2448853.0</td>\n",
       "      <td>3741610.0</td>\n",
       "      <td>0.0</td>\n",
       "      <td>0.0</td>\n",
       "      <td>728688.0</td>\n",
       "      <td>0.0</td>\n",
       "      <td>5843267.0</td>\n",
       "      <td>789606.0</td>\n",
       "      <td>2175097.0</td>\n",
       "      <td>0.0</td>\n",
       "      <td>2305832.0</td>\n",
       "    </tr>\n",
       "    <tr>\n",
       "      <th>4</th>\n",
       "      <td>4</td>\n",
       "      <td>Bull</td>\n",
       "      <td>0.0</td>\n",
       "      <td>0.0</td>\n",
       "      <td>0.0</td>\n",
       "      <td>542663.0</td>\n",
       "      <td>0.0</td>\n",
       "      <td>0.0</td>\n",
       "      <td>0.0</td>\n",
       "      <td>0.0</td>\n",
       "      <td>0.0</td>\n",
       "      <td>1486892.0</td>\n",
       "      <td>6877481.0</td>\n",
       "      <td>0.0</td>\n",
       "    </tr>\n",
       "    <tr>\n",
       "      <th>5</th>\n",
       "      <td>5</td>\n",
       "      <td>Cat</td>\n",
       "      <td>5303926.0</td>\n",
       "      <td>5455462.0</td>\n",
       "      <td>1522781.0</td>\n",
       "      <td>2004869.0</td>\n",
       "      <td>3257755.0</td>\n",
       "      <td>3315090.0</td>\n",
       "      <td>8823551.0</td>\n",
       "      <td>721530.0</td>\n",
       "      <td>8233306.0</td>\n",
       "      <td>0.0</td>\n",
       "      <td>2303274.0</td>\n",
       "      <td>7277038.0</td>\n",
       "    </tr>\n",
       "    <tr>\n",
       "      <th>6</th>\n",
       "      <td>6</td>\n",
       "      <td>Chicken</td>\n",
       "      <td>0.0</td>\n",
       "      <td>0.0</td>\n",
       "      <td>0.0</td>\n",
       "      <td>568193.0</td>\n",
       "      <td>0.0</td>\n",
       "      <td>0.0</td>\n",
       "      <td>8276653.0</td>\n",
       "      <td>0.0</td>\n",
       "      <td>2540375.0</td>\n",
       "      <td>845593.0</td>\n",
       "      <td>2590344.0</td>\n",
       "      <td>0.0</td>\n",
       "    </tr>\n",
       "    <tr>\n",
       "      <th>7</th>\n",
       "      <td>7</td>\n",
       "      <td>Cow</td>\n",
       "      <td>0.0</td>\n",
       "      <td>0.0</td>\n",
       "      <td>0.0</td>\n",
       "      <td>0.0</td>\n",
       "      <td>0.0</td>\n",
       "      <td>0.0</td>\n",
       "      <td>0.0</td>\n",
       "      <td>2090087.0</td>\n",
       "      <td>0.0</td>\n",
       "      <td>0.0</td>\n",
       "      <td>2598255.0</td>\n",
       "      <td>5103998.0</td>\n",
       "    </tr>\n",
       "    <tr>\n",
       "      <th>8</th>\n",
       "      <td>8</td>\n",
       "      <td>Cub</td>\n",
       "      <td>1610048.0</td>\n",
       "      <td>0.0</td>\n",
       "      <td>17402809.0</td>\n",
       "      <td>3259823.0</td>\n",
       "      <td>3620551.0</td>\n",
       "      <td>3972030.0</td>\n",
       "      <td>414780.0</td>\n",
       "      <td>8841453.0</td>\n",
       "      <td>0.0</td>\n",
       "      <td>0.0</td>\n",
       "      <td>3384455.0</td>\n",
       "      <td>0.0</td>\n",
       "    </tr>\n",
       "    <tr>\n",
       "      <th>9</th>\n",
       "      <td>9</td>\n",
       "      <td>Deer</td>\n",
       "      <td>0.0</td>\n",
       "      <td>2962639.0</td>\n",
       "      <td>0.0</td>\n",
       "      <td>1350294.0</td>\n",
       "      <td>4473464.0</td>\n",
       "      <td>3763878.0</td>\n",
       "      <td>0.0</td>\n",
       "      <td>0.0</td>\n",
       "      <td>0.0</td>\n",
       "      <td>958633.0</td>\n",
       "      <td>2595659.0</td>\n",
       "      <td>2386980.0</td>\n",
       "    </tr>\n",
       "    <tr>\n",
       "      <th>10</th>\n",
       "      <td>10</td>\n",
       "      <td>Dog</td>\n",
       "      <td>0.0</td>\n",
       "      <td>0.0</td>\n",
       "      <td>0.0</td>\n",
       "      <td>5644634.0</td>\n",
       "      <td>6507158.0</td>\n",
       "      <td>3488457.0</td>\n",
       "      <td>1702459.0</td>\n",
       "      <td>0.0</td>\n",
       "      <td>2449341.0</td>\n",
       "      <td>7651590.0</td>\n",
       "      <td>1259793.0</td>\n",
       "      <td>0.0</td>\n",
       "    </tr>\n",
       "    <tr>\n",
       "      <th>11</th>\n",
       "      <td>11</td>\n",
       "      <td>Duck</td>\n",
       "      <td>2702586.0</td>\n",
       "      <td>1353459.0</td>\n",
       "      <td>4621001.0</td>\n",
       "      <td>2370315.0</td>\n",
       "      <td>2862779.0</td>\n",
       "      <td>4139931.0</td>\n",
       "      <td>0.0</td>\n",
       "      <td>4436905.0</td>\n",
       "      <td>0.0</td>\n",
       "      <td>2090343.0</td>\n",
       "      <td>3017985.0</td>\n",
       "      <td>0.0</td>\n",
       "    </tr>\n",
       "    <tr>\n",
       "      <th>12</th>\n",
       "      <td>12</td>\n",
       "      <td>Eagle</td>\n",
       "      <td>0.0</td>\n",
       "      <td>1364200.0</td>\n",
       "      <td>519091.0</td>\n",
       "      <td>1667060.0</td>\n",
       "      <td>1988848.0</td>\n",
       "      <td>1787203.0</td>\n",
       "      <td>0.0</td>\n",
       "      <td>1565668.0</td>\n",
       "      <td>4454579.0</td>\n",
       "      <td>2263554.0</td>\n",
       "      <td>0.0</td>\n",
       "      <td>0.0</td>\n",
       "    </tr>\n",
       "    <tr>\n",
       "      <th>13</th>\n",
       "      <td>13</td>\n",
       "      <td>Elephant</td>\n",
       "      <td>3164602.0</td>\n",
       "      <td>1610355.0</td>\n",
       "      <td>1374068.0</td>\n",
       "      <td>0.0</td>\n",
       "      <td>1988656.0</td>\n",
       "      <td>0.0</td>\n",
       "      <td>2964035.0</td>\n",
       "      <td>0.0</td>\n",
       "      <td>687810.0</td>\n",
       "      <td>2474682.0</td>\n",
       "      <td>5066018.0</td>\n",
       "      <td>230506.0</td>\n",
       "    </tr>\n",
       "    <tr>\n",
       "      <th>14</th>\n",
       "      <td>14</td>\n",
       "      <td>Frog</td>\n",
       "      <td>6604143.0</td>\n",
       "      <td>0.0</td>\n",
       "      <td>6092132.0</td>\n",
       "      <td>2264187.0</td>\n",
       "      <td>4191458.0</td>\n",
       "      <td>3581586.0</td>\n",
       "      <td>7596099.0</td>\n",
       "      <td>0.0</td>\n",
       "      <td>1952194.0</td>\n",
       "      <td>1846745.0</td>\n",
       "      <td>0.0</td>\n",
       "      <td>1638838.0</td>\n",
       "    </tr>\n",
       "    <tr>\n",
       "      <th>15</th>\n",
       "      <td>15</td>\n",
       "      <td>Goat</td>\n",
       "      <td>0.0</td>\n",
       "      <td>1008960.0</td>\n",
       "      <td>125267.0</td>\n",
       "      <td>11764769.0</td>\n",
       "      <td>0.0</td>\n",
       "      <td>0.0</td>\n",
       "      <td>0.0</td>\n",
       "      <td>3019845.0</td>\n",
       "      <td>0.0</td>\n",
       "      <td>0.0</td>\n",
       "      <td>0.0</td>\n",
       "      <td>4013520.0</td>\n",
       "    </tr>\n",
       "    <tr>\n",
       "      <th>16</th>\n",
       "      <td>16</td>\n",
       "      <td>Gorilla</td>\n",
       "      <td>0.0</td>\n",
       "      <td>6435673.0</td>\n",
       "      <td>0.0</td>\n",
       "      <td>0.0</td>\n",
       "      <td>0.0</td>\n",
       "      <td>0.0</td>\n",
       "      <td>3128010.0</td>\n",
       "      <td>0.0</td>\n",
       "      <td>1503179.0</td>\n",
       "      <td>0.0</td>\n",
       "      <td>0.0</td>\n",
       "      <td>4667234.0</td>\n",
       "    </tr>\n",
       "    <tr>\n",
       "      <th>17</th>\n",
       "      <td>17</td>\n",
       "      <td>Hamster</td>\n",
       "      <td>1945888.0</td>\n",
       "      <td>0.0</td>\n",
       "      <td>0.0</td>\n",
       "      <td>0.0</td>\n",
       "      <td>3016446.0</td>\n",
       "      <td>2555811.0</td>\n",
       "      <td>20562524.0</td>\n",
       "      <td>1887477.0</td>\n",
       "      <td>0.0</td>\n",
       "      <td>2430806.0</td>\n",
       "      <td>0.0</td>\n",
       "      <td>0.0</td>\n",
       "    </tr>\n",
       "    <tr>\n",
       "      <th>18</th>\n",
       "      <td>18</td>\n",
       "      <td>Hippo</td>\n",
       "      <td>0.0</td>\n",
       "      <td>3926531.0</td>\n",
       "      <td>0.0</td>\n",
       "      <td>1333895.0</td>\n",
       "      <td>0.0</td>\n",
       "      <td>1695802.0</td>\n",
       "      <td>4207145.0</td>\n",
       "      <td>0.0</td>\n",
       "      <td>0.0</td>\n",
       "      <td>0.0</td>\n",
       "      <td>2139767.0</td>\n",
       "      <td>6043230.0</td>\n",
       "    </tr>\n",
       "    <tr>\n",
       "      <th>19</th>\n",
       "      <td>19</td>\n",
       "      <td>Horse</td>\n",
       "      <td>4381060.0</td>\n",
       "      <td>588050.0</td>\n",
       "      <td>2071162.0</td>\n",
       "      <td>621881.0</td>\n",
       "      <td>5295394.0</td>\n",
       "      <td>0.0</td>\n",
       "      <td>2128216.0</td>\n",
       "      <td>4478361.0</td>\n",
       "      <td>2559573.0</td>\n",
       "      <td>0.0</td>\n",
       "      <td>2881247.0</td>\n",
       "      <td>1236971.0</td>\n",
       "    </tr>\n",
       "    <tr>\n",
       "      <th>20</th>\n",
       "      <td>20</td>\n",
       "      <td>Kangaroo</td>\n",
       "      <td>0.0</td>\n",
       "      <td>0.0</td>\n",
       "      <td>0.0</td>\n",
       "      <td>0.0</td>\n",
       "      <td>1894572.0</td>\n",
       "      <td>0.0</td>\n",
       "      <td>814212.0</td>\n",
       "      <td>0.0</td>\n",
       "      <td>2544511.0</td>\n",
       "      <td>2066096.0</td>\n",
       "      <td>2913326.0</td>\n",
       "      <td>592008.0</td>\n",
       "    </tr>\n",
       "    <tr>\n",
       "      <th>21</th>\n",
       "      <td>21</td>\n",
       "      <td>Koala</td>\n",
       "      <td>0.0</td>\n",
       "      <td>1843821.0</td>\n",
       "      <td>2782386.0</td>\n",
       "      <td>0.0</td>\n",
       "      <td>0.0</td>\n",
       "      <td>2376763.0</td>\n",
       "      <td>3881141.0</td>\n",
       "      <td>0.0</td>\n",
       "      <td>0.0</td>\n",
       "      <td>815579.0</td>\n",
       "      <td>2502220.0</td>\n",
       "      <td>0.0</td>\n",
       "    </tr>\n",
       "    <tr>\n",
       "      <th>22</th>\n",
       "      <td>22</td>\n",
       "      <td>Lion</td>\n",
       "      <td>0.0</td>\n",
       "      <td>0.0</td>\n",
       "      <td>1931160.0</td>\n",
       "      <td>0.0</td>\n",
       "      <td>0.0</td>\n",
       "      <td>9565407.0</td>\n",
       "      <td>0.0</td>\n",
       "      <td>0.0</td>\n",
       "      <td>0.0</td>\n",
       "      <td>0.0</td>\n",
       "      <td>0.0</td>\n",
       "      <td>0.0</td>\n",
       "    </tr>\n",
       "    <tr>\n",
       "      <th>23</th>\n",
       "      <td>23</td>\n",
       "      <td>Monkey</td>\n",
       "      <td>0.0</td>\n",
       "      <td>6508560.0</td>\n",
       "      <td>0.0</td>\n",
       "      <td>1987360.0</td>\n",
       "      <td>2969774.0</td>\n",
       "      <td>0.0</td>\n",
       "      <td>0.0</td>\n",
       "      <td>0.0</td>\n",
       "      <td>2150116.0</td>\n",
       "      <td>1380446.0</td>\n",
       "      <td>0.0</td>\n",
       "      <td>936129.0</td>\n",
       "    </tr>\n",
       "    <tr>\n",
       "      <th>24</th>\n",
       "      <td>24</td>\n",
       "      <td>Mouse</td>\n",
       "      <td>4321563.0</td>\n",
       "      <td>2475213.0</td>\n",
       "      <td>5923197.0</td>\n",
       "      <td>2132426.0</td>\n",
       "      <td>1923043.0</td>\n",
       "      <td>5076634.0</td>\n",
       "      <td>259.0</td>\n",
       "      <td>1271081.0</td>\n",
       "      <td>2027197.0</td>\n",
       "      <td>0.0</td>\n",
       "      <td>0.0</td>\n",
       "      <td>3501876.0</td>\n",
       "    </tr>\n",
       "    <tr>\n",
       "      <th>25</th>\n",
       "      <td>25</td>\n",
       "      <td>Octopus</td>\n",
       "      <td>0.0</td>\n",
       "      <td>0.0</td>\n",
       "      <td>3063629.0</td>\n",
       "      <td>0.0</td>\n",
       "      <td>0.0</td>\n",
       "      <td>0.0</td>\n",
       "      <td>0.0</td>\n",
       "      <td>2529942.0</td>\n",
       "      <td>0.0</td>\n",
       "      <td>0.0</td>\n",
       "      <td>0.0</td>\n",
       "      <td>2838334.0</td>\n",
       "    </tr>\n",
       "    <tr>\n",
       "      <th>26</th>\n",
       "      <td>26</td>\n",
       "      <td>Ostrich</td>\n",
       "      <td>2786348.0</td>\n",
       "      <td>0.0</td>\n",
       "      <td>0.0</td>\n",
       "      <td>649576.0</td>\n",
       "      <td>0.0</td>\n",
       "      <td>591229.0</td>\n",
       "      <td>5992478.0</td>\n",
       "      <td>0.0</td>\n",
       "      <td>5763272.0</td>\n",
       "      <td>1180447.0</td>\n",
       "      <td>2200949.0</td>\n",
       "      <td>0.0</td>\n",
       "    </tr>\n",
       "    <tr>\n",
       "      <th>27</th>\n",
       "      <td>27</td>\n",
       "      <td>Penguin</td>\n",
       "      <td>4219566.0</td>\n",
       "      <td>1467157.0</td>\n",
       "      <td>0.0</td>\n",
       "      <td>2104305.0</td>\n",
       "      <td>0.0</td>\n",
       "      <td>0.0</td>\n",
       "      <td>4662768.0</td>\n",
       "      <td>3378209.0</td>\n",
       "      <td>0.0</td>\n",
       "      <td>3401602.0</td>\n",
       "      <td>0.0</td>\n",
       "      <td>3058311.0</td>\n",
       "    </tr>\n",
       "    <tr>\n",
       "      <th>28</th>\n",
       "      <td>28</td>\n",
       "      <td>Pig</td>\n",
       "      <td>0.0</td>\n",
       "      <td>2186540.0</td>\n",
       "      <td>0.0</td>\n",
       "      <td>2336117.0</td>\n",
       "      <td>1947343.0</td>\n",
       "      <td>4118772.0</td>\n",
       "      <td>3495491.0</td>\n",
       "      <td>3806443.0</td>\n",
       "      <td>0.0</td>\n",
       "      <td>2480728.0</td>\n",
       "      <td>5124971.0</td>\n",
       "      <td>3018184.0</td>\n",
       "    </tr>\n",
       "    <tr>\n",
       "      <th>29</th>\n",
       "      <td>29</td>\n",
       "      <td>Rabbit</td>\n",
       "      <td>5537503.0</td>\n",
       "      <td>0.0</td>\n",
       "      <td>1902276.0</td>\n",
       "      <td>3088096.0</td>\n",
       "      <td>1407179.0</td>\n",
       "      <td>3092649.0</td>\n",
       "      <td>0.0</td>\n",
       "      <td>7566850.0</td>\n",
       "      <td>2604741.0</td>\n",
       "      <td>1332223.0</td>\n",
       "      <td>1029608.0</td>\n",
       "      <td>1623712.0</td>\n",
       "    </tr>\n",
       "    <tr>\n",
       "      <th>30</th>\n",
       "      <td>30</td>\n",
       "      <td>Rhino</td>\n",
       "      <td>1555147.0</td>\n",
       "      <td>0.0</td>\n",
       "      <td>0.0</td>\n",
       "      <td>0.0</td>\n",
       "      <td>2438601.0</td>\n",
       "      <td>0.0</td>\n",
       "      <td>0.0</td>\n",
       "      <td>3938887.0</td>\n",
       "      <td>0.0</td>\n",
       "      <td>0.0</td>\n",
       "      <td>1633189.0</td>\n",
       "      <td>0.0</td>\n",
       "    </tr>\n",
       "    <tr>\n",
       "      <th>31</th>\n",
       "      <td>31</td>\n",
       "      <td>Sheep</td>\n",
       "      <td>1957045.0</td>\n",
       "      <td>7102626.0</td>\n",
       "      <td>935574.0</td>\n",
       "      <td>0.0</td>\n",
       "      <td>0.0</td>\n",
       "      <td>1056690.0</td>\n",
       "      <td>1804056.0</td>\n",
       "      <td>4468975.0</td>\n",
       "      <td>743733.0</td>\n",
       "      <td>0.0</td>\n",
       "      <td>1443923.0</td>\n",
       "      <td>0.0</td>\n",
       "    </tr>\n",
       "    <tr>\n",
       "      <th>32</th>\n",
       "      <td>32</td>\n",
       "      <td>Squirrel</td>\n",
       "      <td>0.0</td>\n",
       "      <td>0.0</td>\n",
       "      <td>5407165.0</td>\n",
       "      <td>0.0</td>\n",
       "      <td>4589071.0</td>\n",
       "      <td>2623076.0</td>\n",
       "      <td>2752292.0</td>\n",
       "      <td>2371707.0</td>\n",
       "      <td>2078324.0</td>\n",
       "      <td>0.0</td>\n",
       "      <td>915.0</td>\n",
       "      <td>5467493.0</td>\n",
       "    </tr>\n",
       "    <tr>\n",
       "      <th>33</th>\n",
       "      <td>33</td>\n",
       "      <td>Tiger</td>\n",
       "      <td>0.0</td>\n",
       "      <td>0.0</td>\n",
       "      <td>0.0</td>\n",
       "      <td>0.0</td>\n",
       "      <td>0.0</td>\n",
       "      <td>4456876.0</td>\n",
       "      <td>0.0</td>\n",
       "      <td>0.0</td>\n",
       "      <td>3510936.0</td>\n",
       "      <td>0.0</td>\n",
       "      <td>3098198.0</td>\n",
       "      <td>4538612.0</td>\n",
       "    </tr>\n",
       "    <tr>\n",
       "      <th>34</th>\n",
       "      <td>34</td>\n",
       "      <td>Wolf</td>\n",
       "      <td>4803182.0</td>\n",
       "      <td>3746877.0</td>\n",
       "      <td>0.0</td>\n",
       "      <td>0.0</td>\n",
       "      <td>0.0</td>\n",
       "      <td>0.0</td>\n",
       "      <td>0.0</td>\n",
       "      <td>0.0</td>\n",
       "      <td>9663199.0</td>\n",
       "      <td>2018197.0</td>\n",
       "      <td>0.0</td>\n",
       "      <td>6155056.0</td>\n",
       "    </tr>\n",
       "  </tbody>\n",
       "</table>\n",
       "</div>"
      ],
      "text/plain": [
       "Astrology  index    Species   Aquarius      Aries      Cancer   Capricorn  \\\n",
       "0              0  Alligator  3144479.0        0.0         0.0         0.0   \n",
       "1              1   Anteater  4441687.0        0.0         0.0         0.0   \n",
       "2              2       Bear        0.0  3918535.0   3731490.0   2133521.0   \n",
       "3              3       Bird  3228014.0  2448853.0   3741610.0         0.0   \n",
       "4              4       Bull        0.0        0.0         0.0    542663.0   \n",
       "5              5        Cat  5303926.0  5455462.0   1522781.0   2004869.0   \n",
       "6              6    Chicken        0.0        0.0         0.0    568193.0   \n",
       "7              7        Cow        0.0        0.0         0.0         0.0   \n",
       "8              8        Cub  1610048.0        0.0  17402809.0   3259823.0   \n",
       "9              9       Deer        0.0  2962639.0         0.0   1350294.0   \n",
       "10            10        Dog        0.0        0.0         0.0   5644634.0   \n",
       "11            11       Duck  2702586.0  1353459.0   4621001.0   2370315.0   \n",
       "12            12      Eagle        0.0  1364200.0    519091.0   1667060.0   \n",
       "13            13   Elephant  3164602.0  1610355.0   1374068.0         0.0   \n",
       "14            14       Frog  6604143.0        0.0   6092132.0   2264187.0   \n",
       "15            15       Goat        0.0  1008960.0    125267.0  11764769.0   \n",
       "16            16    Gorilla        0.0  6435673.0         0.0         0.0   \n",
       "17            17    Hamster  1945888.0        0.0         0.0         0.0   \n",
       "18            18      Hippo        0.0  3926531.0         0.0   1333895.0   \n",
       "19            19      Horse  4381060.0   588050.0   2071162.0    621881.0   \n",
       "20            20   Kangaroo        0.0        0.0         0.0         0.0   \n",
       "21            21      Koala        0.0  1843821.0   2782386.0         0.0   \n",
       "22            22       Lion        0.0        0.0   1931160.0         0.0   \n",
       "23            23     Monkey        0.0  6508560.0         0.0   1987360.0   \n",
       "24            24      Mouse  4321563.0  2475213.0   5923197.0   2132426.0   \n",
       "25            25    Octopus        0.0        0.0   3063629.0         0.0   \n",
       "26            26    Ostrich  2786348.0        0.0         0.0    649576.0   \n",
       "27            27    Penguin  4219566.0  1467157.0         0.0   2104305.0   \n",
       "28            28        Pig        0.0  2186540.0         0.0   2336117.0   \n",
       "29            29     Rabbit  5537503.0        0.0   1902276.0   3088096.0   \n",
       "30            30      Rhino  1555147.0        0.0         0.0         0.0   \n",
       "31            31      Sheep  1957045.0  7102626.0    935574.0         0.0   \n",
       "32            32   Squirrel        0.0        0.0   5407165.0         0.0   \n",
       "33            33      Tiger        0.0        0.0         0.0         0.0   \n",
       "34            34       Wolf  4803182.0  3746877.0         0.0         0.0   \n",
       "\n",
       "Astrology     Gemini        Leo       Libra     Pisces  Sagittarius  \\\n",
       "0          2001478.0  1785643.0         0.0        0.0          0.0   \n",
       "1                0.0        0.0    526085.0  1769126.0          0.0   \n",
       "2                0.0  2997874.0   2314535.0  2786335.0          0.0   \n",
       "3                0.0   728688.0         0.0  5843267.0     789606.0   \n",
       "4                0.0        0.0         0.0        0.0          0.0   \n",
       "5          3257755.0  3315090.0   8823551.0   721530.0    8233306.0   \n",
       "6                0.0        0.0   8276653.0        0.0    2540375.0   \n",
       "7                0.0        0.0         0.0  2090087.0          0.0   \n",
       "8          3620551.0  3972030.0    414780.0  8841453.0          0.0   \n",
       "9          4473464.0  3763878.0         0.0        0.0          0.0   \n",
       "10         6507158.0  3488457.0   1702459.0        0.0    2449341.0   \n",
       "11         2862779.0  4139931.0         0.0  4436905.0          0.0   \n",
       "12         1988848.0  1787203.0         0.0  1565668.0    4454579.0   \n",
       "13         1988656.0        0.0   2964035.0        0.0     687810.0   \n",
       "14         4191458.0  3581586.0   7596099.0        0.0    1952194.0   \n",
       "15               0.0        0.0         0.0  3019845.0          0.0   \n",
       "16               0.0        0.0   3128010.0        0.0    1503179.0   \n",
       "17         3016446.0  2555811.0  20562524.0  1887477.0          0.0   \n",
       "18               0.0  1695802.0   4207145.0        0.0          0.0   \n",
       "19         5295394.0        0.0   2128216.0  4478361.0    2559573.0   \n",
       "20         1894572.0        0.0    814212.0        0.0    2544511.0   \n",
       "21               0.0  2376763.0   3881141.0        0.0          0.0   \n",
       "22               0.0  9565407.0         0.0        0.0          0.0   \n",
       "23         2969774.0        0.0         0.0        0.0    2150116.0   \n",
       "24         1923043.0  5076634.0       259.0  1271081.0    2027197.0   \n",
       "25               0.0        0.0         0.0  2529942.0          0.0   \n",
       "26               0.0   591229.0   5992478.0        0.0    5763272.0   \n",
       "27               0.0        0.0   4662768.0  3378209.0          0.0   \n",
       "28         1947343.0  4118772.0   3495491.0  3806443.0          0.0   \n",
       "29         1407179.0  3092649.0         0.0  7566850.0    2604741.0   \n",
       "30         2438601.0        0.0         0.0  3938887.0          0.0   \n",
       "31               0.0  1056690.0   1804056.0  4468975.0     743733.0   \n",
       "32         4589071.0  2623076.0   2752292.0  2371707.0    2078324.0   \n",
       "33               0.0  4456876.0         0.0        0.0    3510936.0   \n",
       "34               0.0        0.0         0.0        0.0    9663199.0   \n",
       "\n",
       "Astrology    Scorpio     Taurus      Virgo  \n",
       "0          3954593.0  1807134.0        0.0  \n",
       "1          5646618.0  1944223.0        0.0  \n",
       "2          1818794.0  2315050.0  3494773.0  \n",
       "3          2175097.0        0.0  2305832.0  \n",
       "4          1486892.0  6877481.0        0.0  \n",
       "5                0.0  2303274.0  7277038.0  \n",
       "6           845593.0  2590344.0        0.0  \n",
       "7                0.0  2598255.0  5103998.0  \n",
       "8                0.0  3384455.0        0.0  \n",
       "9           958633.0  2595659.0  2386980.0  \n",
       "10         7651590.0  1259793.0        0.0  \n",
       "11         2090343.0  3017985.0        0.0  \n",
       "12         2263554.0        0.0        0.0  \n",
       "13         2474682.0  5066018.0   230506.0  \n",
       "14         1846745.0        0.0  1638838.0  \n",
       "15               0.0        0.0  4013520.0  \n",
       "16               0.0        0.0  4667234.0  \n",
       "17         2430806.0        0.0        0.0  \n",
       "18               0.0  2139767.0  6043230.0  \n",
       "19               0.0  2881247.0  1236971.0  \n",
       "20         2066096.0  2913326.0   592008.0  \n",
       "21          815579.0  2502220.0        0.0  \n",
       "22               0.0        0.0        0.0  \n",
       "23         1380446.0        0.0   936129.0  \n",
       "24               0.0        0.0  3501876.0  \n",
       "25               0.0        0.0  2838334.0  \n",
       "26         1180447.0  2200949.0        0.0  \n",
       "27         3401602.0        0.0  3058311.0  \n",
       "28         2480728.0  5124971.0  3018184.0  \n",
       "29         1332223.0  1029608.0  1623712.0  \n",
       "30               0.0  1633189.0        0.0  \n",
       "31               0.0  1443923.0        0.0  \n",
       "32               0.0      915.0  5467493.0  \n",
       "33               0.0  3098198.0  4538612.0  \n",
       "34         2018197.0        0.0  6155056.0  "
      ]
     },
     "execution_count": 116,
     "metadata": {},
     "output_type": "execute_result"
    }
   ],
   "source": [
    "species_astro"
   ]
  },
  {
   "cell_type": "code",
   "execution_count": 186,
   "id": "0c56683b",
   "metadata": {},
   "outputs": [],
   "source": [
    "# species_astro.drop(columns=[\"Astrology\"],inplace=True)"
   ]
  },
  {
   "cell_type": "code",
   "execution_count": 187,
   "id": "2e67a5f5",
   "metadata": {},
   "outputs": [],
   "source": [
    "# column0 = final_villagers['Astrology']\n",
    "# column1 = final_villagers['Personality']\n",
    "# title0 = \"Astrology by Species\"\n",
    "# title1 = 'Personality by Species'\n",
    "# hfont = {'fontname':'Varela Round'}\n",
    "\n",
    "# fig, axes = plt.subplots(figsize=(10,5), ncols=2,sharey=True)\n",
    "# fig.tight_layout()\n",
    "\n",
    "# axes[0].barh(final_villagers['Species'], column0, align='center', zorder=10)\n",
    "# axes[0].set_title(title0, fontsize=18, pad=15, **hfont)\n",
    "# axes[1].barh(final_villagers['Species'], column1, align='center', zorder=10)\n",
    "# axes[1].set_title(title1, fontsize=18, pad=15, **hfont)\n",
    "\n",
    "\n",
    "# # If you have positive numbers and want to invert the x-axis of the left plot\n",
    "# axes[0].invert_xaxis() \n",
    "\n",
    "\n",
    "# # To show data from highest to lowest\n",
    "# plt.gca().invert_yaxis()\n",
    "\n",
    "# axes[0].set(yticks=final_villagers.Species, yticklabels=final_villagers.Species)\n",
    "# axes[0].yaxis.tick_left()\n",
    "# axes[0].tick_params(axis='y', colors='white') # tick color\n",
    "\n",
    "# # axes[1].set_xticklabels(['0','20', '40', '60', '80', '100', '120'])\n",
    "\n",
    "\n",
    "# for label in (axes[0].get_xticklabels() + axes[0].get_yticklabels()):\n",
    "#     label.set(fontsize=13 **hfont)\n",
    "# for label in (axes[1].get_xticklabels() + axes[1].get_yticklabels()):\n",
    "#     label.set(fontsize=13, **hfont)\n",
    "    \n",
    "# plt.subplots_adjust(wspace=0, top=0.85, bottom=0.1, left=0.18, right=0.95)\n",
    "# plt.show()"
   ]
  }
 ],
 "metadata": {
  "kernelspec": {
   "display_name": "Python 3 (ipykernel)",
   "language": "python",
   "name": "python3"
  },
  "language_info": {
   "codemirror_mode": {
    "name": "ipython",
    "version": 3
   },
   "file_extension": ".py",
   "mimetype": "text/x-python",
   "name": "python",
   "nbconvert_exporter": "python",
   "pygments_lexer": "ipython3",
   "version": "3.9.8"
  }
 },
 "nbformat": 4,
 "nbformat_minor": 5
}
